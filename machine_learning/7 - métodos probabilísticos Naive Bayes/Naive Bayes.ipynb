{
 "cells": [
  {
   "cell_type": "markdown",
   "metadata": {},
   "source": [
    "# 1. Introdução aos Métodos Probabilísticos"
   ]
  },
  {
   "cell_type": "markdown",
   "metadata": {},
   "source": [
    "## 1.1. Contextualização: O que são métodos probabilísticos e onde são aplicados?\n",
    "Métodos probabilísticos são técnicas matemáticas e estatísticas utilizadas para modelar, analisar e prever eventos que são incertos ou aleatórios. Ao contrário dos métodos determinísticos, que fornecem resultados exatos para um conjunto de entradas específico, os métodos probabilísticos lidam com a incerteza e fornecem uma gama de possíveis resultados com diferentes probabilidades associadas.\n",
    "\n",
    "Esses métodos são aplicados em uma ampla variedade de campos, incluindo:\n",
    "- **Finanças**: Para prever a movimentação de preços de ações ou modelar o risco em portfólios de investimento.\n",
    "- **Engenharia**: No projeto de sistemas que devem operar sob incertezas, como sistemas de comunicação ou sistemas de energia.\n",
    "- **Ciência**: Na modelagem de experimentos onde o resultado é incerto ou na análise de dados experimentais.\n",
    "- **Medicina**: Para prever a progressão de doenças ou a eficácia de um tratamento.\n",
    "- **Inteligência Artificial e Aprendizado de Máquina**: Para modelar a incerteza em previsões e tomada de decisões.\n"
   ]
  },
  {
   "cell_type": "markdown",
   "metadata": {},
   "source": [
    "## Comparação: Naive Bayes vs. Redes Neurais\n",
    "\n",
    "### Naive Bayes\n",
    "- **Base probabilística**: \n",
    "  - O Naive Bayes é fundamentalmente um algoritmo probabilístico. Utiliza o Teorema de Bayes para calcular as probabilidades condicionais.\n",
    "  \n",
    "- **Suposições**:\n",
    "  - Uma suposição chave do Naive Bayes é que os atributos são condicionalmente independentes entre si, dada a classe. Isso é muitas vezes uma suposição \"ingênua\", daí o nome.\n",
    "  \n",
    "- **Complexidade e desempenho**:\n",
    "  - Em geral, o Naive Bayes é mais simples e rápido. Ideal para conjuntos de dados de alta dimensionalidade.\n",
    "\n",
    "### Redes Neurais\n",
    "- **Base probabilística**:\n",
    "  - Redes Neurais, por outro lado, não são fundamentalmente métodos probabilísticos como o Naive Bayes, mas certos aspectos, como a função de ativação softmax, têm interpretações probabilísticas.\n",
    "  \n",
    "- **Arquitetura e Mecanismo**:\n",
    "  - São compostas por camadas de neurônios. Esses neurônios são ajustados para aprender representações dos dados e as relações entre os atributos.\n",
    "  \n",
    "- **Suposições**:\n",
    "  - Redes Neurais não partem da suposição de independência dos atributos. Podem modelar interações complexas entre atributos.\n",
    "  \n",
    "- **Complexidade e desempenho**:\n",
    "  - São modelos mais complexos, muitas vezes necessitam de mais dados para treinamento e mais tempo computacional."
   ]
  },
  {
   "cell_type": "markdown",
   "metadata": {},
   "source": [
    "\n",
    "## 1.2. Diferença entre métodos determinísticos e probabilísticos\n",
    "A principal diferença entre os métodos determinísticos e probabilísticos reside em como eles lidam com a incerteza.\n",
    "\n",
    "**Métodos Determinísticos**: \n",
    "- Produzem um único resultado ou solução para um conjunto específico de entradas.\n",
    "- Baseiam-se na premissa de que o sistema ou problema é completamente conhecido e que não há incerteza.\n",
    "\n",
    "**Métodos Probabilísticos**:\n",
    "- Fornecem uma gama de possíveis soluções ou resultados, cada um com uma probabilidade associada.\n",
    "- São usados quando há incerteza no sistema ou problema, seja devido à falta de conhecimento, variação inerente ou ambos.\n"
   ]
  },
  {
   "cell_type": "markdown",
   "metadata": {},
   "source": [
    "\n",
    "## 1.3. Importância dos métodos probabilísticos em cenários incertos\n",
    "Em muitos cenários do mundo real, a incerteza é uma característica inerente. Em tais situações, confiar apenas em métodos determinísticos pode levar a conclusões imprecisas ou decisões subótimas. Os métodos probabilísticos, ao reconhecerem e incorporarem essa incerteza, permitem uma modelagem e análise mais robusta.\n",
    "\n",
    "A importância dos métodos probabilísticos em cenários incertos inclui:\n",
    "- **Tomada de Decisão Informada**: Ao fornecer uma gama de possíveis resultados com probabilidades associadas, os decisores podem avaliar os riscos e benefícios de diferentes ações.\n",
    "- **Robustez em Previsões**: Em vez de uma única previsão pontual, os métodos probabilísticos oferecem uma distribuição de possíveis resultados.\n",
    "- **Otimização sob Incerteza**: Em problemas de otimização, os métodos probabilísticos podem ajudar a encontrar soluções que são robustas a variações ou incertezas no sistema."
   ]
  },
  {
   "cell_type": "markdown",
   "metadata": {},
   "source": [
    "# 2. Teoria de Probabilidade Básica (revisão rápida)"
   ]
  },
  {
   "cell_type": "markdown",
   "metadata": {},
   "source": [
    "## 2.1. Conceito de Probabilidade\n",
    "\n",
    "Probabilidade é a maneira de expressarmos matematicamente quão provável é a ocorrência de um determinado evento. Podemos pensar nisso como uma forma de medir as chances de algo acontecer. \n",
    "\n",
    "- **Impossível**: O evento nunca acontecerá (Probabilidade = 0).\n",
    "- **Certo**: O evento certamente acontecerá (Probabilidade = 1).\n",
    "\n",
    "A fórmula para calcular a probabilidade de um evento A é:\n",
    "\n",
    "P(A) = número de maneiras que A pode ocorrer / número total de possíveis ocorrências\n",
    "\n",
    "**Exemplo**: Pense em jogar um dado comum, que tem lados numerados de 1 a 6. A chance, ou probabilidade, de jogarmos o dado e obtermos o número 3 é de 1 em 6. Escrevendo isso como uma fração, temos:\n",
    "\n",
    "P(3) = 1/6"
   ]
  },
  {
   "cell_type": "markdown",
   "metadata": {},
   "source": [
    "## 2.2. Teorema de Bayes\n",
    "\n",
    "O Teorema de Bayes nos permite encontrar a probabilidade de um evento ocorrer, com base em novas evidências. É uma forma de combinar nosso conhecimento prévio (o que já sabemos) com novas informações (dados novos) para obter uma visão mais precisa da realidade.\n",
    "\n",
    "A fórmula do Teorema de Bayes é:\n",
    "\n",
    "P(A|B) = (P(B|A) x P(A)) / P(B)\n",
    "\n",
    "Onde:\n",
    "\n",
    "- P(A|B) é nossa nova visão sobre a probabilidade de A acontecer, dado que B ocorreu.\n",
    "- P(B|A) é a chance de B acontecer, assumindo que A ocorreu.\n",
    "- P(A) é a probabilidade original de A ocorrer (antes de sabermos sobre B).\n",
    "- P(B) é a chance total de B acontecer.\n",
    "\n",
    "Com o Teorema de Bayes, podemos refinar nossa compreensão sobre as chances de algo acontecer com base nas novas informações que recebemos.\n"
   ]
  },
  {
   "cell_type": "markdown",
   "metadata": {},
   "source": [
    "## 2.3. Eventos independentes e dependência condicional\n",
    "\n",
    "**Eventos independentes**:\n",
    "- Dois eventos A e B são considerados independentes se a ocorrência de um não afeta a ocorrência do outro. Matematicamente, isso é expresso como \"P de A intersecção B\"  P(A ∩ B) = P(A) × P(B).\n",
    "\n",
    "**Exemplo**: Jogar um dado duas vezes. O resultado do primeiro lançamento não afeta o resultado do segundo lançamento.\n",
    "\n",
    "**Dependência condicional**:\n",
    "- A probabilidade de um evento A dado que um evento B já ocorreu é chamada de probabilidade condicional e é denotada por \"P de A dado B\"\" P(A|B). Se A e B são independentes, então P(A|B) = P(A). Caso contrário, a dependência condicional existe.\n",
    "\n",
    "**Exemplo**: A probabilidade de alguém comprar um guarda-chuva, dado que está chovendo, é maior do que a probabilidade de comprar um guarda-chuva sem tal condição.\n",
    "\n"
   ]
  },
  {
   "cell_type": "markdown",
   "metadata": {},
   "source": [
    "# 3. Introdução ao Algoritmo Naive Bayes\n"
   ]
  },
  {
   "cell_type": "markdown",
   "metadata": {},
   "source": [
    "\n",
    "## 3.1. Origens e princípio do algoritmo\n",
    "O algoritmo Naive Bayes é baseado no Teorema de Bayes, uma fórmula matemática que descreve como atualizar probabilidades com novas evidências. O algoritmo foi nomeado em homenagem ao reverendo Thomas Bayes, que forneceu a primeira fórmula para inferir a probabilidade de um evento A, dado o conhecimento prévio de eventos que podem estar relacionados a A.\n",
    "\n",
    "O princípio fundamental do Naive Bayes é usar a probabilidade de características (ou atributos) observadas em dados para fazer previsões ou classificações. Por exemplo, se quisermos prever se um e-mail é spam ou não, poderíamos usar a frequência de certas palavras no e-mail para fazer essa previsão.\n"
   ]
  },
  {
   "cell_type": "markdown",
   "metadata": {},
   "source": [
    "\n",
    "## 3.2. A suposição \"Naive\": Por que é \"ingênuo\"?\n",
    "A característica \"ingênua\" do Naive Bayes refere-se à suposição fundamental de que cada característica (ou atributo) é independente das outras. Isso significa que a presença (ou ausência) de uma característica não afeta a presença (ou ausência) de qualquer outra. \n",
    "\n",
    "Esta é uma suposição bastante forte e muitas vezes não reflete a realidade dos dados. No entanto, apesar desta suposição simplista, o Naive Bayes muitas vezes funciona surpreendentemente bem em muitas aplicações práticas, especialmente quando a dimensionalidade dos dados é alta.\n"
   ]
  },
  {
   "cell_type": "markdown",
   "metadata": {},
   "source": [
    "\n",
    "## 3.3. Aplicações práticas do Naive Bayes\n",
    "O Naive Bayes é usado em uma variedade de aplicações, incluindo:\n",
    "\n",
    "- **Classificação de texto**: Como classificar e-mails como spam ou não spam, categorização de notícias, análise de sentimento, etc.\n",
    "- **Reconhecimento de padrões**: Na detecção de rostos em imagens, por exemplo.\n",
    "- **Sistemas de recomendação**: Para recomendar produtos ou serviços com base em características de uso.\n",
    "- **Diagnóstico médico**: Para diagnosticar doenças com base em sintomas.\n",
    "\n",
    "A simplicidade e eficiência do Naive Bayes o tornam adequado para conjuntos de dados de alta dimensão e situações onde a velocidade é uma preocupação.\n"
   ]
  },
  {
   "cell_type": "code",
   "execution_count": 1,
   "metadata": {},
   "outputs": [],
   "source": [
    "from sklearn.model_selection import train_test_split\n",
    "from sklearn.naive_bayes import GaussianNB\n",
    "import pandas as pd\n",
    "from sklearn.preprocessing import StandardScaler, MinMaxScaler\n",
    "import numpy as np\n",
    "import matplotlib.pyplot as plt\n",
    "import seaborn as sns\n",
    "from sklearn.metrics import confusion_matrix, classification_report\n"
   ]
  },
  {
   "cell_type": "code",
   "execution_count": 2,
   "metadata": {},
   "outputs": [],
   "source": [
    "df = pd.read_csv('flores.csv')"
   ]
  },
  {
   "cell_type": "code",
   "execution_count": 3,
   "metadata": {},
   "outputs": [
    {
     "data": {
      "text/html": [
       "<div>\n",
       "<style scoped>\n",
       "    .dataframe tbody tr th:only-of-type {\n",
       "        vertical-align: middle;\n",
       "    }\n",
       "\n",
       "    .dataframe tbody tr th {\n",
       "        vertical-align: top;\n",
       "    }\n",
       "\n",
       "    .dataframe thead th {\n",
       "        text-align: right;\n",
       "    }\n",
       "</style>\n",
       "<table border=\"1\" class=\"dataframe\">\n",
       "  <thead>\n",
       "    <tr style=\"text-align: right;\">\n",
       "      <th></th>\n",
       "      <th>sepal_length</th>\n",
       "      <th>sepal_width</th>\n",
       "      <th>petal_length</th>\n",
       "      <th>petal_width</th>\n",
       "      <th>species</th>\n",
       "    </tr>\n",
       "  </thead>\n",
       "  <tbody>\n",
       "    <tr>\n",
       "      <th>0</th>\n",
       "      <td>4.6</td>\n",
       "      <td>3.1</td>\n",
       "      <td>1.5</td>\n",
       "      <td>0.2</td>\n",
       "      <td>0</td>\n",
       "    </tr>\n",
       "    <tr>\n",
       "      <th>1</th>\n",
       "      <td>5.9</td>\n",
       "      <td>3.0</td>\n",
       "      <td>5.1</td>\n",
       "      <td>1.8</td>\n",
       "      <td>2</td>\n",
       "    </tr>\n",
       "    <tr>\n",
       "      <th>2</th>\n",
       "      <td>5.1</td>\n",
       "      <td>2.5</td>\n",
       "      <td>3.0</td>\n",
       "      <td>1.1</td>\n",
       "      <td>1</td>\n",
       "    </tr>\n",
       "    <tr>\n",
       "      <th>3</th>\n",
       "      <td>4.6</td>\n",
       "      <td>3.4</td>\n",
       "      <td>1.4</td>\n",
       "      <td>0.3</td>\n",
       "      <td>0</td>\n",
       "    </tr>\n",
       "    <tr>\n",
       "      <th>4</th>\n",
       "      <td>6.2</td>\n",
       "      <td>2.2</td>\n",
       "      <td>4.5</td>\n",
       "      <td>1.5</td>\n",
       "      <td>1</td>\n",
       "    </tr>\n",
       "  </tbody>\n",
       "</table>\n",
       "</div>"
      ],
      "text/plain": [
       "   sepal_length  sepal_width  petal_length  petal_width  species\n",
       "0           4.6          3.1           1.5          0.2        0\n",
       "1           5.9          3.0           5.1          1.8        2\n",
       "2           5.1          2.5           3.0          1.1        1\n",
       "3           4.6          3.4           1.4          0.3        0\n",
       "4           6.2          2.2           4.5          1.5        1"
      ]
     },
     "execution_count": 3,
     "metadata": {},
     "output_type": "execute_result"
    }
   ],
   "source": [
    "df.head()"
   ]
  },
  {
   "cell_type": "code",
   "execution_count": 4,
   "metadata": {},
   "outputs": [
    {
     "name": "stdout",
     "output_type": "stream",
     "text": [
      "<class 'pandas.core.frame.DataFrame'>\n",
      "RangeIndex: 150 entries, 0 to 149\n",
      "Data columns (total 5 columns):\n",
      " #   Column        Non-Null Count  Dtype  \n",
      "---  ------        --------------  -----  \n",
      " 0   sepal_length  150 non-null    float64\n",
      " 1   sepal_width   150 non-null    float64\n",
      " 2   petal_length  150 non-null    float64\n",
      " 3   petal_width   150 non-null    float64\n",
      " 4   species       150 non-null    int64  \n",
      "dtypes: float64(4), int64(1)\n",
      "memory usage: 6.0 KB\n"
     ]
    }
   ],
   "source": [
    "df.info()"
   ]
  },
  {
   "cell_type": "code",
   "execution_count": 5,
   "metadata": {},
   "outputs": [],
   "source": [
    "# Separar os dados em X (atributos) e y (classe alvo)\n",
    "X = df.drop(columns=['species'])\n",
    "y = df['species']"
   ]
  },
  {
   "cell_type": "code",
   "execution_count": 6,
   "metadata": {},
   "outputs": [],
   "source": [
    "# Dividindo os dados em conjuntos de treinamento e teste (20%)\n",
    "X_train, X_test, y_train, y_test = train_test_split(X, y, test_size=0.2, random_state=0)"
   ]
  },
  {
   "cell_type": "markdown",
   "metadata": {},
   "source": [
    "# Normalização de Dados no Algoritmo Naive Bayes\n",
    "\n",
    "A aplicação da normalização em algoritmos de aprendizado de máquina é um tópico importante e, no caso do Naive Bayes, depende da variação específica que você está usando.\n",
    "\n",
    "## Gaussian Naive Bayes\n",
    "### Características:\n",
    "- **Aplicação:** Comumente usado para características contínuas.\n",
    "- **Suposição:** Assume que os dados para cada classe seguem uma distribuição normal.\n",
    "\n",
    "### Normalização:\n",
    "- **Necessidade:** É geralmente uma boa prática normalizar os dados para torná-los mais próximos de uma distribuição normal.\n",
    "- **Método Sugerido:** StandardScaler, pois transforma os dados para ter média 0 e desvio padrão 1.\n",
    "\n",
    "## Multinomial Naive Bayes e Bernoulli Naive Bayes\n",
    "\n",
    "### Características:\n",
    "- **Aplicação Multinomial NB:** Comumente usado para contagens ou características discretas, como contagem de palavras em classificação de texto.\n",
    "- **Aplicação Bernoulli NB:** Usado para características binárias.\n",
    "\n",
    "### Normalização:\n",
    "- **Necessidade para Multinomial NB:** Não é essencial, mas é importante garantir que todos os valores sejam não-negativos.\n",
    "- **Método Sugerido para Multinomial NB:** MinMaxScaler para garantir que os valores sejam não-negativos.\n",
    "- **Necessidade para Bernoulli NB:** Certificar-se de que as características são binárias (0 ou 1).\n",
    "\n",
    "## Impacto do Scaling:\n",
    "- **Impacto Geral:** Muitos algoritmos de machine learning são sensíveis à escala das características.\n",
    "- **Especificidade do Naive Bayes:** As probabilidades são baseadas na distribuição dos dados. Se os dados forem dimensionados, as probabilidades calculadas mudarão, mas as decisões de classificação geralmente permanecerão as mesmas.\n",
    "  \n",
    "## Conclusão:\n",
    "- Para **Gaussian NB**, é uma boa prática normalizar os dados.\n",
    "- Para **Multinomial e Bernoulli NB**, garantir que os dados estejam no formato correto é mais importante do que a normalização em si.\n",
    "- **Finalidade da Normalização:** Pode não afetar diretamente a decisão de classificação, mas ajuda em termos de convergência e estabilidade numérica, especialmente quando outros algoritmos são usados em conjunto ou durante o treinamento com métodos de otimização iterativos."
   ]
  },
  {
   "cell_type": "code",
   "execution_count": 7,
   "metadata": {},
   "outputs": [],
   "source": [
    "# Inicializando o normalizador\n",
    "scaler = StandardScaler()\n",
    "\n",
    "# A função fit_transform calcula a média e o desvio padrão dos dados de treinamento \n",
    "# e então usa esses valores para normalizá-los. \n",
    "X_train = scaler.fit_transform(X_train)\n",
    "\n",
    "# A função transform usa a média e o desvio padrão previamente computados com fit_transform\n",
    "# no conjunto de treinamento para normalizar o conjunto de teste.\n",
    "X_test = scaler.transform(X_test)"
   ]
  },
  {
   "cell_type": "code",
   "execution_count": 8,
   "metadata": {},
   "outputs": [],
   "source": [
    "# Inicializa uma instância do modelo\n",
    "gnb = GaussianNB()\n",
    "\n",
    "# Treinando o modelo Naive Bayes\n",
    "gnb.fit(X_train, y_train)\n",
    "\n",
    "# Realiza previs~oes com o modelo treinado\n",
    "y_pred = gnb.predict(X_test)"
   ]
  },
  {
   "cell_type": "code",
   "execution_count": 9,
   "metadata": {},
   "outputs": [
    {
     "data": {
      "image/png": "[encoded data removed]",
      "text/plain": [
       "<Figure size 1000x700 with 2 Axes>"
      ]
     },
     "metadata": {},
     "output_type": "display_data"
    },
    {
     "name": "stdout",
     "output_type": "stream",
     "text": [
      "\n",
      "Relatório de Classificação:\n",
      "               precision    recall  f1-score   support\n",
      "\n",
      "           0       1.00      1.00      1.00        12\n",
      "           1       1.00      0.88      0.93         8\n",
      "           2       0.91      1.00      0.95        10\n",
      "\n",
      "    accuracy                           0.97        30\n",
      "   macro avg       0.97      0.96      0.96        30\n",
      "weighted avg       0.97      0.97      0.97        30\n",
      "\n"
     ]
    }
   ],
   "source": [
    "# Matriz de Confusão\n",
    "cm = confusion_matrix(y_test, y_pred)\n",
    "\n",
    "# Plotando a Matriz de Confusão com heatmap\n",
    "plt.figure(figsize=(10,7))\n",
    "sns.set(font_scale=1.4) # para definir o tamanho da fonte\n",
    "sns.heatmap(cm, annot=True, annot_kws={\"size\": 16}, cmap='Blues', fmt='g') # 'fmt' evita números científicos na matriz\n",
    "plt.ylabel('Valores Verdadeiros')\n",
    "plt.xlabel('Predições')\n",
    "plt.title('Matriz de Confusão')\n",
    "plt.show()\n",
    "\n",
    "# Imprimindo métricas relevantes\n",
    "print(\"\\nRelatório de Classificação:\\n\", classification_report(y_test, y_pred))"
   ]
  },
  {
   "cell_type": "markdown",
   "metadata": {},
   "source": [
    "# 4. Detalhamento do Algoritmo Naive Bayes\n",
    "\n",
    "## 4.1. Probabilidade a priori, probabilidade a posteriori, verossimilhança e evidência\n",
    "\n",
    "- **Probabilidade a priori (Prior Probability, P(A))**: É a probabilidade inicial ou intrínseca de um evento ocorrer, sem levar em conta qualquer evidência adicional. Por exemplo, em um problema de classificação, a probabilidade a priori pode ser a proporção geral de cada classe no conjunto de dados.\n",
    "\n",
    "- **Probabilidade a posteriori (Posterior Probability, P(A|B))**: É a probabilidade revisada de um evento A ocorrer, levando em conta uma nova evidência B. No contexto do Naive Bayes, refere-se à probabilidade de uma instância pertencer a uma determinada classe, dadas suas características.\n",
    "\n",
    "- **Verossimilhança (Likelihood, P(B|A))**: Descreve a probabilidade de observar a evidência (B) dado que um evento (A) ocorreu. No Naive Bayes, é a probabilidade das características de uma instância, dada sua classe.\n",
    "\n",
    "- **Evidência (Evidence, P(B))**: É a probabilidade geral da evidência (sem levar em consideração a classe). No contexto do Naive Bayes, geralmente é calculada como a soma das verossimilhanças ponderadas pelas probabilidades a priori."
   ]
  },
  {
   "attachments": {},
   "cell_type": "markdown",
   "metadata": {},
   "source": [
    "## 4.2. Formulação Matemática do Naive Bayes\n",
    "\n",
    "A base para o algoritmo Naive Bayes é o Teorema de Bayes. A fórmula para este teorema, no contexto do algoritmo, é:\n",
    "\n",
    "$P(y|X) = \\frac{P(X|y) \\times P(y)}{P(X)}$\n",
    "\n",
    "### Explicação dos Termos:\n",
    "- **P(y|X)**: Esta é a probabilidade posterior da classe $y$ dado o vetor de características $X$.\n",
    "- **P(X|y)**: Conhecida como verossimilhança, representa a probabilidade do vetor $X$ sendo observado, dado que a classe é $y$.\n",
    "- **P(y)**: Representa a probabilidade a priori da classe $y$. Em outras palavras, a probabilidade geral ou inicial de $y$ independentemente das características.\n",
    "- **P(X)**: Esta é a probabilidade do vetor de características $X$. Também conhecido como evidência.\n",
    "\n",
    "Dado que o Naive Bayes opera sob uma suposição de independência, a verossimilhança, $P(X|y)$, é calculada como o produto das probabilidades individuais de cada característica."
   ]
  },
  {
   "attachments": {},
   "cell_type": "markdown",
   "metadata": {},
   "source": [
    "\n",
    "## 4.3. Cálculo das Probabilidades usando Máxima Verossimilhança\n",
    "\n",
    "Quando se trata de calcular as probabilidades para o Naive Bayes, uma abordagem comum é utilizar o método de máxima verossimilhança (ou MLE, do inglês Maximum Likelihood Estimation).\n",
    "\n",
    "### O que é MLE?\n",
    "MLE é uma técnica estatística usada para estimar os parâmetros de um modelo. No caso do Naive Bayes, é empregado para estimar a verossimilhança, $P(X|y)$.\n",
    "\n",
    "### Como funciona?\n",
    "Para cada característica presente no dataset, a probabilidade dessa característica ocorrer para uma determinada classe é calculada. O MLE, basicamente, ajusta os parâmetros de modo que a probabilidade observada dos dados (dada a parametrização) seja maximizada.\n",
    "\n",
    "### Aplicação no Naive Bayes:\n",
    "Em situações práticas, especialmente quando lidamos com características discretas, o MLE pode ser calculado como a proporção da ocorrência de uma característica para uma classe específica em relação ao total de observações daquela classe.\n"
   ]
  },
  {
   "cell_type": "markdown",
   "metadata": {},
   "source": [
    "\n",
    "## 4.4. Estimativa a Posteriori Máxima (MAP)\n",
    "\n",
    "A Estimativa a Posteriori Máxima é uma alternativa ao MLE para calcular as probabilidades em modelos estatísticos, incluindo o Naive Bayes. \n",
    "\n",
    "### Diferença entre MLE e MAP:\n",
    "\n",
    "- **MLE**: Foca na maximização da verossimilhança dos dados observados. Não leva em consideração qualquer informação a priori (ou pré-existente) sobre os parâmetros que está tentando estimar.\n",
    "  \n",
    "- **MAP**: Combina a verossimilhança dos dados observados (como no MLE) com uma distribuição a priori sobre os parâmetros. O objetivo é encontrar os parâmetros que maximizem a probabilidade posterior.\n",
    "\n",
    "### Como funciona no Naive Bayes?\n",
    "\n",
    "- Em Naive Bayes, quando estimamos a probabilidade de uma característica dada uma classe, podemos incorporar um \"prior\" (informação prévia) sobre essa probabilidade. Isso é especialmente útil quando os dados são escassos ou para evitar o problema de probabilidade zero (por exemplo, se uma característica nunca ocorreu com uma determinada classe nos dados de treinamento).\n",
    "\n",
    "- Em termos práticos, isso é frequentemente feito através de uma técnica chamada **\"suavização de Laplace\"** ou **\"add-one smoothing\"**. O princípio básico é adicionar uma pequena quantidade (como 1) ao numerador e ao denominador ao calcular as probabilidades. Isso garante que nenhuma probabilidade seja exatamente zero, o que pode ser problemático em cálculos posteriores.\n",
    "\n",
    "### Benefícios do MAP no Naive Bayes:\n",
    "\n",
    "1. **Evita Probabilidades Zero**: Como mencionado, evita o cenário onde uma característica que nunca foi observada em treinamento leva a uma probabilidade zero na classificação.\n",
    "  \n",
    "2. **Incorpora Informação a Priori**: Se houver algum conhecimento prévio sobre as probabilidades das características, ele pode ser incorporado no cálculo usando MAP.\n",
    "\n",
    "3. **Robustez com Dados Escassos**: Em situações onde os dados de treinamento são limitados, a suavização pode ajudar a fazer estimativas mais robustas."
   ]
  },
  {
   "cell_type": "code",
   "execution_count": 17,
   "metadata": {},
   "outputs": [],
   "source": [
    "df = pd.read_csv('fraud_detection_bank_dataset.csv')"
   ]
  },
  {
   "cell_type": "code",
   "execution_count": 18,
   "metadata": {},
   "outputs": [
    {
     "data": {
      "text/html": [
       "<div>\n",
       "<style scoped>\n",
       "    .dataframe tbody tr th:only-of-type {\n",
       "        vertical-align: middle;\n",
       "    }\n",
       "\n",
       "    .dataframe tbody tr th {\n",
       "        vertical-align: top;\n",
       "    }\n",
       "\n",
       "    .dataframe thead th {\n",
       "        text-align: right;\n",
       "    }\n",
       "</style>\n",
       "<table border=\"1\" class=\"dataframe\">\n",
       "  <thead>\n",
       "    <tr style=\"text-align: right;\">\n",
       "      <th></th>\n",
       "      <th>Unnamed: 0</th>\n",
       "      <th>col_0</th>\n",
       "      <th>col_1</th>\n",
       "      <th>col_2</th>\n",
       "      <th>col_3</th>\n",
       "      <th>col_4</th>\n",
       "      <th>col_5</th>\n",
       "      <th>col_6</th>\n",
       "      <th>col_7</th>\n",
       "      <th>col_8</th>\n",
       "      <th>...</th>\n",
       "      <th>col_103</th>\n",
       "      <th>col_104</th>\n",
       "      <th>col_105</th>\n",
       "      <th>col_106</th>\n",
       "      <th>col_107</th>\n",
       "      <th>col_108</th>\n",
       "      <th>col_109</th>\n",
       "      <th>col_110</th>\n",
       "      <th>col_111</th>\n",
       "      <th>targets</th>\n",
       "    </tr>\n",
       "  </thead>\n",
       "  <tbody>\n",
       "    <tr>\n",
       "      <th>0</th>\n",
       "      <td>0</td>\n",
       "      <td>9</td>\n",
       "      <td>1354</td>\n",
       "      <td>0</td>\n",
       "      <td>18</td>\n",
       "      <td>0</td>\n",
       "      <td>1</td>\n",
       "      <td>7</td>\n",
       "      <td>9</td>\n",
       "      <td>0</td>\n",
       "      <td>...</td>\n",
       "      <td>0</td>\n",
       "      <td>0</td>\n",
       "      <td>0</td>\n",
       "      <td>1</td>\n",
       "      <td>1</td>\n",
       "      <td>0</td>\n",
       "      <td>0</td>\n",
       "      <td>0</td>\n",
       "      <td>49</td>\n",
       "      <td>1</td>\n",
       "    </tr>\n",
       "    <tr>\n",
       "      <th>1</th>\n",
       "      <td>1</td>\n",
       "      <td>0</td>\n",
       "      <td>239</td>\n",
       "      <td>0</td>\n",
       "      <td>1</td>\n",
       "      <td>0</td>\n",
       "      <td>1</td>\n",
       "      <td>0</td>\n",
       "      <td>0</td>\n",
       "      <td>0</td>\n",
       "      <td>...</td>\n",
       "      <td>0</td>\n",
       "      <td>1</td>\n",
       "      <td>0</td>\n",
       "      <td>0</td>\n",
       "      <td>0</td>\n",
       "      <td>0</td>\n",
       "      <td>0</td>\n",
       "      <td>0</td>\n",
       "      <td>55</td>\n",
       "      <td>1</td>\n",
       "    </tr>\n",
       "    <tr>\n",
       "      <th>2</th>\n",
       "      <td>2</td>\n",
       "      <td>0</td>\n",
       "      <td>260</td>\n",
       "      <td>0</td>\n",
       "      <td>4</td>\n",
       "      <td>0</td>\n",
       "      <td>3</td>\n",
       "      <td>6</td>\n",
       "      <td>0</td>\n",
       "      <td>0</td>\n",
       "      <td>...</td>\n",
       "      <td>0</td>\n",
       "      <td>0</td>\n",
       "      <td>0</td>\n",
       "      <td>1</td>\n",
       "      <td>1</td>\n",
       "      <td>0</td>\n",
       "      <td>0</td>\n",
       "      <td>0</td>\n",
       "      <td>56</td>\n",
       "      <td>1</td>\n",
       "    </tr>\n",
       "    <tr>\n",
       "      <th>3</th>\n",
       "      <td>3</td>\n",
       "      <td>17</td>\n",
       "      <td>682</td>\n",
       "      <td>0</td>\n",
       "      <td>1</td>\n",
       "      <td>0</td>\n",
       "      <td>0</td>\n",
       "      <td>8</td>\n",
       "      <td>17</td>\n",
       "      <td>0</td>\n",
       "      <td>...</td>\n",
       "      <td>0</td>\n",
       "      <td>1</td>\n",
       "      <td>0</td>\n",
       "      <td>1</td>\n",
       "      <td>1</td>\n",
       "      <td>0</td>\n",
       "      <td>0</td>\n",
       "      <td>0</td>\n",
       "      <td>65</td>\n",
       "      <td>1</td>\n",
       "    </tr>\n",
       "    <tr>\n",
       "      <th>4</th>\n",
       "      <td>4</td>\n",
       "      <td>1</td>\n",
       "      <td>540</td>\n",
       "      <td>0</td>\n",
       "      <td>2</td>\n",
       "      <td>0</td>\n",
       "      <td>1</td>\n",
       "      <td>7</td>\n",
       "      <td>1</td>\n",
       "      <td>0</td>\n",
       "      <td>...</td>\n",
       "      <td>0</td>\n",
       "      <td>0</td>\n",
       "      <td>0</td>\n",
       "      <td>1</td>\n",
       "      <td>1</td>\n",
       "      <td>0</td>\n",
       "      <td>0</td>\n",
       "      <td>0</td>\n",
       "      <td>175</td>\n",
       "      <td>1</td>\n",
       "    </tr>\n",
       "  </tbody>\n",
       "</table>\n",
       "<p>5 rows × 114 columns</p>\n",
       "</div>"
      ],
      "text/plain": [
       "   Unnamed: 0  col_0  col_1  col_2  col_3  col_4  col_5  col_6  col_7  col_8  \\\n",
       "0           0      9   1354      0     18      0      1      7      9      0   \n",
       "1           1      0    239      0      1      0      1      0      0      0   \n",
       "2           2      0    260      0      4      0      3      6      0      0   \n",
       "3           3     17    682      0      1      0      0      8     17      0   \n",
       "4           4      1    540      0      2      0      1      7      1      0   \n",
       "\n",
       "   ...  col_103  col_104  col_105  col_106  col_107  col_108  col_109  \\\n",
       "0  ...        0        0        0        1        1        0        0   \n",
       "1  ...        0        1        0        0        0        0        0   \n",
       "2  ...        0        0        0        1        1        0        0   \n",
       "3  ...        0        1        0        1        1        0        0   \n",
       "4  ...        0        0        0        1        1        0        0   \n",
       "\n",
       "   col_110  col_111  targets  \n",
       "0        0       49        1  \n",
       "1        0       55        1  \n",
       "2        0       56        1  \n",
       "3        0       65        1  \n",
       "4        0      175        1  \n",
       "\n",
       "[5 rows x 114 columns]"
      ]
     },
     "execution_count": 18,
     "metadata": {},
     "output_type": "execute_result"
    }
   ],
   "source": [
    "df.head()"
   ]
  },
  {
   "cell_type": "code",
   "execution_count": 19,
   "metadata": {},
   "outputs": [],
   "source": [
    "df.drop('Unnamed: 0', axis=1, inplace=True)"
   ]
  },
  {
   "cell_type": "code",
   "execution_count": 20,
   "metadata": {},
   "outputs": [
    {
     "data": {
      "text/html": [
       "<div>\n",
       "<style scoped>\n",
       "    .dataframe tbody tr th:only-of-type {\n",
       "        vertical-align: middle;\n",
       "    }\n",
       "\n",
       "    .dataframe tbody tr th {\n",
       "        vertical-align: top;\n",
       "    }\n",
       "\n",
       "    .dataframe thead th {\n",
       "        text-align: right;\n",
       "    }\n",
       "</style>\n",
       "<table border=\"1\" class=\"dataframe\">\n",
       "  <thead>\n",
       "    <tr style=\"text-align: right;\">\n",
       "      <th></th>\n",
       "      <th>col_0</th>\n",
       "      <th>col_1</th>\n",
       "      <th>col_2</th>\n",
       "      <th>col_3</th>\n",
       "      <th>col_4</th>\n",
       "      <th>col_5</th>\n",
       "      <th>col_6</th>\n",
       "      <th>col_7</th>\n",
       "      <th>col_8</th>\n",
       "      <th>col_9</th>\n",
       "      <th>...</th>\n",
       "      <th>col_103</th>\n",
       "      <th>col_104</th>\n",
       "      <th>col_105</th>\n",
       "      <th>col_106</th>\n",
       "      <th>col_107</th>\n",
       "      <th>col_108</th>\n",
       "      <th>col_109</th>\n",
       "      <th>col_110</th>\n",
       "      <th>col_111</th>\n",
       "      <th>targets</th>\n",
       "    </tr>\n",
       "  </thead>\n",
       "  <tbody>\n",
       "    <tr>\n",
       "      <th>0</th>\n",
       "      <td>9</td>\n",
       "      <td>1354</td>\n",
       "      <td>0</td>\n",
       "      <td>18</td>\n",
       "      <td>0</td>\n",
       "      <td>1</td>\n",
       "      <td>7</td>\n",
       "      <td>9</td>\n",
       "      <td>0</td>\n",
       "      <td>0</td>\n",
       "      <td>...</td>\n",
       "      <td>0</td>\n",
       "      <td>0</td>\n",
       "      <td>0</td>\n",
       "      <td>1</td>\n",
       "      <td>1</td>\n",
       "      <td>0</td>\n",
       "      <td>0</td>\n",
       "      <td>0</td>\n",
       "      <td>49</td>\n",
       "      <td>1</td>\n",
       "    </tr>\n",
       "    <tr>\n",
       "      <th>1</th>\n",
       "      <td>0</td>\n",
       "      <td>239</td>\n",
       "      <td>0</td>\n",
       "      <td>1</td>\n",
       "      <td>0</td>\n",
       "      <td>1</td>\n",
       "      <td>0</td>\n",
       "      <td>0</td>\n",
       "      <td>0</td>\n",
       "      <td>0</td>\n",
       "      <td>...</td>\n",
       "      <td>0</td>\n",
       "      <td>1</td>\n",
       "      <td>0</td>\n",
       "      <td>0</td>\n",
       "      <td>0</td>\n",
       "      <td>0</td>\n",
       "      <td>0</td>\n",
       "      <td>0</td>\n",
       "      <td>55</td>\n",
       "      <td>1</td>\n",
       "    </tr>\n",
       "    <tr>\n",
       "      <th>2</th>\n",
       "      <td>0</td>\n",
       "      <td>260</td>\n",
       "      <td>0</td>\n",
       "      <td>4</td>\n",
       "      <td>0</td>\n",
       "      <td>3</td>\n",
       "      <td>6</td>\n",
       "      <td>0</td>\n",
       "      <td>0</td>\n",
       "      <td>0</td>\n",
       "      <td>...</td>\n",
       "      <td>0</td>\n",
       "      <td>0</td>\n",
       "      <td>0</td>\n",
       "      <td>1</td>\n",
       "      <td>1</td>\n",
       "      <td>0</td>\n",
       "      <td>0</td>\n",
       "      <td>0</td>\n",
       "      <td>56</td>\n",
       "      <td>1</td>\n",
       "    </tr>\n",
       "    <tr>\n",
       "      <th>3</th>\n",
       "      <td>17</td>\n",
       "      <td>682</td>\n",
       "      <td>0</td>\n",
       "      <td>1</td>\n",
       "      <td>0</td>\n",
       "      <td>0</td>\n",
       "      <td>8</td>\n",
       "      <td>17</td>\n",
       "      <td>0</td>\n",
       "      <td>0</td>\n",
       "      <td>...</td>\n",
       "      <td>0</td>\n",
       "      <td>1</td>\n",
       "      <td>0</td>\n",
       "      <td>1</td>\n",
       "      <td>1</td>\n",
       "      <td>0</td>\n",
       "      <td>0</td>\n",
       "      <td>0</td>\n",
       "      <td>65</td>\n",
       "      <td>1</td>\n",
       "    </tr>\n",
       "    <tr>\n",
       "      <th>4</th>\n",
       "      <td>1</td>\n",
       "      <td>540</td>\n",
       "      <td>0</td>\n",
       "      <td>2</td>\n",
       "      <td>0</td>\n",
       "      <td>1</td>\n",
       "      <td>7</td>\n",
       "      <td>1</td>\n",
       "      <td>0</td>\n",
       "      <td>0</td>\n",
       "      <td>...</td>\n",
       "      <td>0</td>\n",
       "      <td>0</td>\n",
       "      <td>0</td>\n",
       "      <td>1</td>\n",
       "      <td>1</td>\n",
       "      <td>0</td>\n",
       "      <td>0</td>\n",
       "      <td>0</td>\n",
       "      <td>175</td>\n",
       "      <td>1</td>\n",
       "    </tr>\n",
       "  </tbody>\n",
       "</table>\n",
       "<p>5 rows × 113 columns</p>\n",
       "</div>"
      ],
      "text/plain": [
       "   col_0  col_1  col_2  col_3  col_4  col_5  col_6  col_7  col_8  col_9  ...  \\\n",
       "0      9   1354      0     18      0      1      7      9      0      0  ...   \n",
       "1      0    239      0      1      0      1      0      0      0      0  ...   \n",
       "2      0    260      0      4      0      3      6      0      0      0  ...   \n",
       "3     17    682      0      1      0      0      8     17      0      0  ...   \n",
       "4      1    540      0      2      0      1      7      1      0      0  ...   \n",
       "\n",
       "   col_103  col_104  col_105  col_106  col_107  col_108  col_109  col_110  \\\n",
       "0        0        0        0        1        1        0        0        0   \n",
       "1        0        1        0        0        0        0        0        0   \n",
       "2        0        0        0        1        1        0        0        0   \n",
       "3        0        1        0        1        1        0        0        0   \n",
       "4        0        0        0        1        1        0        0        0   \n",
       "\n",
       "   col_111  targets  \n",
       "0       49        1  \n",
       "1       55        1  \n",
       "2       56        1  \n",
       "3       65        1  \n",
       "4      175        1  \n",
       "\n",
       "[5 rows x 113 columns]"
      ]
     },
     "execution_count": 20,
     "metadata": {},
     "output_type": "execute_result"
    }
   ],
   "source": [
    "df.head()"
   ]
  },
  {
   "cell_type": "code",
   "execution_count": 21,
   "metadata": {},
   "outputs": [
    {
     "data": {
      "text/plain": [
       "(20468, 113)"
      ]
     },
     "execution_count": 21,
     "metadata": {},
     "output_type": "execute_result"
    }
   ],
   "source": [
    "df.shape"
   ]
  },
  {
   "cell_type": "code",
   "execution_count": 22,
   "metadata": {},
   "outputs": [
    {
     "name": "stdout",
     "output_type": "stream",
     "text": [
      "<class 'pandas.core.frame.DataFrame'>\n",
      "RangeIndex: 20468 entries, 0 to 20467\n",
      "Columns: 113 entries, col_0 to targets\n",
      "dtypes: float64(1), int64(112)\n",
      "memory usage: 17.6 MB\n"
     ]
    }
   ],
   "source": [
    "df.info()"
   ]
  },
  {
   "cell_type": "code",
   "execution_count": 23,
   "metadata": {},
   "outputs": [
    {
     "data": {
      "text/plain": [
       "col_0      0\n",
       "col_1      0\n",
       "col_2      0\n",
       "col_3      0\n",
       "col_4      0\n",
       "          ..\n",
       "col_108    0\n",
       "col_109    0\n",
       "col_110    0\n",
       "col_111    0\n",
       "targets    0\n",
       "Length: 113, dtype: int64"
      ]
     },
     "execution_count": 23,
     "metadata": {},
     "output_type": "execute_result"
    }
   ],
   "source": [
    "df.isna().sum()"
   ]
  },
  {
   "cell_type": "code",
   "execution_count": 24,
   "metadata": {},
   "outputs": [
    {
     "data": {
      "text/plain": [
       "array([0, 0, 0, 0, 0, 0, 0, 0, 0, 0, 0, 0, 0, 0, 0, 0, 0, 0, 0, 0, 0, 0,\n",
       "       0, 0, 0, 0, 0, 0, 0, 0, 0, 0, 0, 0, 0, 0, 0, 0, 0, 0, 0, 0, 0, 0,\n",
       "       0, 0, 0, 0, 0, 0, 0, 0, 0, 0, 0, 0, 0, 0, 0, 0, 0, 0, 0, 0, 0, 0,\n",
       "       0, 0, 0, 0, 0, 0, 0, 0, 0, 0, 0, 0, 0, 0, 0, 0, 0, 0, 0, 0, 0, 0,\n",
       "       0, 0, 0, 0, 0, 0, 0, 0, 0, 0, 0, 0, 0, 0, 0, 0, 0, 0, 0, 0, 0, 0,\n",
       "       0, 0, 0], dtype=int64)"
      ]
     },
     "execution_count": 24,
     "metadata": {},
     "output_type": "execute_result"
    }
   ],
   "source": [
    "(df.isna().sum()).values"
   ]
  },
  {
   "cell_type": "code",
   "execution_count": 25,
   "metadata": {},
   "outputs": [
    {
     "data": {
      "text/plain": [
       "0"
      ]
     },
     "execution_count": 25,
     "metadata": {},
     "output_type": "execute_result"
    }
   ],
   "source": [
    "(df.isna().sum()).values.max()"
   ]
  },
  {
   "cell_type": "code",
   "execution_count": 26,
   "metadata": {},
   "outputs": [
    {
     "data": {
      "text/plain": [
       "targets\n",
       "0    15030\n",
       "1     5438\n",
       "Name: count, dtype: int64"
      ]
     },
     "execution_count": 26,
     "metadata": {},
     "output_type": "execute_result"
    }
   ],
   "source": [
    "df.targets.value_counts()"
   ]
  },
  {
   "attachments": {},
   "cell_type": "markdown",
   "metadata": {},
   "source": [
    "## Naive Bayes e Classes Desbalanceadas na Classificação\n",
    "\n",
    "### 1. O que são Classes Desbalanceadas?\n",
    "- Classes desbalanceadas ocorrem quando uma categoria (ou classe) em um conjunto de dados tem muito mais amostras em comparação com outra(s).\n",
    "- Por exemplo, em um conjunto de dados sobre detecção de fraude, a maioria das transações é legítima (classe majoritária) enquanto apenas uma pequena porcentagem é fraudulenta (classe minoritária).\n",
    "\n",
    "### 2. Problemas com Classes Desbalanceadas\n",
    "- Modelos treinados em dados desbalanceados podem apresentar um desempenho enviesado, favorecendo frequentemente a classe majoritária.\n",
    "- A métrica de acurácia pode ser enganosamente alta, já que prever sempre a classe majoritária pode ainda resultar em uma alta taxa de acertos.\n",
    "\n",
    "### 3. Naive Bayes e o Desbalanceamento\n",
    "- **Probabilidade a Priori $P(y)$**: \n",
    "  - No Naive Bayes, a probabilidade a priori de cada classe é calculada com base na frequência relativa dos dados de treinamento.\n",
    "  - Em um conjunto de dados desbalanceado, a classe majoritária terá uma probabilidade a priori mais alta, o que pode inclinar o modelo em sua direção.\n",
    "  \n",
    "- **Influência na Classificação**: \n",
    "  - A probabilidade a posteriori (resultado do Naive Bayes) pode ser enviesada pela alta probabilidade a priori da classe majoritária.\n",
    "  - Isso pode levar a uma tendência na predição da classe majoritária, mesmo quando algumas características são mais indicativas da classe minoritária.\n",
    "\n",
    "### 4. Soluções para o Desbalanceamento com Naive Bayes\n",
    "- **Reamostragem**: Inclui técnicas como oversampling (aumentar a quantidade de exemplos da classe minoritária) e undersampling (reduzir a quantidade de exemplos da classe majoritária).\n",
    "- **Utilizar Métricas Adequadas**: Evitar confiar apenas na acurácia. Utilizar outras métricas como precisão, recall, F1-score, especialmente para a classe minoritária.\n",
    "- **Modificar Pesos das Classes**: Algumas implementações mais complexas do Naive Bayes permitem que se atribuam pesos diferentes para as classes, compensando o desbalanceamento.\n"
   ]
  },
  {
   "cell_type": "markdown",
   "metadata": {},
   "source": [
    "## Escolha do Algoritmo Naive Bayes e Normalização\n",
    "\n",
    "Dado o problema em mãos, onde temos características numéricas contínuas como 'glucose no sangue' e 'bloodpressure', o **Gaussian Naive Bayes** é a escolha mais apropriada. Isto porque:\n",
    "- **GaussianNB**: É adequado para características contínuas, pois assume que os dados seguem uma distribuição normal (gaussiana) para cada classe.\n",
    "\n",
    "Quanto à normalização, a opção escolhida é a **StandardScaler**:\n",
    "- A GaussianNB assume que os dados seguem uma distribuição normal. Usando o `StandardScaler`, transformamos os dados para ter média 0 e desvio padrão 1, tornando-os mais próximos de uma distribuição normal.\n",
    "\n",
    "### Escolha da Técnica de Estimativa\n",
    "\n",
    "- **Máxima Verossimilhança (MLE)**: É o método padrão para estimar as probabilidades. Adequado quando temos uma quantidade razoável de dados.\n",
    "  \n",
    "- **Estimativa a Posteriori Máxima (MAP)**: Incorpora uma informação prévia (prior) sobre as probabilidades. Útil quando os dados são escassos ou para evitar o problema de probabilidade zero.\n",
    "\n",
    "Vamos aplicar ambos os métodos para comparar os resultados na prática.\n"
   ]
  },
  {
   "cell_type": "code",
   "execution_count": 28,
   "metadata": {},
   "outputs": [],
   "source": [
    "# Separar os dados em X (atributos) e y (classe alvo)\n",
    "X = df.drop(columns=['targets'])\n",
    "y = df['targets']"
   ]
  },
  {
   "cell_type": "code",
   "execution_count": 29,
   "metadata": {},
   "outputs": [],
   "source": [
    "# Divisão dos dados em conjuntos de treinamento e teste\n",
    "X_train, X_test, y_train, y_test = train_test_split(X, y, test_size=0.2, random_state=0)"
   ]
  },
  {
   "cell_type": "code",
   "execution_count": 30,
   "metadata": {},
   "outputs": [],
   "source": [
    "# Normalização usando StandardScaler\n",
    "scaler = StandardScaler()\n",
    "X_train = scaler.fit_transform(X_train)\n",
    "X_test = scaler.transform(X_test)"
   ]
  },
  {
   "cell_type": "code",
   "execution_count": 31,
   "metadata": {},
   "outputs": [],
   "source": [
    "# Treinamento com GaussianNB (usando MLE)\n",
    "gnb_mle = GaussianNB()\n",
    "gnb_mle.fit(X_train, y_train)\n",
    "y_pred_mle = gnb_mle.predict(X_test)"
   ]
  },
  {
   "cell_type": "code",
   "execution_count": 32,
   "metadata": {},
   "outputs": [],
   "source": [
    "# Treinamento com GaussianNB com suavização (simulando MAP)\n",
    "gnb_map = GaussianNB(var_smoothing=0.1)  # valor pequeno para suavização\n",
    "gnb_map.fit(X_train, y_train)\n",
    "y_pred_map = gnb_map.predict(X_test)"
   ]
  },
  {
   "cell_type": "code",
   "execution_count": 33,
   "metadata": {},
   "outputs": [
    {
     "data": {
      "image/png": "[encoded data removed]",
      "text/plain": [
       "<Figure size 1000x700 with 2 Axes>"
      ]
     },
     "metadata": {},
     "output_type": "display_data"
    },
    {
     "name": "stdout",
     "output_type": "stream",
     "text": [
      "\n",
      "Relatório de Classificação (usando Máxima Verossimilhança):\n",
      "               precision    recall  f1-score   support\n",
      "\n",
      "           0       0.85      0.95      0.90      3033\n",
      "           1       0.79      0.52      0.63      1061\n",
      "\n",
      "    accuracy                           0.84      4094\n",
      "   macro avg       0.82      0.74      0.76      4094\n",
      "weighted avg       0.83      0.84      0.83      4094\n",
      "\n"
     ]
    }
   ],
   "source": [
    "# Matriz de Confusão\n",
    "cm = confusion_matrix(y_test, y_pred_mle)\n",
    "\n",
    "# Plotando a Matriz de Confusão com heatmap\n",
    "plt.figure(figsize=(10,7))\n",
    "sns.set(font_scale=1.4) # para definir o tamanho da fonte\n",
    "sns.heatmap(cm, annot=True, annot_kws={\"size\": 16}, cmap='Blues', fmt='g') # 'fmt' evita números científicos na matriz\n",
    "plt.ylabel('Valores Verdadeiros')\n",
    "plt.xlabel('Predições')\n",
    "plt.title('Matriz de Confusão MLE')\n",
    "plt.show()\n",
    "\n",
    "print(\"\\nRelatório de Classificação (usando Máxima Verossimilhança):\\n\", classification_report(y_test, y_pred_mle))"
   ]
  },
  {
   "cell_type": "code",
   "execution_count": 34,
   "metadata": {},
   "outputs": [
    {
     "data": {
      "image/png": "[encoded data removed]",
      "text/plain": [
       "<Figure size 1000x700 with 2 Axes>"
      ]
     },
     "metadata": {},
     "output_type": "display_data"
    },
    {
     "name": "stdout",
     "output_type": "stream",
     "text": [
      "\n",
      "Relatório de Classificação (usando Estimativa a Posteriori Máxima):\n",
      "               precision    recall  f1-score   support\n",
      "\n",
      "           0       0.85      0.97      0.90      3033\n",
      "           1       0.83      0.49      0.62      1061\n",
      "\n",
      "    accuracy                           0.84      4094\n",
      "   macro avg       0.84      0.73      0.76      4094\n",
      "weighted avg       0.84      0.84      0.83      4094\n",
      "\n"
     ]
    }
   ],
   "source": [
    "# Matriz de Confusão\n",
    "cm = confusion_matrix(y_test, y_pred_map)\n",
    "\n",
    "# Plotando a Matriz de Confusão com heatmap\n",
    "plt.figure(figsize=(10,7))\n",
    "sns.set(font_scale=1.4) # para definir o tamanho da fonte\n",
    "sns.heatmap(cm, annot=True, annot_kws={\"size\": 16}, cmap='Blues', fmt='g') # 'fmt' evita números científicos na matriz\n",
    "plt.ylabel('Valores Verdadeiros')\n",
    "plt.xlabel('Predições')\n",
    "plt.title('Matriz de Confusão MAP')\n",
    "plt.show()\n",
    "\n",
    "print(\"\\nRelatório de Classificação (usando Estimativa a Posteriori Máxima):\\n\", classification_report(y_test, y_pred_map))"
   ]
  },
  {
   "cell_type": "markdown",
   "metadata": {},
   "source": [
    "### Métricas de Avaliação de Modelos de Classificação\n",
    "\n",
    "#### 1. Matriz de Confusão\n",
    "\n",
    "A matriz de confusão é uma tabela usada para descrever o desempenho de um modelo de classificação.\n",
    "\n",
    "- **Verdadeiros Positivos (TP)**: Casos onde o modelo previu 1 e o verdadeiro valor também é 1.\n",
    "- **Verdadeiros Negativos (TN)**: Casos onde o modelo previu 0 e o verdadeiro valor também é 0.\n",
    "- **Falsos Positivos (FP)**: Casos onde o modelo previu 1, mas o verdadeiro valor é 0. Também conhecidos como \"erro tipo I\".\n",
    "- **Falsos Negativos (FN)**: Casos onde o modelo previu 0, mas o verdadeiro valor é 1. Também conhecidos como \"erro tipo II\".\n",
    "\n",
    "#### 2. Precisão (Precision)\n",
    "\n",
    "A precisão mede a proporção de identificações positivas feitas corretamente.\n",
    "\n",
    "Formula: Precisão = TP / (TP + FP)\n",
    "\n",
    "#### 3. Revocação (Recall)\n",
    "\n",
    "A revocação, ou sensibilidade, indica a proporção de positivos reais que foram identificados corretamente.\n",
    "\n",
    "Formula: Recall = TP / (TP + FN)\n",
    "\n",
    "#### 4. F1-Score\n",
    "\n",
    "O F1-Score é a média harmônica entre precisão e revocação, buscando um equilíbrio entre as duas métricas.\n",
    "\n",
    "Formula: F1-Score = 2 * (Precisão * Recall) / (Precisão + Recall)\n",
    "\n",
    "#### 5. Suporte (Support)\n",
    "\n",
    "O suporte é o número de ocorrências reais da classe no conjunto de dados. Ele mostra quantas amostras no conjunto de teste têm essa classe como label verdadeiro.\n"
   ]
  },
  {
   "cell_type": "markdown",
   "metadata": {},
   "source": [
    "# 5. Variações do Algoritmo Naive Bayes\n",
    "\n",
    "O algoritmo Naive Bayes é uma técnica de classificação baseada no teorema de Bayes. Existem várias variações do Naive Bayes, adaptadas para diferentes tipos de dados.\n"
   ]
  },
  {
   "cell_type": "markdown",
   "metadata": {},
   "source": [
    "\n",
    "## 5.1. Gaussian Naive Bayes\n",
    "\n",
    "Este é o tipo mais comum de Naive Bayes usado quando os recursos (features) têm valores contínuos.\n",
    "\n",
    "- **Características Principais**:\n",
    "  - Assume que os recursos seguem uma distribuição normal ou gaussiana.\n",
    "  - A probabilidade de uma característica é calculada usando a fórmula da distribuição gaussiana.\n",
    "\n",
    "É especialmente adequado para problemas em que os recursos têm valores contínuos, como medidas em experimentos científicos ou valores em colunas de um conjunto de dados.\n",
    "\n",
    "```python\n",
    "from sklearn.naive_bayes import GaussianNB\n",
    "gnb = GaussianNB()\n",
    "```"
   ]
  },
  {
   "cell_type": "markdown",
   "metadata": {},
   "source": [
    "\n",
    "## 5.2. Multinomial Naive Bayes\n",
    "Esta variação é adequada para classificação com recursos discretos.\n",
    "\n",
    "- **Características Principais**:\n",
    "  - Frequentemente usado em problemas de classificação de texto, onde os recursos podem ser a contagem ou a presença/ausência de palavras em um documento.\n",
    "  - Assume que os recursos têm distribuição multinomial.\n",
    "\n",
    "Por exemplo, pode ser usado em sistemas de filtragem de spam para classificar e-mails como \"spam\" ou \"não spam\" com base na frequência de certas palavras.\n",
    "\n",
    "```python\n",
    "from sklearn.naive_bayes import MultinomialNB\n",
    "mnb = MultinomialNB()\n",
    "```"
   ]
  },
  {
   "cell_type": "markdown",
   "metadata": {},
   "source": [
    "\n",
    "## 5.3. Bernoulli Naive Bayes\n",
    "É uma variação do Naive Bayes adequada para dados binários.\n",
    "\n",
    "- **Características Principais**:\n",
    "  - Pode ser usado em problemas de classificação de texto onde os recursos são binários, ou seja, indicam a presença ou ausência de uma palavra.\n",
    "  - Assume que os recursos têm uma distribuição de Bernoulli.\n",
    "\n",
    "Um exemplo prático é a classificação de documentos com base na presença/ausência de palavras-chave específicas.\n",
    "\n",
    "```python\n",
    "from sklearn.naive_bayes import BernoulliNB\n",
    "bnb = BernoulliNB()\n",
    "```"
   ]
  },
  {
   "cell_type": "markdown",
   "metadata": {},
   "source": [
    "# 7. Prós e Contras do Naive Bayes\n"
   ]
  },
  {
   "cell_type": "markdown",
   "metadata": {},
   "source": [
    "\n",
    "\n",
    "## 7.1. Vantagens do algoritmo\n",
    "\n",
    "1. **Simplicidade e rapidez:** O Naive Bayes é conhecido por ser um algoritmo rápido e fácil de construir, especialmente quando o conjunto de dados tem dimensões elevadas.\n",
    "\n",
    "2. **Requer menos dados:** O Naive Bayes não necessita de tantos dados para ser eficaz e, frequentemente, apresenta resultados decentes mesmo com conjuntos de dados relativamente pequenos.\n",
    "\n",
    "3. **Trata bem características irrelevantes:** Devido à sua suposição de independência, características irrelevantes não prejudicam o desempenho, pois sua contribuição é neutralizada.\n",
    "\n",
    "4. **Bom para classificação de texto:** Naive Bayes é notório por seu desempenho em problemas de classificação de texto, como filtragem de spam e análise de sentimento.\n",
    "\n",
    "5. **Trabalha bem com variáveis categóricas:** Não requer codificação adicional ou transformação para variáveis categóricas.\n",
    "\n"
   ]
  },
  {
   "cell_type": "markdown",
   "metadata": {},
   "source": [
    "\n",
    "## 7.2. Limitações do algoritmo\n",
    "\n",
    "1. **Suposição de independência:** O \"Naive\" em Naive Bayes refere-se à suposição ingênua de que todas as características são independentes entre si, o que raramente é verdade na prática.\n",
    "\n",
    "2. **Problema de probabilidade zero:** Se uma categoria não aparece no conjunto de treinamento, o algoritmo atribuirá uma probabilidade de zero e não poderá fazer uma previsão. Isso é conhecido como \"problema de probabilidade zero\". Soluções como o \"alisamento de Laplace\" são utilizadas para corrigir isso.\n",
    "\n",
    "3. **Modelo de alta polaridade:** Se uma característica está fortemente correlacionada com uma classe específica, isso pode polarizar o modelo, e ele pode falhar em cenários mais gerais.\n",
    "\n",
    "4. **Não é ideal para tarefas de regressão:** O Naive Bayes é primariamente um algoritmo de classificação.\n"
   ]
  },
  {
   "cell_type": "markdown",
   "metadata": {},
   "source": [
    "\n",
    "## 7.3. Quando usar e quando não usar Naive Bayes\n",
    "\n",
    "### Quando usar:\n",
    "1. **Classificação de texto:** Como mencionado anteriormente, Naive Bayes é uma escolha popular para tarefas como filtragem de spam e análise de sentimento.\n",
    "\n",
    "2. **Conjuntos de dados com muitas características:** Devido à sua rapidez e simplicidade, Naive Bayes pode ser uma boa escolha quando se lida com conjuntos de dados de alta dimensão.\n",
    "\n",
    "3. **Prototipagem rápida:** Quando você quer um modelo rápido e bom o suficiente como uma solução temporária.\n",
    "\n",
    "4. **Conjuntos de dados com características categóricas:** O Naive Bayes trata naturalmente variáveis categóricas sem necessidade de codificação adicional.\n",
    "\n",
    "### Quando não usar:\n",
    "1. **Quando a inter-relação entre características é crucial:** Se as características não são independentes ou se a inter-relação entre elas é um fator crucial para a classificação.\n",
    "\n",
    "2. **Tarefas de regressão:** Naive Bayes não é adequado para tarefas onde o objetivo é prever um valor contínuo.\n",
    "\n",
    "3. **Quando o desempenho do modelo é crítico:** Em situações onde é necessário o melhor modelo possível, pode ser melhor considerar modelos mais sofisticados.\n",
    "\n",
    "\n"
   ]
  },
  {
   "cell_type": "markdown",
   "metadata": {},
   "source": [
    "\n",
    "# 8. Aplicações Práticas e Estudos de Caso\n",
    "\n",
    "\n"
   ]
  },
  {
   "cell_type": "markdown",
   "metadata": {},
   "source": [
    "\n",
    "## 8.1. Naive Bayes em Detecção de Spam\n",
    "\n",
    "\n",
    "\n",
    "O algoritmo Naive Bayes é frequentemente usado na detecção de spam devido à sua eficácia e rapidez. O princípio por trás disso é simples: determinar a probabilidade de uma mensagem ser spam com base nas palavras presentes na mensagem.\n",
    "\n",
    "### Como funciona:\n",
    "\n",
    "1. **Treinamento do modelo:** O modelo é treinado em um conjunto de dados contendo mensagens classificadas como spam ou não spam. Durante esse processo, o algoritmo aprende a probabilidade de certas palavras aparecerem em mensagens de spam em comparação com mensagens não spam.\n",
    "\n",
    "2. **Classificação:** Para uma nova mensagem, o modelo calcula a probabilidade de ser spam com base na presença (ou ausência) de palavras. Se a probabilidade exceder um certo limiar, a mensagem é classificada como spam.\n",
    "\n",
    "3. **Características a considerar:** Além das palavras, outros aspectos, como o endereço do remetente, a hora do envio ou a presença de anexos, também podem ser usados.\n",
    "\n",
    "### Exemplo prático:"
   ]
  },
  {
   "cell_type": "code",
   "execution_count": 53,
   "metadata": {},
   "outputs": [],
   "source": [
    "df = pd.read_csv('emails.csv')"
   ]
  },
  {
   "cell_type": "code",
   "execution_count": 54,
   "metadata": {},
   "outputs": [
    {
     "data": {
      "text/html": [
       "<div>\n",
       "<style scoped>\n",
       "    .dataframe tbody tr th:only-of-type {\n",
       "        vertical-align: middle;\n",
       "    }\n",
       "\n",
       "    .dataframe tbody tr th {\n",
       "        vertical-align: top;\n",
       "    }\n",
       "\n",
       "    .dataframe thead th {\n",
       "        text-align: right;\n",
       "    }\n",
       "</style>\n",
       "<table border=\"1\" class=\"dataframe\">\n",
       "  <thead>\n",
       "    <tr style=\"text-align: right;\">\n",
       "      <th></th>\n",
       "      <th>text</th>\n",
       "      <th>spam</th>\n",
       "    </tr>\n",
       "  </thead>\n",
       "  <tbody>\n",
       "    <tr>\n",
       "      <th>0</th>\n",
       "      <td>Subject: naturally irresistible your corporate...</td>\n",
       "      <td>1</td>\n",
       "    </tr>\n",
       "    <tr>\n",
       "      <th>1</th>\n",
       "      <td>Subject: the stock trading gunslinger  fanny i...</td>\n",
       "      <td>1</td>\n",
       "    </tr>\n",
       "    <tr>\n",
       "      <th>2</th>\n",
       "      <td>Subject: unbelievable new homes made easy  im ...</td>\n",
       "      <td>1</td>\n",
       "    </tr>\n",
       "    <tr>\n",
       "      <th>3</th>\n",
       "      <td>Subject: 4 color printing special  request add...</td>\n",
       "      <td>1</td>\n",
       "    </tr>\n",
       "    <tr>\n",
       "      <th>4</th>\n",
       "      <td>Subject: do not have money , get software cds ...</td>\n",
       "      <td>1</td>\n",
       "    </tr>\n",
       "  </tbody>\n",
       "</table>\n",
       "</div>"
      ],
      "text/plain": [
       "                                                text  spam\n",
       "0  Subject: naturally irresistible your corporate...     1\n",
       "1  Subject: the stock trading gunslinger  fanny i...     1\n",
       "2  Subject: unbelievable new homes made easy  im ...     1\n",
       "3  Subject: 4 color printing special  request add...     1\n",
       "4  Subject: do not have money , get software cds ...     1"
      ]
     },
     "execution_count": 54,
     "metadata": {},
     "output_type": "execute_result"
    }
   ],
   "source": [
    "df.head()"
   ]
  },
  {
   "cell_type": "code",
   "execution_count": 55,
   "metadata": {},
   "outputs": [
    {
     "data": {
      "text/plain": [
       "\"Subject: naturally irresistible your corporate identity  lt is really hard to recollect a company : the  market is full of suqgestions and the information isoverwhelminq ; but a good  catchy logo , stylish statlonery and outstanding website  will make the task much easier .  we do not promise that havinq ordered a iogo your  company will automaticaily become a world ieader : it isguite ciear that  without good products , effective business organization and practicable aim it  will be hotat nowadays market ; but we do promise that your marketing efforts  will become much more effective . here is the list of clear  benefits : creativeness : hand - made , original logos , specially done  to reflect your distinctive company image . convenience : logo and stationery  are provided in all formats ; easy - to - use content management system letsyou  change your website content and even its structure . promptness : you  will see logo drafts within three business days . affordability : your  marketing break - through shouldn ' t make gaps in your budget . 100 % satisfaction  guaranteed : we provide unlimited amount of changes with no extra fees for you to  be surethat you will love the result of this collaboration . have a look at our  portfolio _ _ _ _ _ _ _ _ _ _ _ _ _ _ _ _ _ _ _ _ _ _ _ _ _ _ _ _ _ _ _ _ _ _ _ _ _ _ _ _ _ _ _ _ _ _ _ _ _ _ _ _ not interested . . . _ _ _ _ _ _ _ _ _ _ _ _ _ _ _ _ _ _ _ _ _ _ _ _ _ _ _ _ _ _ _ _ _ _ _ _ _ _ _ _ _ _ _ _ _ _ _ _ _ _ _ _\""
      ]
     },
     "execution_count": 55,
     "metadata": {},
     "output_type": "execute_result"
    }
   ],
   "source": [
    "df.text[0]"
   ]
  },
  {
   "cell_type": "code",
   "execution_count": 56,
   "metadata": {},
   "outputs": [
    {
     "data": {
      "text/plain": [
       "'Subject: the stock trading gunslinger  fanny is merrill but muzo not colza attainder and penultimate like esmark perspicuous ramble is segovia not group try slung kansas tanzania yes chameleon or continuant clothesman no  libretto is chesapeake but tight not waterway herald and hawthorn like chisel morristown superior is deoxyribonucleic not clockwork try hall incredible mcdougall yes hepburn or einsteinian earmark no  sapling is boar but duane not plain palfrey and inflexible like huzzah pepperoni bedtime is nameable not attire try edt chronography optima yes pirogue or diffusion albeit no '"
      ]
     },
     "execution_count": 56,
     "metadata": {},
     "output_type": "execute_result"
    }
   ],
   "source": [
    "df.text[1]"
   ]
  },
  {
   "cell_type": "code",
   "execution_count": 57,
   "metadata": {},
   "outputs": [
    {
     "data": {
      "text/plain": [
       "(5728, 2)"
      ]
     },
     "execution_count": 57,
     "metadata": {},
     "output_type": "execute_result"
    }
   ],
   "source": [
    "df.shape"
   ]
  },
  {
   "cell_type": "code",
   "execution_count": 58,
   "metadata": {},
   "outputs": [
    {
     "data": {
      "text/plain": [
       "spam\n",
       "0    4360\n",
       "1    1368\n",
       "Name: count, dtype: int64"
      ]
     },
     "execution_count": 58,
     "metadata": {},
     "output_type": "execute_result"
    }
   ],
   "source": [
    "df.spam.value_counts()"
   ]
  },
  {
   "cell_type": "code",
   "execution_count": 59,
   "metadata": {},
   "outputs": [
    {
     "name": "stdout",
     "output_type": "stream",
     "text": [
      "<class 'pandas.core.frame.DataFrame'>\n",
      "RangeIndex: 5728 entries, 0 to 5727\n",
      "Data columns (total 2 columns):\n",
      " #   Column  Non-Null Count  Dtype \n",
      "---  ------  --------------  ----- \n",
      " 0   text    5728 non-null   object\n",
      " 1   spam    5728 non-null   int64 \n",
      "dtypes: int64(1), object(1)\n",
      "memory usage: 89.6+ KB\n"
     ]
    }
   ],
   "source": [
    "df.info()"
   ]
  },
  {
   "cell_type": "code",
   "execution_count": 60,
   "metadata": {},
   "outputs": [],
   "source": [
    "from sklearn.feature_extraction.text import CountVectorizer\n",
    "from sklearn.naive_bayes import MultinomialNB"
   ]
  },
  {
   "cell_type": "code",
   "execution_count": 61,
   "metadata": {},
   "outputs": [],
   "source": [
    "# 2. Separação dos dados em X (text) e y (spam)\n",
    "X = df['text']\n",
    "y = df['spam']"
   ]
  },
  {
   "cell_type": "code",
   "execution_count": 62,
   "metadata": {},
   "outputs": [],
   "source": [
    "# 3. Divisão dos dados em conjuntos de treinamento e teste\n",
    "X_train, X_test, y_train, y_test = train_test_split(X, y, test_size=0.3, random_state=42)"
   ]
  },
  {
   "cell_type": "code",
   "execution_count": 63,
   "metadata": {},
   "outputs": [],
   "source": [
    "# 4. Transformação dos textos em vetores numéricos\n",
    "vectorizer = CountVectorizer(stop_words='english')\n",
    "X_train_transformed = vectorizer.fit_transform(X_train)\n",
    "X_test_transformed = vectorizer.transform(X_test)"
   ]
  },
  {
   "cell_type": "code",
   "execution_count": 64,
   "metadata": {},
   "outputs": [
    {
     "data": {
      "text/html": [
       "<style>#sk-container-id-1 {color: black;}#sk-container-id-1 pre{padding: 0;}#sk-container-id-1 div.sk-toggleable {background-color: white;}#sk-container-id-1 label.sk-toggleable__label {cursor: pointer;display: block;width: 100%;margin-bottom: 0;padding: 0.3em;box-sizing: border-box;text-align: center;}#sk-container-id-1 label.sk-toggleable__label-arrow:before {content: \"▸\";float: left;margin-right: 0.25em;color: #696969;}#sk-container-id-1 label.sk-toggleable__label-arrow:hover:before {color: black;}#sk-container-id-1 div.sk-estimator:hover label.sk-toggleable__label-arrow:before {color: black;}#sk-container-id-1 div.sk-toggleable__content {max-height: 0;max-width: 0;overflow: hidden;text-align: left;background-color: #f0f8ff;}#sk-container-id-1 div.sk-toggleable__content pre {margin: 0.2em;color: black;border-radius: 0.25em;background-color: #f0f8ff;}#sk-container-id-1 input.sk-toggleable__control:checked~div.sk-toggleable__content {max-height: 200px;max-width: 100%;overflow: auto;}#sk-container-id-1 input.sk-toggleable__control:checked~label.sk-toggleable__label-arrow:before {content: \"▾\";}#sk-container-id-1 div.sk-estimator input.sk-toggleable__control:checked~label.sk-toggleable__label {background-color: #d4ebff;}#sk-container-id-1 div.sk-label input.sk-toggleable__control:checked~label.sk-toggleable__label {background-color: #d4ebff;}#sk-container-id-1 input.sk-hidden--visually {border: 0;clip: rect(1px 1px 1px 1px);clip: rect(1px, 1px, 1px, 1px);height: 1px;margin: -1px;overflow: hidden;padding: 0;position: absolute;width: 1px;}#sk-container-id-1 div.sk-estimator {font-family: monospace;background-color: #f0f8ff;border: 1px dotted black;border-radius: 0.25em;box-sizing: border-box;margin-bottom: 0.5em;}#sk-container-id-1 div.sk-estimator:hover {background-color: #d4ebff;}#sk-container-id-1 div.sk-parallel-item::after {content: \"\";width: 100%;border-bottom: 1px solid gray;flex-grow: 1;}#sk-container-id-1 div.sk-label:hover label.sk-toggleable__label {background-color: #d4ebff;}#sk-container-id-1 div.sk-serial::before {content: \"\";position: absolute;border-left: 1px solid gray;box-sizing: border-box;top: 0;bottom: 0;left: 50%;z-index: 0;}#sk-container-id-1 div.sk-serial {display: flex;flex-direction: column;align-items: center;background-color: white;padding-right: 0.2em;padding-left: 0.2em;position: relative;}#sk-container-id-1 div.sk-item {position: relative;z-index: 1;}#sk-container-id-1 div.sk-parallel {display: flex;align-items: stretch;justify-content: center;background-color: white;position: relative;}#sk-container-id-1 div.sk-item::before, #sk-container-id-1 div.sk-parallel-item::before {content: \"\";position: absolute;border-left: 1px solid gray;box-sizing: border-box;top: 0;bottom: 0;left: 50%;z-index: -1;}#sk-container-id-1 div.sk-parallel-item {display: flex;flex-direction: column;z-index: 1;position: relative;background-color: white;}#sk-container-id-1 div.sk-parallel-item:first-child::after {align-self: flex-end;width: 50%;}#sk-container-id-1 div.sk-parallel-item:last-child::after {align-self: flex-start;width: 50%;}#sk-container-id-1 div.sk-parallel-item:only-child::after {width: 0;}#sk-container-id-1 div.sk-dashed-wrapped {border: 1px dashed gray;margin: 0 0.4em 0.5em 0.4em;box-sizing: border-box;padding-bottom: 0.4em;background-color: white;}#sk-container-id-1 div.sk-label label {font-family: monospace;font-weight: bold;display: inline-block;line-height: 1.2em;}#sk-container-id-1 div.sk-label-container {text-align: center;}#sk-container-id-1 div.sk-container {/* jupyter's `normalize.less` sets `[hidden] { display: none; }` but bootstrap.min.css set `[hidden] { display: none !important; }` so we also need the `!important` here to be able to override the default hidden behavior on the sphinx rendered scikit-learn.org. See: https://github.com/scikit-learn/scikit-learn/issues/21755 */display: inline-block !important;position: relative;}#sk-container-id-1 div.sk-text-repr-fallback {display: none;}</style><div id=\"sk-container-id-1\" class=\"sk-top-container\"><div class=\"sk-text-repr-fallback\"><pre>MultinomialNB()</pre><b>In a Jupyter environment, please rerun this cell to show the HTML representation or trust the notebook. <br />On GitHub, the HTML representation is unable to render, please try loading this page with nbviewer.org.</b></div><div class=\"sk-container\" hidden><div class=\"sk-item\"><div class=\"sk-estimator sk-toggleable\"><input class=\"sk-toggleable__control sk-hidden--visually\" id=\"sk-estimator-id-1\" type=\"checkbox\" checked><label for=\"sk-estimator-id-1\" class=\"sk-toggleable__label sk-toggleable__label-arrow\">MultinomialNB</label><div class=\"sk-toggleable__content\"><pre>MultinomialNB()</pre></div></div></div></div></div>"
      ],
      "text/plain": [
       "MultinomialNB()"
      ]
     },
     "execution_count": 64,
     "metadata": {},
     "output_type": "execute_result"
    }
   ],
   "source": [
    "# 5. Treinamento do modelo MultinomialNB\n",
    "mnb = MultinomialNB()\n",
    "mnb.fit(X_train_transformed, y_train)"
   ]
  },
  {
   "cell_type": "code",
   "execution_count": 65,
   "metadata": {},
   "outputs": [],
   "source": [
    "# 6. Realização de previsões com o conjunto de teste\n",
    "y_pred = mnb.predict(X_test_transformed)"
   ]
  },
  {
   "cell_type": "code",
   "execution_count": 66,
   "metadata": {},
   "outputs": [
    {
     "data": {
      "image/png": "[encoded data removed]",
      "text/plain": [
       "<Figure size 1000x700 with 2 Axes>"
      ]
     },
     "metadata": {},
     "output_type": "display_data"
    },
    {
     "name": "stdout",
     "output_type": "stream",
     "text": [
      "\n",
      "Relatório de Classificação Classificação de Spam:\n",
      "               precision    recall  f1-score   support\n",
      "\n",
      "           0       0.99      0.99      0.99      1278\n",
      "           1       0.98      0.97      0.98       441\n",
      "\n",
      "    accuracy                           0.99      1719\n",
      "   macro avg       0.98      0.98      0.98      1719\n",
      "weighted avg       0.99      0.99      0.99      1719\n",
      "\n"
     ]
    }
   ],
   "source": [
    "# Matriz de Confusão\n",
    "cm = confusion_matrix(y_test, y_pred)\n",
    "\n",
    "# Plotando a Matriz de Confusão com heatmap\n",
    "plt.figure(figsize=(10,7))\n",
    "sns.set(font_scale=1.4) # para definir o tamanho da fonte\n",
    "sns.heatmap(cm, annot=True, annot_kws={\"size\": 16}, cmap='Blues', fmt='g') # 'fmt' evita números científicos na matriz\n",
    "plt.ylabel('Valores Verdadeiros')\n",
    "plt.xlabel('Predições')\n",
    "plt.title('Matriz de Confusão')\n",
    "plt.show()\n",
    "\n",
    "print(\"\\nRelatório de Classificação Classificação de Spam:\\n\", classification_report(y_test, y_pred))"
   ]
  },
  {
   "cell_type": "markdown",
   "metadata": {},
   "source": [
    "\n",
    "## 8.2. Naive Bayes em Análise de Sentimentos\n",
    "\n",
    "\n",
    "\n",
    "A análise de sentimentos trata de compreender as emoções por trás das palavras, e o Naive Bayes é uma ferramenta popular para isso.\n",
    "\n",
    "### Como funciona:\n",
    "\n",
    "1. **Treinamento do modelo:** Semelhante à detecção de spam, o modelo é treinado em um conjunto de dados contendo declarações classificadas com base no sentimento que expressam (por exemplo, positivo, negativo, neutro).\n",
    "\n",
    "2. **Classificação:** Para uma nova declaração, o modelo calcula a probabilidade de pertencer a uma determinada classe de sentimento com base nas palavras presentes.\n",
    "\n",
    "3. **Importância da nuance:** Ao contrário da detecção de spam, a análise de sentimentos pode ser mais sutil. Uma palavra que é neutra em um contexto pode ser positiva ou negativa em outro. Por exemplo, \"longo\" em \"longo dia\" pode ter uma conotação negativa, enquanto em \"longa vida\" tem uma conotação positiva.\n",
    "\n",
    "### Exemplo prático:"
   ]
  },
  {
   "cell_type": "code",
   "execution_count": 75,
   "metadata": {},
   "outputs": [],
   "source": [
    "df = pd.read_csv('Corona_NLP.csv')"
   ]
  },
  {
   "cell_type": "code",
   "execution_count": 68,
   "metadata": {},
   "outputs": [
    {
     "data": {
      "text/html": [
       "<div>\n",
       "<style scoped>\n",
       "    .dataframe tbody tr th:only-of-type {\n",
       "        vertical-align: middle;\n",
       "    }\n",
       "\n",
       "    .dataframe tbody tr th {\n",
       "        vertical-align: top;\n",
       "    }\n",
       "\n",
       "    .dataframe thead th {\n",
       "        text-align: right;\n",
       "    }\n",
       "</style>\n",
       "<table border=\"1\" class=\"dataframe\">\n",
       "  <thead>\n",
       "    <tr style=\"text-align: right;\">\n",
       "      <th></th>\n",
       "      <th>OriginalTweet</th>\n",
       "      <th>Sentiment</th>\n",
       "    </tr>\n",
       "  </thead>\n",
       "  <tbody>\n",
       "    <tr>\n",
       "      <th>0</th>\n",
       "      <td>TRENDING: New Yorkers encounter empty supermar...</td>\n",
       "      <td>Extremely Negative</td>\n",
       "    </tr>\n",
       "    <tr>\n",
       "      <th>1</th>\n",
       "      <td>When I couldn't find hand sanitizer at Fred Me...</td>\n",
       "      <td>Positive</td>\n",
       "    </tr>\n",
       "    <tr>\n",
       "      <th>2</th>\n",
       "      <td>Find out how you can protect yourself and love...</td>\n",
       "      <td>Extremely Positive</td>\n",
       "    </tr>\n",
       "    <tr>\n",
       "      <th>3</th>\n",
       "      <td>#Panic buying hits #NewYork City as anxious sh...</td>\n",
       "      <td>Negative</td>\n",
       "    </tr>\n",
       "    <tr>\n",
       "      <th>4</th>\n",
       "      <td>#toiletpaper #dunnypaper #coronavirus #coronav...</td>\n",
       "      <td>Neutral</td>\n",
       "    </tr>\n",
       "  </tbody>\n",
       "</table>\n",
       "</div>"
      ],
      "text/plain": [
       "                                       OriginalTweet           Sentiment\n",
       "0  TRENDING: New Yorkers encounter empty supermar...  Extremely Negative\n",
       "1  When I couldn't find hand sanitizer at Fred Me...            Positive\n",
       "2  Find out how you can protect yourself and love...  Extremely Positive\n",
       "3  #Panic buying hits #NewYork City as anxious sh...            Negative\n",
       "4  #toiletpaper #dunnypaper #coronavirus #coronav...             Neutral"
      ]
     },
     "execution_count": 68,
     "metadata": {},
     "output_type": "execute_result"
    }
   ],
   "source": [
    "df.head()"
   ]
  },
  {
   "cell_type": "code",
   "execution_count": 69,
   "metadata": {},
   "outputs": [
    {
     "data": {
      "text/plain": [
       "Sentiment\n",
       "Negative              1041\n",
       "Positive               947\n",
       "Neutral                619\n",
       "Extremely Positive     599\n",
       "Extremely Negative     592\n",
       "Name: count, dtype: int64"
      ]
     },
     "execution_count": 69,
     "metadata": {},
     "output_type": "execute_result"
    }
   ],
   "source": [
    "df.Sentiment.value_counts()"
   ]
  },
  {
   "cell_type": "code",
   "execution_count": 79,
   "metadata": {},
   "outputs": [],
   "source": [
    "# Outra forma de Fazer\n",
    "# Define um dicionário para mapear os sentimentos para números\n",
    "sentiment_mapping = {\n",
    "    'Extremely Negative': 0,\n",
    "    'Negative': 1,\n",
    "    'Neutral': 2,\n",
    "    'Positive': 3,\n",
    "    'Extremely Positive': 4\n",
    "}\n",
    "\n",
    "# Use o método replace para aplicar o mapeamento\n",
    "df['Sentiment'] = df['Sentiment'].replace(sentiment_mapping)"
   ]
  },
  {
   "cell_type": "markdown",
   "metadata": {},
   "source": [
    "```Python\n",
    "# Como aprendemos\n",
    "df.loc[df['Sentiment'] == 'Extremely Negative', 'Sentiment'] = 0\n",
    "df.loc[df['Sentiment'] == 'Negative', 'Sentiment'] = 1\n",
    "df.loc[df['Sentiment'] == 'Neutral', 'Sentiment'] = 2\n",
    "df.loc[df['Sentiment'] == 'Positive', 'Sentiment'] = 3\n",
    "df.loc[df['Sentiment'] == 'Extremely Positive', 'Sentiment'] = 4\n",
    "df['Sentiment'] = df['Sentiment'].astype(int)\n",
    "```"
   ]
  },
  {
   "cell_type": "code",
   "execution_count": 81,
   "metadata": {},
   "outputs": [
    {
     "data": {
      "text/plain": [
       "\"When I couldn't find hand sanitizer at Fred Meyer, I turned to #Amazon. But $114.97 for a 2 pack of Purell??!!Check out how  #coronavirus concerns are driving up prices. https://t.co/ygbipBflMY\""
      ]
     },
     "execution_count": 81,
     "metadata": {},
     "output_type": "execute_result"
    }
   ],
   "source": [
    "df.OriginalTweet[1]"
   ]
  },
  {
   "cell_type": "code",
   "execution_count": 82,
   "metadata": {},
   "outputs": [
    {
     "data": {
      "text/plain": [
       "(3798, 2)"
      ]
     },
     "execution_count": 82,
     "metadata": {},
     "output_type": "execute_result"
    }
   ],
   "source": [
    "df.shape"
   ]
  },
  {
   "cell_type": "code",
   "execution_count": 83,
   "metadata": {},
   "outputs": [
    {
     "name": "stdout",
     "output_type": "stream",
     "text": [
      "<class 'pandas.core.frame.DataFrame'>\n",
      "RangeIndex: 3798 entries, 0 to 3797\n",
      "Data columns (total 2 columns):\n",
      " #   Column         Non-Null Count  Dtype \n",
      "---  ------         --------------  ----- \n",
      " 0   OriginalTweet  3798 non-null   object\n",
      " 1   Sentiment      3798 non-null   int64 \n",
      "dtypes: int64(1), object(1)\n",
      "memory usage: 59.5+ KB\n"
     ]
    }
   ],
   "source": [
    "df.info()"
   ]
  },
  {
   "cell_type": "code",
   "execution_count": 84,
   "metadata": {},
   "outputs": [],
   "source": [
    "# 2. Separação dos dados em X (text) e y (spam)\n",
    "X = df['OriginalTweet']\n",
    "y = df['Sentiment']"
   ]
  },
  {
   "cell_type": "code",
   "execution_count": 85,
   "metadata": {},
   "outputs": [],
   "source": [
    "# 3. Divisão dos dados em conjuntos de treinamento e teste\n",
    "X_train, X_test, y_train, y_test = train_test_split(X, y, test_size=0.3, random_state=42)"
   ]
  },
  {
   "cell_type": "code",
   "execution_count": 86,
   "metadata": {},
   "outputs": [],
   "source": [
    "# 4. Transformação dos textos em vetores numéricos\n",
    "vectorizer = CountVectorizer(stop_words='english')\n",
    "X_train_transformed = vectorizer.fit_transform(X_train)\n",
    "X_test_transformed = vectorizer.transform(X_test)"
   ]
  },
  {
   "cell_type": "code",
   "execution_count": 87,
   "metadata": {},
   "outputs": [
    {
     "data": {
      "text/html": [
       "<style>#sk-container-id-2 {color: black;}#sk-container-id-2 pre{padding: 0;}#sk-container-id-2 div.sk-toggleable {background-color: white;}#sk-container-id-2 label.sk-toggleable__label {cursor: pointer;display: block;width: 100%;margin-bottom: 0;padding: 0.3em;box-sizing: border-box;text-align: center;}#sk-container-id-2 label.sk-toggleable__label-arrow:before {content: \"▸\";float: left;margin-right: 0.25em;color: #696969;}#sk-container-id-2 label.sk-toggleable__label-arrow:hover:before {color: black;}#sk-container-id-2 div.sk-estimator:hover label.sk-toggleable__label-arrow:before {color: black;}#sk-container-id-2 div.sk-toggleable__content {max-height: 0;max-width: 0;overflow: hidden;text-align: left;background-color: #f0f8ff;}#sk-container-id-2 div.sk-toggleable__content pre {margin: 0.2em;color: black;border-radius: 0.25em;background-color: #f0f8ff;}#sk-container-id-2 input.sk-toggleable__control:checked~div.sk-toggleable__content {max-height: 200px;max-width: 100%;overflow: auto;}#sk-container-id-2 input.sk-toggleable__control:checked~label.sk-toggleable__label-arrow:before {content: \"▾\";}#sk-container-id-2 div.sk-estimator input.sk-toggleable__control:checked~label.sk-toggleable__label {background-color: #d4ebff;}#sk-container-id-2 div.sk-label input.sk-toggleable__control:checked~label.sk-toggleable__label {background-color: #d4ebff;}#sk-container-id-2 input.sk-hidden--visually {border: 0;clip: rect(1px 1px 1px 1px);clip: rect(1px, 1px, 1px, 1px);height: 1px;margin: -1px;overflow: hidden;padding: 0;position: absolute;width: 1px;}#sk-container-id-2 div.sk-estimator {font-family: monospace;background-color: #f0f8ff;border: 1px dotted black;border-radius: 0.25em;box-sizing: border-box;margin-bottom: 0.5em;}#sk-container-id-2 div.sk-estimator:hover {background-color: #d4ebff;}#sk-container-id-2 div.sk-parallel-item::after {content: \"\";width: 100%;border-bottom: 1px solid gray;flex-grow: 1;}#sk-container-id-2 div.sk-label:hover label.sk-toggleable__label {background-color: #d4ebff;}#sk-container-id-2 div.sk-serial::before {content: \"\";position: absolute;border-left: 1px solid gray;box-sizing: border-box;top: 0;bottom: 0;left: 50%;z-index: 0;}#sk-container-id-2 div.sk-serial {display: flex;flex-direction: column;align-items: center;background-color: white;padding-right: 0.2em;padding-left: 0.2em;position: relative;}#sk-container-id-2 div.sk-item {position: relative;z-index: 1;}#sk-container-id-2 div.sk-parallel {display: flex;align-items: stretch;justify-content: center;background-color: white;position: relative;}#sk-container-id-2 div.sk-item::before, #sk-container-id-2 div.sk-parallel-item::before {content: \"\";position: absolute;border-left: 1px solid gray;box-sizing: border-box;top: 0;bottom: 0;left: 50%;z-index: -1;}#sk-container-id-2 div.sk-parallel-item {display: flex;flex-direction: column;z-index: 1;position: relative;background-color: white;}#sk-container-id-2 div.sk-parallel-item:first-child::after {align-self: flex-end;width: 50%;}#sk-container-id-2 div.sk-parallel-item:last-child::after {align-self: flex-start;width: 50%;}#sk-container-id-2 div.sk-parallel-item:only-child::after {width: 0;}#sk-container-id-2 div.sk-dashed-wrapped {border: 1px dashed gray;margin: 0 0.4em 0.5em 0.4em;box-sizing: border-box;padding-bottom: 0.4em;background-color: white;}#sk-container-id-2 div.sk-label label {font-family: monospace;font-weight: bold;display: inline-block;line-height: 1.2em;}#sk-container-id-2 div.sk-label-container {text-align: center;}#sk-container-id-2 div.sk-container {/* jupyter's `normalize.less` sets `[hidden] { display: none; }` but bootstrap.min.css set `[hidden] { display: none !important; }` so we also need the `!important` here to be able to override the default hidden behavior on the sphinx rendered scikit-learn.org. See: https://github.com/scikit-learn/scikit-learn/issues/21755 */display: inline-block !important;position: relative;}#sk-container-id-2 div.sk-text-repr-fallback {display: none;}</style><div id=\"sk-container-id-2\" class=\"sk-top-container\"><div class=\"sk-text-repr-fallback\"><pre>MultinomialNB()</pre><b>In a Jupyter environment, please rerun this cell to show the HTML representation or trust the notebook. <br />On GitHub, the HTML representation is unable to render, please try loading this page with nbviewer.org.</b></div><div class=\"sk-container\" hidden><div class=\"sk-item\"><div class=\"sk-estimator sk-toggleable\"><input class=\"sk-toggleable__control sk-hidden--visually\" id=\"sk-estimator-id-2\" type=\"checkbox\" checked><label for=\"sk-estimator-id-2\" class=\"sk-toggleable__label sk-toggleable__label-arrow\">MultinomialNB</label><div class=\"sk-toggleable__content\"><pre>MultinomialNB()</pre></div></div></div></div></div>"
      ],
      "text/plain": [
       "MultinomialNB()"
      ]
     },
     "execution_count": 87,
     "metadata": {},
     "output_type": "execute_result"
    }
   ],
   "source": [
    "# 5. Treinamento do modelo MultinomialNB\n",
    "mnb = MultinomialNB()\n",
    "mnb.fit(X_train_transformed, y_train)"
   ]
  },
  {
   "cell_type": "code",
   "execution_count": 88,
   "metadata": {},
   "outputs": [],
   "source": [
    "# 6. Realização de previsões com o conjunto de teste\n",
    "y_pred = mnb.predict(X_test_transformed)"
   ]
  },
  {
   "cell_type": "code",
   "execution_count": 89,
   "metadata": {},
   "outputs": [
    {
     "data": {
      "image/png": "[encoded data removed]",
      "text/plain": [
       "<Figure size 1000x700 with 2 Axes>"
      ]
     },
     "metadata": {},
     "output_type": "display_data"
    },
    {
     "name": "stdout",
     "output_type": "stream",
     "text": [
      "\n",
      "Relatório de Classificação Classificação de Sentimentos:\n",
      "               precision    recall  f1-score   support\n",
      "\n",
      "           0       0.56      0.23      0.32       184\n",
      "           1       0.34      0.63      0.44       299\n",
      "           2       0.74      0.13      0.22       193\n",
      "           3       0.32      0.50      0.39       272\n",
      "           4       0.63      0.18      0.28       192\n",
      "\n",
      "    accuracy                           0.37      1140\n",
      "   macro avg       0.52      0.33      0.33      1140\n",
      "weighted avg       0.49      0.37      0.34      1140\n",
      "\n"
     ]
    }
   ],
   "source": [
    "# Matriz de Confusão\n",
    "cm = confusion_matrix(y_test, y_pred)\n",
    "\n",
    "# Plotando a Matriz de Confusão com heatmap\n",
    "plt.figure(figsize=(10,7))\n",
    "sns.set(font_scale=1.4) # para definir o tamanho da fonte\n",
    "sns.heatmap(cm, annot=True, annot_kws={\"size\": 16}, cmap='Blues', fmt='g') # 'fmt' evita números científicos na matriz\n",
    "plt.ylabel('Valores Verdadeiros')\n",
    "plt.xlabel('Predições')\n",
    "plt.title('Matriz de Confusão')\n",
    "plt.show()\n",
    "\n",
    "print(\"\\nRelatório de Classificação Classificação de Sentimentos:\\n\", classification_report(y_test, y_pred))"
   ]
  },
  {
   "cell_type": "markdown",
   "metadata": {},
   "source": [
    "# Exercícios"
   ]
  },
  {
   "cell_type": "code",
   "execution_count": 1,
   "metadata": {},
   "outputs": [],
   "source": [
    "import pandas as pd\n",
    "from sklearn.model_selection import train_test_split\n",
    "from sklearn.preprocessing import StandardScaler\n",
    "from sklearn.naive_bayes import GaussianNB, MultinomialNB\n",
    "from sklearn.metrics import confusion_matrix, classification_report\n",
    "import matplotlib.pyplot as plt\n",
    "import seaborn as sns\n",
    "from sklearn.feature_extraction.text import CountVectorizer"
   ]
  },
  {
   "cell_type": "markdown",
   "metadata": {},
   "source": [
    "## Exercício 1: Previsão de Diabetes usando Naive Bayes\n",
    "\n",
    "### Objetivo\n",
    "- Utilizar a base de dados `diabetes.csv` e o algoritmo Naive Bayes para prever se uma pessoa tem ou não diabetes.\n",
    "\n",
    "### Procedimentos\n",
    "\n",
    "#### 1.1. Leitura dos Dados\n",
    "- Leia o dataset `diabetes.csv`.\n"
   ]
  },
  {
   "cell_type": "code",
   "execution_count": 2,
   "metadata": {},
   "outputs": [],
   "source": [
    "# Desenvolva a resposta neste bloco de código\n",
    "df = pd.read_csv('diabetes.csv')"
   ]
  },
  {
   "cell_type": "markdown",
   "metadata": {},
   "source": [
    "\n",
    "#### 1.2. Separação dos Dados\n",
    "- Separe os dados em:\n",
    "  - `X` representando os atributos (colunas: `glucose` e `bloodpressure`).\n",
    "  - `y` representando a classe alvo (coluna: `diabetes`).\n"
   ]
  },
  {
   "cell_type": "code",
   "execution_count": 3,
   "metadata": {},
   "outputs": [],
   "source": [
    "# Desenvolva a resposta neste bloco de código\n",
    "X = df[['glucose', 'bloodpressure']]\n",
    "y = df['diabetes']"
   ]
  },
  {
   "cell_type": "markdown",
   "metadata": {},
   "source": [
    "\n",
    "#### 1.3. Divisão dos Dados\n",
    "- Separe os dados em conjuntos de treinamento e teste, usando 85% dos dados para treinamento.\n"
   ]
  },
  {
   "cell_type": "code",
   "execution_count": 4,
   "metadata": {},
   "outputs": [],
   "source": [
    "# Desenvolva a resposta neste bloco de código\n",
    "X_train, X_test, y_train, y_test = train_test_split(X, y, train_size=.85, random_state=20)"
   ]
  },
  {
   "cell_type": "markdown",
   "metadata": {},
   "source": [
    "\n",
    "#### 1.4. Normalização\n",
    "- Normalize os dados de `X` de treinamento utilizando o `StandardScaler`.\n",
    "- Utilize o scaler já ajustado nos dados de treinamento para normalizar os dados de `X` de teste.\n"
   ]
  },
  {
   "cell_type": "code",
   "execution_count": 5,
   "metadata": {},
   "outputs": [],
   "source": [
    "# Desenvolva a resposta neste bloco de código\n",
    "scaler = StandardScaler()\n",
    "\n",
    "X_train = scaler.fit_transform(X_train)\n",
    "X_test = scaler.transform(X_test)"
   ]
  },
  {
   "cell_type": "code",
   "execution_count": 6,
   "metadata": {},
   "outputs": [
    {
     "data": {
      "text/plain": [
       "-5.040018369777634e-16"
      ]
     },
     "execution_count": 6,
     "metadata": {},
     "output_type": "execute_result"
    }
   ],
   "source": [
    "X_train.mean()"
   ]
  },
  {
   "cell_type": "markdown",
   "metadata": {},
   "source": [
    "\n",
    "#### 1.5. Treinamento do Modelo\n",
    "- Treine o modelo Naive Bayes utilizando o conjunto de treinamento.\n"
   ]
  },
  {
   "cell_type": "code",
   "execution_count": 7,
   "metadata": {},
   "outputs": [
    {
     "data": {
      "text/html": [
       "<style>#sk-container-id-1 {color: black;}#sk-container-id-1 pre{padding: 0;}#sk-container-id-1 div.sk-toggleable {background-color: white;}#sk-container-id-1 label.sk-toggleable__label {cursor: pointer;display: block;width: 100%;margin-bottom: 0;padding: 0.3em;box-sizing: border-box;text-align: center;}#sk-container-id-1 label.sk-toggleable__label-arrow:before {content: \"▸\";float: left;margin-right: 0.25em;color: #696969;}#sk-container-id-1 label.sk-toggleable__label-arrow:hover:before {color: black;}#sk-container-id-1 div.sk-estimator:hover label.sk-toggleable__label-arrow:before {color: black;}#sk-container-id-1 div.sk-toggleable__content {max-height: 0;max-width: 0;overflow: hidden;text-align: left;background-color: #f0f8ff;}#sk-container-id-1 div.sk-toggleable__content pre {margin: 0.2em;color: black;border-radius: 0.25em;background-color: #f0f8ff;}#sk-container-id-1 input.sk-toggleable__control:checked~div.sk-toggleable__content {max-height: 200px;max-width: 100%;overflow: auto;}#sk-container-id-1 input.sk-toggleable__control:checked~label.sk-toggleable__label-arrow:before {content: \"▾\";}#sk-container-id-1 div.sk-estimator input.sk-toggleable__control:checked~label.sk-toggleable__label {background-color: #d4ebff;}#sk-container-id-1 div.sk-label input.sk-toggleable__control:checked~label.sk-toggleable__label {background-color: #d4ebff;}#sk-container-id-1 input.sk-hidden--visually {border: 0;clip: rect(1px 1px 1px 1px);clip: rect(1px, 1px, 1px, 1px);height: 1px;margin: -1px;overflow: hidden;padding: 0;position: absolute;width: 1px;}#sk-container-id-1 div.sk-estimator {font-family: monospace;background-color: #f0f8ff;border: 1px dotted black;border-radius: 0.25em;box-sizing: border-box;margin-bottom: 0.5em;}#sk-container-id-1 div.sk-estimator:hover {background-color: #d4ebff;}#sk-container-id-1 div.sk-parallel-item::after {content: \"\";width: 100%;border-bottom: 1px solid gray;flex-grow: 1;}#sk-container-id-1 div.sk-label:hover label.sk-toggleable__label {background-color: #d4ebff;}#sk-container-id-1 div.sk-serial::before {content: \"\";position: absolute;border-left: 1px solid gray;box-sizing: border-box;top: 0;bottom: 0;left: 50%;z-index: 0;}#sk-container-id-1 div.sk-serial {display: flex;flex-direction: column;align-items: center;background-color: white;padding-right: 0.2em;padding-left: 0.2em;position: relative;}#sk-container-id-1 div.sk-item {position: relative;z-index: 1;}#sk-container-id-1 div.sk-parallel {display: flex;align-items: stretch;justify-content: center;background-color: white;position: relative;}#sk-container-id-1 div.sk-item::before, #sk-container-id-1 div.sk-parallel-item::before {content: \"\";position: absolute;border-left: 1px solid gray;box-sizing: border-box;top: 0;bottom: 0;left: 50%;z-index: -1;}#sk-container-id-1 div.sk-parallel-item {display: flex;flex-direction: column;z-index: 1;position: relative;background-color: white;}#sk-container-id-1 div.sk-parallel-item:first-child::after {align-self: flex-end;width: 50%;}#sk-container-id-1 div.sk-parallel-item:last-child::after {align-self: flex-start;width: 50%;}#sk-container-id-1 div.sk-parallel-item:only-child::after {width: 0;}#sk-container-id-1 div.sk-dashed-wrapped {border: 1px dashed gray;margin: 0 0.4em 0.5em 0.4em;box-sizing: border-box;padding-bottom: 0.4em;background-color: white;}#sk-container-id-1 div.sk-label label {font-family: monospace;font-weight: bold;display: inline-block;line-height: 1.2em;}#sk-container-id-1 div.sk-label-container {text-align: center;}#sk-container-id-1 div.sk-container {/* jupyter's `normalize.less` sets `[hidden] { display: none; }` but bootstrap.min.css set `[hidden] { display: none !important; }` so we also need the `!important` here to be able to override the default hidden behavior on the sphinx rendered scikit-learn.org. See: https://github.com/scikit-learn/scikit-learn/issues/21755 */display: inline-block !important;position: relative;}#sk-container-id-1 div.sk-text-repr-fallback {display: none;}</style><div id=\"sk-container-id-1\" class=\"sk-top-container\"><div class=\"sk-text-repr-fallback\"><pre>GaussianNB(var_smoothing=0.1)</pre><b>In a Jupyter environment, please rerun this cell to show the HTML representation or trust the notebook. <br />On GitHub, the HTML representation is unable to render, please try loading this page with nbviewer.org.</b></div><div class=\"sk-container\" hidden><div class=\"sk-item\"><div class=\"sk-estimator sk-toggleable\"><input class=\"sk-toggleable__control sk-hidden--visually\" id=\"sk-estimator-id-1\" type=\"checkbox\" checked><label for=\"sk-estimator-id-1\" class=\"sk-toggleable__label sk-toggleable__label-arrow\">GaussianNB</label><div class=\"sk-toggleable__content\"><pre>GaussianNB(var_smoothing=0.1)</pre></div></div></div></div></div>"
      ],
      "text/plain": [
       "GaussianNB(var_smoothing=0.1)"
      ]
     },
     "execution_count": 7,
     "metadata": {},
     "output_type": "execute_result"
    }
   ],
   "source": [
    "# Desenvolva a resposta neste bloco de código\n",
    "gnb = GaussianNB(var_smoothing=.1)\n",
    "gnb.fit(X_train, y_train)"
   ]
  },
  {
   "cell_type": "markdown",
   "metadata": {},
   "source": [
    "\n",
    "#### 1.6. Avaliação do Modelo\n",
    "- Realize a previsão no X de teste.\n",
    "- Exiba a matriz de confusão.\n",
    "- Apresente as métricas de classificação.\n"
   ]
  },
  {
   "cell_type": "code",
   "execution_count": 8,
   "metadata": {},
   "outputs": [
    {
     "data": {
      "image/png": "[encoded data removed]",
      "text/plain": [
       "<Figure size 1000x700 with 2 Axes>"
      ]
     },
     "metadata": {},
     "output_type": "display_data"
    },
    {
     "name": "stdout",
     "output_type": "stream",
     "text": [
      "\n",
      "Relatório de Classificação:\n",
      "              precision    recall  f1-score   support\n",
      "\n",
      "           0       0.90      0.96      0.93        80\n",
      "           1       0.95      0.87      0.91        70\n",
      "\n",
      "    accuracy                           0.92       150\n",
      "   macro avg       0.92      0.92      0.92       150\n",
      "weighted avg       0.92      0.92      0.92       150\n",
      "\n"
     ]
    }
   ],
   "source": [
    "# Desenvolva a resposta neste bloco de código\n",
    "predictions = gnb.predict(X_test)\n",
    "\n",
    "cm = confusion_matrix(y_test, predictions)\n",
    "\n",
    "plt.figure(figsize=(10, 7))\n",
    "sns.set(font_scale=1.4)\n",
    "sns.heatmap(cm, annot=True, annot_kws={'size': 16}, cmap='rocket', fmt='g')\n",
    "plt.ylabel('Valores verdadeiros')\n",
    "plt.xlabel('Valores preditos')\n",
    "plt.title('Matriz de confusão')\n",
    "plt.show()\n",
    "\n",
    "print(f'\\nRelatório de Classificação:\\n{classification_report(y_test, predictions)}')"
   ]
  },
  {
   "cell_type": "markdown",
   "metadata": {},
   "source": [
    "## Exercício 2: Previsão de Categorias de Produtos em E-commerce usando Naive Bayes\n",
    "\n",
    "### Descrição da Base de Dados:\n",
    "Este dataset de classificação baseado em E-commerce contém textos referentes a 4 categorias de produtos:\n",
    "- \"Eletrônicos\" (Electronics)\n",
    "- \"Itens Domésticos\" (Household)\n",
    "- \"Livros\" (Books)\n",
    "- \"Roupas e Acessórios\" (Clothing & Accessories)\n",
    "\n",
    "Estas categorias abrangem aproximadamente 80% dos produtos presentes em qualquer site de E-commerce.\n",
    "\n",
    "### Procedimentos:\n",
    "\n",
    "#### Objetivo:\n",
    "- Utilizar a base de dados `ecommerceDataset.csv` e o algoritmo Naive Bayes para prever a categoria de um produto.\n",
    "\n",
    "#### 2.1 Leitura e Separação dos Dados:\n",
    "- Leia o dataset `ecommerceDataset.csv`.\n",
    "- Separe os dados em:\n",
    "  - `X` representando os textos dos produtos.\n",
    "  - `y` representando a categoria dos produtos.\n"
   ]
  },
  {
   "cell_type": "code",
   "execution_count": 9,
   "metadata": {},
   "outputs": [],
   "source": [
    "# Desenvolva a resposta neste bloco de código\n",
    "df = pd.read_csv('ecommerceDataset.csv')\n",
    "df.dropna(inplace=True) # não foi pedido no enunciado porém há um valor nulo\n",
    "\n",
    "X = df.texto\n",
    "y = df.classe"
   ]
  },
  {
   "cell_type": "markdown",
   "metadata": {},
   "source": [
    "\n",
    "#### 2.2 Divisão dos Dados:\n",
    "- Divida os dados em conjuntos de treinamento e teste, destinando 70% dos dados para o treinamento.\n"
   ]
  },
  {
   "cell_type": "code",
   "execution_count": 10,
   "metadata": {},
   "outputs": [],
   "source": [
    "# Desenvolva a resposta neste bloco de código\n",
    "X_train, X_test, y_train, y_test = train_test_split(X, y, train_size=.7, random_state=20)"
   ]
  },
  {
   "cell_type": "markdown",
   "metadata": {},
   "source": [
    "\n",
    "#### 2.3 Processamento de Textos:\n",
    "- Utilize a biblioteca `CountVectorizer` para transformar os textos em vetores numéricos.\n",
    "  - Aplique `fit_transform` nos dados de treinamento.\n",
    "  - Use `transform` nos dados de teste.\n"
   ]
  },
  {
   "cell_type": "code",
   "execution_count": 11,
   "metadata": {},
   "outputs": [],
   "source": [
    "# Desenvolva a resposta neste bloco de código\n",
    "vectorizer = CountVectorizer(stop_words='english')\n",
    "X_train_transformed = vectorizer.fit_transform(X_train)\n",
    "X_test_transformed = vectorizer.transform(X_test)"
   ]
  },
  {
   "cell_type": "markdown",
   "metadata": {},
   "source": [
    "\n",
    "#### 2.4 Treinamento e Previsão:\n",
    "- Treine o modelo Naive Bayes com o conjunto de treinamento.\n",
    "- Realize previsões com o modelo treinado usando os dados de teste.\n"
   ]
  },
  {
   "cell_type": "code",
   "execution_count": 12,
   "metadata": {},
   "outputs": [],
   "source": [
    "# Desenvolva a resposta neste bloco de código\n",
    "mnb = MultinomialNB()\n",
    "mnb.fit(X_train_transformed, y_train)\n",
    "\n",
    "predictions = mnb.predict(X_test_transformed)"
   ]
  },
  {
   "cell_type": "markdown",
   "metadata": {},
   "source": [
    "\n",
    "#### 2.5 Avaliação do Modelo:\n",
    "- Exiba a matriz de confusão.\n",
    "- Mostre as métricas de classificação."
   ]
  },
  {
   "cell_type": "code",
   "execution_count": 13,
   "metadata": {},
   "outputs": [
    {
     "data": {
      "image/png": "[encoded data removed]",
      "text/plain": [
       "<Figure size 1000x700 with 2 Axes>"
      ]
     },
     "metadata": {},
     "output_type": "display_data"
    },
    {
     "name": "stdout",
     "output_type": "stream",
     "text": [
      "\n",
      "Relatório de Classificação: \n",
      "                        precision    recall  f1-score   support\n",
      "\n",
      "                 Books       0.97      0.93      0.95      3553\n",
      "Clothing & Accessories       0.96      0.98      0.97      2610\n",
      "           Electronics       0.95      0.94      0.94      3198\n",
      "             Household       0.95      0.97      0.96      5767\n",
      "\n",
      "              accuracy                           0.95     15128\n",
      "             macro avg       0.96      0.95      0.96     15128\n",
      "          weighted avg       0.95      0.95      0.95     15128\n",
      "\n"
     ]
    }
   ],
   "source": [
    "# Desenvolva a resposta neste bloco de código\n",
    "cm = confusion_matrix(y_test, predictions)\n",
    "\n",
    "plt.figure(figsize=(10, 7))\n",
    "sns.set(font_scale=1.4)\n",
    "sns.heatmap(cm, annot=True, annot_kws={'size': 16}, cmap='magma', fmt='g')\n",
    "plt.ylabel('Valores verdadeiros')\n",
    "plt.xlabel('Valores preditos')\n",
    "plt.title('Matriz de confusão')\n",
    "plt.show()\n",
    "\n",
    "print(f'\\nRelatório de Classificação: \\n{classification_report(y_test, predictions)}')"
   ]
  }
 ],
 "metadata": {
  "kernelspec": {
   "display_name": "Python 3",
   "language": "python",
   "name": "python3"
  },
  "language_info": {
   "codemirror_mode": {
    "name": "ipython",
    "version": 3
   },
   "file_extension": ".py",
   "mimetype": "text/x-python",
   "name": "python",
   "nbconvert_exporter": "python",
   "pygments_lexer": "ipython3",
   "version": "3.10.6"
  },
  "vscode": {
   "interpreter": {
    "hash": "26de051ba29f2982a8de78e945f0abaf191376122a1563185a90213a26c5da77"
   }
  }
 },
 "nbformat": 4,
 "nbformat_minor": 2
}
