{
 "cells": [
  {
   "cell_type": "code",
   "execution_count": 3,
   "metadata": {},
   "outputs": [],
   "source": [
    "import pandas as pd"
   ]
  },
  {
   "cell_type": "code",
   "execution_count": 4,
   "metadata": {},
   "outputs": [],
   "source": [
    "df = pd.read_csv('notebooks.csv')"
   ]
  },
  {
   "cell_type": "code",
   "execution_count": 5,
   "metadata": {},
   "outputs": [
    {
     "data": {
      "text/plain": [
       "marca                0\n",
       "ano                  0\n",
       "qtd_nucleos          0\n",
       "qtd_threads          0\n",
       "ram                  0\n",
       "gpu_dedicada         0\n",
       "ram_gpu              0\n",
       "entradas_usb         0\n",
       "duracao_bateria      0\n",
       "resolucao_tela       0\n",
       "tipo_tela            0\n",
       "tela_touch           0\n",
       "armazenamento_hdd    0\n",
       "armazenamento_ssd    0\n",
       "segmento             0\n",
       "valor                0\n",
       "dtype: int64"
      ]
     },
     "execution_count": 5,
     "metadata": {},
     "output_type": "execute_result"
    }
   ],
   "source": [
    "#Nenhum valor nulo\n",
    "df.isna().sum()"
   ]
  },
  {
   "cell_type": "code",
   "execution_count": 6,
   "metadata": {},
   "outputs": [],
   "source": [
    "# Converter valores textuas para numéricos\n",
    "from sklearn.preprocessing import LabelEncoder\n",
    "\n",
    "for col in df.columns:\n",
    "    # Verifica se o tipo da coluna é object (textual)\n",
    "    if df[col].dtype == 'object':\n",
    "        le = LabelEncoder()\n",
    "        df[col] = le.fit_transform(df[col])"
   ]
  },
  {
   "cell_type": "code",
   "execution_count": 7,
   "metadata": {},
   "outputs": [
    {
     "name": "stdout",
     "output_type": "stream",
     "text": [
      "<class 'pandas.core.frame.DataFrame'>\n",
      "RangeIndex: 10000 entries, 0 to 9999\n",
      "Data columns (total 16 columns):\n",
      " #   Column             Non-Null Count  Dtype\n",
      "---  ------             --------------  -----\n",
      " 0   marca              10000 non-null  int32\n",
      " 1   ano                10000 non-null  int64\n",
      " 2   qtd_nucleos        10000 non-null  int64\n",
      " 3   qtd_threads        10000 non-null  int64\n",
      " 4   ram                10000 non-null  int64\n",
      " 5   gpu_dedicada       10000 non-null  int32\n",
      " 6   ram_gpu            10000 non-null  int64\n",
      " 7   entradas_usb       10000 non-null  int64\n",
      " 8   duracao_bateria    10000 non-null  int64\n",
      " 9   resolucao_tela     10000 non-null  int32\n",
      " 10  tipo_tela          10000 non-null  int32\n",
      " 11  tela_touch         10000 non-null  int32\n",
      " 12  armazenamento_hdd  10000 non-null  int64\n",
      " 13  armazenamento_ssd  10000 non-null  int64\n",
      " 14  segmento           10000 non-null  int32\n",
      " 15  valor              10000 non-null  int64\n",
      "dtypes: int32(6), int64(10)\n",
      "memory usage: 1015.8 KB\n"
     ]
    }
   ],
   "source": [
    "df.info()"
   ]
  },
  {
   "cell_type": "code",
   "execution_count": 8,
   "metadata": {},
   "outputs": [
    {
     "data": {
      "text/plain": [
       "'valor'"
      ]
     },
     "execution_count": 8,
     "metadata": {},
     "output_type": "execute_result"
    }
   ],
   "source": [
    "df.columns[-1]"
   ]
  },
  {
   "cell_type": "code",
   "execution_count": 9,
   "metadata": {},
   "outputs": [],
   "source": [
    "# Normalizar e Separar dados em Treinamento (70%), Validação (15%) e Teste (15%)\n",
    "from sklearn.model_selection import train_test_split\n",
    "from sklearn.preprocessing import MinMaxScaler\n",
    "\n",
    "X = df[df.columns[:-1]]\n",
    "y = df[[df.columns[-1]]]\n",
    "\n",
    "scaler_X = MinMaxScaler()\n",
    "X = scaler_X.fit_transform(X)\n",
    "\n",
    "scaler_y = MinMaxScaler()\n",
    "y = scaler_y.fit_transform(y)\n",
    "\n",
    "X_train, X_temp, y_train, y_temp = train_test_split(X, y, test_size=0.3, random_state=42)\n",
    "X_val, X_test, y_val, y_test = train_test_split(X_temp, y_temp, test_size=0.5, random_state=42)"
   ]
  },
  {
   "cell_type": "markdown",
   "metadata": {},
   "source": [
    "# GridSearch"
   ]
  },
  {
   "cell_type": "markdown",
   "metadata": {},
   "source": [
    "1. Modelo Básico:\n",
    "\n",
    "• Crie um modelo sequencial simples com uma camada oculta e compile-o usando\n",
    "MSE (Erro Quadrático Médio) como função de perda. Use o GridSearchCV para\n",
    "encontrar a melhor função de ativação para essa camada oculta entre ['relu',\n",
    "'tanh', 'sigmoid']."
   ]
  },
  {
   "cell_type": "code",
   "execution_count": 10,
   "metadata": {},
   "outputs": [],
   "source": [
    "from keras.models import Sequential\n",
    "from keras.layers import Dense\n",
    "\n",
    "def create_model(neurons1 = 64, activation_function = 'relu'):\n",
    "    \n",
    "    model = Sequential()\n",
    "\n",
    "    model.add(Dense(neurons1, input_dim = X_train.shape[1], activation = activation_function))\n",
    "    model.add(Dense(1))\n",
    "    \n",
    "    model.compile(optimizer = 'adam', loss = 'mean_squared_error', metrics = ['accuracy'])\n",
    "    \n",
    "    return model"
   ]
  },
  {
   "cell_type": "code",
   "execution_count": 12,
   "metadata": {},
   "outputs": [
    {
     "name": "stderr",
     "output_type": "stream",
     "text": [
      "C:\\Users\\xx\\AppData\\Local\\Temp\\ipykernel_15776\\113293906.py:4: DeprecationWarning: KerasClassifier is deprecated, use Sci-Keras (https://github.com/adriangb/scikeras) instead. See https://www.adriangb.com/scikeras/stable/migration.html for help migrating.\n",
      "  model_for_grid = KerasClassifier(build_fn = create_model, epochs = 20, verbose = 0)\n"
     ]
    },
    {
     "name": "stdout",
     "output_type": "stream",
     "text": [
      "Melhores parâmetros: {'activation_function': 'relu'}\n"
     ]
    }
   ],
   "source": [
    "from keras.wrappers.scikit_learn import KerasClassifier\n",
    "from sklearn.model_selection import GridSearchCV\n",
    "\n",
    "model_for_grid = KerasClassifier(build_fn = create_model, epochs = 20, verbose = 0)\n",
    "\n",
    "param_grid = {\n",
    "    'activation_function': ['relu', 'tanh', 'sigmoid']\n",
    "}\n",
    "\n",
    "grid = GridSearchCV(estimator = model_for_grid, param_grid = param_grid, cv = 3)\n",
    "\n",
    "grid_result = grid.fit(X_train, y_train)\n",
    "\n",
    "print(f'Melhores parâmetros: {grid_result.best_params_}')"
   ]
  },
  {
   "cell_type": "markdown",
   "metadata": {},
   "source": [
    "2. Otimizando a Arquitetura:\n",
    "\n",
    "• Use o GridSearchCV para encontrar a melhor combinação de neurônios em duas\n",
    "camadas ocultas. Teste combinações entre [32, 64, 128] neurônios para cada\n",
    "camada."
   ]
  },
  {
   "cell_type": "code",
   "execution_count": 13,
   "metadata": {},
   "outputs": [],
   "source": [
    "def create_model(neurons1 = 64, neurons2 = 64, activation_function = 'relu'):\n",
    "    \n",
    "    model = Sequential()\n",
    "\n",
    "    model.add(Dense(neurons1, input_dim = X_train.shape[1], activation = activation_function))\n",
    "    model.add(Dense(neurons2, activation = activation_function))\n",
    "    model.add(Dense(1))\n",
    "    \n",
    "    model.compile(optimizer = 'adam', loss = 'mean_squared_error', metrics = ['accuracy'])\n",
    "    \n",
    "    return model"
   ]
  },
  {
   "cell_type": "code",
   "execution_count": 14,
   "metadata": {},
   "outputs": [
    {
     "name": "stderr",
     "output_type": "stream",
     "text": [
      "C:\\Users\\xx\\AppData\\Local\\Temp\\ipykernel_15776\\319167078.py:1: DeprecationWarning: KerasClassifier is deprecated, use Sci-Keras (https://github.com/adriangb/scikeras) instead. See https://www.adriangb.com/scikeras/stable/migration.html for help migrating.\n",
      "  model_for_grid = KerasClassifier(build_fn = create_model, epochs = 20, verbose = 0)\n"
     ]
    },
    {
     "name": "stdout",
     "output_type": "stream",
     "text": [
      "Melhores parâmetros: {'neurons1': 32, 'neurons2': 32}\n"
     ]
    }
   ],
   "source": [
    "model_for_grid = KerasClassifier(build_fn = create_model, epochs = 20, verbose = 0)\n",
    "\n",
    "\n",
    "param_grid = {\n",
    "    'neurons1': [32, 64, 128],\n",
    "    'neurons2': [32, 64, 128]\n",
    "}\n",
    "\n",
    "grid = GridSearchCV(estimator = model_for_grid, param_grid = param_grid, cv = 3)\n",
    "\n",
    "grid_result = grid.fit(X_train, y_train)\n",
    "\n",
    "print(f'Melhores parâmetros: {grid_result.best_params_}')"
   ]
  },
  {
   "cell_type": "markdown",
   "metadata": {},
   "source": [
    "3. Otimizando o Otimizador:\n",
    "\n",
    "• Mantendo a arquitetura do modelo fixa, utilize o GridSearchCV para encontrar o\n",
    "melhor otimizador entre ['adam', 'sgd', 'rmsprop']."
   ]
  },
  {
   "cell_type": "code",
   "execution_count": 15,
   "metadata": {},
   "outputs": [],
   "source": [
    "def create_model(neurons1 = 32, neurons2 = 32, activation_function = 'relu', optimizer = 'adam'):\n",
    "    \n",
    "    model = Sequential()\n",
    "\n",
    "    model.add(Dense(neurons1, input_dim = X_train.shape[1], activation = activation_function))\n",
    "    model.add(Dense(neurons2, activation = activation_function))\n",
    "    model.add(Dense(1))\n",
    "    \n",
    "    model.compile(optimizer = 'adam', loss = 'mean_squared_error', metrics = ['accuracy'])\n",
    "    \n",
    "    return model"
   ]
  },
  {
   "cell_type": "code",
   "execution_count": 16,
   "metadata": {},
   "outputs": [
    {
     "name": "stderr",
     "output_type": "stream",
     "text": [
      "C:\\Users\\xx\\AppData\\Local\\Temp\\ipykernel_15776\\2348818482.py:1: DeprecationWarning: KerasClassifier is deprecated, use Sci-Keras (https://github.com/adriangb/scikeras) instead. See https://www.adriangb.com/scikeras/stable/migration.html for help migrating.\n",
      "  model_for_grid = KerasClassifier(build_fn = create_model, epochs = 20, verbose = 0)\n"
     ]
    },
    {
     "name": "stdout",
     "output_type": "stream",
     "text": [
      "Melhores parâmetros: {'optimizer': 'adam'}\n"
     ]
    }
   ],
   "source": [
    "model_for_grid = KerasClassifier(build_fn = create_model, epochs = 20, verbose = 0)\n",
    "\n",
    "\n",
    "param_grid = {\n",
    "    'optimizer': ['adam', 'sgd', 'rmsprop']\n",
    "}\n",
    "\n",
    "grid = GridSearchCV(estimator = model_for_grid, param_grid = param_grid, cv = 3)\n",
    "\n",
    "grid_result = grid.fit(X_train, y_train)\n",
    "\n",
    "print(f'Melhores parâmetros: {grid_result.best_params_}')"
   ]
  },
  {
   "cell_type": "markdown",
   "metadata": {},
   "source": [
    "4. Batch Size e Epochs:\n",
    "\n",
    "• Determine o melhor batch_size e número de epochs usando o GridSearchCV.\n",
    "Teste para batch_size em [32, 64, 128] e epochs em [10, 20, 30]."
   ]
  },
  {
   "cell_type": "code",
   "execution_count": 17,
   "metadata": {},
   "outputs": [],
   "source": [
    "def create_model(neurons1 = 32, neurons2 = 32, activation_function = 'relu', optimizer = 'adam'):\n",
    "    \n",
    "    model = Sequential()\n",
    "\n",
    "    model.add(Dense(neurons1, input_dim = X_train.shape[1], activation = activation_function))\n",
    "    model.add(Dense(neurons2, activation = activation_function))\n",
    "    model.add(Dense(1))\n",
    "    \n",
    "    model.compile(optimizer = 'adam', loss = 'mean_squared_error', metrics = ['accuracy'])\n",
    "    \n",
    "    return model"
   ]
  },
  {
   "cell_type": "code",
   "execution_count": 18,
   "metadata": {},
   "outputs": [
    {
     "name": "stderr",
     "output_type": "stream",
     "text": [
      "C:\\Users\\xx\\AppData\\Local\\Temp\\ipykernel_15776\\2554534723.py:1: DeprecationWarning: KerasClassifier is deprecated, use Sci-Keras (https://github.com/adriangb/scikeras) instead. See https://www.adriangb.com/scikeras/stable/migration.html for help migrating.\n",
      "  model_for_grid = KerasClassifier(build_fn = create_model, epochs = 20, batch_size = 32, verbose = 0)\n"
     ]
    },
    {
     "name": "stdout",
     "output_type": "stream",
     "text": [
      "Melhores parâmetros: {'batch_size': 32, 'epochs': 30}\n"
     ]
    }
   ],
   "source": [
    "model_for_grid = KerasClassifier(build_fn = create_model, epochs = 20, batch_size = 32, verbose = 0)\n",
    "\n",
    "\n",
    "param_grid = {\n",
    "    'batch_size': [32, 64, 128],\n",
    "    'epochs': [10, 20, 30]\n",
    "}\n",
    "\n",
    "grid = GridSearchCV(estimator = model_for_grid, param_grid = param_grid, cv = 3)\n",
    "\n",
    "grid_result = grid.fit(X_train, y_train)\n",
    "\n",
    "print(f'Melhores parâmetros: {grid_result.best_params_}')"
   ]
  },
  {
   "cell_type": "markdown",
   "metadata": {},
   "source": [
    "5. Regularização:\n",
    "\n",
    "• Use o GridSearchCV para encontrar o melhor valor para a regularização L2 (use\n",
    "keras.regularizers.l2) para uma camada oculta. Teste valores como [0.01, 0.001,\n",
    "0.0001]."
   ]
  },
  {
   "cell_type": "code",
   "execution_count": 19,
   "metadata": {},
   "outputs": [],
   "source": [
    "from keras.regularizers import l2\n",
    "\n",
    "def create_model(neurons1 = 32, neurons2 = 32, activation_function = 'relu', optimizer = 'adam', reg = 0.01):\n",
    "    \n",
    "    model = Sequential()\n",
    "\n",
    "    model.add(Dense(neurons1, input_dim = X_train.shape[1], activation = activation_function))\n",
    "    model.add(Dense(neurons2, activation = activation_function, activity_regularizer = l2(reg)))\n",
    "    model.add(Dense(1))\n",
    "    \n",
    "    model.compile(optimizer = 'adam', loss = 'mean_squared_error', metrics = ['accuracy'])\n",
    "    \n",
    "    return model"
   ]
  },
  {
   "cell_type": "code",
   "execution_count": 20,
   "metadata": {},
   "outputs": [
    {
     "name": "stderr",
     "output_type": "stream",
     "text": [
      "C:\\Users\\xx\\AppData\\Local\\Temp\\ipykernel_15776\\1185696515.py:1: DeprecationWarning: KerasClassifier is deprecated, use Sci-Keras (https://github.com/adriangb/scikeras) instead. See https://www.adriangb.com/scikeras/stable/migration.html for help migrating.\n",
      "  model_for_grid = KerasClassifier(build_fn = create_model, epochs = 20, batch_size = 32, verbose = 0, reg = 0.01)\n"
     ]
    },
    {
     "name": "stdout",
     "output_type": "stream",
     "text": [
      "Melhores parâmetros: {'reg': 0.01}\n"
     ]
    }
   ],
   "source": [
    "model_for_grid = KerasClassifier(build_fn = create_model, epochs = 20, batch_size = 32, verbose = 0, reg = 0.01)\n",
    "\n",
    "\n",
    "param_grid = {\n",
    "    'reg': [0.01, 0.001, 0.0001]\n",
    "}\n",
    "\n",
    "grid = GridSearchCV(estimator = model_for_grid, param_grid = param_grid, cv = 3)\n",
    "\n",
    "grid_result = grid.fit(X_train, y_train)\n",
    "\n",
    "print(f'Melhores parâmetros: {grid_result.best_params_}')"
   ]
  },
  {
   "cell_type": "markdown",
   "metadata": {},
   "source": [
    "# RandomizedSearch"
   ]
  },
  {
   "cell_type": "markdown",
   "metadata": {},
   "source": [
    "6. Função de Ativação Aleatória:\n",
    "\n",
    "• Semelhante ao exercício 1, mas agora usando RandomizedSearchCV para\n",
    "selecionar aleatoriamente a melhor função de ativação."
   ]
  },
  {
   "cell_type": "code",
   "execution_count": 21,
   "metadata": {},
   "outputs": [],
   "source": [
    "def create_model(neurons1 = 32, neurons2 = 32, activation_function = 'relu', optimizer = 'adam', reg = 0.01):\n",
    "    \n",
    "    model = Sequential()\n",
    "\n",
    "    model.add(Dense(neurons1, input_dim = X_train.shape[1], activation = activation_function))\n",
    "    model.add(Dense(neurons2, activation = activation_function, activity_regularizer = l2(reg)))\n",
    "    model.add(Dense(1))\n",
    "    \n",
    "    model.compile(optimizer = 'adam', loss = 'mean_squared_error', metrics = ['accuracy'])\n",
    "    \n",
    "    return model"
   ]
  },
  {
   "cell_type": "code",
   "execution_count": 22,
   "metadata": {},
   "outputs": [
    {
     "name": "stderr",
     "output_type": "stream",
     "text": [
      "C:\\Users\\xx\\AppData\\Local\\Temp\\ipykernel_15776\\12346106.py:3: DeprecationWarning: KerasClassifier is deprecated, use Sci-Keras (https://github.com/adriangb/scikeras) instead. See https://www.adriangb.com/scikeras/stable/migration.html for help migrating.\n",
      "  model_for_grid = KerasClassifier(build_fn = create_model, epochs = 20, verbose = 0)\n",
      "c:\\Users\\xx\\AppData\\Local\\Programs\\Python\\Python311\\Lib\\site-packages\\sklearn\\model_selection\\_search.py:305: UserWarning: The total space of parameters 3 is smaller than n_iter=10. Running 3 iterations. For exhaustive searches, use GridSearchCV.\n",
      "  warnings.warn(\n"
     ]
    },
    {
     "name": "stdout",
     "output_type": "stream",
     "text": [
      "Melhores parâmetros usando RandomizedSearchCV: {'activation_function': 'relu'}\n"
     ]
    }
   ],
   "source": [
    "from sklearn.model_selection import RandomizedSearchCV\n",
    "\n",
    "model_for_grid = KerasClassifier(build_fn = create_model, epochs = 20, verbose = 0)\n",
    "\n",
    "param_dist = {\n",
    "    'activation_function': ['relu', 'tanh', 'softmax']\n",
    "}\n",
    "\n",
    "random_search = RandomizedSearchCV(estimator = model_for_grid, param_distributions = param_dist, n_iter = 10, cv=3)\n",
    "\n",
    "random_result = random_search.fit(X_train, y_train)\n",
    "\n",
    "print(f\"Melhores parâmetros usando RandomizedSearchCV: {random_result.best_params_}\")"
   ]
  },
  {
   "cell_type": "markdown",
   "metadata": {},
   "source": [
    "7. Arquitetura Aleatória:\n",
    "\n",
    "• Use o RandomizedSearchCV para encontrar uma combinação ótima de neurônios\n",
    "em três camadas ocultas. Permita que qualquer valor entre 10 e 150 neurônios\n",
    "seja testado para cada camada."
   ]
  },
  {
   "cell_type": "code",
   "execution_count": 23,
   "metadata": {},
   "outputs": [],
   "source": [
    "def create_model(neurons1 = 32, neurons2 = 32, neurons3 = 32, activation_function = 'relu', optimizer = 'adam', reg = 0.01):\n",
    "    \n",
    "    model = Sequential()\n",
    "\n",
    "    model.add(Dense(neurons1, input_dim = X_train.shape[1], activation = activation_function))\n",
    "    model.add(Dense(neurons2, activation = activation_function, activity_regularizer = l2(reg)))\n",
    "    model.add(Dense(neurons3, activation = activation_function, activity_regularizer = l2(reg)))\n",
    "    model.add(Dense(1))\n",
    "    \n",
    "    model.compile(optimizer = 'adam', loss = 'mean_squared_error', metrics = ['accuracy'])\n",
    "    \n",
    "    return model"
   ]
  },
  {
   "cell_type": "code",
   "execution_count": 24,
   "metadata": {},
   "outputs": [
    {
     "name": "stderr",
     "output_type": "stream",
     "text": [
      "C:\\Users\\xx\\AppData\\Local\\Temp\\ipykernel_15776\\2647482244.py:1: DeprecationWarning: KerasClassifier is deprecated, use Sci-Keras (https://github.com/adriangb/scikeras) instead. See https://www.adriangb.com/scikeras/stable/migration.html for help migrating.\n",
      "  model_for_grid = KerasClassifier(build_fn = create_model, epochs = 20, verbose = 0)\n"
     ]
    },
    {
     "name": "stdout",
     "output_type": "stream",
     "text": [
      "Melhores parâmetros: {'neurons3': 10, 'neurons2': 50, 'neurons1': 150}\n"
     ]
    }
   ],
   "source": [
    "model_for_grid = KerasClassifier(build_fn = create_model, epochs = 20, verbose = 0)\n",
    "\n",
    "param_dist = {\n",
    "    'neurons1': [10, 50, 150],\n",
    "    'neurons2': [10, 50, 150],\n",
    "    'neurons3': [10, 50, 150]\n",
    "}\n",
    "\n",
    "random_search = RandomizedSearchCV(estimator = model_for_grid, param_distributions = param_dist, n_iter = 10, cv = 3)\n",
    "\n",
    "random_result = random_search.fit(X_train, y_train)\n",
    "\n",
    "print(f'Melhores parâmetros: {random_result.best_params_}')"
   ]
  },
  {
   "cell_type": "markdown",
   "metadata": {},
   "source": [
    "8. Otimizador Aleatório:\n",
    "\n",
    "• Similar ao exercício 3, mas agora usando RandomizedSearchCV."
   ]
  },
  {
   "cell_type": "code",
   "execution_count": 25,
   "metadata": {},
   "outputs": [],
   "source": [
    "def create_model(neurons1 = 150, neurons2 = 150, neurons3 = 10, activation_function = 'relu', optimizer = 'adam', reg = 0.01):\n",
    "    \n",
    "    model = Sequential()\n",
    "\n",
    "    model.add(Dense(neurons1, input_dim = X_train.shape[1], activation = activation_function))\n",
    "    model.add(Dense(neurons2, activation = activation_function, activity_regularizer = l2(reg)))\n",
    "    model.add(Dense(neurons3, activation = activation_function, activity_regularizer = l2(reg)))\n",
    "    model.add(Dense(1))\n",
    "    \n",
    "    model.compile(optimizer = 'adam', loss = 'mean_squared_error', metrics = ['accuracy'])\n",
    "    \n",
    "    return model"
   ]
  },
  {
   "cell_type": "code",
   "execution_count": 26,
   "metadata": {},
   "outputs": [
    {
     "name": "stderr",
     "output_type": "stream",
     "text": [
      "C:\\Users\\xx\\AppData\\Local\\Temp\\ipykernel_15776\\1865325406.py:1: DeprecationWarning: KerasClassifier is deprecated, use Sci-Keras (https://github.com/adriangb/scikeras) instead. See https://www.adriangb.com/scikeras/stable/migration.html for help migrating.\n",
      "  model_for_grid = KerasClassifier(build_fn = create_model, epochs = 20, verbose = 0)\n"
     ]
    },
    {
     "name": "stdout",
     "output_type": "stream",
     "text": [
      "Melhores parâmetros: {'optimizer': 'sgd'}\n"
     ]
    }
   ],
   "source": [
    "model_for_grid = KerasClassifier(build_fn = create_model, epochs = 20, verbose = 0)\n",
    "\n",
    "param_dist = {\n",
    "    'optimizer': ['adam', 'sgd', 'rmsprop']\n",
    "}\n",
    "\n",
    "random_search = RandomizedSearchCV(estimator = model_for_grid, param_distributions = param_dist, n_iter = 10, cv = 3)\n",
    "\n",
    "random_result = random_search.fit(X_train, y_train)\n",
    "\n",
    "print(f'Melhores parâmetros: {random_result.best_params_}')"
   ]
  },
  {
   "cell_type": "markdown",
   "metadata": {},
   "source": [
    "9. Iniciação de Pesos:\n",
    "\n",
    "• Use o RandomizedSearchCV para testar diferentes inicializações de peso\n",
    "['uniform', 'normal', 'zero'] em sua camada oculta."
   ]
  },
  {
   "cell_type": "code",
   "execution_count": 27,
   "metadata": {},
   "outputs": [],
   "source": [
    "def create_model(neurons1 = 10, neurons2 = 50, neurons3 = 50, activation_function = 'relu', optimizer = 'adam', reg = 0.01, kernel_initializer = 'uniform'):\n",
    "    \n",
    "    model = Sequential()\n",
    "\n",
    "    model.add(Dense(neurons1, input_dim = X_train.shape[1], activation = activation_function, kernel_initializer = 'uniform'))\n",
    "    model.add(Dense(1))\n",
    "    \n",
    "    model.compile(optimizer = 'adam', loss = 'mean_squared_error', metrics = ['accuracy'])\n",
    "    \n",
    "    return model"
   ]
  },
  {
   "cell_type": "code",
   "execution_count": 28,
   "metadata": {},
   "outputs": [
    {
     "name": "stderr",
     "output_type": "stream",
     "text": [
      "C:\\Users\\xx\\AppData\\Local\\Temp\\ipykernel_15776\\2227252951.py:1: DeprecationWarning: KerasClassifier is deprecated, use Sci-Keras (https://github.com/adriangb/scikeras) instead. See https://www.adriangb.com/scikeras/stable/migration.html for help migrating.\n",
      "  model_for_grid = KerasClassifier(build_fn = create_model, epochs = 20, verbose = 0)\n"
     ]
    },
    {
     "name": "stdout",
     "output_type": "stream",
     "text": [
      "Melhores parâmetros: {'kernel_initializer': 'uniform'}\n"
     ]
    }
   ],
   "source": [
    "model_for_grid = KerasClassifier(build_fn = create_model, epochs = 20, verbose = 0)\n",
    "\n",
    "param_dist = {\n",
    "    'kernel_initializer': ['uniform', 'normal', 'zero']\n",
    "}\n",
    "\n",
    "random_search = RandomizedSearchCV(estimator = model_for_grid, param_distributions = param_dist, n_iter = 10, cv = 3)\n",
    "\n",
    "random_result = random_search.fit(X_train, y_train)\n",
    "\n",
    "print(f'Melhores parâmetros: {random_result.best_params_}')"
   ]
  },
  {
   "cell_type": "markdown",
   "metadata": {},
   "source": [
    "10. Taxa de Aprendizado:\n",
    "\n",
    "• Se usar o otimizador 'adam', teste diferentes taxas de aprendizado entre 0.001 e 0.1\n",
    "usando RandomizedSearchCV."
   ]
  },
  {
   "cell_type": "code",
   "execution_count": 29,
   "metadata": {},
   "outputs": [],
   "source": [
    "def create_model(neurons1 = 10, neurons2 = 50, neurons3 = 50, activation_function = 'relu', optimizer = 'adam', reg = 0.01, kernel_initializer = 'uniform', learning_rate = 0.001):\n",
    "    \n",
    "    model = Sequential()\n",
    "\n",
    "    model.add(Dense(neurons1, input_dim = X_train.shape[1], activation = activation_function, kernel_initializer = 'uniform'))\n",
    "    model.add(Dense(1))\n",
    "    \n",
    "    model.compile(optimizer = 'sgd', loss = 'mean_squared_error', metrics = ['accuracy'])\n",
    "    \n",
    "    return model"
   ]
  },
  {
   "cell_type": "code",
   "execution_count": 30,
   "metadata": {},
   "outputs": [
    {
     "name": "stderr",
     "output_type": "stream",
     "text": [
      "C:\\Users\\xx\\AppData\\Local\\Temp\\ipykernel_15776\\4103602608.py:1: DeprecationWarning: KerasClassifier is deprecated, use Sci-Keras (https://github.com/adriangb/scikeras) instead. See https://www.adriangb.com/scikeras/stable/migration.html for help migrating.\n",
      "  model_for_grid = KerasClassifier(build_fn = create_model, epochs = 20, verbose = 0, learning_rate = 0.001)\n"
     ]
    },
    {
     "name": "stdout",
     "output_type": "stream",
     "text": [
      "Melhores parâmetros: {'learning_rate': 0.001}\n"
     ]
    }
   ],
   "source": [
    "model_for_grid = KerasClassifier(build_fn = create_model, epochs = 20, verbose = 0, learning_rate = 0.001)\n",
    "\n",
    "param_dist = {\n",
    "    'learning_rate': [0.001, 0.01, 0.1]\n",
    "}\n",
    "\n",
    "random_search = RandomizedSearchCV(estimator = model_for_grid, param_distributions = param_dist, n_iter = 10, cv = 3)\n",
    "\n",
    "random_result = random_search.fit(X_train, y_train)\n",
    "\n",
    "print(f'Melhores parâmetros: {random_result.best_params_}')"
   ]
  },
  {
   "cell_type": "markdown",
   "metadata": {},
   "source": [
    "# Otimização Bayesiana"
   ]
  },
  {
   "cell_type": "markdown",
   "metadata": {},
   "source": [
    "11. Função de Ativação Bayesiana:\n",
    "\n",
    "• Implemente uma função objetivo para otimizar a função de ativação da camada oculta e\n",
    "use a Otimização Bayesiana para encontrar a melhor."
   ]
  },
  {
   "cell_type": "code",
   "execution_count": 31,
   "metadata": {},
   "outputs": [],
   "source": [
    "def objective_function(neurons1 = 32, neurons2 = 32, activation_index = 0):\n",
    "\n",
    "    activation_functions = ['relu', 'tanh', 'sigmoid']\n",
    "    activation_function = activation_functions[int(activation_index)]\n",
    "    \n",
    "    model = create_model(int(neurons1), int(neurons2), activation_function)\n",
    "    \n",
    "    history = model.fit(X_train, y_train, epochs=20, verbose=0, validation_split=0.2)\n",
    "    \n",
    "    val_accuracy = history.history['val_accuracy'][-1]\n",
    "    \n",
    "    return val_accuracy"
   ]
  },
  {
   "cell_type": "code",
   "execution_count": 36,
   "metadata": {},
   "outputs": [
    {
     "name": "stdout",
     "output_type": "stream",
     "text": [
      "|   iter    |  target   | activa... |\n",
      "-------------------------------------\n",
      "| \u001b[0m1        \u001b[0m | \u001b[0m0.0007143\u001b[0m | \u001b[0m0.834    \u001b[0m |\n",
      "| \u001b[0m2        \u001b[0m | \u001b[0m0.0007143\u001b[0m | \u001b[0m1.441    \u001b[0m |\n",
      "| \u001b[0m3        \u001b[0m | \u001b[0m0.0007143\u001b[0m | \u001b[0m0.0002287\u001b[0m |\n",
      "| \u001b[0m4        \u001b[0m | \u001b[0m0.0007143\u001b[0m | \u001b[0m0.6047   \u001b[0m |\n",
      "| \u001b[0m5        \u001b[0m | \u001b[0m0.0007143\u001b[0m | \u001b[0m0.2935   \u001b[0m |\n",
      "| \u001b[0m6        \u001b[0m | \u001b[0m0.0007143\u001b[0m | \u001b[0m2.0      \u001b[0m |\n",
      "| \u001b[0m7        \u001b[0m | \u001b[0m0.0007143\u001b[0m | \u001b[0m2.0      \u001b[0m |\n",
      "| \u001b[0m8        \u001b[0m | \u001b[0m0.0007143\u001b[0m | \u001b[0m0.0002837\u001b[0m |\n",
      "| \u001b[0m9        \u001b[0m | \u001b[0m0.0007143\u001b[0m | \u001b[0m2.0      \u001b[0m |\n",
      "| \u001b[0m10       \u001b[0m | \u001b[0m0.0007143\u001b[0m | \u001b[0m2.074e-05\u001b[0m |\n",
      "| \u001b[0m11       \u001b[0m | \u001b[0m0.0007143\u001b[0m | \u001b[0m2.0      \u001b[0m |\n",
      "| \u001b[0m12       \u001b[0m | \u001b[0m0.0007143\u001b[0m | \u001b[0m4.594e-05\u001b[0m |\n",
      "| \u001b[0m13       \u001b[0m | \u001b[0m0.0007143\u001b[0m | \u001b[0m2.0      \u001b[0m |\n",
      "| \u001b[0m14       \u001b[0m | \u001b[0m0.0007143\u001b[0m | \u001b[0m0.0003029\u001b[0m |\n",
      "| \u001b[0m15       \u001b[0m | \u001b[0m0.0007143\u001b[0m | \u001b[0m1.999    \u001b[0m |\n",
      "=====================================\n",
      "Melhores parâmetros usando otimização bayesiana: {'activation_index': 0.834044009405148}\n"
     ]
    }
   ],
   "source": [
    "from bayes_opt import BayesianOptimization\n",
    "\n",
    "pbounds = {\n",
    "    'activation_index': (0, 2)\n",
    "}\n",
    "\n",
    "optimizer = BayesianOptimization(\n",
    "    f = objective_function,\n",
    "    pbounds = pbounds,\n",
    "    random_state = 1\n",
    ")\n",
    "\n",
    "optimizer.maximize(init_points = 5, n_iter = 10)\n",
    "\n",
    "print(f\"Melhores parâmetros usando otimização bayesiana: {optimizer.max['params']}\")"
   ]
  },
  {
   "cell_type": "markdown",
   "metadata": {},
   "source": [
    "12. Otimização da Arquitetura:\n",
    "\n",
    "• Use a Otimização Bayesiana para encontrar a melhor combinação de neurônios em duas\n",
    "camadas ocultas. Defina os limites entre 10 e 150 neurônios."
   ]
  },
  {
   "cell_type": "code",
   "execution_count": 37,
   "metadata": {},
   "outputs": [],
   "source": [
    "def objective_function(neurons1 = 32, neurons2 = 32, activation_function = 'tanh'):\n",
    "\n",
    "    activation_function = activation_function\n",
    "    \n",
    "    model = create_model(int(neurons1), int(neurons2), activation_function)\n",
    "    \n",
    "    history = model.fit(X_train, y_train, epochs=20, verbose=0, validation_split=0.2)\n",
    "    \n",
    "    val_accuracy = history.history['val_accuracy'][-1]\n",
    "    \n",
    "    return val_accuracy"
   ]
  },
  {
   "cell_type": "code",
   "execution_count": 38,
   "metadata": {},
   "outputs": [
    {
     "name": "stdout",
     "output_type": "stream",
     "text": [
      "|   iter    |  target   | neurons1  | neurons2  |\n",
      "-------------------------------------------------\n",
      "| \u001b[0m1        \u001b[0m | \u001b[0m0.0007143\u001b[0m | \u001b[0m68.38    \u001b[0m | \u001b[0m110.8    \u001b[0m |\n",
      "| \u001b[0m2        \u001b[0m | \u001b[0m0.0007143\u001b[0m | \u001b[0m10.02    \u001b[0m | \u001b[0m52.33    \u001b[0m |\n",
      "| \u001b[0m3        \u001b[0m | \u001b[0m0.0007143\u001b[0m | \u001b[0m30.55    \u001b[0m | \u001b[0m22.93    \u001b[0m |\n",
      "| \u001b[0m4        \u001b[0m | \u001b[0m0.0007143\u001b[0m | \u001b[0m36.08    \u001b[0m | \u001b[0m58.38    \u001b[0m |\n",
      "| \u001b[0m5        \u001b[0m | \u001b[0m0.0007143\u001b[0m | \u001b[0m65.55    \u001b[0m | \u001b[0m85.43    \u001b[0m |\n",
      "| \u001b[0m6        \u001b[0m | \u001b[0m0.0007143\u001b[0m | \u001b[0m149.7    \u001b[0m | \u001b[0m13.5     \u001b[0m |\n",
      "| \u001b[0m7        \u001b[0m | \u001b[0m0.0007143\u001b[0m | \u001b[0m148.8    \u001b[0m | \u001b[0m149.9    \u001b[0m |\n",
      "| \u001b[0m8        \u001b[0m | \u001b[0m0.0007143\u001b[0m | \u001b[0m10.78    \u001b[0m | \u001b[0m149.0    \u001b[0m |\n",
      "| \u001b[0m9        \u001b[0m | \u001b[0m0.0007143\u001b[0m | \u001b[0m149.6    \u001b[0m | \u001b[0m10.57    \u001b[0m |\n",
      "| \u001b[0m10       \u001b[0m | \u001b[0m0.0007143\u001b[0m | \u001b[0m148.9    \u001b[0m | \u001b[0m150.0    \u001b[0m |\n",
      "| \u001b[0m11       \u001b[0m | \u001b[0m0.0007143\u001b[0m | \u001b[0m10.64    \u001b[0m | \u001b[0m147.9    \u001b[0m |\n",
      "| \u001b[0m12       \u001b[0m | \u001b[0m0.0007143\u001b[0m | \u001b[0m11.02    \u001b[0m | \u001b[0m11.0     \u001b[0m |\n",
      "| \u001b[0m13       \u001b[0m | \u001b[0m0.0007143\u001b[0m | \u001b[0m149.8    \u001b[0m | \u001b[0m11.5     \u001b[0m |\n",
      "| \u001b[0m14       \u001b[0m | \u001b[0m0.0007143\u001b[0m | \u001b[0m146.8    \u001b[0m | \u001b[0m149.8    \u001b[0m |\n",
      "| \u001b[0m15       \u001b[0m | \u001b[0m0.0007143\u001b[0m | \u001b[0m11.44    \u001b[0m | \u001b[0m149.5    \u001b[0m |\n",
      "=================================================\n",
      "Melhores parâmetros usando otimização bayesiana: {'neurons1': 68.38308065836037, 'neurons2': 110.84542908190214}\n"
     ]
    }
   ],
   "source": [
    "pbounds = {\n",
    "    'neurons1': (10, 150),\n",
    "    'neurons2': (10, 150),\n",
    "}\n",
    "\n",
    "optimizer = BayesianOptimization(\n",
    "    f = objective_function,\n",
    "    pbounds = pbounds,\n",
    "    random_state = 1\n",
    ")\n",
    "\n",
    "optimizer.maximize(init_points = 5, n_iter = 10)\n",
    "\n",
    "print(f\"Melhores parâmetros usando otimização bayesiana: {optimizer.max['params']}\")"
   ]
  },
  {
   "cell_type": "markdown",
   "metadata": {},
   "source": [
    "13. Otimizador Bayesiano:\n",
    "\n",
    "• Determine o melhor otimizador, transformando seus índices em um espaço contínuo e\n",
    "usando Otimização Bayesiana."
   ]
  },
  {
   "cell_type": "code",
   "execution_count": null,
   "metadata": {},
   "outputs": [],
   "source": [
    "def objective_function(neurons1 = 68, neurons2 = 110, activation_function = 'tanh'):\n",
    "\n",
    "    activation_function = activation_function\n",
    "    \n",
    "    model = create_model(int(neurons1), int(neurons2), activation_function)\n",
    "    \n",
    "    history = model.fit(X_train, y_train, epochs=20, verbose=0, validation_split=0.2)\n",
    "    \n",
    "    val_accuracy = history.history['val_accuracy'][-1]\n",
    "    \n",
    "    return val_accuracy"
   ]
  },
  {
   "cell_type": "markdown",
   "metadata": {},
   "source": [
    "14. Dropout:\n",
    "\n",
    "• Use a Otimização Bayesiana para encontrar a melhor taxa de dropout após cada camada\n",
    "oculta. Teste valores entre 0 e 0.5."
   ]
  },
  {
   "cell_type": "code",
   "execution_count": null,
   "metadata": {},
   "outputs": [],
   "source": []
  },
  {
   "cell_type": "markdown",
   "metadata": {},
   "source": [
    "15. Taxa de Aprendizado Bayesiana:\n",
    "\n",
    "• Optimize a taxa de aprendizado do otimizador 'adam' usando Otimização Bayesiana. Teste\n",
    "valores entre 0.0001 e 0.1"
   ]
  },
  {
   "cell_type": "code",
   "execution_count": null,
   "metadata": {},
   "outputs": [],
   "source": []
  },
  {
   "cell_type": "code",
   "execution_count": null,
   "metadata": {},
   "outputs": [],
   "source": []
  }
 ],
 "metadata": {
  "kernelspec": {
   "display_name": "tf",
   "language": "python",
   "name": "python3"
  },
  "language_info": {
   "codemirror_mode": {
    "name": "ipython",
    "version": 3
   },
   "file_extension": ".py",
   "mimetype": "text/x-python",
   "name": "python",
   "nbconvert_exporter": "python",
   "pygments_lexer": "ipython3",
   "version": "3.11.3"
  },
  "orig_nbformat": 4
 },
 "nbformat": 4,
 "nbformat_minor": 2
}
