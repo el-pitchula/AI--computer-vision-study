{
 "cells": [
  {
   "attachments": {},
   "cell_type": "markdown",
   "metadata": {},
   "source": [
    "# Introdução à Otimização de Hiperparâmetros"
   ]
  },
  {
   "attachments": {},
   "cell_type": "markdown",
   "metadata": {},
   "source": [
    "## Modelos em Aprendizado de Máquina\n",
    "No mundo do aprendizado de máquina, um modelo é uma representação de um sistema. Ele é treinado usando um conjunto de dados e, com base nesse treinamento, faz previsões ou toma decisões sem ser explicitamente programado para realizar uma determinada tarefa."
   ]
  },
  {
   "cell_type": "code",
   "execution_count": 1,
   "metadata": {},
   "outputs": [],
   "source": [
    "from sklearn.linear_model import LogisticRegression\n",
    "\n",
    "# Criando um modelo de Regressão Logística\n",
    "modelo = LogisticRegression()"
   ]
  },
  {
   "attachments": {},
   "cell_type": "markdown",
   "metadata": {},
   "source": [
    "## Parâmetros vs Hiperparâmetros em Aprendizado de Máquina\n",
    "Em aprendizado de máquina, o processo de treinamento envolve ajustar os parâmetros do modelo para melhor se adequar aos dados. \n",
    "\n",
    "Em contraste, os hiperparâmetros são configurações que influenciam como esse treinamento é realizado."
   ]
  },
  {
   "attachments": {},
   "cell_type": "markdown",
   "metadata": {},
   "source": [
    "### Parâmetros:\n",
    "O que são? São componentes do modelo que são aprendidos diretamente dos dados durante o treinamento.\n",
    "\n",
    "Exemplo: Nos modelos de redes neurais, os parâmetros são os pesos e biases (viés, um termo que adiciona um valor constante para ajudar o modelo a melhor se ajustar aos dados) que são ajustados através do treinamento."
   ]
  },
  {
   "cell_type": "code",
   "execution_count": 2,
   "metadata": {},
   "outputs": [],
   "source": [
    "# Carregando dataset do sklearn\n",
    "from sklearn.datasets import load_digits\n",
    "from sklearn.model_selection import train_test_split\n",
    "from keras.models import Sequential\n",
    "from keras.layers import Dense\n",
    "import numpy as np\n",
    "\n",
    "# Carregando o dataset de dígitos\n",
    "data = load_digits()\n",
    "X = data.data\n",
    "y = data.target"
   ]
  },
  {
   "cell_type": "code",
   "execution_count": 3,
   "metadata": {},
   "outputs": [
    {
     "data": {
      "text/plain": [
       "(1797, 64)"
      ]
     },
     "execution_count": 3,
     "metadata": {},
     "output_type": "execute_result"
    }
   ],
   "source": [
    "X.shape"
   ]
  },
  {
   "cell_type": "code",
   "execution_count": 4,
   "metadata": {},
   "outputs": [
    {
     "data": {
      "text/plain": [
       "(1797,)"
      ]
     },
     "execution_count": 4,
     "metadata": {},
     "output_type": "execute_result"
    }
   ],
   "source": [
    "y.shape"
   ]
  },
  {
   "cell_type": "code",
   "execution_count": 5,
   "metadata": {},
   "outputs": [
    {
     "data": {
      "text/plain": [
       "array([0, 1, 2, 3, 4, 5, 6, 7, 8, 9])"
      ]
     },
     "execution_count": 5,
     "metadata": {},
     "output_type": "execute_result"
    }
   ],
   "source": [
    "np.unique(y)"
   ]
  },
  {
   "cell_type": "code",
   "execution_count": 6,
   "metadata": {},
   "outputs": [
    {
     "data": {
      "text/plain": [
       "<keras.callbacks.History at 0x24df544c710>"
      ]
     },
     "execution_count": 6,
     "metadata": {},
     "output_type": "execute_result"
    }
   ],
   "source": [
    "# Dividindo em conjuntos de treinamento e teste\n",
    "X_train, X_test, y_train, y_test = train_test_split(X, y, test_size=0.2, random_state=42)\n",
    "\n",
    "# Criando uma rede neural simples\n",
    "model = Sequential()\n",
    "model.add(Dense(4, input_dim=X_train.shape[1], activation='relu'))\n",
    "model.add(Dense(2, activation='relu'))\n",
    "model.add(Dense(64, activation='relu'))\n",
    "model.add(Dense(10, activation='softmax'))\n",
    "\n",
    "# Compilando e treinando o modelo\n",
    "model.compile(loss='sparse_categorical_crossentropy', optimizer='adam', metrics=['accuracy'])\n",
    "model.fit(X_train, y_train, epochs=10, batch_size=32, verbose=0)"
   ]
  },
  {
   "cell_type": "code",
   "execution_count": 7,
   "metadata": {},
   "outputs": [
    {
     "name": "stdout",
     "output_type": "stream",
     "text": [
      "Pesos da primeira camada:\n",
      " [[-0.2535444  -0.04623386  0.01215166  0.29440182]\n",
      " [ 0.12290097  0.06513654 -0.26723135 -0.20283808]\n",
      " [ 0.11979746 -0.01123221 -0.12942833 -0.01233459]\n",
      " [ 0.14949992  0.01532787 -0.02331615  0.05312857]\n",
      " [ 0.24269274 -0.05200991  0.15702772  0.1794287 ]\n",
      " [-0.1026861  -0.17656352  0.13874313 -0.09226205]\n",
      " [ 0.3376791  -0.07988566 -0.28726497 -0.11267642]\n",
      " [-0.03825092  0.22703423 -0.2635277   0.13942732]\n",
      " [-0.10033379  0.25627878 -0.17542839 -0.15350379]\n",
      " [-0.01926526 -0.04552732  0.05219663  0.05537149]\n",
      " [-0.03725427  0.25403902 -0.08737604 -0.06922361]\n",
      " [ 0.14042935  0.24604656 -0.24879183  0.10354564]\n",
      " [ 0.05186903  0.19693951 -0.24427955 -0.22938207]\n",
      " [-0.2521625  -0.1155393   0.05386365 -0.37129956]\n",
      " [-0.0644973   0.06716815  0.22679843  0.04293518]\n",
      " [ 0.1962131  -0.10105222 -0.23267733  0.16002305]\n",
      " [-0.11378416 -0.02797075 -0.28974319  0.05190909]\n",
      " [-0.02648725  0.32177967 -0.1141635   0.14565943]\n",
      " [ 0.14379053  0.08383188 -0.15870011  0.26335722]\n",
      " [-0.17438635  0.05139332 -0.23393539  0.27305013]\n",
      " [-0.15968439  0.16991574 -0.2888183   0.06659023]\n",
      " [-0.09623512  0.20054123 -0.22551537 -0.34471554]\n",
      " [ 0.01547311 -0.02292315  0.0157953  -0.00875328]\n",
      " [ 0.22609153  0.19297138  0.03633526 -0.01677721]\n",
      " [ 0.0255282  -0.38498694  0.26496089  0.04952871]\n",
      " [ 0.24965633  0.12009714 -0.26833725  0.18617475]\n",
      " [ 0.1067114  -0.30497178  0.04059723  0.09938969]\n",
      " [ 0.00898179 -0.19560204 -0.01606433  0.26630035]\n",
      " [-0.07776433 -0.2132584  -0.21024829 -0.1302068 ]\n",
      " [ 0.2144038   0.14873977 -0.13067012  0.12593986]\n",
      " [ 0.35011947  0.2919692   0.02122722  0.06919696]\n",
      " [ 0.00987343  0.10621639 -0.13396788  0.31830505]\n",
      " [-0.0190953  -0.05241169 -0.08279251 -0.09639706]\n",
      " [ 0.14431067  0.12676854 -0.27131984  0.05159703]\n",
      " [ 0.13668986 -0.08055444 -0.19235384  0.10792072]\n",
      " [-0.2881852  -0.15454161  0.0334082  -0.0889863 ]\n",
      " [ 0.05367227 -0.17185077 -0.154952    0.19803827]\n",
      " [ 0.09853366 -0.23816094 -0.15188745 -0.14814003]\n",
      " [ 0.1619886   0.20525084 -0.17454869 -0.13979436]\n",
      " [-0.0559106   0.1881819   0.0406239  -0.02982557]\n",
      " [ 0.29447284 -0.02062361 -0.16755688  0.1113632 ]\n",
      " [ 0.41414043  0.16051704 -0.282986    0.29302976]\n",
      " [ 0.023515   -0.01594904  0.16134721  0.3477465 ]\n",
      " [ 0.18822818  0.00551882  0.17595902  0.40351152]\n",
      " [ 0.14493372 -0.32067952  0.16776662  0.13431585]\n",
      " [-0.20641764 -0.19297042  0.13959469 -0.18283276]\n",
      " [-0.13881803 -0.30811536 -0.17920019 -0.16060202]\n",
      " [-0.2515845  -0.13580413  0.06799091  0.36402392]\n",
      " [ 0.02298332  0.17441717 -0.16445358  0.3404992 ]\n",
      " [ 0.02149278  0.14326859 -0.26880568 -0.02347006]\n",
      " [-0.30186933  0.24248676  0.10575932 -0.07632583]\n",
      " [ 0.1713264   0.19668074  0.09255322  0.2428384 ]\n",
      " [ 0.2361546   0.05183582  0.02783757  0.081244  ]\n",
      " [ 0.05377901  0.24190024  0.11621722  0.14005421]\n",
      " [-0.3774273   0.13440293 -0.11870916  0.01319342]\n",
      " [-0.02012823 -0.0563684  -0.12515734  0.29155204]\n",
      " [-0.1973742   0.22230919 -0.10213779 -0.30528456]\n",
      " [ 0.0663188   0.15469433 -0.23503539  0.02208444]\n",
      " [ 0.22922489  0.2129747  -0.17760058  0.16504842]\n",
      " [-0.02597473 -0.1212616   0.08424789 -0.20956713]\n",
      " [-0.07604898 -0.2866985   0.05415399  0.04306504]\n",
      " [-0.25672376  0.19414042 -0.1178266  -0.10668958]\n",
      " [ 0.08012354  0.25656772 -0.2652728   0.20994884]\n",
      " [ 0.1454766  -0.07694281  0.29943866 -0.14928783]]\n"
     ]
    }
   ],
   "source": [
    "# Mostrando alguns parâmetros (pesos) da primeira camada\n",
    "weights_first_layer = model.layers[0].get_weights()[0]\n",
    "print(\"Pesos da primeira camada:\\n\", weights_first_layer)"
   ]
  },
  {
   "cell_type": "code",
   "execution_count": 8,
   "metadata": {},
   "outputs": [
    {
     "data": {
      "text/plain": [
       "(64, 4)"
      ]
     },
     "execution_count": 8,
     "metadata": {},
     "output_type": "execute_result"
    }
   ],
   "source": [
    "weights_first_layer.shape"
   ]
  },
  {
   "attachments": {},
   "cell_type": "markdown",
   "metadata": {},
   "source": [
    "### Hiperparâmetros:\n",
    "O que são? São configurações que definem aspectos do treinamento e da estrutura do modelo. Não são aprendidos nos dados, mas são configurados antes do treinamento.\n",
    "\n",
    "Exemplo: Em redes neurais, a taxa de aprendizado, o número de camadas, o número de neurônios em uma camada, e a função de ativação são todos hiperparâmetros."
   ]
  },
  {
   "cell_type": "code",
   "execution_count": 78,
   "metadata": {},
   "outputs": [
    {
     "ename": "InvalidArgumentError",
     "evalue": "Graph execution error:\n\nDetected at node 'sparse_categorical_crossentropy/SparseSoftmaxCrossEntropyWithLogits/SparseSoftmaxCrossEntropyWithLogits' defined at (most recent call last):\n    File \"<frozen runpy>\", line 198, in _run_module_as_main\n    File \"<frozen runpy>\", line 88, in _run_code\n    File \"C:\\Users\\xx\\AppData\\Roaming\\Python\\Python311\\site-packages\\ipykernel_launcher.py\", line 17, in <module>\n      app.launch_new_instance()\n    File \"C:\\Users\\xx\\AppData\\Roaming\\Python\\Python311\\site-packages\\traitlets\\config\\application.py\", line 1043, in launch_instance\n      app.start()\n    File \"C:\\Users\\xx\\AppData\\Roaming\\Python\\Python311\\site-packages\\ipykernel\\kernelapp.py\", line 725, in start\n      self.io_loop.start()\n    File \"C:\\Users\\xx\\AppData\\Roaming\\Python\\Python311\\site-packages\\tornado\\platform\\asyncio.py\", line 195, in start\n      self.asyncio_loop.run_forever()\n    File \"c:\\Users\\xx\\AppData\\Local\\Programs\\Python\\Python311\\Lib\\asyncio\\base_events.py\", line 607, in run_forever\n      self._run_once()\n    File \"c:\\Users\\xx\\AppData\\Local\\Programs\\Python\\Python311\\Lib\\asyncio\\base_events.py\", line 1922, in _run_once\n      handle._run()\n    File \"c:\\Users\\xx\\AppData\\Local\\Programs\\Python\\Python311\\Lib\\asyncio\\events.py\", line 80, in _run\n      self._context.run(self._callback, *self._args)\n    File \"C:\\Users\\xx\\AppData\\Roaming\\Python\\Python311\\site-packages\\ipykernel\\kernelbase.py\", line 513, in dispatch_queue\n      await self.process_one()\n    File \"C:\\Users\\xx\\AppData\\Roaming\\Python\\Python311\\site-packages\\ipykernel\\kernelbase.py\", line 502, in process_one\n      await dispatch(*args)\n    File \"C:\\Users\\xx\\AppData\\Roaming\\Python\\Python311\\site-packages\\ipykernel\\kernelbase.py\", line 409, in dispatch_shell\n      await result\n    File \"C:\\Users\\xx\\AppData\\Roaming\\Python\\Python311\\site-packages\\ipykernel\\kernelbase.py\", line 729, in execute_request\n      reply_content = await reply_content\n    File \"C:\\Users\\xx\\AppData\\Roaming\\Python\\Python311\\site-packages\\ipykernel\\ipkernel.py\", line 422, in do_execute\n      res = shell.run_cell(\n    File \"C:\\Users\\xx\\AppData\\Roaming\\Python\\Python311\\site-packages\\ipykernel\\zmqshell.py\", line 540, in run_cell\n      return super().run_cell(*args, **kwargs)\n    File \"C:\\Users\\xx\\AppData\\Roaming\\Python\\Python311\\site-packages\\IPython\\core\\interactiveshell.py\", line 3009, in run_cell\n      result = self._run_cell(\n    File \"C:\\Users\\xx\\AppData\\Roaming\\Python\\Python311\\site-packages\\IPython\\core\\interactiveshell.py\", line 3064, in _run_cell\n      result = runner(coro)\n    File \"C:\\Users\\xx\\AppData\\Roaming\\Python\\Python311\\site-packages\\IPython\\core\\async_helpers.py\", line 129, in _pseudo_sync_runner\n      coro.send(None)\n    File \"C:\\Users\\xx\\AppData\\Roaming\\Python\\Python311\\site-packages\\IPython\\core\\interactiveshell.py\", line 3269, in run_cell_async\n      has_raised = await self.run_ast_nodes(code_ast.body, cell_name,\n    File \"C:\\Users\\xx\\AppData\\Roaming\\Python\\Python311\\site-packages\\IPython\\core\\interactiveshell.py\", line 3448, in run_ast_nodes\n      if await self.run_code(code, result, async_=asy):\n    File \"C:\\Users\\xx\\AppData\\Roaming\\Python\\Python311\\site-packages\\IPython\\core\\interactiveshell.py\", line 3508, in run_code\n      exec(code_obj, self.user_global_ns, self.user_ns)\n    File \"C:\\Users\\xx\\AppData\\Local\\Temp\\ipykernel_8816\\2311191062.py\", line 19, in <module>\n      model.fit(X_train, y_train, epochs=epochs, batch_size=batch_size, verbose=0)\n    File \"c:\\Users\\xx\\AppData\\Local\\Programs\\Python\\Python311\\Lib\\site-packages\\keras\\utils\\traceback_utils.py\", line 65, in error_handler\n      return fn(*args, **kwargs)\n    File \"c:\\Users\\xx\\AppData\\Local\\Programs\\Python\\Python311\\Lib\\site-packages\\keras\\engine\\training.py\", line 1685, in fit\n      tmp_logs = self.train_function(iterator)\n    File \"c:\\Users\\xx\\AppData\\Local\\Programs\\Python\\Python311\\Lib\\site-packages\\keras\\engine\\training.py\", line 1284, in train_function\n      return step_function(self, iterator)\n    File \"c:\\Users\\xx\\AppData\\Local\\Programs\\Python\\Python311\\Lib\\site-packages\\keras\\engine\\training.py\", line 1268, in step_function\n      outputs = model.distribute_strategy.run(run_step, args=(data,))\n    File \"c:\\Users\\xx\\AppData\\Local\\Programs\\Python\\Python311\\Lib\\site-packages\\keras\\engine\\training.py\", line 1249, in run_step\n      outputs = model.train_step(data)\n    File \"c:\\Users\\xx\\AppData\\Local\\Programs\\Python\\Python311\\Lib\\site-packages\\keras\\engine\\training.py\", line 1051, in train_step\n      loss = self.compute_loss(x, y, y_pred, sample_weight)\n    File \"c:\\Users\\xx\\AppData\\Local\\Programs\\Python\\Python311\\Lib\\site-packages\\keras\\engine\\training.py\", line 1109, in compute_loss\n      return self.compiled_loss(\n    File \"c:\\Users\\xx\\AppData\\Local\\Programs\\Python\\Python311\\Lib\\site-packages\\keras\\engine\\compile_utils.py\", line 265, in __call__\n      loss_value = loss_obj(y_t, y_p, sample_weight=sw)\n    File \"c:\\Users\\xx\\AppData\\Local\\Programs\\Python\\Python311\\Lib\\site-packages\\keras\\losses.py\", line 142, in __call__\n      losses = call_fn(y_true, y_pred)\n    File \"c:\\Users\\xx\\AppData\\Local\\Programs\\Python\\Python311\\Lib\\site-packages\\keras\\losses.py\", line 268, in call\n      return ag_fn(y_true, y_pred, **self._fn_kwargs)\n    File \"c:\\Users\\xx\\AppData\\Local\\Programs\\Python\\Python311\\Lib\\site-packages\\keras\\losses.py\", line 2078, in sparse_categorical_crossentropy\n      return backend.sparse_categorical_crossentropy(\n    File \"c:\\Users\\xx\\AppData\\Local\\Programs\\Python\\Python311\\Lib\\site-packages\\keras\\backend.py\", line 5660, in sparse_categorical_crossentropy\n      res = tf.nn.sparse_softmax_cross_entropy_with_logits(\nNode: 'sparse_categorical_crossentropy/SparseSoftmaxCrossEntropyWithLogits/SparseSoftmaxCrossEntropyWithLogits'\nReceived a label value of 24250 which is outside the valid range of [0, 10).  Label values: 22187 17186 21076 19672 23930 21418 8874 10783 18163 9778 19875 5500 7656 7058 17385 13472 5568 16187 12594 4896 16274 23455 6558 4232 19826 21679 7779 24250 10696 17442 11222 4797\n\t [[{{node sparse_categorical_crossentropy/SparseSoftmaxCrossEntropyWithLogits/SparseSoftmaxCrossEntropyWithLogits}}]] [Op:__inference_train_function_4870900]",
     "output_type": "error",
     "traceback": [
      "\u001b[1;31m---------------------------------------------------------------------------\u001b[0m",
      "\u001b[1;31mInvalidArgumentError\u001b[0m                      Traceback (most recent call last)",
      "Cell \u001b[1;32mIn[78], line 19\u001b[0m\n\u001b[0;32m     17\u001b[0m \u001b[39m# Treinando o modelo usando os hiperparâmetros\u001b[39;00m\n\u001b[0;32m     18\u001b[0m model\u001b[39m.\u001b[39mcompile(loss\u001b[39m=\u001b[39m\u001b[39m'\u001b[39m\u001b[39msparse_categorical_crossentropy\u001b[39m\u001b[39m'\u001b[39m, optimizer\u001b[39m=\u001b[39m\u001b[39m'\u001b[39m\u001b[39madam\u001b[39m\u001b[39m'\u001b[39m, metrics\u001b[39m=\u001b[39m[\u001b[39m'\u001b[39m\u001b[39maccuracy\u001b[39m\u001b[39m'\u001b[39m])\n\u001b[1;32m---> 19\u001b[0m model\u001b[39m.\u001b[39;49mfit(X_train, y_train, epochs\u001b[39m=\u001b[39;49mepochs, batch_size\u001b[39m=\u001b[39;49mbatch_size, verbose\u001b[39m=\u001b[39;49m\u001b[39m0\u001b[39;49m)\n",
      "File \u001b[1;32mc:\\Users\\xx\\AppData\\Local\\Programs\\Python\\Python311\\Lib\\site-packages\\keras\\utils\\traceback_utils.py:70\u001b[0m, in \u001b[0;36mfilter_traceback.<locals>.error_handler\u001b[1;34m(*args, **kwargs)\u001b[0m\n\u001b[0;32m     67\u001b[0m     filtered_tb \u001b[39m=\u001b[39m _process_traceback_frames(e\u001b[39m.\u001b[39m__traceback__)\n\u001b[0;32m     68\u001b[0m     \u001b[39m# To get the full stack trace, call:\u001b[39;00m\n\u001b[0;32m     69\u001b[0m     \u001b[39m# `tf.debugging.disable_traceback_filtering()`\u001b[39;00m\n\u001b[1;32m---> 70\u001b[0m     \u001b[39mraise\u001b[39;00m e\u001b[39m.\u001b[39mwith_traceback(filtered_tb) \u001b[39mfrom\u001b[39;00m \u001b[39mNone\u001b[39;00m\n\u001b[0;32m     71\u001b[0m \u001b[39mfinally\u001b[39;00m:\n\u001b[0;32m     72\u001b[0m     \u001b[39mdel\u001b[39;00m filtered_tb\n",
      "File \u001b[1;32mc:\\Users\\xx\\AppData\\Local\\Programs\\Python\\Python311\\Lib\\site-packages\\tensorflow\\python\\eager\\execute.py:52\u001b[0m, in \u001b[0;36mquick_execute\u001b[1;34m(op_name, num_outputs, inputs, attrs, ctx, name)\u001b[0m\n\u001b[0;32m     50\u001b[0m \u001b[39mtry\u001b[39;00m:\n\u001b[0;32m     51\u001b[0m   ctx\u001b[39m.\u001b[39mensure_initialized()\n\u001b[1;32m---> 52\u001b[0m   tensors \u001b[39m=\u001b[39m pywrap_tfe\u001b[39m.\u001b[39mTFE_Py_Execute(ctx\u001b[39m.\u001b[39m_handle, device_name, op_name,\n\u001b[0;32m     53\u001b[0m                                       inputs, attrs, num_outputs)\n\u001b[0;32m     54\u001b[0m \u001b[39mexcept\u001b[39;00m core\u001b[39m.\u001b[39m_NotOkStatusException \u001b[39mas\u001b[39;00m e:\n\u001b[0;32m     55\u001b[0m   \u001b[39mif\u001b[39;00m name \u001b[39mis\u001b[39;00m \u001b[39mnot\u001b[39;00m \u001b[39mNone\u001b[39;00m:\n",
      "\u001b[1;31mInvalidArgumentError\u001b[0m: Graph execution error:\n\nDetected at node 'sparse_categorical_crossentropy/SparseSoftmaxCrossEntropyWithLogits/SparseSoftmaxCrossEntropyWithLogits' defined at (most recent call last):\n    File \"<frozen runpy>\", line 198, in _run_module_as_main\n    File \"<frozen runpy>\", line 88, in _run_code\n    File \"C:\\Users\\xx\\AppData\\Roaming\\Python\\Python311\\site-packages\\ipykernel_launcher.py\", line 17, in <module>\n      app.launch_new_instance()\n    File \"C:\\Users\\xx\\AppData\\Roaming\\Python\\Python311\\site-packages\\traitlets\\config\\application.py\", line 1043, in launch_instance\n      app.start()\n    File \"C:\\Users\\xx\\AppData\\Roaming\\Python\\Python311\\site-packages\\ipykernel\\kernelapp.py\", line 725, in start\n      self.io_loop.start()\n    File \"C:\\Users\\xx\\AppData\\Roaming\\Python\\Python311\\site-packages\\tornado\\platform\\asyncio.py\", line 195, in start\n      self.asyncio_loop.run_forever()\n    File \"c:\\Users\\xx\\AppData\\Local\\Programs\\Python\\Python311\\Lib\\asyncio\\base_events.py\", line 607, in run_forever\n      self._run_once()\n    File \"c:\\Users\\xx\\AppData\\Local\\Programs\\Python\\Python311\\Lib\\asyncio\\base_events.py\", line 1922, in _run_once\n      handle._run()\n    File \"c:\\Users\\xx\\AppData\\Local\\Programs\\Python\\Python311\\Lib\\asyncio\\events.py\", line 80, in _run\n      self._context.run(self._callback, *self._args)\n    File \"C:\\Users\\xx\\AppData\\Roaming\\Python\\Python311\\site-packages\\ipykernel\\kernelbase.py\", line 513, in dispatch_queue\n      await self.process_one()\n    File \"C:\\Users\\xx\\AppData\\Roaming\\Python\\Python311\\site-packages\\ipykernel\\kernelbase.py\", line 502, in process_one\n      await dispatch(*args)\n    File \"C:\\Users\\xx\\AppData\\Roaming\\Python\\Python311\\site-packages\\ipykernel\\kernelbase.py\", line 409, in dispatch_shell\n      await result\n    File \"C:\\Users\\xx\\AppData\\Roaming\\Python\\Python311\\site-packages\\ipykernel\\kernelbase.py\", line 729, in execute_request\n      reply_content = await reply_content\n    File \"C:\\Users\\xx\\AppData\\Roaming\\Python\\Python311\\site-packages\\ipykernel\\ipkernel.py\", line 422, in do_execute\n      res = shell.run_cell(\n    File \"C:\\Users\\xx\\AppData\\Roaming\\Python\\Python311\\site-packages\\ipykernel\\zmqshell.py\", line 540, in run_cell\n      return super().run_cell(*args, **kwargs)\n    File \"C:\\Users\\xx\\AppData\\Roaming\\Python\\Python311\\site-packages\\IPython\\core\\interactiveshell.py\", line 3009, in run_cell\n      result = self._run_cell(\n    File \"C:\\Users\\xx\\AppData\\Roaming\\Python\\Python311\\site-packages\\IPython\\core\\interactiveshell.py\", line 3064, in _run_cell\n      result = runner(coro)\n    File \"C:\\Users\\xx\\AppData\\Roaming\\Python\\Python311\\site-packages\\IPython\\core\\async_helpers.py\", line 129, in _pseudo_sync_runner\n      coro.send(None)\n    File \"C:\\Users\\xx\\AppData\\Roaming\\Python\\Python311\\site-packages\\IPython\\core\\interactiveshell.py\", line 3269, in run_cell_async\n      has_raised = await self.run_ast_nodes(code_ast.body, cell_name,\n    File \"C:\\Users\\xx\\AppData\\Roaming\\Python\\Python311\\site-packages\\IPython\\core\\interactiveshell.py\", line 3448, in run_ast_nodes\n      if await self.run_code(code, result, async_=asy):\n    File \"C:\\Users\\xx\\AppData\\Roaming\\Python\\Python311\\site-packages\\IPython\\core\\interactiveshell.py\", line 3508, in run_code\n      exec(code_obj, self.user_global_ns, self.user_ns)\n    File \"C:\\Users\\xx\\AppData\\Local\\Temp\\ipykernel_8816\\2311191062.py\", line 19, in <module>\n      model.fit(X_train, y_train, epochs=epochs, batch_size=batch_size, verbose=0)\n    File \"c:\\Users\\xx\\AppData\\Local\\Programs\\Python\\Python311\\Lib\\site-packages\\keras\\utils\\traceback_utils.py\", line 65, in error_handler\n      return fn(*args, **kwargs)\n    File \"c:\\Users\\xx\\AppData\\Local\\Programs\\Python\\Python311\\Lib\\site-packages\\keras\\engine\\training.py\", line 1685, in fit\n      tmp_logs = self.train_function(iterator)\n    File \"c:\\Users\\xx\\AppData\\Local\\Programs\\Python\\Python311\\Lib\\site-packages\\keras\\engine\\training.py\", line 1284, in train_function\n      return step_function(self, iterator)\n    File \"c:\\Users\\xx\\AppData\\Local\\Programs\\Python\\Python311\\Lib\\site-packages\\keras\\engine\\training.py\", line 1268, in step_function\n      outputs = model.distribute_strategy.run(run_step, args=(data,))\n    File \"c:\\Users\\xx\\AppData\\Local\\Programs\\Python\\Python311\\Lib\\site-packages\\keras\\engine\\training.py\", line 1249, in run_step\n      outputs = model.train_step(data)\n    File \"c:\\Users\\xx\\AppData\\Local\\Programs\\Python\\Python311\\Lib\\site-packages\\keras\\engine\\training.py\", line 1051, in train_step\n      loss = self.compute_loss(x, y, y_pred, sample_weight)\n    File \"c:\\Users\\xx\\AppData\\Local\\Programs\\Python\\Python311\\Lib\\site-packages\\keras\\engine\\training.py\", line 1109, in compute_loss\n      return self.compiled_loss(\n    File \"c:\\Users\\xx\\AppData\\Local\\Programs\\Python\\Python311\\Lib\\site-packages\\keras\\engine\\compile_utils.py\", line 265, in __call__\n      loss_value = loss_obj(y_t, y_p, sample_weight=sw)\n    File \"c:\\Users\\xx\\AppData\\Local\\Programs\\Python\\Python311\\Lib\\site-packages\\keras\\losses.py\", line 142, in __call__\n      losses = call_fn(y_true, y_pred)\n    File \"c:\\Users\\xx\\AppData\\Local\\Programs\\Python\\Python311\\Lib\\site-packages\\keras\\losses.py\", line 268, in call\n      return ag_fn(y_true, y_pred, **self._fn_kwargs)\n    File \"c:\\Users\\xx\\AppData\\Local\\Programs\\Python\\Python311\\Lib\\site-packages\\keras\\losses.py\", line 2078, in sparse_categorical_crossentropy\n      return backend.sparse_categorical_crossentropy(\n    File \"c:\\Users\\xx\\AppData\\Local\\Programs\\Python\\Python311\\Lib\\site-packages\\keras\\backend.py\", line 5660, in sparse_categorical_crossentropy\n      res = tf.nn.sparse_softmax_cross_entropy_with_logits(\nNode: 'sparse_categorical_crossentropy/SparseSoftmaxCrossEntropyWithLogits/SparseSoftmaxCrossEntropyWithLogits'\nReceived a label value of 24250 which is outside the valid range of [0, 10).  Label values: 22187 17186 21076 19672 23930 21418 8874 10783 18163 9778 19875 5500 7656 7058 17385 13472 5568 16187 12594 4896 16274 23455 6558 4232 19826 21679 7779 24250 10696 17442 11222 4797\n\t [[{{node sparse_categorical_crossentropy/SparseSoftmaxCrossEntropyWithLogits/SparseSoftmaxCrossEntropyWithLogits}}]] [Op:__inference_train_function_4870900]"
     ]
    }
   ],
   "source": [
    "# Definindo hiperparâmetros para uma rede neural\n",
    "learning_rate = 0.001\n",
    "batch_size = 32\n",
    "epochs = 50\n",
    "number_of_neurons_layer1 = 128\n",
    "number_of_neurons_layer2 = 64\n",
    "number_of_neurons_layer3 = 128\n",
    "activation_function = 'relu'\n",
    "\n",
    "# Criando um modelo usando os hiperparâmetros\n",
    "model = Sequential()\n",
    "model.add(Dense(number_of_neurons_layer1, input_dim=X_train.shape[1], activation=activation_function))\n",
    "model.add(Dense(number_of_neurons_layer2, activation=activation_function))\n",
    "model.add(Dense(number_of_neurons_layer3, activation=activation_function))\n",
    "model.add(Dense(10, activation='softmax'))\n",
    "\n",
    "# Treinando o modelo usando os hiperparâmetros\n",
    "model.compile(loss='sparse_categorical_crossentropy', optimizer='adam', metrics=['accuracy'])\n",
    "model.fit(X_train, y_train, epochs=epochs, batch_size=batch_size, verbose=0)\n"
   ]
  },
  {
   "attachments": {},
   "cell_type": "markdown",
   "metadata": {},
   "source": [
    "`learning_rate` = 0.001: Taxa de aprendizado é um hiperparâmetro que define o tamanho do passo que será usado no ajuste dos pesos durante o treinamento. Embora seja definido aqui, note que ele não está sendo usado diretamente no código fornecido, pois o otimizador 'adam' tem sua própria taxa de aprendizado adaptativa.\n",
    "\n",
    "`batch_size` = 32: Tamanho do lote (ou batch) é a quantidade de amostras de dados que serão usadas para atualizar os pesos de uma única vez. Esse é um hiperparâmetro importante quando você está usando um método de otimização estocástico ou mini-batch.\n",
    "\n",
    "`epochs` = 50: Número de épocas indica quantas vezes o algoritmo verá o conjunto de treinamento completo. Se você tem, digamos, 1000 amostras de treinamento e o batch_size é 100, então uma época terá 10 atualizações (passos) para o modelo.\n",
    "\n",
    "`number_of_neurons_layer1` = 128 e `number_of_neurons_layer2` = 64 e `number_of_neurons_layer3` = 128: Estes definem o número de neurônios nas camadas ocultas da rede neural. A arquitetura e a profundidade da rede (número de camadas e neurônios em cada camada) são hiperparâmetros.\n",
    "\n",
    "`activation_function` = 'relu': Função de ativação que é usada nos neurônios da rede. Dependendo da função escolhida, a rede pode aprender diferentes tipos de representações. O 'relu' (Rectified Linear Unit) é um dos mais populares atualmente.\n",
    "\n",
    "`loss` = 'sparse_categorical_crossentropy': Define a função de perda, que é a métrica que a rede tentará minimizar durante o treinamento.\n",
    "\n",
    "`optimizer` = 'adam': Define o otimizador usado, que é o algoritmo de otimização. Existem vários otimizadores e cada um tem seus próprios hiperparâmetros internos."
   ]
  },
  {
   "attachments": {},
   "cell_type": "markdown",
   "metadata": {},
   "source": [
    "## Conclusão:\n",
    "\n",
    "``Parâmetros`` são intrínsecos ao modelo e são ajustados durante o treinamento.\n",
    "\n",
    "``Hiperparâmetros`` definem como o treinamento é realizado e a estrutura do modelo, sendo definidos externamente e não ajustados automaticamente pelo modelo durante o treinamento."
   ]
  },
  {
   "attachments": {},
   "cell_type": "markdown",
   "metadata": {},
   "source": [
    "## A Crucialidade da Otimização de Hiperparâmetros\n",
    "Hiperparâmetros adequados podem fazer a diferença entre um modelo médio e um modelo altamente eficiente. A otimização de hiperparâmetros:\n",
    "\n",
    "- Melhora o desempenho do modelo no conjunto de dados.\n",
    "- Pode ajudar a prevenir overfitting ou underfitting.\n",
    "- Pode acelerar o treinamento do modelo ou torná-lo mais eficaz.\n",
    "\n",
    "Encontrar os hiperparâmetros ideais muitas vezes é um desafio. Se pegarmos, por exemplo, uma rede neural, a taxa de aprendizado, o tamanho do batch, a quantidade de camadas e unidades em cada camada, entre outros, são hiperparâmetros que precisamos definir antes do treinamento. A combinação certa desses hiperparâmetros pode variar amplamente de um conjunto de dados para outro, e a otimização automática desses hiperparâmetros é onde podemos extrair o máximo do potencial de um modelo."
   ]
  },
  {
   "attachments": {},
   "cell_type": "markdown",
   "metadata": {},
   "source": [
    "# Métodos de Otimização de Hiperparâmetros\n",
    "Após a introdução sobre a importância dos hiperparâmetros, agora nos deparamos com um questionamento: \"Como podemos encontrar o melhor conjunto de hiperparâmetros para nosso modelo?\". Existem diversos métodos que auxiliam nessa busca, e hoje, iremos explorar três dos mais populares."
   ]
  },
  {
   "attachments": {},
   "cell_type": "markdown",
   "metadata": {},
   "source": [
    "## Grid Search\n",
    "O Grid Search, ou Pesquisa em Grade, é um dos métodos mais simples e amplamente utilizados para otimização de hiperparâmetros.\n",
    "\n",
    "O método Grid Search, ou busca em grade, consiste em testar manualmente cada combinação possível de hiperparâmetros. Por exemplo, se tivermos dois hiperparâmetros e quisermos testar 5 valores diferentes para cada um, realizaríamos um total de 25 treinamentos (5x5).\n",
    "\n",
    "``Vantagens``:\n",
    "\n",
    "É determinístico; você sabe exatamente quais combinações serão testadas.\n",
    "Pode ser paralelizado facilmente.\n",
    "\n",
    "``Desvantagens``:\n",
    "\n",
    "Pode ser muito demorado, especialmente quando o espaço de busca é grande.\n",
    "Não é eficiente, pois testa combinações que podem ser consideradas subótimas com base em resultados anteriores."
   ]
  },
  {
   "cell_type": "code",
   "execution_count": 10,
   "metadata": {},
   "outputs": [],
   "source": [
    "from sklearn.metrics import accuracy_score, precision_score, recall_score, f1_score, confusion_matrix\n",
    "import seaborn as sns\n",
    "import matplotlib.pyplot as plt\n",
    "\n",
    "def metricas_classificacao(y_real, y_pred):\n",
    "    # Calcular métricas\n",
    "    metrics = {\n",
    "        \"Acurácia\": accuracy_score(y_real, y_pred),\n",
    "        \"Precisão (macro)\": precision_score(y_real, y_pred, average='macro'),\n",
    "        \"Recall (macro)\": recall_score(y_real, y_pred, average='macro'),\n",
    "        \"F1-Score (macro)\": f1_score(y_real, y_pred, average='macro')\n",
    "    }\n",
    "    \n",
    "    # Printar métricas\n",
    "    for key, value in metrics.items():\n",
    "        print(f\"{key}: {value}\")\n",
    "\n",
    "    # Calcular a Matriz de Confusão\n",
    "    confusion_mat = confusion_matrix(y_real, y_pred)\n",
    "\n",
    "    # Printar Matriz de Confusão\n",
    "    print(\"Matriz de Confusão:\")\n",
    "    sns.heatmap(confusion_mat, annot=True, cmap='YlGnBu', fmt='g')\n",
    "    plt.xlabel('Previsto')\n",
    "    plt.ylabel('Real')\n",
    "    plt.show()\n",
    "\n",
    "    return metrics\n"
   ]
  },
  {
   "cell_type": "code",
   "execution_count": 11,
   "metadata": {},
   "outputs": [],
   "source": [
    "# Importando as bibliotecas necessárias para construir o modelo da rede neural\n",
    "from keras.models import Sequential\n",
    "from keras.layers import Dense\n",
    "\n",
    "# Função que cria e retorna um modelo de rede neural\n",
    "def create_model(neurons1=128, neurons2=64, activation_function='relu'):\n",
    "    \n",
    "    # Inicializando o modelo sequencial\n",
    "    model = Sequential()\n",
    "    \n",
    "    # Adicionando a primeira camada oculta com o número de neurônios especificado (neurons1)\n",
    "    # 'input_dim' especifica o número de características de entrada\n",
    "    model.add(Dense(neurons1, input_dim=X_train.shape[1], activation=activation_function))\n",
    "    \n",
    "    # Adicionando a segunda camada oculta com o número de neurônios especificado (neurons2)\n",
    "    model.add(Dense(neurons2, activation=activation_function))\n",
    "    \n",
    "    # Adicionando a terceira camada oculta com 128 neurônios\n",
    "    model.add(Dense(128, activation=activation_function))\n",
    "    \n",
    "    # Adicionando a camada de saída com 10 neurônios (para um problema de classificação de 10 classes)\n",
    "    model.add(Dense(10, activation='softmax'))\n",
    "    \n",
    "    # Compilando o modelo - especificando o otimizador, a função de perda e a métrica de avaliação\n",
    "    model.compile(optimizer='adam', loss='sparse_categorical_crossentropy', metrics=['accuracy'])\n",
    "    \n",
    "    return model"
   ]
  },
  {
   "cell_type": "code",
   "execution_count": 12,
   "metadata": {},
   "outputs": [
    {
     "name": "stderr",
     "output_type": "stream",
     "text": [
      "C:\\Users\\xx\\AppData\\Local\\Temp\\ipykernel_8816\\271313089.py:7: DeprecationWarning: KerasClassifier is deprecated, use Sci-Keras (https://github.com/adriangb/scikeras) instead. See https://www.adriangb.com/scikeras/stable/migration.html for help migrating.\n",
      "  model_for_grid = KerasClassifier(build_fn=create_model, epochs=20, verbose=0)\n"
     ]
    },
    {
     "name": "stdout",
     "output_type": "stream",
     "text": [
      "Melhores parâmetros: {'activation_function': 'relu', 'neurons1': 256, 'neurons2': 256}\n"
     ]
    }
   ],
   "source": [
    "# Importando o KerasClassifier que permite usar modelos Keras com scikit-learn\n",
    "from keras.wrappers.scikit_learn import KerasClassifier\n",
    "# Importando GridSearchCV para otimização de hiperparâmetros\n",
    "from sklearn.model_selection import GridSearchCV\n",
    "\n",
    "# Criando uma instância do KerasClassifier com a função de criação do modelo e especificando 20 épocas\n",
    "model_for_grid = KerasClassifier(build_fn=create_model, epochs=20, verbose=0)\n",
    "\n",
    "# Definindo a grade de hiperparâmetros que queremos testar\n",
    "param_grid = {\n",
    "    'neurons1': [64, 128, 256],                # diferentes quantidades de neurônios para a primeira camada\n",
    "    'neurons2': [64, 128, 256],                # diferentes quantidades de neurônios para a segunda camada\n",
    "    'activation_function': ['relu', 'tanh']  # diferentes funções de ativação\n",
    "}\n",
    "\n",
    "# Configurando o GridSearchCV com o modelo, a grade de parâmetros, e outras opções\n",
    "grid = GridSearchCV(estimator=model_for_grid, param_grid=param_grid, n_jobs=-1, cv=3)\n",
    "\n",
    "# Iniciando a busca pelos melhores hiperparâmetros usando o conjunto de treinamento\n",
    "grid_result = grid.fit(X_train, y_train)\n",
    "\n",
    "# Imprimindo os melhores hiperparâmetros encontrados\n",
    "print(f\"Melhores parâmetros: {grid_result.best_params_}\")"
   ]
  },
  {
   "cell_type": "code",
   "execution_count": 13,
   "metadata": {},
   "outputs": [
    {
     "data": {
      "text/plain": [
       "360"
      ]
     },
     "execution_count": 13,
     "metadata": {},
     "output_type": "execute_result"
    }
   ],
   "source": [
    "3 * 3 * 2 * 20"
   ]
  },
  {
   "cell_type": "code",
   "execution_count": 14,
   "metadata": {},
   "outputs": [
    {
     "name": "stdout",
     "output_type": "stream",
     "text": [
      "12/12 [==============================] - 0s 3ms/step\n",
      "Acurácia: 0.975\n",
      "Precisão (macro): 0.9768047218887554\n",
      "Recall (macro): 0.9741977796921475\n",
      "F1-Score (macro): 0.9753599626887597\n",
      "Matriz de Confusão:\n"
     ]
    },
    {
     "data": {
      "image/png": "[encoded data removed]",
      "text/plain": [
       "<Figure size 640x480 with 2 Axes>"
      ]
     },
     "metadata": {},
     "output_type": "display_data"
    }
   ],
   "source": [
    "best_model = create_model(neurons1=128, neurons2=128, activation_function='relu')\n",
    "best_model.fit(X_train, y_train, epochs=20, verbose = 0)\n",
    "y_pred = np.argmax(best_model.predict(X_test), axis=1)\n",
    "metricas = metricas_classificacao(y_test, y_pred)"
   ]
  },
  {
   "cell_type": "code",
   "execution_count": 15,
   "metadata": {},
   "outputs": [
    {
     "name": "stdout",
     "output_type": "stream",
     "text": [
      "12/12 [==============================] - 0s 1ms/step\n",
      "Acurácia: 0.9833333333333333\n",
      "Precisão (macro): 0.9840245610439297\n",
      "Recall (macro): 0.9822280827224507\n",
      "F1-Score (macro): 0.9830064387388159\n",
      "Matriz de Confusão:\n"
     ]
    },
    {
     "data": {
      "image/png": "[encoded data removed]",
      "text/plain": [
       "<Figure size 640x480 with 2 Axes>"
      ]
     },
     "metadata": {},
     "output_type": "display_data"
    }
   ],
   "source": [
    "model = create_model(neurons1=64, neurons2=64, activation_function='relu')\n",
    "model.fit(X_train, y_train, epochs=20, verbose = 0)\n",
    "y_pred = np.argmax(model.predict(X_test), axis=1)\n",
    "metricas = metricas_classificacao(y_test, y_pred)"
   ]
  },
  {
   "attachments": {},
   "cell_type": "markdown",
   "metadata": {},
   "source": [
    "## Random Search\n",
    "\n",
    "Como difere do Grid Search:\n",
    "\n",
    "Em vez de testar todas as combinações possíveis, o Random Search testa uma quantidade determinada de combinações aleatórias de hiperparâmetros. Em nosso exemplo anterior de 3x3x2 combinações, em vez de testar todas as 18 combinações, podemos testar, digamos, 10 combinações aleatórias. Isso pode ser mais eficiente quando se tem um espaço de pesquisa muito grande."
   ]
  },
  {
   "cell_type": "code",
   "execution_count": 16,
   "metadata": {},
   "outputs": [
    {
     "name": "stderr",
     "output_type": "stream",
     "text": [
      "C:\\Users\\xx\\AppData\\Local\\Temp\\ipykernel_8816\\3423523825.py:10: DeprecationWarning: KerasClassifier is deprecated, use Sci-Keras (https://github.com/adriangb/scikeras) instead. See https://www.adriangb.com/scikeras/stable/migration.html for help migrating.\n",
      "  model_for_grid = KerasClassifier(build_fn=create_model, epochs=20, verbose=0)\n"
     ]
    },
    {
     "name": "stdout",
     "output_type": "stream",
     "text": [
      "Melhores parâmetros usando RandomizedSearchCV: {'neurons2': 512, 'neurons1': 512, 'activation_function': 'relu'}\n"
     ]
    }
   ],
   "source": [
    "from sklearn.model_selection import RandomizedSearchCV\n",
    "\n",
    "# Definindo o espaço de hiperparâmetros\n",
    "param_dist = {\n",
    "    'neurons1': [64, 128, 256, 512],\n",
    "    'neurons2': [64, 128, 256, 512],\n",
    "    'activation_function': ['relu', 'tanh', 'softmax']\n",
    "}\n",
    "\n",
    "model_for_grid = KerasClassifier(build_fn=create_model, epochs=20, verbose=0)\n",
    "\n",
    "# Configurando o RandomizedSearchCV com 10 iterações\n",
    "random_search = RandomizedSearchCV(estimator=model_for_grid, param_distributions=param_dist, n_iter=10, n_jobs=-1, cv=3)\n",
    "\n",
    "# Iniciando a busca pelos melhores hiperparâmetros usando o conjunto de treinamento\n",
    "random_result = random_search.fit(X_train, y_train)\n",
    "\n",
    "# Imprimindo os melhores hiperparâmetros encontrados\n",
    "print(f\"Melhores parâmetros usando RandomizedSearchCV: {random_result.best_params_}\")\n"
   ]
  },
  {
   "attachments": {},
   "cell_type": "markdown",
   "metadata": {},
   "source": [
    "Ao invés de testarmos 4x4x3 = 48 combinações , testamos 10 combinações aleatórias"
   ]
  },
  {
   "cell_type": "code",
   "execution_count": 17,
   "metadata": {},
   "outputs": [
    {
     "name": "stdout",
     "output_type": "stream",
     "text": [
      "12/12 [==============================] - 0s 1ms/step\n",
      "Acurácia: 0.9833333333333333\n",
      "Precisão (macro): 0.9833607847065894\n",
      "Recall (macro): 0.9845051850527445\n",
      "F1-Score (macro): 0.9838075571752178\n",
      "Matriz de Confusão:\n"
     ]
    },
    {
     "data": {
      "image/png": "[encoded data removed]",
      "text/plain": [
       "<Figure size 640x480 with 2 Axes>"
      ]
     },
     "metadata": {},
     "output_type": "display_data"
    }
   ],
   "source": [
    "model = create_model(neurons1=128, neurons2=256, activation_function='relu')\n",
    "model.fit(X_train, y_train, epochs=20, verbose = 0)\n",
    "y_pred = np.argmax(model.predict(X_test), axis=1)\n",
    "metricas = metricas_classificacao(y_test, y_pred)"
   ]
  },
  {
   "attachments": {},
   "cell_type": "markdown",
   "metadata": {},
   "source": [
    "## Otimização Bayesiana com BayesianOptimization\n",
    "A otimização bayesiana é uma técnica probabilística para encontrar o mínimo de funções. Diferente do Random Search, que faz uma busca aleatória pelo espaço de hiperparâmetros, a otimização bayesiana tenta racionalizar a melhor área do espaço a ser pesquisada com base em avaliações anteriores. Ela usa um processo gaussiano para fazer isso.\n",
    "\n",
    "### Funcionamento Básico:\n",
    "Modelo probabilístico: Um modelo probabilístico é construído com base nas funções e seus parâmetros avaliados anteriormente. Esse modelo é frequentemente um processo gaussiano.\n",
    "\n",
    "Escolha do próximo ponto: Com base no modelo atual, escolhe-se o próximo ponto para avaliar. Isso não é apenas baseado em áreas onde a performance é boa, mas também onde a incerteza é alta. Assim, equilibra a exploração de novas áreas e a exploração de áreas conhecidas.\n",
    "\n",
    "### Aplicação em Machine Learning:\n",
    "Para otimização de hiperparâmetros, a função que queremos minimizar (ou maximizar) é geralmente a métrica de erro (ou acurácia) do nosso modelo. Por exemplo, se estamos treinando uma rede neural, a função tomará hiperparâmetros como entrada (como taxa de aprendizado, número de neurônios, etc.) e retornará o erro no conjunto de validação."
   ]
  },
  {
   "cell_type": "code",
   "execution_count": 18,
   "metadata": {},
   "outputs": [],
   "source": [
    "# %pip install bayesian-optimization"
   ]
  },
  {
   "attachments": {},
   "cell_type": "markdown",
   "metadata": {},
   "source": [
    "``Função Objetivo``: Precisamos definir a função que queremos otimizar. No nosso caso, essa função irá:\n",
    "- Receber hiperparâmetros como entrada.\n",
    "- Construir e treinar um modelo usando esses hiperparâmetros.\n",
    "- Retornar a métrica de erro (ou acurácia).\n",
    "\n",
    "``Limites dos Hiperparâmetros``: A otimização bayesiana requer que os hiperparâmetros tenham limites. Se for um hiperparâmetro contínuo (como a taxa de aprendizado), simplesmente definimos um intervalo. Para hiperparâmetros categóricos (como funções de ativação), usamos um truque: mapeamos cada categoria para um número (por exemplo, 'relu' para 0, 'tanh' para 1) e depois usamos esse índice como hiperparâmetro contínuo. Depois, na função objetivo, mapeamos o índice de volta à sua categoria original.\n",
    "\n",
    "``Otimização``: Com a função objetivo e os limites definidos, podemos executar a otimização. Decidimos quantos pontos iniciais queremos (pontos escolhidos aleatoriamente antes de começar a otimização bayesiana) e quantas iterações de otimização queremos."
   ]
  },
  {
   "cell_type": "code",
   "execution_count": 19,
   "metadata": {},
   "outputs": [
    {
     "name": "stdout",
     "output_type": "stream",
     "text": [
      "|   iter    |  target   | activa... | neurons1  | neurons2  |\n",
      "-------------------------------------------------------------\n",
      "| \u001b[0m1        \u001b[0m | \u001b[0m0.9722   \u001b[0m | \u001b[0m0.417    \u001b[0m | \u001b[0m202.3    \u001b[0m | \u001b[0m64.02    \u001b[0m |\n",
      "| \u001b[95m2        \u001b[0m | \u001b[95m0.9826   \u001b[0m | \u001b[95m0.3023   \u001b[0m | \u001b[95m92.18    \u001b[0m | \u001b[95m81.73    \u001b[0m |\n",
      "| \u001b[0m3        \u001b[0m | \u001b[0m0.9792   \u001b[0m | \u001b[0m0.1863   \u001b[0m | \u001b[0m130.3    \u001b[0m | \u001b[0m140.2    \u001b[0m |\n",
      "| \u001b[0m4        \u001b[0m | \u001b[0m0.9653   \u001b[0m | \u001b[0m0.5388   \u001b[0m | \u001b[0m144.5    \u001b[0m | \u001b[0m195.6    \u001b[0m |\n",
      "| \u001b[0m5        \u001b[0m | \u001b[0m0.9722   \u001b[0m | \u001b[0m0.2045   \u001b[0m | \u001b[0m232.6    \u001b[0m | \u001b[0m69.26    \u001b[0m |\n",
      "| \u001b[0m6        \u001b[0m | \u001b[0m0.9653   \u001b[0m | \u001b[0m0.1125   \u001b[0m | \u001b[0m92.89    \u001b[0m | \u001b[0m82.53    \u001b[0m |\n",
      "| \u001b[0m7        \u001b[0m | \u001b[0m0.9618   \u001b[0m | \u001b[0m0.5323   \u001b[0m | \u001b[0m215.2    \u001b[0m | \u001b[0m97.58    \u001b[0m |\n",
      "| \u001b[0m8        \u001b[0m | \u001b[0m0.9792   \u001b[0m | \u001b[0m0.5958   \u001b[0m | \u001b[0m114.1    \u001b[0m | \u001b[0m207.4    \u001b[0m |\n",
      "| \u001b[0m9        \u001b[0m | \u001b[0m0.9583   \u001b[0m | \u001b[0m0.2275   \u001b[0m | \u001b[0m93.87    \u001b[0m | \u001b[0m245.9    \u001b[0m |\n",
      "| \u001b[0m10       \u001b[0m | \u001b[0m0.9514   \u001b[0m | \u001b[0m0.7263   \u001b[0m | \u001b[0m203.9    \u001b[0m | \u001b[0m101.4    \u001b[0m |\n",
      "| \u001b[0m11       \u001b[0m | \u001b[0m0.9757   \u001b[0m | \u001b[0m0.4702   \u001b[0m | \u001b[0m145.3    \u001b[0m | \u001b[0m154.6    \u001b[0m |\n",
      "| \u001b[0m12       \u001b[0m | \u001b[0m0.9618   \u001b[0m | \u001b[0m0.9554   \u001b[0m | \u001b[0m191.5    \u001b[0m | \u001b[0m154.4    \u001b[0m |\n",
      "| \u001b[0m13       \u001b[0m | \u001b[0m0.9688   \u001b[0m | \u001b[0m0.4887   \u001b[0m | \u001b[0m225.5    \u001b[0m | \u001b[0m252.0    \u001b[0m |\n",
      "| \u001b[0m14       \u001b[0m | \u001b[0m0.9514   \u001b[0m | \u001b[0m0.3225   \u001b[0m | \u001b[0m210.6    \u001b[0m | \u001b[0m228.5    \u001b[0m |\n",
      "| \u001b[0m15       \u001b[0m | \u001b[0m0.9722   \u001b[0m | \u001b[0m0.8549   \u001b[0m | \u001b[0m202.1    \u001b[0m | \u001b[0m239.1    \u001b[0m |\n",
      "=============================================================\n",
      "Melhores parâmetros usando otimização bayesiana: {'activation_index': 0.30233257263183977, 'neurons1': 92.1771310368857, 'neurons2': 81.72901019560918}\n"
     ]
    }
   ],
   "source": [
    "# Importando a biblioteca necessária\n",
    "from bayes_opt import BayesianOptimization\n",
    "\n",
    "# Definindo a função objetivo que queremos otimizar.\n",
    "# Esta função treina um modelo com hiperparâmetros fornecidos e retorna a acurácia de validação.\n",
    "def objective_function(neurons1, neurons2, activation_index):\n",
    "    \n",
    "    # Mapeia os índices para suas respectivas funções de ativação.\n",
    "    activation_functions = ['relu', 'tanh']\n",
    "    activation_function = activation_functions[int(activation_index)]\n",
    "    \n",
    "    # Cria e compila o modelo usando os hiperparâmetros fornecidos.\n",
    "    model = create_model(int(neurons1), int(neurons2), activation_function)\n",
    "    \n",
    "    # Treina o modelo e obtém o histórico de treinamento.\n",
    "    history = model.fit(X_train, y_train, epochs=20, verbose=0, validation_split=0.2)\n",
    "    \n",
    "    # Obtém a acurácia de validação da última época.\n",
    "    val_accuracy = history.history['val_accuracy'][-1]\n",
    "    \n",
    "    return val_accuracy\n",
    "\n",
    "# Definindo os limites dos hiperparâmetros para a otimização bayesiana.\n",
    "# Os hiperparâmetros contínuos têm intervalos definidos (por exemplo, neurons1 entre 64 e 256).\n",
    "# Para hiperparâmetros categóricos, usamos índices (por exemplo, activation_index entre 0 e 1).\n",
    "pbounds = {\n",
    "    'neurons1': (64, 256),\n",
    "    'neurons2': (64, 256),\n",
    "    'activation_index': (0, 1)\n",
    "}\n",
    "\n",
    "# Inicializa o otimizador bayesiano com a função objetivo e os limites dos hiperparâmetros.\n",
    "optimizer = BayesianOptimization(\n",
    "    f=objective_function,     # Função objetivo definida anteriormente.\n",
    "    pbounds=pbounds,          # Limites dos hiperparâmetros.\n",
    "    random_state=1            # Semente para reprodutibilidade.\n",
    ")\n",
    "\n",
    "# Executa a otimização bayesiana.\n",
    "# 'init_points' define quantos pontos iniciais aleatórios serão testados antes da otimização começar.\n",
    "# 'n_iter' define quantas iterações de otimização serão executadas.\n",
    "optimizer.maximize(init_points=5, n_iter=10)\n",
    "\n",
    "# Exibe os melhores hiperparâmetros encontrados.\n",
    "print(f\"Melhores parâmetros usando otimização bayesiana: {optimizer.max['params']}\")"
   ]
  },
  {
   "attachments": {},
   "cell_type": "markdown",
   "metadata": {},
   "source": [
    "\n",
    "\"'activation_index': 0.48873272287485325:\n",
    "\n",
    "Este valor contínuo representa a função de ativação selecionada para o modelo. Na implementação, duas funções de ativação ('relu' e 'tanh') foram mapeadas para os índices 0 e 1, respectivamente.\n",
    "O valor 0.4887 é mais próximo de 0 do que de 1. Portanto, ao arredondar, o índice 0 é selecionado, correspondendo à função de ativação 'relu'.\n",
    "\n",
    "'neurons1': 225.5063053565966:\n",
    "\n",
    "Representa o número ideal de neurônios na primeira camada oculta identificado pelo otimizador bayesiano.\n",
    "Em uma implementação prática, esse número seria arredondado para 226 neurônios na primeira camada oculta.\n",
    "\n",
    "'neurons2': 251.9811401659988:\n",
    "\n",
    "Indica o número ideal de neurônios para a segunda camada oculta.\n",
    "Ao arredondar, resulta em uma segunda camada oculta com 252 neurônios.\""
   ]
  },
  {
   "cell_type": "markdown",
   "metadata": {},
   "source": [
    "# Exercício"
   ]
  },
  {
   "cell_type": "code",
   "execution_count": 20,
   "metadata": {},
   "outputs": [],
   "source": [
    "import numpy as np\n",
    "import pandas as pd\n",
    "\n",
    "df = pd.read_csv('notebooks.csv')"
   ]
  },
  {
   "cell_type": "code",
   "execution_count": 21,
   "metadata": {},
   "outputs": [
    {
     "data": {
      "text/html": [
       "<div>\n",
       "<style scoped>\n",
       "    .dataframe tbody tr th:only-of-type {\n",
       "        vertical-align: middle;\n",
       "    }\n",
       "\n",
       "    .dataframe tbody tr th {\n",
       "        vertical-align: top;\n",
       "    }\n",
       "\n",
       "    .dataframe thead th {\n",
       "        text-align: right;\n",
       "    }\n",
       "</style>\n",
       "<table border=\"1\" class=\"dataframe\">\n",
       "  <thead>\n",
       "    <tr style=\"text-align: right;\">\n",
       "      <th></th>\n",
       "      <th>marca</th>\n",
       "      <th>ano</th>\n",
       "      <th>qtd_nucleos</th>\n",
       "      <th>qtd_threads</th>\n",
       "      <th>ram</th>\n",
       "      <th>gpu_dedicada</th>\n",
       "      <th>ram_gpu</th>\n",
       "      <th>entradas_usb</th>\n",
       "      <th>duracao_bateria</th>\n",
       "      <th>resolucao_tela</th>\n",
       "      <th>tipo_tela</th>\n",
       "      <th>tela_touch</th>\n",
       "      <th>armazenamento_hdd</th>\n",
       "      <th>armazenamento_ssd</th>\n",
       "      <th>segmento</th>\n",
       "      <th>valor</th>\n",
       "    </tr>\n",
       "  </thead>\n",
       "  <tbody>\n",
       "    <tr>\n",
       "      <th>0</th>\n",
       "      <td>xiaomi</td>\n",
       "      <td>2012</td>\n",
       "      <td>12</td>\n",
       "      <td>19</td>\n",
       "      <td>16</td>\n",
       "      <td>não</td>\n",
       "      <td>0</td>\n",
       "      <td>2</td>\n",
       "      <td>434</td>\n",
       "      <td>FULLHD</td>\n",
       "      <td>OLED</td>\n",
       "      <td>não</td>\n",
       "      <td>0</td>\n",
       "      <td>2000</td>\n",
       "      <td>premium</td>\n",
       "      <td>18215</td>\n",
       "    </tr>\n",
       "    <tr>\n",
       "      <th>1</th>\n",
       "      <td>dell</td>\n",
       "      <td>2014</td>\n",
       "      <td>6</td>\n",
       "      <td>8</td>\n",
       "      <td>6</td>\n",
       "      <td>não</td>\n",
       "      <td>0</td>\n",
       "      <td>2</td>\n",
       "      <td>566</td>\n",
       "      <td>FULLHD</td>\n",
       "      <td>TN</td>\n",
       "      <td>não</td>\n",
       "      <td>500</td>\n",
       "      <td>1000</td>\n",
       "      <td>ultraportatil</td>\n",
       "      <td>18904</td>\n",
       "    </tr>\n",
       "    <tr>\n",
       "      <th>2</th>\n",
       "      <td>asus</td>\n",
       "      <td>2022</td>\n",
       "      <td>6</td>\n",
       "      <td>12</td>\n",
       "      <td>12</td>\n",
       "      <td>não</td>\n",
       "      <td>0</td>\n",
       "      <td>3</td>\n",
       "      <td>281</td>\n",
       "      <td>FULLHD</td>\n",
       "      <td>AMOLED</td>\n",
       "      <td>sim</td>\n",
       "      <td>0</td>\n",
       "      <td>500</td>\n",
       "      <td>2em1</td>\n",
       "      <td>14217</td>\n",
       "    </tr>\n",
       "    <tr>\n",
       "      <th>3</th>\n",
       "      <td>xiaomi</td>\n",
       "      <td>2014</td>\n",
       "      <td>8</td>\n",
       "      <td>9</td>\n",
       "      <td>16</td>\n",
       "      <td>não</td>\n",
       "      <td>0</td>\n",
       "      <td>3</td>\n",
       "      <td>473</td>\n",
       "      <td>QUADHD</td>\n",
       "      <td>OLED</td>\n",
       "      <td>não</td>\n",
       "      <td>2000</td>\n",
       "      <td>250</td>\n",
       "      <td>premium</td>\n",
       "      <td>19607</td>\n",
       "    </tr>\n",
       "    <tr>\n",
       "      <th>4</th>\n",
       "      <td>asus</td>\n",
       "      <td>2023</td>\n",
       "      <td>10</td>\n",
       "      <td>10</td>\n",
       "      <td>8</td>\n",
       "      <td>não</td>\n",
       "      <td>0</td>\n",
       "      <td>3</td>\n",
       "      <td>506</td>\n",
       "      <td>QUADHD</td>\n",
       "      <td>OLED</td>\n",
       "      <td>não</td>\n",
       "      <td>0</td>\n",
       "      <td>1000</td>\n",
       "      <td>premium</td>\n",
       "      <td>19841</td>\n",
       "    </tr>\n",
       "  </tbody>\n",
       "</table>\n",
       "</div>"
      ],
      "text/plain": [
       "    marca   ano  qtd_nucleos  qtd_threads  ram gpu_dedicada  ram_gpu   \n",
       "0  xiaomi  2012           12           19   16          não        0  \\\n",
       "1    dell  2014            6            8    6          não        0   \n",
       "2    asus  2022            6           12   12          não        0   \n",
       "3  xiaomi  2014            8            9   16          não        0   \n",
       "4    asus  2023           10           10    8          não        0   \n",
       "\n",
       "   entradas_usb  duracao_bateria resolucao_tela tipo_tela tela_touch   \n",
       "0             2              434         FULLHD      OLED        não  \\\n",
       "1             2              566         FULLHD        TN        não   \n",
       "2             3              281         FULLHD    AMOLED        sim   \n",
       "3             3              473         QUADHD      OLED        não   \n",
       "4             3              506         QUADHD      OLED        não   \n",
       "\n",
       "   armazenamento_hdd  armazenamento_ssd       segmento  valor  \n",
       "0                  0               2000        premium  18215  \n",
       "1                500               1000  ultraportatil  18904  \n",
       "2                  0                500           2em1  14217  \n",
       "3               2000                250        premium  19607  \n",
       "4                  0               1000        premium  19841  "
      ]
     },
     "execution_count": 21,
     "metadata": {},
     "output_type": "execute_result"
    }
   ],
   "source": [
    "df.head()"
   ]
  },
  {
   "cell_type": "code",
   "execution_count": 22,
   "metadata": {},
   "outputs": [],
   "source": [
    "from sklearn.preprocessing import LabelEncoder\n",
    "\n",
    "le = LabelEncoder()\n",
    "for i in df.describe(include = 'O').columns:\n",
    "    df[i] = le.fit_transform(df[i])"
   ]
  },
  {
   "cell_type": "code",
   "execution_count": 23,
   "metadata": {},
   "outputs": [],
   "source": [
    "X = df.drop('valor', axis = 1)\n",
    "y = df[['valor']]"
   ]
  },
  {
   "cell_type": "code",
   "execution_count": 24,
   "metadata": {},
   "outputs": [],
   "source": [
    "X = np.asarray(X)\n",
    "y = np.asarray(y)"
   ]
  },
  {
   "cell_type": "code",
   "execution_count": 25,
   "metadata": {},
   "outputs": [],
   "source": [
    "from sklearn.model_selection import train_test_split\n",
    "\n",
    "X_train, X_test, y_train, y_test = train_test_split(X, y, test_size=0.2, random_state=42)"
   ]
  },
  {
   "cell_type": "markdown",
   "metadata": {},
   "source": [
    "## Exercícios para GridSearch:"
   ]
  },
  {
   "cell_type": "markdown",
   "metadata": {},
   "source": [
    "### 1. Modelo Básico:\n",
    "- Crie um modelo sequencial simples com uma camada oculta e compile-o usando\n",
    "MSE (Erro Quadrático Médio) como função de perda. Use o GridSearchCV para\n",
    "encontrar a melhor função de ativação para essa camada oculta entre ['relu',\n",
    "'tanh', 'sigmoid']."
   ]
  },
  {
   "cell_type": "code",
   "execution_count": 26,
   "metadata": {},
   "outputs": [],
   "source": [
    "from keras.models import Sequential\n",
    "from keras.layers import Dense\n",
    "from keras.metrics import MeanSquaredError\n",
    "\n",
    "def create_model(neurons1 = 64, activation_function = 'relu'):\n",
    "    \n",
    "    model = Sequential()\n",
    "\n",
    "    model.add(Dense(neurons1, input_dim = X_train.shape[1], activation = activation_function))\n",
    "    model.add(Dense(1))\n",
    "    \n",
    "    model.compile(optimizer = 'adam', loss = 'mean_squared_error', metrics = ['accuracy'])\n",
    "    \n",
    "    return model"
   ]
  },
  {
   "cell_type": "code",
   "execution_count": 27,
   "metadata": {},
   "outputs": [
    {
     "name": "stderr",
     "output_type": "stream",
     "text": [
      "C:\\Users\\xx\\AppData\\Local\\Temp\\ipykernel_8816\\113293906.py:4: DeprecationWarning: KerasClassifier is deprecated, use Sci-Keras (https://github.com/adriangb/scikeras) instead. See https://www.adriangb.com/scikeras/stable/migration.html for help migrating.\n",
      "  model_for_grid = KerasClassifier(build_fn = create_model, epochs = 20, verbose = 0)\n"
     ]
    },
    {
     "name": "stdout",
     "output_type": "stream",
     "text": [
      "Melhores parâmetros: {'activation_function': 'relu'}\n"
     ]
    }
   ],
   "source": [
    "from keras.wrappers.scikit_learn import KerasClassifier\n",
    "from sklearn.model_selection import GridSearchCV\n",
    "\n",
    "model_for_grid = KerasClassifier(build_fn = create_model, epochs = 20, verbose = 0)\n",
    "\n",
    "param_grid = {\n",
    "    'activation_function': ['relu', 'tanh', 'sigmoid']\n",
    "}\n",
    "\n",
    "grid = GridSearchCV(estimator = model_for_grid, param_grid = param_grid, cv = 3)\n",
    "\n",
    "grid_result = grid.fit(X_train, y_train)\n",
    "\n",
    "print(f'Melhores parâmetros: {grid_result.best_params_}')"
   ]
  },
  {
   "cell_type": "markdown",
   "metadata": {},
   "source": [
    "### 2. Otimizando a Arquitetura:\n",
    "- Use o GridSearchCV para encontrar a melhor combinação de neurônios em duas\n",
    "camadas ocultas. Teste combinações entre [32, 64, 128] neurônios para cada\n",
    "camada."
   ]
  },
  {
   "cell_type": "code",
   "execution_count": 28,
   "metadata": {},
   "outputs": [],
   "source": [
    "def create_model(neurons1 = 64, neurons2 = 64, activation_function = 'relu'):\n",
    "    \n",
    "    model = Sequential()\n",
    "\n",
    "    model.add(Dense(neurons1, input_dim = X_train.shape[1], activation = activation_function))\n",
    "    model.add(Dense(neurons2, activation = activation_function))\n",
    "    model.add(Dense(1))\n",
    "    \n",
    "    model.compile(optimizer = 'adam', loss = 'mean_squared_error', metrics = ['accuracy'])\n",
    "    \n",
    "    return model"
   ]
  },
  {
   "cell_type": "code",
   "execution_count": 29,
   "metadata": {},
   "outputs": [
    {
     "name": "stderr",
     "output_type": "stream",
     "text": [
      "C:\\Users\\xx\\AppData\\Local\\Temp\\ipykernel_8816\\319167078.py:1: DeprecationWarning: KerasClassifier is deprecated, use Sci-Keras (https://github.com/adriangb/scikeras) instead. See https://www.adriangb.com/scikeras/stable/migration.html for help migrating.\n",
      "  model_for_grid = KerasClassifier(build_fn = create_model, epochs = 20, verbose = 0)\n"
     ]
    },
    {
     "name": "stdout",
     "output_type": "stream",
     "text": [
      "Melhores parâmetros: {'neurons1': 32, 'neurons2': 32}\n"
     ]
    }
   ],
   "source": [
    "model_for_grid = KerasClassifier(build_fn = create_model, epochs = 20, verbose = 0)\n",
    "\n",
    "\n",
    "param_grid = {\n",
    "    'neurons1': [32, 64, 128],\n",
    "    'neurons2': [32, 64, 128]\n",
    "}\n",
    "\n",
    "grid = GridSearchCV(estimator = model_for_grid, param_grid = param_grid, cv = 3)\n",
    "\n",
    "grid_result = grid.fit(X_train, y_train)\n",
    "\n",
    "print(f'Melhores parâmetros: {grid_result.best_params_}')"
   ]
  },
  {
   "cell_type": "markdown",
   "metadata": {},
   "source": [
    "### 3. Otimizando o Otimizador:\n",
    "- Mantendo a arquitetura do modelo fixa, utilize o GridSearchCV para encontrar o\n",
    "melhor otimizador entre ['adam', 'sgd', 'rmsprop']."
   ]
  },
  {
   "cell_type": "code",
   "execution_count": 32,
   "metadata": {},
   "outputs": [],
   "source": [
    "def create_model(neurons1 = 32, neurons2 = 32, activation_function = 'relu', optimizer = 'adam'):\n",
    "    \n",
    "    model = Sequential()\n",
    "\n",
    "    model.add(Dense(neurons1, input_dim = X_train.shape[1], activation = activation_function))\n",
    "    model.add(Dense(neurons2, activation = activation_function))\n",
    "    model.add(Dense(1))\n",
    "    \n",
    "    model.compile(optimizer = 'adam', loss = 'mean_squared_error', metrics = ['accuracy'])\n",
    "    \n",
    "    return model"
   ]
  },
  {
   "cell_type": "code",
   "execution_count": 33,
   "metadata": {},
   "outputs": [
    {
     "name": "stderr",
     "output_type": "stream",
     "text": [
      "C:\\Users\\xx\\AppData\\Local\\Temp\\ipykernel_8816\\2348818482.py:1: DeprecationWarning: KerasClassifier is deprecated, use Sci-Keras (https://github.com/adriangb/scikeras) instead. See https://www.adriangb.com/scikeras/stable/migration.html for help migrating.\n",
      "  model_for_grid = KerasClassifier(build_fn = create_model, epochs = 20, verbose = 0)\n"
     ]
    },
    {
     "name": "stdout",
     "output_type": "stream",
     "text": [
      "Melhores parâmetros: {'optimizer': 'adam'}\n"
     ]
    }
   ],
   "source": [
    "model_for_grid = KerasClassifier(build_fn = create_model, epochs = 20, verbose = 0)\n",
    "\n",
    "\n",
    "param_grid = {\n",
    "    'optimizer': ['adam', 'sgd', 'rmsprop']\n",
    "}\n",
    "\n",
    "grid = GridSearchCV(estimator = model_for_grid, param_grid = param_grid, cv = 3)\n",
    "\n",
    "grid_result = grid.fit(X_train, y_train)\n",
    "\n",
    "print(f'Melhores parâmetros: {grid_result.best_params_}')"
   ]
  },
  {
   "cell_type": "markdown",
   "metadata": {},
   "source": [
    "### 4. Batch Size e Epochs:\n",
    "- Determine o melhor batch_size e número de epochs usando o GridSearchCV.\n",
    "Teste para batch_size em [32, 64, 128] e epochs em [10, 20, 30]."
   ]
  },
  {
   "cell_type": "code",
   "execution_count": 34,
   "metadata": {},
   "outputs": [],
   "source": [
    "def create_model(neurons1 = 32, neurons2 = 32, activation_function = 'relu', optimizer = 'adam'):\n",
    "    \n",
    "    model = Sequential()\n",
    "\n",
    "    model.add(Dense(neurons1, input_dim = X_train.shape[1], activation = activation_function))\n",
    "    model.add(Dense(neurons2, activation = activation_function))\n",
    "    model.add(Dense(1))\n",
    "    \n",
    "    model.compile(optimizer = 'adam', loss = 'mean_squared_error', metrics = ['accuracy'])\n",
    "    \n",
    "    return model"
   ]
  },
  {
   "cell_type": "code",
   "execution_count": 35,
   "metadata": {},
   "outputs": [
    {
     "name": "stderr",
     "output_type": "stream",
     "text": [
      "C:\\Users\\xx\\AppData\\Local\\Temp\\ipykernel_8816\\2554534723.py:1: DeprecationWarning: KerasClassifier is deprecated, use Sci-Keras (https://github.com/adriangb/scikeras) instead. See https://www.adriangb.com/scikeras/stable/migration.html for help migrating.\n",
      "  model_for_grid = KerasClassifier(build_fn = create_model, epochs = 20, batch_size = 32, verbose = 0)\n"
     ]
    },
    {
     "name": "stdout",
     "output_type": "stream",
     "text": [
      "Melhores parâmetros: {'batch_size': 32, 'epochs': 10}\n"
     ]
    }
   ],
   "source": [
    "model_for_grid = KerasClassifier(build_fn = create_model, epochs = 20, batch_size = 32, verbose = 0)\n",
    "\n",
    "\n",
    "param_grid = {\n",
    "    'batch_size': [32, 64, 128],\n",
    "    'epochs': [10, 20, 30]\n",
    "}\n",
    "\n",
    "grid = GridSearchCV(estimator = model_for_grid, param_grid = param_grid, cv = 3)\n",
    "\n",
    "grid_result = grid.fit(X_train, y_train)\n",
    "\n",
    "print(f'Melhores parâmetros: {grid_result.best_params_}')"
   ]
  },
  {
   "cell_type": "markdown",
   "metadata": {},
   "source": [
    "### 5. Regularização:\n",
    "- Use o GridSearchCV para encontrar o melhor valor para a regularização L2 (use\n",
    "keras.regularizers.l2) para uma camada oculta. Teste valores como [0.01, 0.001,\n",
    "0.0001]."
   ]
  },
  {
   "cell_type": "code",
   "execution_count": 45,
   "metadata": {},
   "outputs": [],
   "source": [
    "from keras.regularizers import l2\n",
    "\n",
    "def create_model(neurons1 = 32, neurons2 = 32, activation_function = 'relu', optimizer = 'adam', reg = 0.01):\n",
    "    \n",
    "    model = Sequential()\n",
    "\n",
    "    model.add(Dense(neurons1, input_dim = X_train.shape[1], activation = activation_function))\n",
    "    model.add(Dense(neurons2, activation = activation_function, activity_regularizer = l2(reg)))\n",
    "    model.add(Dense(1))\n",
    "    \n",
    "    model.compile(optimizer = 'adam', loss = 'mean_squared_error', metrics = ['accuracy'])\n",
    "    \n",
    "    return model"
   ]
  },
  {
   "cell_type": "code",
   "execution_count": 46,
   "metadata": {},
   "outputs": [
    {
     "name": "stderr",
     "output_type": "stream",
     "text": [
      "C:\\Users\\xx\\AppData\\Local\\Temp\\ipykernel_8816\\1185696515.py:1: DeprecationWarning: KerasClassifier is deprecated, use Sci-Keras (https://github.com/adriangb/scikeras) instead. See https://www.adriangb.com/scikeras/stable/migration.html for help migrating.\n",
      "  model_for_grid = KerasClassifier(build_fn = create_model, epochs = 20, batch_size = 32, verbose = 0, reg = 0.01)\n"
     ]
    },
    {
     "name": "stdout",
     "output_type": "stream",
     "text": [
      "Melhores parâmetros: {'reg': 0.01}\n"
     ]
    }
   ],
   "source": [
    "model_for_grid = KerasClassifier(build_fn = create_model, epochs = 20, batch_size = 32, verbose = 0, reg = 0.01)\n",
    "\n",
    "\n",
    "param_grid = {\n",
    "    'reg': [0.01, 0.001, 0.0001]\n",
    "}\n",
    "\n",
    "grid = GridSearchCV(estimator = model_for_grid, param_grid = param_grid, cv = 3)\n",
    "\n",
    "grid_result = grid.fit(X_train, y_train)\n",
    "\n",
    "print(f'Melhores parâmetros: {grid_result.best_params_}')"
   ]
  },
  {
   "cell_type": "markdown",
   "metadata": {},
   "source": [
    "## Exercícios para RandomizedSearch:"
   ]
  },
  {
   "cell_type": "markdown",
   "metadata": {},
   "source": [
    "### 6. Função de Ativação Aleatória:\n",
    "* Semelhante ao exercício 1, mas agora usando RandomizedSearchCV para\n",
    "selecionar aleatoriamente a melhor função de ativação."
   ]
  },
  {
   "cell_type": "code",
   "execution_count": 48,
   "metadata": {},
   "outputs": [],
   "source": [
    "def create_model(neurons1 = 32, neurons2 = 32, activation_function = 'relu', optimizer = 'adam', reg = 0.01):\n",
    "    \n",
    "    model = Sequential()\n",
    "\n",
    "    model.add(Dense(neurons1, input_dim = X_train.shape[1], activation = activation_function))\n",
    "    model.add(Dense(neurons2, activation = activation_function, activity_regularizer = l2(reg)))\n",
    "    model.add(Dense(1))\n",
    "    \n",
    "    model.compile(optimizer = 'adam', loss = 'mean_squared_error', metrics = ['accuracy'])\n",
    "    \n",
    "    return model"
   ]
  },
  {
   "cell_type": "code",
   "execution_count": 49,
   "metadata": {},
   "outputs": [
    {
     "name": "stderr",
     "output_type": "stream",
     "text": [
      "C:\\Users\\xx\\AppData\\Local\\Temp\\ipykernel_8816\\3382902740.py:7: DeprecationWarning: KerasClassifier is deprecated, use Sci-Keras (https://github.com/adriangb/scikeras) instead. See https://www.adriangb.com/scikeras/stable/migration.html for help migrating.\n",
      "  model_for_grid = KerasClassifier(build_fn = create_model, epochs = 20, verbose = 0)\n"
     ]
    },
    {
     "name": "stdout",
     "output_type": "stream",
     "text": [
      "Melhores parâmetros usando RandomizedSearchCV: {'activation_function': 'relu'}\n"
     ]
    }
   ],
   "source": [
    "from sklearn.model_selection import RandomizedSearchCV\n",
    "\n",
    "model_for_grid = KerasClassifier(build_fn = create_model, epochs = 20, verbose = 0)\n",
    "\n",
    "param_dist = {\n",
    "    'activation_function': ['relu', 'tanh', 'softmax']\n",
    "}\n",
    "\n",
    "random_search = RandomizedSearchCV(estimator = model_for_grid, param_distributions = param_dist, n_iter = 10, cv=3)\n",
    "\n",
    "random_result = random_search.fit(X_train, y_train)\n",
    "\n",
    "print(f\"Melhores parâmetros usando RandomizedSearchCV: {random_result.best_params_}\")"
   ]
  },
  {
   "cell_type": "markdown",
   "metadata": {},
   "source": [
    "### 7. Arquitetura Aleatória:\n",
    "* Use o RandomizedSearchCV para encontrar uma combinação ótima de neurônios\n",
    "em três camadas ocultas. Permita que qualquer valor entre 10 e 150 neurônios\n",
    "seja testado para cada camada."
   ]
  },
  {
   "cell_type": "code",
   "execution_count": 63,
   "metadata": {},
   "outputs": [],
   "source": [
    "def create_model(neurons1 = 32, neurons2 = 32, neurons3 = 32, activation_function = 'relu', optimizer = 'adam', reg = 0.01):\n",
    "    \n",
    "    model = Sequential()\n",
    "\n",
    "    model.add(Dense(neurons1, input_dim = X_train.shape[1], activation = activation_function))\n",
    "    model.add(Dense(neurons2, activation = activation_function, activity_regularizer = l2(reg)))\n",
    "    model.add(Dense(neurons3, activation = activation_function, activity_regularizer = l2(reg)))\n",
    "    model.add(Dense(1))\n",
    "    \n",
    "    model.compile(optimizer = 'adam', loss = 'mean_squared_error', metrics = ['accuracy'])\n",
    "    \n",
    "    return model"
   ]
  },
  {
   "cell_type": "code",
   "execution_count": 65,
   "metadata": {},
   "outputs": [
    {
     "name": "stderr",
     "output_type": "stream",
     "text": [
      "C:\\Users\\xx\\AppData\\Local\\Temp\\ipykernel_8816\\2939061847.py:1: DeprecationWarning: KerasClassifier is deprecated, use Sci-Keras (https://github.com/adriangb/scikeras) instead. See https://www.adriangb.com/scikeras/stable/migration.html for help migrating.\n",
      "  model_for_grid = KerasClassifier(build_fn = create_model, epochs = 20, verbose = 0)\n",
      "C:\\Users\\xx\\AppData\\Local\\Temp\\ipykernel_8816\\2939061847.py:10: DeprecationWarning: KerasClassifier is deprecated, use Sci-Keras (https://github.com/adriangb/scikeras) instead. See https://www.adriangb.com/scikeras/stable/migration.html for help migrating.\n",
      "  model_for_grid = KerasClassifier(build_fn = create_model, epochs = 20, verbose = 0)\n"
     ]
    },
    {
     "name": "stdout",
     "output_type": "stream",
     "text": [
      "Melhores parâmetros: {'neurons3': 10, 'neurons2': 150, 'neurons1': 150}\n"
     ]
    }
   ],
   "source": [
    "model_for_grid = KerasClassifier(build_fn = create_model, epochs = 20, verbose = 0)\n",
    "\n",
    "param_dist = {\n",
    "    'neurons1': [10, 50, 150],\n",
    "    'neurons2': [10, 50, 150],\n",
    "    'neurons3': [10, 50, 150]\n",
    "}\n",
    "\n",
    "random_search = RandomizedSearchCV(estimator = model_for_grid, param_distributions = param_dist, n_iter = 10, cv = 3)\n",
    "\n",
    "random_result = random_search.fit(X_train, y_train)\n",
    "\n",
    "print(f'Melhores parâmetros: {random_result.best_params_}')"
   ]
  },
  {
   "cell_type": "markdown",
   "metadata": {},
   "source": [
    "### 8. Otimizador Aleatório:\n",
    "* Similar ao exercício 3, mas agora usando RandomizedSearchCV."
   ]
  },
  {
   "cell_type": "code",
   "execution_count": 72,
   "metadata": {},
   "outputs": [],
   "source": [
    "def create_model(neurons1 = 150, neurons2 = 150, neurons3 = 10, activation_function = 'relu', optimizer = 'adam', reg = 0.01):\n",
    "    \n",
    "    model = Sequential()\n",
    "\n",
    "    model.add(Dense(neurons1, input_dim = X_train.shape[1], activation = activation_function))\n",
    "    model.add(Dense(neurons2, activation = activation_function, activity_regularizer = l2(reg)))\n",
    "    model.add(Dense(neurons3, activation = activation_function, activity_regularizer = l2(reg)))\n",
    "    model.add(Dense(1))\n",
    "    \n",
    "    model.compile(optimizer = 'adam', loss = 'mean_squared_error', metrics = ['accuracy'])\n",
    "    \n",
    "    return model"
   ]
  },
  {
   "cell_type": "code",
   "execution_count": 73,
   "metadata": {},
   "outputs": [
    {
     "name": "stderr",
     "output_type": "stream",
     "text": [
      "C:\\Users\\xx\\AppData\\Local\\Temp\\ipykernel_8816\\1865325406.py:1: DeprecationWarning: KerasClassifier is deprecated, use Sci-Keras (https://github.com/adriangb/scikeras) instead. See https://www.adriangb.com/scikeras/stable/migration.html for help migrating.\n",
      "  model_for_grid = KerasClassifier(build_fn = create_model, epochs = 20, verbose = 0)\n"
     ]
    },
    {
     "name": "stdout",
     "output_type": "stream",
     "text": [
      "Melhores parâmetros: {'optimizer': 'adam'}\n"
     ]
    }
   ],
   "source": [
    "model_for_grid = KerasClassifier(build_fn = create_model, epochs = 20, verbose = 0)\n",
    "\n",
    "param_dist = {\n",
    "    'optimizer': ['adam', 'sgd', 'rmsprop']\n",
    "}\n",
    "\n",
    "random_search = RandomizedSearchCV(estimator = model_for_grid, param_distributions = param_dist, n_iter = 10, cv = 3)\n",
    "\n",
    "random_result = random_search.fit(X_train, y_train)\n",
    "\n",
    "print(f'Melhores parâmetros: {random_result.best_params_}')"
   ]
  },
  {
   "cell_type": "markdown",
   "metadata": {},
   "source": [
    "### 9. Iniciação de Pesos:\n",
    "* Use o RandomizedSearchCV para testar diferentes inicializações de peso\n",
    "['uniform', 'normal', 'zero'] em sua camada oculta."
   ]
  },
  {
   "cell_type": "code",
   "execution_count": 76,
   "metadata": {},
   "outputs": [],
   "source": [
    "def create_model(neurons1 = 10, neurons2 = 50, neurons3 = 50, activation_function = 'relu', optimizer = 'adam', reg = 0.01, kernel_initializer = 'uniform'):\n",
    "    \n",
    "    model = Sequential()\n",
    "\n",
    "    model.add(Dense(neurons1, input_dim = X_train.shape[1], activation = activation_function, kernel_initializer = 'uniform'))\n",
    "    model.add(Dense(1))\n",
    "    \n",
    "    model.compile(optimizer = 'adam', loss = 'mean_squared_error', metrics = ['accuracy'])\n",
    "    \n",
    "    return model"
   ]
  },
  {
   "cell_type": "code",
   "execution_count": 77,
   "metadata": {},
   "outputs": [
    {
     "name": "stderr",
     "output_type": "stream",
     "text": [
      "C:\\Users\\xx\\AppData\\Local\\Temp\\ipykernel_8816\\2227252951.py:1: DeprecationWarning: KerasClassifier is deprecated, use Sci-Keras (https://github.com/adriangb/scikeras) instead. See https://www.adriangb.com/scikeras/stable/migration.html for help migrating.\n",
      "  model_for_grid = KerasClassifier(build_fn = create_model, epochs = 20, verbose = 0)\n"
     ]
    },
    {
     "name": "stdout",
     "output_type": "stream",
     "text": [
      "Melhores parâmetros: {'kernel_initializer': 'uniform'}\n"
     ]
    }
   ],
   "source": [
    "model_for_grid = KerasClassifier(build_fn = create_model, epochs = 20, verbose = 0)\n",
    "\n",
    "param_dist = {\n",
    "    'kernel_initializer': ['uniform', 'normal', 'zero']\n",
    "}\n",
    "\n",
    "random_search = RandomizedSearchCV(estimator = model_for_grid, param_distributions = param_dist, n_iter = 10, cv = 3)\n",
    "\n",
    "random_result = random_search.fit(X_train, y_train)\n",
    "\n",
    "print(f'Melhores parâmetros: {random_result.best_params_}')"
   ]
  },
  {
   "cell_type": "markdown",
   "metadata": {},
   "source": [
    "### 10. Taxa de Aprendizado:\n",
    "* Se usar o otimizador 'adam', teste diferentes taxas de aprendizado entre 0.001 e 0.1\n",
    "usando RandomizedSearchCV."
   ]
  },
  {
   "cell_type": "code",
   "execution_count": 84,
   "metadata": {},
   "outputs": [],
   "source": [
    "def create_model(neurons1 = 10, neurons2 = 50, neurons3 = 50, activation_function = 'relu', optimizer = 'adam', reg = 0.01, kernel_initializer = 'uniform', learning_rate = 0.001):\n",
    "    \n",
    "    model = Sequential()\n",
    "\n",
    "    model.add(Dense(neurons1, input_dim = X_train.shape[1], activation = activation_function, kernel_initializer = 'uniform'))\n",
    "    model.add(Dense(1))\n",
    "    \n",
    "    model.compile(optimizer = 'sgd', loss = 'mean_squared_error', metrics = ['accuracy'])\n",
    "    \n",
    "    return model"
   ]
  },
  {
   "cell_type": "code",
   "execution_count": 86,
   "metadata": {},
   "outputs": [
    {
     "name": "stderr",
     "output_type": "stream",
     "text": [
      "C:\\Users\\xx\\AppData\\Local\\Temp\\ipykernel_8816\\4103602608.py:1: DeprecationWarning: KerasClassifier is deprecated, use Sci-Keras (https://github.com/adriangb/scikeras) instead. See https://www.adriangb.com/scikeras/stable/migration.html for help migrating.\n",
      "  model_for_grid = KerasClassifier(build_fn = create_model, epochs = 20, verbose = 0, learning_rate = 0.001)\n",
      "c:\\Users\\xx\\AppData\\Local\\Programs\\Python\\Python311\\Lib\\site-packages\\sklearn\\model_selection\\_search.py:305: UserWarning: The total space of parameters 3 is smaller than n_iter=10. Running 3 iterations. For exhaustive searches, use GridSearchCV.\n",
      "  warnings.warn(\n"
     ]
    },
    {
     "name": "stdout",
     "output_type": "stream",
     "text": [
      "Melhores parâmetros: {'learning_rate': 0.001}\n"
     ]
    }
   ],
   "source": [
    "model_for_grid = KerasClassifier(build_fn = create_model, epochs = 20, verbose = 0, learning_rate = 0.001)\n",
    "\n",
    "param_dist = {\n",
    "    'learning_rate': [0.001, 0.01, 0.1]\n",
    "}\n",
    "\n",
    "random_search = RandomizedSearchCV(estimator = model_for_grid, param_distributions = param_dist, n_iter = 10, cv = 3)\n",
    "\n",
    "random_result = random_search.fit(X_train, y_train)\n",
    "\n",
    "print(f'Melhores parâmetros: {random_result.best_params_}')"
   ]
  },
  {
   "cell_type": "markdown",
   "metadata": {},
   "source": [
    "## Exercícios para Otimização Bayesiana:"
   ]
  },
  {
   "cell_type": "markdown",
   "metadata": {},
   "source": [
    "### 11. Função de Ativação Bayesiana:\n",
    "* Implemente uma função objetivo para otimizar a função de ativação da camada oculta e\n",
    "use a Otimização Bayesiana para encontrar a melhor."
   ]
  },
  {
   "cell_type": "code",
   "execution_count": 99,
   "metadata": {},
   "outputs": [],
   "source": [
    "def objective_function(neurons1 = 32, neurons2 = 32, activation_index = 0):\n",
    "\n",
    "    activation_functions = ['relu', 'tanh', 'sigmoid']\n",
    "    activation_function = activation_functions[int(activation_index)]\n",
    "    \n",
    "    model = create_model(int(neurons1), int(neurons2), activation_function)\n",
    "    \n",
    "    history = model.fit(X_train, y_train, epochs=20, verbose=0, validation_split=0.2)\n",
    "    \n",
    "    val_accuracy = history.history['val_accuracy'][-1]\n",
    "    \n",
    "    return val_accuracy"
   ]
  },
  {
   "cell_type": "code",
   "execution_count": 101,
   "metadata": {},
   "outputs": [
    {
     "name": "stdout",
     "output_type": "stream",
     "text": [
      "|   iter    |  target   | activa... | neurons1  | neurons2  |\n",
      "-------------------------------------------------------------\n",
      "| \u001b[0m1        \u001b[0m | \u001b[0m0.0      \u001b[0m | \u001b[0m0.834    \u001b[0m | \u001b[0m32.0     \u001b[0m | \u001b[0m32.0     \u001b[0m |\n",
      "| \u001b[0m2        \u001b[0m | \u001b[0m0.0      \u001b[0m | \u001b[0m0.6047   \u001b[0m | \u001b[0m32.0     \u001b[0m | \u001b[0m32.0     \u001b[0m |\n",
      "| \u001b[0m3        \u001b[0m | \u001b[0m0.0      \u001b[0m | \u001b[0m0.3725   \u001b[0m | \u001b[0m32.0     \u001b[0m | \u001b[0m32.0     \u001b[0m |\n",
      "| \u001b[0m4        \u001b[0m | \u001b[0m0.0      \u001b[0m | \u001b[0m1.078    \u001b[0m | \u001b[0m32.0     \u001b[0m | \u001b[0m32.0     \u001b[0m |\n",
      "| \u001b[0m5        \u001b[0m | \u001b[0m0.0      \u001b[0m | \u001b[0m0.4089   \u001b[0m | \u001b[0m32.0     \u001b[0m | \u001b[0m32.0     \u001b[0m |\n",
      "| \u001b[0m6        \u001b[0m | \u001b[0m0.0      \u001b[0m | \u001b[0m2.0      \u001b[0m | \u001b[0m32.0     \u001b[0m | \u001b[0m32.0     \u001b[0m |\n",
      "| \u001b[0m7        \u001b[0m | \u001b[0m0.0      \u001b[0m | \u001b[0m2.0      \u001b[0m | \u001b[0m32.0     \u001b[0m | \u001b[0m32.0     \u001b[0m |\n",
      "| \u001b[0m8        \u001b[0m | \u001b[0m0.0      \u001b[0m | \u001b[0m0.00073  \u001b[0m | \u001b[0m32.0     \u001b[0m | \u001b[0m32.0     \u001b[0m |\n",
      "| \u001b[0m9        \u001b[0m | \u001b[0m0.0      \u001b[0m | \u001b[0m1.999    \u001b[0m | \u001b[0m32.0     \u001b[0m | \u001b[0m32.0     \u001b[0m |\n",
      "| \u001b[0m10       \u001b[0m | \u001b[0m0.0      \u001b[0m | \u001b[0m7.284e-05\u001b[0m | \u001b[0m32.0     \u001b[0m | \u001b[0m32.0     \u001b[0m |\n",
      "| \u001b[0m11       \u001b[0m | \u001b[0m0.0      \u001b[0m | \u001b[0m2.0      \u001b[0m | \u001b[0m32.0     \u001b[0m | \u001b[0m32.0     \u001b[0m |\n",
      "| \u001b[0m12       \u001b[0m | \u001b[0m0.0      \u001b[0m | \u001b[0m0.0004259\u001b[0m | \u001b[0m32.0     \u001b[0m | \u001b[0m32.0     \u001b[0m |\n",
      "| \u001b[0m13       \u001b[0m | \u001b[0m0.0      \u001b[0m | \u001b[0m2.0      \u001b[0m | \u001b[0m32.0     \u001b[0m | \u001b[0m32.0     \u001b[0m |\n",
      "| \u001b[0m14       \u001b[0m | \u001b[0m0.0      \u001b[0m | \u001b[0m0.0007079\u001b[0m | \u001b[0m32.0     \u001b[0m | \u001b[0m32.0     \u001b[0m |\n",
      "| \u001b[0m15       \u001b[0m | \u001b[0m0.0      \u001b[0m | \u001b[0m2.0      \u001b[0m | \u001b[0m32.0     \u001b[0m | \u001b[0m32.0     \u001b[0m |\n",
      "=============================================================\n",
      "Melhores parâmetros usando otimização bayesiana: {'activation_index': 0.834044009405148, 'neurons1': 32.0, 'neurons2': 32.0}\n"
     ]
    }
   ],
   "source": [
    "pbounds = {\n",
    "    'neurons1': (32, 32),\n",
    "    'neurons2': (32, 32),\n",
    "    'activation_index': (0, 2)\n",
    "}\n",
    "\n",
    "optimizer = BayesianOptimization(\n",
    "    f = objective_function,\n",
    "    pbounds = pbounds,\n",
    "    random_state = 1\n",
    ")\n",
    "\n",
    "optimizer.maximize(init_points = 5, n_iter = 10)\n",
    "\n",
    "print(f\"Melhores parâmetros usando otimização bayesiana: {optimizer.max['params']}\")"
   ]
  },
  {
   "cell_type": "markdown",
   "metadata": {},
   "source": [
    "### 12. Otimização da Arquitetura:\n",
    "* Use a Otimização Bayesiana para encontrar a melhor combinação de neurônios em duas\n",
    "camadas ocultas. Defina os limites entre 10 e 150 neurônios."
   ]
  },
  {
   "cell_type": "code",
   "execution_count": 102,
   "metadata": {},
   "outputs": [
    {
     "name": "stdout",
     "output_type": "stream",
     "text": [
      "|   iter    |  target   | neurons1  | neurons2  |\n",
      "-------------------------------------------------\n",
      "| \u001b[0m1        \u001b[0m | \u001b[0m0.0      \u001b[0m | \u001b[0m68.38    \u001b[0m | \u001b[0m110.8    \u001b[0m |\n",
      "| \u001b[0m2        \u001b[0m | \u001b[0m0.0      \u001b[0m | \u001b[0m10.02    \u001b[0m | \u001b[0m52.33    \u001b[0m |\n",
      "| \u001b[0m3        \u001b[0m | \u001b[0m0.0      \u001b[0m | \u001b[0m30.55    \u001b[0m | \u001b[0m22.93    \u001b[0m |\n",
      "| \u001b[0m4        \u001b[0m | \u001b[0m0.0      \u001b[0m | \u001b[0m36.08    \u001b[0m | \u001b[0m58.38    \u001b[0m |\n",
      "| \u001b[0m5        \u001b[0m | \u001b[0m0.0      \u001b[0m | \u001b[0m65.55    \u001b[0m | \u001b[0m85.43    \u001b[0m |\n",
      "| \u001b[0m6        \u001b[0m | \u001b[0m0.0      \u001b[0m | \u001b[0m149.7    \u001b[0m | \u001b[0m13.5     \u001b[0m |\n",
      "| \u001b[0m7        \u001b[0m | \u001b[0m0.0      \u001b[0m | \u001b[0m148.8    \u001b[0m | \u001b[0m149.9    \u001b[0m |\n",
      "| \u001b[0m8        \u001b[0m | \u001b[0m0.0      \u001b[0m | \u001b[0m10.78    \u001b[0m | \u001b[0m149.0    \u001b[0m |\n",
      "| \u001b[0m9        \u001b[0m | \u001b[0m0.0      \u001b[0m | \u001b[0m149.6    \u001b[0m | \u001b[0m10.57    \u001b[0m |\n",
      "| \u001b[0m10       \u001b[0m | \u001b[0m0.0      \u001b[0m | \u001b[0m148.9    \u001b[0m | \u001b[0m150.0    \u001b[0m |\n",
      "| \u001b[0m11       \u001b[0m | \u001b[0m0.0      \u001b[0m | \u001b[0m10.64    \u001b[0m | \u001b[0m147.9    \u001b[0m |\n",
      "| \u001b[0m12       \u001b[0m | \u001b[0m0.0      \u001b[0m | \u001b[0m11.02    \u001b[0m | \u001b[0m11.0     \u001b[0m |\n",
      "| \u001b[0m13       \u001b[0m | \u001b[0m0.0      \u001b[0m | \u001b[0m149.8    \u001b[0m | \u001b[0m11.5     \u001b[0m |\n",
      "| \u001b[0m14       \u001b[0m | \u001b[0m0.0      \u001b[0m | \u001b[0m146.8    \u001b[0m | \u001b[0m149.8    \u001b[0m |\n",
      "| \u001b[0m15       \u001b[0m | \u001b[0m0.0      \u001b[0m | \u001b[0m11.44    \u001b[0m | \u001b[0m149.5    \u001b[0m |\n",
      "=================================================\n",
      "Melhores parâmetros usando otimização bayesiana: {'neurons1': 68.38308065836037, 'neurons2': 110.84542908190214}\n"
     ]
    }
   ],
   "source": [
    "pbounds = {\n",
    "    'neurons1': (10, 150),\n",
    "    'neurons2': (10, 150),\n",
    "}\n",
    "\n",
    "optimizer = BayesianOptimization(\n",
    "    f = objective_function,\n",
    "    pbounds = pbounds,\n",
    "    random_state = 1\n",
    ")\n",
    "\n",
    "optimizer.maximize(init_points = 5, n_iter = 10)\n",
    "\n",
    "print(f\"Melhores parâmetros usando otimização bayesiana: {optimizer.max['params']}\")"
   ]
  },
  {
   "cell_type": "markdown",
   "metadata": {},
   "source": [
    "### 13. Otimizador Bayesiano:\n",
    "* Determine o melhor otimizador, transformando seus índices em um espaço contínuo e\n",
    "usando Otimização Bayesiana."
   ]
  },
  {
   "cell_type": "code",
   "execution_count": null,
   "metadata": {},
   "outputs": [],
   "source": []
  },
  {
   "cell_type": "markdown",
   "metadata": {},
   "source": [
    "### 14. Dropout:\n",
    "* Use a Otimização Bayesiana para encontrar a melhor taxa de dropout após cada camada\n",
    "oculta. Teste valores entre 0 e 0.5."
   ]
  },
  {
   "cell_type": "code",
   "execution_count": null,
   "metadata": {},
   "outputs": [],
   "source": []
  },
  {
   "cell_type": "markdown",
   "metadata": {},
   "source": [
    "### 15. Taxa de Aprendizado Bayesiana:\n",
    "* Optimize a taxa de aprendizado do otimizador 'adam' usando Otimização Bayesiana. Teste\n",
    "valores entre 0.0001 e 0.1."
   ]
  },
  {
   "cell_type": "code",
   "execution_count": null,
   "metadata": {},
   "outputs": [],
   "source": []
  }
 ],
 "metadata": {
  "kernelspec": {
   "display_name": "base",
   "language": "python",
   "name": "python3"
  },
  "language_info": {
   "codemirror_mode": {
    "name": "ipython",
    "version": 3
   },
   "file_extension": ".py",
   "mimetype": "text/x-python",
   "name": "python",
   "nbconvert_exporter": "python",
   "pygments_lexer": "ipython3",
   "version": "3.11.3"
  },
  "orig_nbformat": 4
 },
 "nbformat": 4,
 "nbformat_minor": 2
}
