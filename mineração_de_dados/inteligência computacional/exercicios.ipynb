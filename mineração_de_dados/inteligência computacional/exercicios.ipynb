{
 "cells": [
  {
   "cell_type": "code",
   "execution_count": null,
   "metadata": {},
   "outputs": [],
   "source": [
    "import pandas as pd"
   ]
  },
  {
   "cell_type": "code",
   "execution_count": null,
   "metadata": {},
   "outputs": [],
   "source": [
    "df = pd.read_csv('titanic.csv')"
   ]
  },
  {
   "attachments": {},
   "cell_type": "markdown",
   "metadata": {},
   "source": [
    "## A base de dados Titanic representa informações sobre os passageiros do navio Titanic, que naufragou em 1912. A base contém informações como a classe em que o passageiro viajou, o sexo, a idade, o número de irmãos/cônjuges a bordo, o número de pais/filhos a bordo, a tarifa paga, o porto de embarque, se sobreviveu ou não, entre outras."
   ]
  },
  {
   "attachments": {},
   "cell_type": "markdown",
   "metadata": {},
   "source": [
    "# 1 - Qual a quantidade de passageiros que sobreviveram e que não sobreviveram?"
   ]
  },
  {
   "cell_type": "code",
   "execution_count": null,
   "metadata": {},
   "outputs": [],
   "source": [
    "df.head()"
   ]
  },
  {
   "attachments": {},
   "cell_type": "markdown",
   "metadata": {},
   "source": [
    "Consultando linhas do dataframe em que a coluna \"Sobreviveu\" é \"Sim\" ou \"Não\", depois, calculando a porcentagem e arredondando com a função ```round()```\n",
    "(desse ponto em diante, todas as aproximações utilizam essa função)"
   ]
  },
  {
   "cell_type": "code",
   "execution_count": null,
   "metadata": {},
   "outputs": [],
   "source": [
    "sobreviventes = len(df[df['Sobreviveu'] == 'Sim'])\n",
    "n_sobreviventes = len(df[df['Sobreviveu'] == 'Não'])\n",
    "taxa_sobreviventes = round(len(df[df['Sobreviveu'] == 'Sim']) / len(df) * 100, 2)\n",
    "\n",
    "print ('Sobreviveram:', sobreviventes, '\\n'\n",
    "'Não sobreviveram:', n_sobreviventes, '\\n'\n",
    "'No total, aproximadamente', str(taxa_sobreviventes) + '% dos passageiros sobreviveu.')"
   ]
  },
  {
   "attachments": {},
   "cell_type": "markdown",
   "metadata": {},
   "source": [
    "# 2 - Qual a porcentagem de homens e a porcentagem de mulheres que sobreviveram?"
   ]
  },
  {
   "attachments": {},
   "cell_type": "markdown",
   "metadata": {},
   "source": [
    "Calculando a porcentagem total com regra de 3 simples e o valor do total com a função ```len()``` e o operador ```&```"
   ]
  },
  {
   "cell_type": "code",
   "execution_count": null,
   "metadata": {},
   "outputs": [],
   "source": [
    "masculino_sobrevivente = len(df[(df['Sexo'] == 'Masculino') & (df['Sobreviveu'] == 'Sim')])\n",
    "feminino_sobrevivente = len(df[(df['Sexo'] == 'Feminino') & (df['Sobreviveu'] == 'Sim')])\n",
    "\n",
    "print('Homens que sobreviveram do total: aproximadamente', str(round(masculino_sobrevivente / len(df) * 100, 2)) + '%\\n'\n",
    "'Mulheres que sobreviveram do total: aproximadamente', str(round(feminino_sobrevivente / len(df) * 100, 2)) + '%')"
   ]
  },
  {
   "attachments": {},
   "cell_type": "markdown",
   "metadata": {},
   "source": [
    "Calculando a porcentagem dos sobreviventes com regra de 3 simples"
   ]
  },
  {
   "cell_type": "code",
   "execution_count": null,
   "metadata": {},
   "outputs": [],
   "source": [
    "sobrevivente_masculino = len(df[(df['Sexo'] == 'Masculino') & (df['Sobreviveu'] == 'Sim')])\n",
    "sobrevivente_feminino = len(df[(df['Sexo'] == 'Feminino') & (df['Sobreviveu'] == 'Sim')])\n",
    "\n",
    "print('Dos sobreviventes, aproximadamente', str(round(sobrevivente_masculino / len(df[df['Sobreviveu'] == 'Sim']) * 100, 2)) + '% eram homens\\n'\n",
    "'Dos sobreviventes, aproximadamente', str(round(sobrevivente_feminino / len(df[df['Sobreviveu'] == 'Sim']) * 100, 2)) + '% eram mulheres')"
   ]
  },
  {
   "attachments": {},
   "cell_type": "markdown",
   "metadata": {},
   "source": [
    "# 3 - Qual a idade média dos passageiros?"
   ]
  },
  {
   "attachments": {},
   "cell_type": "markdown",
   "metadata": {},
   "source": [
    "Forma 1: analisando estatísticas com a função ```df.describe()```, a média situa-se na linha \"mean\" (de \"média\", em inglês)"
   ]
  },
  {
   "cell_type": "code",
   "execution_count": null,
   "metadata": {},
   "outputs": [],
   "source": [
    "df.describe()"
   ]
  },
  {
   "attachments": {},
   "cell_type": "markdown",
   "metadata": {},
   "source": [
    "Forma 2: usando a função ```df['Coluna'].mean()```, que retorna a média dos valores da coluna"
   ]
  },
  {
   "cell_type": "code",
   "execution_count": null,
   "metadata": {},
   "outputs": [],
   "source": [
    "print('A idade média dos passageiros era', round(df['Idade'].mean()), 'anos')"
   ]
  },
  {
   "attachments": {},
   "cell_type": "markdown",
   "metadata": {},
   "source": [
    "# 4 - Qual a tarifa média paga pelos passageiros?"
   ]
  },
  {
   "attachments": {},
   "cell_type": "markdown",
   "metadata": {},
   "source": [
    "Forma 1: analisando estatísticas com a função ```df.describe()```, a média situa-se na linha \"mean\" (de \"média\", em inglês)"
   ]
  },
  {
   "cell_type": "code",
   "execution_count": null,
   "metadata": {},
   "outputs": [],
   "source": [
    "df.describe()"
   ]
  },
  {
   "attachments": {},
   "cell_type": "markdown",
   "metadata": {},
   "source": [
    "Forma 2: usando a função ```df['Coluna'].mean()```, que retorna a média dos valores da coluna (não foi especificado na questão qual moeda foi utilizada nas compras)"
   ]
  },
  {
   "cell_type": "code",
   "execution_count": null,
   "metadata": {},
   "outputs": [],
   "source": [
    "print('A tarifa média paga pelos passageiros foi aproximadamente', round(df['Tarifa'].mean(), 2), 'dinheiros')"
   ]
  },
  {
   "attachments": {},
   "cell_type": "markdown",
   "metadata": {},
   "source": [
    "# 5 - Qual a correlação entre a idade e a tarifa paga?"
   ]
  },
  {
   "attachments": {},
   "cell_type": "markdown",
   "metadata": {},
   "source": [
    "Utilizando a função ```df['Coluna0'].corr(df['Coluna1'])``` do pandas e multiplicando por 100 para escalar para porcentagem"
   ]
  },
  {
   "cell_type": "code",
   "execution_count": null,
   "metadata": {},
   "outputs": [],
   "source": [
    "print('A correlação entre a idade e a tarifa é de aproximadamente', str(round(df['Idade'].corr(df['Tarifa']) * 100, 2)) + '%')"
   ]
  },
  {
   "attachments": {},
   "cell_type": "markdown",
   "metadata": {},
   "source": [
    "# 6 - Qual a correlação entre a classe em que o passageiro viajou e a chance de sobrevivência?"
   ]
  },
  {
   "attachments": {},
   "cell_type": "markdown",
   "metadata": {},
   "source": [
    "Como a coluna \"Classe\" e \"Sobreviveu\" possuem valores não-numéricos, é necessário atribuir valores numéricos para cada valor único de cada coluna"
   ]
  },
  {
   "cell_type": "code",
   "execution_count": null,
   "metadata": {},
   "outputs": [],
   "source": [
    "df.head()"
   ]
  },
  {
   "attachments": {},
   "cell_type": "markdown",
   "metadata": {},
   "source": [
    "Verificando quantos valores únicos há na coluna \"Classe\" com a função ```.unique()```"
   ]
  },
  {
   "cell_type": "code",
   "execution_count": null,
   "metadata": {},
   "outputs": [],
   "source": [
    "print(pd.unique(df['Classe']))"
   ]
  },
  {
   "attachments": {},
   "cell_type": "markdown",
   "metadata": {},
   "source": [
    "Atribuindo valores numéricos para cada valor único da coluna com a função ```.loc[]```"
   ]
  },
  {
   "cell_type": "code",
   "execution_count": null,
   "metadata": {},
   "outputs": [],
   "source": [
    "df.loc[df['Classe'] == 'Primeira', 'Classe'] = 1\n",
    "df.loc[df['Classe'] == 'Segunda', 'Classe'] = 2\n",
    "df.loc[df['Classe'] == 'Terceira', 'Classe'] = 3\n",
    "\n",
    "df['Classe'] = pd.to_numeric(df['Classe'])"
   ]
  },
  {
   "attachments": {},
   "cell_type": "markdown",
   "metadata": {},
   "source": [
    "Repetindo o processo com a coluna \"Sobreviveu\""
   ]
  },
  {
   "cell_type": "code",
   "execution_count": null,
   "metadata": {},
   "outputs": [],
   "source": [
    "print(pd.unique(df['Sobreviveu']))"
   ]
  },
  {
   "cell_type": "code",
   "execution_count": null,
   "metadata": {},
   "outputs": [],
   "source": [
    "df.loc[df['Sobreviveu'] == 'Não', 'Sobreviveu'] = 0\n",
    "df.loc[df['Sobreviveu'] == 'Sim', 'Sobreviveu'] = 1\n",
    "\n",
    "df['Sobreviveu'] = pd.to_numeric(df['Sobreviveu'])"
   ]
  },
  {
   "attachments": {},
   "cell_type": "markdown",
   "metadata": {},
   "source": [
    "Utilizando a função ```df['Coluna0'].corr(df['Coluna1'])``` do pandas e multiplicando por 100 para escalar para porcentagem"
   ]
  },
  {
   "cell_type": "code",
   "execution_count": null,
   "metadata": {},
   "outputs": [],
   "source": [
    "print('A correlação entre a classe em que o passageiro viajou e a chance de sobrevivência é de', str(round(df['Classe'].corr(df['Sobreviveu']) * 100, 2)) + '%')"
   ]
  },
  {
   "attachments": {},
   "cell_type": "markdown",
   "metadata": {},
   "source": [
    "# 7 - Qual o número médio de irmãos/cônjuges a bordo para quem sobreviveu e para quem não sobreviveu?"
   ]
  },
  {
   "attachments": {},
   "cell_type": "markdown",
   "metadata": {},
   "source": [
    "Calculando a média apenas dos valores de sobreviventes na coluna \"Irmãos/Cônjuges a bordo\" utilizando a função ```mean()``` e sintaxe de consulta de dataframe do pandas"
   ]
  },
  {
   "cell_type": "code",
   "execution_count": null,
   "metadata": {},
   "outputs": [],
   "source": [
    "media_irmaos_conjuges_sobreviventes = float(round(df[df['Sobreviveu'] == 1][['Irmãos/Cônjuges a bordo']].mean(), 2))\n",
    "media_irmaos_conjuges_n_sobreviventes = float(round(df[df['Sobreviveu'] == 0][['Irmãos/Cônjuges a bordo']].mean(), 2))\n",
    "media_total = round(df['Irmãos/Cônjuges a bordo'].mean(), 2)\n",
    "\n",
    "print('O número médio de irmãos/cônjuges a bordo para quem sobreviveu é aproximadamente', media_irmaos_conjuges_sobreviventes, '\\n'\n",
    "'O número médio de irmãos/cônjuges a bordo para quem não sobreviveu é aproximadamente', media_irmaos_conjuges_n_sobreviventes, '\\n'\n",
    "'(O número médio de irmãos/cônjuges a bordo no total, para ter uma referência, é aproximadamente', str(media_total) + ')')"
   ]
  },
  {
   "attachments": {},
   "cell_type": "markdown",
   "metadata": {},
   "source": [
    "# 8 - Qual o número médio de pais/filhos a bordo para quem sobreviveu e para quem não sobreviveu?"
   ]
  },
  {
   "attachments": {},
   "cell_type": "markdown",
   "metadata": {},
   "source": [
    "Mesmo processo da questão 7"
   ]
  },
  {
   "cell_type": "code",
   "execution_count": null,
   "metadata": {},
   "outputs": [],
   "source": [
    "media_pais_filhos_sobreviventes = float(round(df[df['Sobreviveu'] == 1][['Pais/Filhos a bordo']].mean(), 2))\n",
    "media_pais_filhos_sobreviventes = float(round(df[df['Sobreviveu'] == 0][['Pais/Filhos a bordo']].mean(), 2))\n",
    "media_total = round(df['Pais/Filhos a bordo'].mean(), 2)\n",
    "\n",
    "print('O número médio de pais/filhos a bordo para quem sobreviveu é aproximadamente', media_pais_filhos_sobreviventes, '\\n'\n",
    "'O número médio de pais/filhos a bordo para quem não sobreviveu é aproximadamente', media_pais_filhos_sobreviventes, '\\n'\n",
    "'(O número médio de pais/filhos a bordo no total, para ter uma referência, é aproximadamente', str(media_total) + ')')"
   ]
  },
  {
   "attachments": {},
   "cell_type": "markdown",
   "metadata": {},
   "source": [
    "# 9 - Qual a relação entre a tarifa paga e a chance de sobrevivência?"
   ]
  },
  {
   "attachments": {},
   "cell_type": "markdown",
   "metadata": {},
   "source": [
    "Como a coluna \"Sobreviveu\" já foi convertida para valores numéricos, a função ```.corr``` funciona perfeitamente"
   ]
  },
  {
   "cell_type": "code",
   "execution_count": null,
   "metadata": {},
   "outputs": [],
   "source": [
    "print('A correlação entre a tarifa paga e a chance de sobrevivência é de aproximadamente', str(round(df['Tarifa'].corr(df['Sobreviveu']) * 100, 2)) + '%')"
   ]
  },
  {
   "attachments": {},
   "cell_type": "markdown",
   "metadata": {},
   "source": [
    "# 10 - Qual o porto de embarque que teve mais passageiros a bordo?"
   ]
  },
  {
   "attachments": {},
   "cell_type": "markdown",
   "metadata": {},
   "source": [
    "Não há dados suficientes para responder essa questão"
   ]
  },
  {
   "cell_type": "code",
   "execution_count": null,
   "metadata": {},
   "outputs": [],
   "source": [
    "#"
   ]
  },
  {
   "attachments": {},
   "cell_type": "markdown",
   "metadata": {},
   "source": [
    "# 11 - Faça uma análise exploratória dos dados"
   ]
  },
  {
   "attachments": {},
   "cell_type": "markdown",
   "metadata": {},
   "source": [
    "Importando dataframe do 0 com a função ```.read_csv()``` do pandas"
   ]
  },
  {
   "cell_type": "code",
   "execution_count": null,
   "metadata": {},
   "outputs": [],
   "source": [
    "df = pd.read_csv('titanic.csv')"
   ]
  },
  {
   "attachments": {},
   "cell_type": "markdown",
   "metadata": {},
   "source": [
    "Utilizando a função ```.head()``` para retornar as primeiras 5 linhas do dataframe"
   ]
  },
  {
   "cell_type": "code",
   "execution_count": null,
   "metadata": {},
   "outputs": [],
   "source": [
    "df.head()"
   ]
  },
  {
   "attachments": {},
   "cell_type": "markdown",
   "metadata": {},
   "source": [
    "Verificando colunas do dataframe; quantas, quais, os tipos de seus dados; e quantas linhas há no dataframe com a função ```.info()```"
   ]
  },
  {
   "cell_type": "code",
   "execution_count": null,
   "metadata": {},
   "outputs": [],
   "source": [
    "df.info()"
   ]
  },
  {
   "attachments": {},
   "cell_type": "markdown",
   "metadata": {},
   "source": [
    "Verificando métricas estatísticas de cada coluna numérica com a função ```.describe()```"
   ]
  },
  {
   "cell_type": "code",
   "execution_count": null,
   "metadata": {},
   "outputs": [],
   "source": [
    "df.describe() "
   ]
  },
  {
   "attachments": {},
   "cell_type": "markdown",
   "metadata": {},
   "source": [
    "Verificando métricas estatísticas de cada coluna não-numérica com o parâmetro ```(include = ['O'])``` ('O' de object, ou objeto, em português) na função ```df.describe()```"
   ]
  },
  {
   "cell_type": "code",
   "execution_count": null,
   "metadata": {},
   "outputs": [],
   "source": [
    "df.describe(include = ['O'])"
   ]
  },
  {
   "attachments": {},
   "cell_type": "markdown",
   "metadata": {},
   "source": [
    "# 12 - Faça o tratamento dos dados:\n",
    "- apagar colunas que não sejam relevantes para o modelo (qual(is) seria(m) esta(s) coluna(s)?)\n",
    "\n",
    "- Converter os valores textuais em numéricos (não existe somente uma forma para isto, mas já aprendemos a usar a função loc..)\n"
   ]
  },
  {
   "attachments": {},
   "cell_type": "markdown",
   "metadata": {},
   "source": [
    "Removendo as colunas de nome, irmãos/cônjuges a bordo, pais/filhos a bordo com a função ```.drop()```, com o parâmetro ```inplace = True``` para alterar o dataframe original"
   ]
  },
  {
   "cell_type": "code",
   "execution_count": null,
   "metadata": {},
   "outputs": [],
   "source": [
    "df.drop(columns = ['Nome', 'Irmãos/Cônjuges a bordo', 'Pais/Filhos a bordo'], inplace = True)\n",
    "df.head()"
   ]
  },
  {
   "attachments": {},
   "cell_type": "markdown",
   "metadata": {},
   "source": [
    "Atribuindo valores numéricos para cada valor único de cada coluna não-numérica com a função ```.loc[]```"
   ]
  },
  {
   "cell_type": "code",
   "execution_count": null,
   "metadata": {},
   "outputs": [],
   "source": [
    "print(pd.unique(df['Sobreviveu']))\n",
    "print(pd.unique(df['Classe']))\n",
    "print(pd.unique(df['Sexo']))"
   ]
  },
  {
   "cell_type": "code",
   "execution_count": null,
   "metadata": {},
   "outputs": [],
   "source": [
    "df.loc[df['Sobreviveu'] == 'Não', 'Sobreviveu'] = 0\n",
    "df.loc[df['Sobreviveu'] == 'Sim', 'Sobreviveu'] = 1"
   ]
  },
  {
   "cell_type": "code",
   "execution_count": null,
   "metadata": {},
   "outputs": [],
   "source": [
    "df.loc[df['Classe'] == 'Primeira', 'Classe'] = 1\n",
    "df.loc[df['Classe'] == 'Segunda', 'Classe'] = 2\n",
    "df.loc[df['Classe'] == 'Terceira', 'Classe'] = 3"
   ]
  },
  {
   "cell_type": "code",
   "execution_count": null,
   "metadata": {},
   "outputs": [],
   "source": [
    "df.loc[df['Sexo'] == 'Masculino', 'Sexo'] = 0\n",
    "df.loc[df['Sexo'] == 'Feminino', 'Sexo'] = 1"
   ]
  },
  {
   "attachments": {},
   "cell_type": "markdown",
   "metadata": {},
   "source": [
    "Verificando as primeiras 5 linhas do dataframe pós tratamento com a função ```.head()```"
   ]
  },
  {
   "cell_type": "code",
   "execution_count": null,
   "metadata": {},
   "outputs": [],
   "source": [
    "df.head()"
   ]
  },
  {
   "attachments": {},
   "cell_type": "markdown",
   "metadata": {},
   "source": [
    "# 13 - Separe os dados em X e y de treinamento e teste.\n",
    "\n",
    "Note que a nossa classe alvo é a primeiro coluna, que informa se o passageiro sobreviveu ou não"
   ]
  },
  {
   "attachments": {},
   "cell_type": "markdown",
   "metadata": {},
   "source": [
    "Separando a classe alvo na variável \"y\" e o restante das colunas na variável \"X\", em forma de lista com a função ```.values``` e com o tipo numérico com a função ```.astype()``` e parâmetro ```(int)```"
   ]
  },
  {
   "cell_type": "code",
   "execution_count": null,
   "metadata": {},
   "outputs": [],
   "source": [
    "X = df[['Classe', 'Sexo', 'Idade', 'Tarifa']].values.astype(int)\n",
    "y = df[['Sobreviveu']].values.astype(int)"
   ]
  },
  {
   "attachments": {},
   "cell_type": "markdown",
   "metadata": {},
   "source": [
    "Verificando as variáveis"
   ]
  },
  {
   "cell_type": "code",
   "execution_count": null,
   "metadata": {},
   "outputs": [],
   "source": [
    "X"
   ]
  },
  {
   "cell_type": "code",
   "execution_count": null,
   "metadata": {},
   "outputs": [],
   "source": [
    "y"
   ]
  },
  {
   "attachments": {},
   "cell_type": "markdown",
   "metadata": {},
   "source": [
    "# 14 - Normalize apenas os atributos (X)."
   ]
  },
  {
   "attachments": {},
   "cell_type": "markdown",
   "metadata": {},
   "source": [
    "Normalizando os atributos \"X\" pela fórmula $X = \\frac{X-Xmin}{Xmax-Xmin}$"
   ]
  },
  {
   "cell_type": "code",
   "execution_count": null,
   "metadata": {},
   "outputs": [],
   "source": [
    "X = (X - X.min()) / (X.max() - X.min())\n",
    "X"
   ]
  },
  {
   "attachments": {},
   "cell_type": "markdown",
   "metadata": {},
   "source": [
    "Verificando o \"X\" normalizado com as funções ```.max()```, que retorna seu valor máximo (deve ser 1), e ```.min()```, que retorna seu valor mínimo (deve ser 0)"
   ]
  },
  {
   "cell_type": "code",
   "execution_count": null,
   "metadata": {},
   "outputs": [],
   "source": [
    "X.max()"
   ]
  },
  {
   "cell_type": "code",
   "execution_count": null,
   "metadata": {},
   "outputs": [],
   "source": [
    "X.min()"
   ]
  },
  {
   "attachments": {},
   "cell_type": "markdown",
   "metadata": {},
   "source": [
    "# 15 - Use algum modelo de machine learning para prever a classe alvo"
   ]
  },
  {
   "attachments": {},
   "cell_type": "markdown",
   "metadata": {},
   "source": [
    "Importando bibliotecas para árvore de decisão"
   ]
  },
  {
   "cell_type": "code",
   "execution_count": null,
   "metadata": {},
   "outputs": [],
   "source": [
    "from sklearn.tree import DecisionTreeClassifier\n",
    "from sklearn.model_selection import train_test_split\n",
    "from sklearn.metrics import accuracy_score"
   ]
  },
  {
   "attachments": {},
   "cell_type": "markdown",
   "metadata": {},
   "source": [
    "Dividindo a base (variáveis \"X\" e \"y\") em teste 10% (0.1 é o valor numérico de 10%) teste e o restante em treino utilizando o parâmetro ```test_size=```, e definindo uma seed para a aleatoriedade do teste com o parâmetro ```random_state=```"
   ]
  },
  {
   "cell_type": "code",
   "execution_count": null,
   "metadata": {},
   "outputs": [],
   "source": [
    "X_train, X_test, y_train, y_test = train_test_split(X, y, test_size = 0.1, random_state = 20)"
   ]
  },
  {
   "attachments": {},
   "cell_type": "markdown",
   "metadata": {},
   "source": [
    "Definindo e treinando o modelo (árvore de decisão) com as funções ```DecisionTreeClassifier()``` e ```.fit()```"
   ]
  },
  {
   "cell_type": "code",
   "execution_count": null,
   "metadata": {},
   "outputs": [],
   "source": [
    "classifier = DecisionTreeClassifier()\n",
    "\n",
    "classifier.fit(X_train, y_train)"
   ]
  },
  {
   "attachments": {},
   "cell_type": "markdown",
   "metadata": {},
   "source": [
    "Testando a predição do modelo (ainda na função ```DecisionTreeClassifier()```) com a função ```.predict()``` após treinamento"
   ]
  },
  {
   "cell_type": "code",
   "execution_count": null,
   "metadata": {},
   "outputs": [],
   "source": [
    "y_predict = classifier.predict(X_test)\n",
    "y_predict"
   ]
  },
  {
   "attachments": {},
   "cell_type": "markdown",
   "metadata": {},
   "source": [
    "# 16 - Exiba a acurácia e a matriz de confusão"
   ]
  },
  {
   "attachments": {},
   "cell_type": "markdown",
   "metadata": {},
   "source": [
    "Calculando acurácia com a função ```accuracy_score()``` e multiplicando por 100 para escalar para porcentagem"
   ]
  },
  {
   "cell_type": "code",
   "execution_count": null,
   "metadata": {},
   "outputs": [],
   "source": [
    "print('Acurácia do modelo:', str(round(accuracy_score(y_test, y_predict) * 100, 2)) + '%')"
   ]
  },
  {
   "attachments": {},
   "cell_type": "markdown",
   "metadata": {},
   "source": [
    "Importando bibliotecas para matriz de confusão"
   ]
  },
  {
   "cell_type": "code",
   "execution_count": null,
   "metadata": {},
   "outputs": [],
   "source": [
    "from sklearn.metrics import confusion_matrix, ConfusionMatrixDisplay\n",
    "import seaborn as sns"
   ]
  },
  {
   "attachments": {},
   "cell_type": "markdown",
   "metadata": {},
   "source": [
    "Fazendo a matriz de confusão com a biblioteca ```seaborn``` e seus parâmetros gráficos"
   ]
  },
  {
   "cell_type": "code",
   "execution_count": null,
   "metadata": {},
   "outputs": [],
   "source": [
    "cm = confusion_matrix(y_test, y_predict)\n",
    "ax = sns.heatmap(cm, annot = True, fmt = 'g')\n",
    "\n",
    "ax.set_title('Matriz de confusão')\n",
    "ax.set_xlabel('Previsão')\n",
    "ax.set_ylabel('Realidade')\n",
    "\n",
    "ax.xaxis.set_ticklabels(['Não sobreviveram', 'Sobreviveram'])\n",
    "ax.yaxis.set_ticklabels(['Não sobreviveram', 'Sobreviveram'])"
   ]
  }
 ],
 "metadata": {
  "kernelspec": {
   "display_name": "tf",
   "language": "python",
   "name": "python3"
  },
  "language_info": {
   "codemirror_mode": {
    "name": "ipython",
    "version": 3
   },
   "file_extension": ".py",
   "mimetype": "text/x-python",
   "name": "python",
   "nbconvert_exporter": "python",
   "pygments_lexer": "ipython3",
   "version": "3.10.4"
  },
  "orig_nbformat": 4
 },
 "nbformat": 4,
 "nbformat_minor": 2
}
