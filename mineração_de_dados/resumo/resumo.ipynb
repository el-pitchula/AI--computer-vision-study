{
 "cells": [
  {
   "attachments": {},
   "cell_type": "markdown",
   "metadata": {},
   "source": [
    "# 1 - importar as bibliotecas necessárias\n",
    "Por padrão todas as bibliotecas necessárias ficam presentes no topo do código, na primeira célula"
   ]
  },
  {
   "cell_type": "code",
   "execution_count": 1,
   "metadata": {},
   "outputs": [],
   "source": [
    "import pandas as pd\r\n",
    "from sklearn.preprocessing import MinMaxScaler\r\n",
    "from sklearn.preprocessing import LabelEncoder\r\n",
    "from sklearn.model_selection import train_test_split\r\n",
    "from keras.models import Sequential\r\n",
    "from keras.layers import Dense, InputLayer\r\n",
    "from sklearn.metrics import mean_squared_error\r\n",
    "import numpy as np\r\n",
    "import matplotlib.pyplot as plt\r\n",
    "import plotly.offline as py\r\n",
    "import plotly.graph_objs as go"
   ]
  },
  {
   "attachments": {},
   "cell_type": "markdown",
   "metadata": {},
   "source": [
    "# 2  - Realizar análise dos dados\n",
    "Este passo serve para entender os dados e suas características, que nos permite saber quais os próximos passos.\n",
    "\n",
    "Aqui que identificamos se existem valores núlos a serem tratados, valores textuais que devem ser convertidos em numéricos...\n",
    "\n",
    "Se tiver uma classe alvo (o que queremos prever), já sabemos que iremos utilizar um algoritmo supervisionado. A depender do tipo de dados que queremos prever, iremos fazer uma classificação ou regressão."
   ]
  },
  {
   "cell_type": "code",
   "execution_count": 2,
   "metadata": {},
   "outputs": [],
   "source": [
    "# Realiza a leitura da base de dados\n",
    "df = pd.read_csv('carros_usados_data.csv')"
   ]
  },
  {
   "cell_type": "code",
   "execution_count": 6,
   "metadata": {},
   "outputs": [
    {
     "data": {
      "text/html": "<div>\n<style scoped>\n    .dataframe tbody tr th:only-of-type {\n        vertical-align: middle;\n    }\n\n    .dataframe tbody tr th {\n        vertical-align: top;\n    }\n\n    .dataframe thead th {\n        text-align: right;\n    }\n</style>\n<table border=\"1\" class=\"dataframe\">\n  <thead>\n    <tr style=\"text-align: right;\">\n      <th></th>\n      <th>marca</th>\n      <th>modelo</th>\n      <th>cor</th>\n      <th>combustivel</th>\n      <th>cambio</th>\n      <th>ano_fabricacao</th>\n      <th>quilometragem</th>\n      <th>potencia_motor</th>\n      <th>num_portas</th>\n      <th>num_assentos</th>\n      <th>capacidade_tanque</th>\n      <th>seguro</th>\n      <th>despesas_manutencao</th>\n      <th>tipo_pneu</th>\n      <th>opcionais</th>\n      <th>preco_venda</th>\n    </tr>\n  </thead>\n  <tbody>\n    <tr>\n      <th>0</th>\n      <td>ratione</td>\n      <td>praesentium</td>\n      <td>nisi</td>\n      <td>magnam</td>\n      <td>odio</td>\n      <td>1.646533</td>\n      <td>35.995096</td>\n      <td>70.962350</td>\n      <td>28.233588</td>\n      <td>96.140778</td>\n      <td>15.991047</td>\n      <td>NaN</td>\n      <td>17.756493</td>\n      <td>odio</td>\n      <td>ab</td>\n      <td>177511</td>\n    </tr>\n    <tr>\n      <th>1</th>\n      <td>sint</td>\n      <td>quo</td>\n      <td>vel</td>\n      <td>molestiae</td>\n      <td>sunt</td>\n      <td>73.981168</td>\n      <td>86.601299</td>\n      <td>25.120152</td>\n      <td>32.852817</td>\n      <td>57.037081</td>\n      <td>64.982592</td>\n      <td>94.568250</td>\n      <td>1.947484</td>\n      <td>voluptatibus</td>\n      <td>deleniti</td>\n      <td>141582</td>\n    </tr>\n    <tr>\n      <th>2</th>\n      <td>fuga</td>\n      <td>nam</td>\n      <td>animi</td>\n      <td>aut</td>\n      <td>ipsa</td>\n      <td>80.399597</td>\n      <td>16.981968</td>\n      <td>91.319696</td>\n      <td>7.736270</td>\n      <td>26.906916</td>\n      <td>NaN</td>\n      <td>82.845537</td>\n      <td>NaN</td>\n      <td>NaN</td>\n      <td>molestiae</td>\n      <td>8742</td>\n    </tr>\n    <tr>\n      <th>3</th>\n      <td>sunt</td>\n      <td>quasi</td>\n      <td>et</td>\n      <td>atque</td>\n      <td>tenetur</td>\n      <td>73.087990</td>\n      <td>47.372318</td>\n      <td>60.501200</td>\n      <td>31.394366</td>\n      <td>59.021365</td>\n      <td>43.957396</td>\n      <td>84.762127</td>\n      <td>89.631724</td>\n      <td>NaN</td>\n      <td>hic</td>\n      <td>50848</td>\n    </tr>\n    <tr>\n      <th>4</th>\n      <td>labore</td>\n      <td>esse</td>\n      <td>possimus</td>\n      <td>odio</td>\n      <td>optio</td>\n      <td>73.467351</td>\n      <td>50.290310</td>\n      <td>NaN</td>\n      <td>31.255654</td>\n      <td>34.367575</td>\n      <td>94.020294</td>\n      <td>92.762952</td>\n      <td>6.701927</td>\n      <td>amet</td>\n      <td>optio</td>\n      <td>87917</td>\n    </tr>\n  </tbody>\n</table>\n</div>",
      "text/plain": "     marca       modelo       cor combustivel   cambio  ano_fabricacao  \\\n0  ratione  praesentium      nisi      magnam     odio        1.646533   \n1     sint          quo       vel   molestiae     sunt       73.981168   \n2     fuga          nam     animi         aut     ipsa       80.399597   \n3     sunt        quasi        et       atque  tenetur       73.087990   \n4   labore         esse  possimus        odio    optio       73.467351   \n\n   quilometragem  potencia_motor  num_portas  num_assentos  capacidade_tanque  \\\n0      35.995096       70.962350   28.233588     96.140778          15.991047   \n1      86.601299       25.120152   32.852817     57.037081          64.982592   \n2      16.981968       91.319696    7.736270     26.906916                NaN   \n3      47.372318       60.501200   31.394366     59.021365          43.957396   \n4      50.290310             NaN   31.255654     34.367575          94.020294   \n\n      seguro  despesas_manutencao     tipo_pneu  opcionais  preco_venda  \n0        NaN            17.756493          odio         ab       177511  \n1  94.568250             1.947484  voluptatibus   deleniti       141582  \n2  82.845537                  NaN           NaN  molestiae         8742  \n3  84.762127            89.631724           NaN        hic        50848  \n4  92.762952             6.701927          amet      optio        87917  "
     },
     "execution_count": 6,
     "metadata": {},
     "output_type": "execute_result"
    }
   ],
   "source": [
    "df.head()"
   ]
  },
  {
   "cell_type": "code",
   "execution_count": 3,
   "metadata": {},
   "outputs": [
    {
     "data": {
      "text/plain": "marca                   object\nmodelo                  object\ncor                     object\ncombustivel             object\ncambio                  object\nano_fabricacao         float64\nquilometragem          float64\npotencia_motor         float64\nnum_portas             float64\nnum_assentos           float64\ncapacidade_tanque      float64\nseguro                 float64\ndespesas_manutencao    float64\ntipo_pneu               object\nopcionais               object\npreco_venda              int64\ndtype: object"
     },
     "execution_count": 3,
     "metadata": {},
     "output_type": "execute_result"
    }
   ],
   "source": [
    "# Exibe o tipo de cados das colunas\n",
    "df.dtypes"
   ]
  },
  {
   "cell_type": "code",
   "execution_count": 5,
   "metadata": {},
   "outputs": [
    {
     "name": "stdout",
     "output_type": "stream",
     "text": [
      "<class 'pandas.core.frame.DataFrame'>\n",
      "RangeIndex: 200000 entries, 0 to 199999\n",
      "Data columns (total 16 columns):\n",
      " #   Column               Non-Null Count   Dtype  \n",
      "---  ------               --------------   -----  \n",
      " 0   marca                200000 non-null  object \n",
      " 1   modelo               200000 non-null  object \n",
      " 2   cor                  200000 non-null  object \n",
      " 3   combustivel          200000 non-null  object \n",
      " 4   cambio               200000 non-null  object \n",
      " 5   ano_fabricacao       200000 non-null  float64\n",
      " 6   quilometragem        190000 non-null  float64\n",
      " 7   potencia_motor       190000 non-null  float64\n",
      " 8   num_portas           200000 non-null  float64\n",
      " 9   num_assentos         200000 non-null  float64\n",
      " 10  capacidade_tanque    190000 non-null  float64\n",
      " 11  seguro               180000 non-null  float64\n",
      " 12  despesas_manutencao  180000 non-null  float64\n",
      " 13  tipo_pneu            180000 non-null  object \n",
      " 14  opcionais            180000 non-null  object \n",
      " 15  preco_venda          200000 non-null  int64  \n",
      "dtypes: float64(8), int64(1), object(7)\n",
      "memory usage: 24.4+ MB\n"
     ]
    }
   ],
   "source": [
    "df.info()"
   ]
  },
  {
   "cell_type": "code",
   "execution_count": 8,
   "metadata": {},
   "outputs": [
    {
     "data": {
      "text/html": "<div>\n<style scoped>\n    .dataframe tbody tr th:only-of-type {\n        vertical-align: middle;\n    }\n\n    .dataframe tbody tr th {\n        vertical-align: top;\n    }\n\n    .dataframe thead th {\n        text-align: right;\n    }\n</style>\n<table border=\"1\" class=\"dataframe\">\n  <thead>\n    <tr style=\"text-align: right;\">\n      <th></th>\n      <th>count</th>\n      <th>mean</th>\n      <th>std</th>\n      <th>min</th>\n      <th>25%</th>\n      <th>50%</th>\n      <th>75%</th>\n      <th>max</th>\n    </tr>\n  </thead>\n  <tbody>\n    <tr>\n      <th>ano_fabricacao</th>\n      <td>200000.0</td>\n      <td>49.942603</td>\n      <td>28.865741</td>\n      <td>0.000424</td>\n      <td>24.920403</td>\n      <td>49.928370</td>\n      <td>75.016824</td>\n      <td>99.999838</td>\n    </tr>\n    <tr>\n      <th>quilometragem</th>\n      <td>190000.0</td>\n      <td>50.003177</td>\n      <td>28.859300</td>\n      <td>0.000903</td>\n      <td>25.043262</td>\n      <td>49.971887</td>\n      <td>75.013758</td>\n      <td>99.999673</td>\n    </tr>\n    <tr>\n      <th>potencia_motor</th>\n      <td>190000.0</td>\n      <td>50.040479</td>\n      <td>28.829261</td>\n      <td>0.000825</td>\n      <td>25.153329</td>\n      <td>50.123126</td>\n      <td>74.942837</td>\n      <td>99.999932</td>\n    </tr>\n    <tr>\n      <th>num_portas</th>\n      <td>200000.0</td>\n      <td>50.028658</td>\n      <td>28.856444</td>\n      <td>0.000312</td>\n      <td>25.110573</td>\n      <td>50.051021</td>\n      <td>75.013987</td>\n      <td>99.999453</td>\n    </tr>\n    <tr>\n      <th>num_assentos</th>\n      <td>200000.0</td>\n      <td>50.026694</td>\n      <td>28.910735</td>\n      <td>0.000325</td>\n      <td>24.958386</td>\n      <td>50.123947</td>\n      <td>75.040624</td>\n      <td>99.999875</td>\n    </tr>\n    <tr>\n      <th>capacidade_tanque</th>\n      <td>190000.0</td>\n      <td>49.851846</td>\n      <td>28.876648</td>\n      <td>0.001163</td>\n      <td>24.904284</td>\n      <td>49.718415</td>\n      <td>74.893923</td>\n      <td>99.999950</td>\n    </tr>\n    <tr>\n      <th>seguro</th>\n      <td>180000.0</td>\n      <td>50.053651</td>\n      <td>28.838199</td>\n      <td>0.000186</td>\n      <td>25.126418</td>\n      <td>50.136886</td>\n      <td>75.013189</td>\n      <td>99.999789</td>\n    </tr>\n    <tr>\n      <th>despesas_manutencao</th>\n      <td>180000.0</td>\n      <td>50.126500</td>\n      <td>28.870492</td>\n      <td>0.001805</td>\n      <td>25.147193</td>\n      <td>50.180715</td>\n      <td>75.167368</td>\n      <td>99.999229</td>\n    </tr>\n    <tr>\n      <th>preco_venda</th>\n      <td>200000.0</td>\n      <td>102583.346470</td>\n      <td>56343.136718</td>\n      <td>5001.000000</td>\n      <td>53794.750000</td>\n      <td>102480.500000</td>\n      <td>151508.000000</td>\n      <td>199999.000000</td>\n    </tr>\n  </tbody>\n</table>\n</div>",
      "text/plain": "                        count           mean           std          min  \\\nano_fabricacao       200000.0      49.942603     28.865741     0.000424   \nquilometragem        190000.0      50.003177     28.859300     0.000903   \npotencia_motor       190000.0      50.040479     28.829261     0.000825   \nnum_portas           200000.0      50.028658     28.856444     0.000312   \nnum_assentos         200000.0      50.026694     28.910735     0.000325   \ncapacidade_tanque    190000.0      49.851846     28.876648     0.001163   \nseguro               180000.0      50.053651     28.838199     0.000186   \ndespesas_manutencao  180000.0      50.126500     28.870492     0.001805   \npreco_venda          200000.0  102583.346470  56343.136718  5001.000000   \n\n                              25%            50%            75%            max  \nano_fabricacao          24.920403      49.928370      75.016824      99.999838  \nquilometragem           25.043262      49.971887      75.013758      99.999673  \npotencia_motor          25.153329      50.123126      74.942837      99.999932  \nnum_portas              25.110573      50.051021      75.013987      99.999453  \nnum_assentos            24.958386      50.123947      75.040624      99.999875  \ncapacidade_tanque       24.904284      49.718415      74.893923      99.999950  \nseguro                  25.126418      50.136886      75.013189      99.999789  \ndespesas_manutencao     25.147193      50.180715      75.167368      99.999229  \npreco_venda          53794.750000  102480.500000  151508.000000  199999.000000  "
     },
     "execution_count": 8,
     "metadata": {},
     "output_type": "execute_result"
    }
   ],
   "source": [
    "df.describe().T"
   ]
  },
  {
   "cell_type": "code",
   "execution_count": 9,
   "metadata": {},
   "outputs": [
    {
     "data": {
      "text/html": "<div>\n<style scoped>\n    .dataframe tbody tr th:only-of-type {\n        vertical-align: middle;\n    }\n\n    .dataframe tbody tr th {\n        vertical-align: top;\n    }\n\n    .dataframe thead th {\n        text-align: right;\n    }\n</style>\n<table border=\"1\" class=\"dataframe\">\n  <thead>\n    <tr style=\"text-align: right;\">\n      <th></th>\n      <th>count</th>\n      <th>unique</th>\n      <th>top</th>\n      <th>freq</th>\n    </tr>\n  </thead>\n  <tbody>\n    <tr>\n      <th>marca</th>\n      <td>200000</td>\n      <td>182</td>\n      <td>veniam</td>\n      <td>1194</td>\n    </tr>\n    <tr>\n      <th>modelo</th>\n      <td>200000</td>\n      <td>182</td>\n      <td>occaecati</td>\n      <td>1199</td>\n    </tr>\n    <tr>\n      <th>cor</th>\n      <td>200000</td>\n      <td>182</td>\n      <td>amet</td>\n      <td>1174</td>\n    </tr>\n    <tr>\n      <th>combustivel</th>\n      <td>200000</td>\n      <td>182</td>\n      <td>soluta</td>\n      <td>1210</td>\n    </tr>\n    <tr>\n      <th>cambio</th>\n      <td>200000</td>\n      <td>182</td>\n      <td>molestiae</td>\n      <td>1200</td>\n    </tr>\n    <tr>\n      <th>tipo_pneu</th>\n      <td>180000</td>\n      <td>182</td>\n      <td>accusantium</td>\n      <td>1074</td>\n    </tr>\n    <tr>\n      <th>opcionais</th>\n      <td>180000</td>\n      <td>182</td>\n      <td>ipsam</td>\n      <td>1079</td>\n    </tr>\n  </tbody>\n</table>\n</div>",
      "text/plain": "              count unique          top  freq\nmarca        200000    182       veniam  1194\nmodelo       200000    182    occaecati  1199\ncor          200000    182         amet  1174\ncombustivel  200000    182       soluta  1210\ncambio       200000    182    molestiae  1200\ntipo_pneu    180000    182  accusantium  1074\nopcionais    180000    182        ipsam  1079"
     },
     "execution_count": 9,
     "metadata": {},
     "output_type": "execute_result"
    }
   ],
   "source": [
    "df.describe(include = 'O').T"
   ]
  },
  {
   "attachments": {},
   "cell_type": "markdown",
   "metadata": {},
   "source": [
    "Saber quantos valores núlos existem pode ser interessante, mas não quer dizer muita coisa. O que faz muito mais sentido é verificar a porcentagem de valores núlos."
   ]
  },
  {
   "cell_type": "code",
   "execution_count": 10,
   "metadata": {},
   "outputs": [
    {
     "data": {
      "text/plain": "marca                      0\nmodelo                     0\ncor                        0\ncombustivel                0\ncambio                     0\nano_fabricacao             0\nquilometragem          10000\npotencia_motor         10000\nnum_portas                 0\nnum_assentos               0\ncapacidade_tanque      10000\nseguro                 20000\ndespesas_manutencao    20000\ntipo_pneu              20000\nopcionais              20000\npreco_venda                0\ndtype: int64"
     },
     "execution_count": 10,
     "metadata": {},
     "output_type": "execute_result"
    }
   ],
   "source": [
    "# Exibe a quantidade de valores núlos por coluna\n",
    "df.isna().sum()"
   ]
  },
  {
   "cell_type": "code",
   "execution_count": 11,
   "metadata": {},
   "outputs": [
    {
     "data": {
      "text/plain": "marca                   0.0\nmodelo                  0.0\ncor                     0.0\ncombustivel             0.0\ncambio                  0.0\nano_fabricacao          0.0\nquilometragem           5.0\npotencia_motor          5.0\nnum_portas              0.0\nnum_assentos            0.0\ncapacidade_tanque       5.0\nseguro                 10.0\ndespesas_manutencao    10.0\ntipo_pneu              10.0\nopcionais              10.0\npreco_venda             0.0\ndtype: float64"
     },
     "execution_count": 11,
     "metadata": {},
     "output_type": "execute_result"
    }
   ],
   "source": [
    "# Exibe a porcentagem de valores núlos por coluna\n",
    "df.isna().sum() * 100 / len(df)"
   ]
  },
  {
   "attachments": {},
   "cell_type": "markdown",
   "metadata": {},
   "source": [
    "# 3 - Tratamento dos dados\n",
    "Nesta etapa realizamos todas as operações necessárias para que os dados estejam em um formato adequado para treinar as redes neurais.\n",
    "\n",
    "- 1 - Tratar valores núlos;\n",
    "- 2 - Tratar valores textuais para numéricos;\n",
    "- 3 - Normalizar os dados;\n",
    "- 4 - Separar os dados em X e y;\n",
    "- 5 - Separar os dados em X e y de treinamento e teste."
   ]
  },
  {
   "attachments": {},
   "cell_type": "markdown",
   "metadata": {},
   "source": [
    "Colunas com valores núlos:\n",
    "- Numéricas:\n",
    "    - 'quilometragem';\n",
    "    - 'potencia_motor';\n",
    "    - 'num_portas';\n",
    "    - 'num_assentos';\n",
    "    - 'capacidade_tanque';\n",
    "    - 'seguro';\n",
    "    - 'despesas_manutencao'\n",
    "- Textuais:\n",
    "    - 'tipo_pneu';\n",
    "    - 'opcionais'.\n",
    "\n",
    "SOMENTE com`` menos de 1% de valores núlos``, podemos excluir as linhas com valores núlos;\n",
    "\n",
    "Com mais de 50% de valores núlos podemos excluir a coluna com valores núlos\n",
    "\n",
    "Colunas numéricas, podemos substituir os valores núlos pela média, mediana ou moda.\n",
    "\n",
    "Colunas textuais podemos substituir pela moda."
   ]
  },
  {
   "cell_type": "code",
   "execution_count": 12,
   "metadata": {},
   "outputs": [
    {
     "data": {
      "text/plain": "50.05365104443255"
     },
     "execution_count": 12,
     "metadata": {},
     "output_type": "execute_result"
    }
   ],
   "source": [
    "df['seguro'].mean()"
   ]
  },
  {
   "cell_type": "code",
   "execution_count": 13,
   "metadata": {},
   "outputs": [],
   "source": [
    "# Valores numéricos\r\n",
    "df.loc[df['quilometragem'].isna(), 'quilometragem'] = df['quilometragem'].mean()\r\n",
    "df.loc[df['potencia_motor'].isna(), 'potencia_motor'] = df['potencia_motor'].median()\r\n",
    "df.loc[df['num_portas'].isna(), 'num_portas'] = df['num_portas'].median()\r\n",
    "df.loc[df['num_assentos'].isna(), 'num_assentos'] = df['num_assentos'].median()\r\n",
    "df.loc[df['capacidade_tanque'].isna(), 'capacidade_tanque'] = df['capacidade_tanque'].mode()[0]\r\n",
    "df.loc[df['seguro'].isna(), 'seguro'] = df['seguro'].mean()\r\n",
    "df.loc[df['despesas_manutencao'].isna(), 'despesas_manutencao'] = df['despesas_manutencao'].mean()\r\n",
    "\r\n",
    "# Valores textuais\r\n",
    "df.loc[df['tipo_pneu'].isna(), 'tipo_pneu'] = df['tipo_pneu'].mode()[0]\r\n",
    "df.loc[df['opcionais'].isna(), 'opcionais'] = df['opcionais'].mode()[0]"
   ]
  },
  {
   "cell_type": "code",
   "execution_count": 14,
   "metadata": {},
   "outputs": [
    {
     "data": {
      "text/plain": "marca                  0\nmodelo                 0\ncor                    0\ncombustivel            0\ncambio                 0\nano_fabricacao         0\nquilometragem          0\npotencia_motor         0\nnum_portas             0\nnum_assentos           0\ncapacidade_tanque      0\nseguro                 0\ndespesas_manutencao    0\ntipo_pneu              0\nopcionais              0\npreco_venda            0\ndtype: int64"
     },
     "execution_count": 14,
     "metadata": {},
     "output_type": "execute_result"
    }
   ],
   "source": [
    "# Exibe a quantidade de valores núlos por coluna\n",
    "df.isna().sum()"
   ]
  },
  {
   "cell_type": "code",
   "execution_count": 15,
   "metadata": {},
   "outputs": [
    {
     "data": {
      "text/plain": "['marca', 'modelo', 'cor', 'combustivel', 'cambio', 'tipo_pneu', 'opcionais']"
     },
     "execution_count": 15,
     "metadata": {},
     "output_type": "execute_result"
    }
   ],
   "source": [
    "# Cria uma lista com todas as colunas do tipo object\r\n",
    "colunas_object = df.select_dtypes(include = 'object').columns.tolist()\r\n",
    "\r\n",
    "# Exibe a lista com todas as colunas do tipo object\r\n",
    "colunas_object"
   ]
  },
  {
   "cell_type": "code",
   "execution_count": 21,
   "metadata": {},
   "outputs": [],
   "source": [
    "for coluna in colunas_object:\n",
    "    le = LabelEncoder()\n",
    "    df[coluna] = le.fit_transform(df[coluna])"
   ]
  },
  {
   "cell_type": "code",
   "execution_count": 22,
   "metadata": {},
   "outputs": [
    {
     "data": {
      "text/plain": "[]"
     },
     "execution_count": 22,
     "metadata": {},
     "output_type": "execute_result"
    }
   ],
   "source": [
    "# Exibe uma lista com todas as colunas do tipo object\r\n",
    "df.select_dtypes(include = 'object').columns.tolist()"
   ]
  },
  {
   "attachments": {},
   "cell_type": "markdown",
   "metadata": {},
   "source": [
    "Separar os dados em X e y antes de normalizar."
   ]
  },
  {
   "cell_type": "code",
   "execution_count": 23,
   "metadata": {},
   "outputs": [],
   "source": [
    "X = df[df.columns[:-1]]\n",
    "y = df[['preco_venda']]"
   ]
  },
  {
   "attachments": {},
   "cell_type": "markdown",
   "metadata": {},
   "source": [
    "Normalizar X e y\n",
    "\n",
    "Em casos de classificação (onde queremos prever uma ou mais classes), não normalizamos os valores da classe alvo, normalizamos apenas os atributos. Já em regressões (que queremos prever um valor numérico contínuo), realizamos a normalização dos atributos e da classe alvo."
   ]
  },
  {
   "cell_type": "code",
   "execution_count": 24,
   "metadata": {},
   "outputs": [],
   "source": [
    "scaler = MinMaxScaler()\n",
    "scaler.fit(X)\n",
    "X = scaler.transform(X)\n",
    "\n",
    "\n",
    "scaler_features = MinMaxScaler()\n",
    "scaler_features.fit(y)\n",
    "y = scaler_features.transform(y)"
   ]
  },
  {
   "attachments": {},
   "cell_type": "markdown",
   "metadata": {},
   "source": [
    "Separar dados em X e y de treinamento e teste com 5% para testes"
   ]
  },
  {
   "cell_type": "code",
   "execution_count": 25,
   "metadata": {},
   "outputs": [],
   "source": [
    "X_train, X_test, y_train, y_test = train_test_split(X, y, test_size = 0.05, random_state = 20)"
   ]
  },
  {
   "attachments": {},
   "cell_type": "markdown",
   "metadata": {},
   "source": [
    "# 4 - Treinamento de uma rede neural\r\n",
    "Para esta parte, precisamos definir o que queremos fazer.\r\n",
    "\r\n",
    "Note que a camada de entrada da minha rede recebe o valor da quantidade de atributos (colunas de atributos);\r\n",
    "\r\n",
    "Por padrão, as camadas ocultas (da segunda à penúltima camada), possuem a Função de ativação \"relu\";\r\n",
    "\r\n",
    "A nossa última camada é a camada de saída e:\r\n",
    "- Para regressões, possue apenas 1 neurônio e a função de ativaçõa é a \"linear\"\r\n",
    "- Para classificações, possue 1 neurônio para cada classe e a função de ativação pode ser a softmax se quiser prever mais de uma classe, ou a sigmoide se desejar prever apenas uma classe.\r\n",
    "\r\n",
    "OBS: Não existe ainda um método para definir a quantidade de camadas ocultas e quantos neurônios em cada uma. Quanto mais camadas e neurônios, mais processamento será necesário e não significa que os resultados serão melhores.\r\n"
   ]
  },
  {
   "cell_type": "code",
   "execution_count": 28,
   "metadata": {},
   "outputs": [
    {
     "name": "stdout",
     "output_type": "stream",
     "text": [
      "Epoch 1/50\n",
      "5938/5938 [==============================] - 9s 1ms/step - loss: 0.0847 - mse: 0.0847\n",
      "Epoch 2/50\n",
      "5938/5938 [==============================] - 7s 1ms/step - loss: 0.0836 - mse: 0.0836\n",
      "Epoch 3/50\n",
      "5938/5938 [==============================] - 7s 1ms/step - loss: 0.0836 - mse: 0.0836\n",
      "Epoch 4/50\n",
      "5938/5938 [==============================] - 7s 1ms/step - loss: 0.0836 - mse: 0.0836\n",
      "Epoch 5/50\n",
      "5938/5938 [==============================] - 7s 1ms/step - loss: 0.0836 - mse: 0.0836\n",
      "Epoch 6/50\n",
      "5938/5938 [==============================] - 7s 1ms/step - loss: 0.0835 - mse: 0.0835\n",
      "Epoch 7/50\n",
      "5938/5938 [==============================] - 7s 1ms/step - loss: 0.0835 - mse: 0.0835\n",
      "Epoch 8/50\n",
      "5938/5938 [==============================] - 7s 1ms/step - loss: 0.0835 - mse: 0.0835\n",
      "Epoch 9/50\n",
      "5938/5938 [==============================] - 7s 1ms/step - loss: 0.0835 - mse: 0.0835\n",
      "Epoch 10/50\n",
      "5938/5938 [==============================] - 7s 1ms/step - loss: 0.0835 - mse: 0.0835\n",
      "Epoch 11/50\n",
      "5938/5938 [==============================] - 7s 1ms/step - loss: 0.0835 - mse: 0.0835\n",
      "Epoch 12/50\n",
      "5938/5938 [==============================] - 7s 1ms/step - loss: 0.0835 - mse: 0.0835\n",
      "Epoch 13/50\n",
      "5938/5938 [==============================] - 7s 1ms/step - loss: 0.0835 - mse: 0.0835\n",
      "Epoch 14/50\n",
      "5938/5938 [==============================] - 7s 1ms/step - loss: 0.0835 - mse: 0.0835\n",
      "Epoch 15/50\n",
      "5938/5938 [==============================] - 7s 1ms/step - loss: 0.0835 - mse: 0.0835\n",
      "Epoch 16/50\n",
      "5938/5938 [==============================] - 7s 1ms/step - loss: 0.0835 - mse: 0.0835\n",
      "Epoch 17/50\n",
      "5938/5938 [==============================] - 7s 1ms/step - loss: 0.0835 - mse: 0.0835\n",
      "Epoch 18/50\n",
      "5938/5938 [==============================] - 7s 1ms/step - loss: 0.0835 - mse: 0.0835\n",
      "Epoch 19/50\n",
      "5938/5938 [==============================] - 7s 1ms/step - loss: 0.0835 - mse: 0.0835\n",
      "Epoch 20/50\n",
      "5938/5938 [==============================] - 7s 1ms/step - loss: 0.0835 - mse: 0.0835\n",
      "Epoch 21/50\n",
      "5938/5938 [==============================] - 7s 1ms/step - loss: 0.0835 - mse: 0.0835\n",
      "Epoch 22/50\n",
      "5938/5938 [==============================] - 7s 1ms/step - loss: 0.0835 - mse: 0.0835\n",
      "Epoch 23/50\n",
      "5938/5938 [==============================] - 7s 1ms/step - loss: 0.0835 - mse: 0.0835\n",
      "Epoch 24/50\n",
      "5938/5938 [==============================] - 7s 1ms/step - loss: 0.0835 - mse: 0.0835\n",
      "Epoch 25/50\n",
      "5938/5938 [==============================] - 7s 1ms/step - loss: 0.0835 - mse: 0.0835\n",
      "Epoch 26/50\n",
      "5938/5938 [==============================] - 7s 1ms/step - loss: 0.0835 - mse: 0.0835\n",
      "Epoch 27/50\n",
      "5938/5938 [==============================] - 7s 1ms/step - loss: 0.0835 - mse: 0.0835\n",
      "Epoch 28/50\n",
      "5938/5938 [==============================] - 7s 1ms/step - loss: 0.0835 - mse: 0.0835\n",
      "Epoch 29/50\n",
      "5938/5938 [==============================] - 7s 1ms/step - loss: 0.0835 - mse: 0.0835\n",
      "Epoch 30/50\n",
      "5938/5938 [==============================] - 7s 1ms/step - loss: 0.0835 - mse: 0.0835\n",
      "Epoch 31/50\n",
      "5938/5938 [==============================] - 7s 1ms/step - loss: 0.0835 - mse: 0.0835\n",
      "Epoch 32/50\n",
      "5938/5938 [==============================] - 7s 1ms/step - loss: 0.0835 - mse: 0.0835\n",
      "Epoch 33/50\n",
      "5938/5938 [==============================] - 7s 1ms/step - loss: 0.0835 - mse: 0.0835\n",
      "Epoch 34/50\n",
      "5938/5938 [==============================] - 7s 1ms/step - loss: 0.0835 - mse: 0.0835\n",
      "Epoch 35/50\n",
      "5938/5938 [==============================] - 7s 1ms/step - loss: 0.0835 - mse: 0.0835\n",
      "Epoch 36/50\n",
      "5938/5938 [==============================] - 7s 1ms/step - loss: 0.0835 - mse: 0.0835\n",
      "Epoch 37/50\n",
      "5938/5938 [==============================] - 7s 1ms/step - loss: 0.0835 - mse: 0.0835\n",
      "Epoch 38/50\n",
      "5938/5938 [==============================] - 7s 1ms/step - loss: 0.0835 - mse: 0.0835\n",
      "Epoch 39/50\n",
      "5938/5938 [==============================] - 7s 1ms/step - loss: 0.0835 - mse: 0.0835\n",
      "Epoch 40/50\n",
      "5938/5938 [==============================] - 7s 1ms/step - loss: 0.0835 - mse: 0.0835\n",
      "Epoch 41/50\n",
      "5938/5938 [==============================] - 7s 1ms/step - loss: 0.0835 - mse: 0.0835\n",
      "Epoch 42/50\n",
      "5938/5938 [==============================] - 7s 1ms/step - loss: 0.0835 - mse: 0.0835\n",
      "Epoch 43/50\n",
      "5938/5938 [==============================] - 7s 1ms/step - loss: 0.0835 - mse: 0.0835\n",
      "Epoch 44/50\n",
      "5938/5938 [==============================] - 7s 1ms/step - loss: 0.0835 - mse: 0.0835\n",
      "Epoch 45/50\n",
      "5938/5938 [==============================] - 7s 1ms/step - loss: 0.0835 - mse: 0.0835\n",
      "Epoch 46/50\n",
      "5938/5938 [==============================] - 7s 1ms/step - loss: 0.0835 - mse: 0.0835\n",
      "Epoch 47/50\n",
      "5938/5938 [==============================] - 7s 1ms/step - loss: 0.0835 - mse: 0.0835\n",
      "Epoch 48/50\n",
      "5938/5938 [==============================] - 7s 1ms/step - loss: 0.0835 - mse: 0.0835\n",
      "Epoch 49/50\n",
      "5938/5938 [==============================] - 7s 1ms/step - loss: 0.0835 - mse: 0.0835\n",
      "Epoch 50/50\n",
      "5938/5938 [==============================] - 7s 1ms/step - loss: 0.0835 - mse: 0.0835\n",
      "313/313 [==============================] - 0s 864us/step\n"
     ]
    }
   ],
   "source": [
    "# Criamos uma instância do modelo de rede neural\r\n",
    "model = Sequential()\r\n",
    "model.add(InputLayer(input_shape = (X_train.shape[1],)))\r\n",
    "model.add(Dense(50, activation = 'relu'))\r\n",
    "model.add(Dense(50, activation = 'relu'))\r\n",
    "model.add(Dense(50, activation = 'relu'))\r\n",
    "model.add(Dense(1, activation = 'linear'))\r\n",
    "\r\n",
    "# compila o modelo\r\n",
    "model.compile(loss = 'mean_squared_error', optimizer = 'adam', metrics = ['mse'])\r\n",
    "\r\n",
    "# treina o modelo\r\n",
    "model.fit(X_train, y_train, epochs = 50, verbose = 1)\r\n",
    "\r\n",
    "predict_rn = model.predict(X_test)"
   ]
  },
  {
   "attachments": {},
   "cell_type": "markdown",
   "metadata": {},
   "source": [
    "# 5 - Avaliação dos resultados\n",
    "\n",
    "Como estamos fazendo uma regressão, não temos como mediar a acurácia. Em regressão, uma das melhores métricas para avaliar os resultados é o erro médio quadrátio, abreviado carinhosamente de MSE.\n",
    "\n",
    "Para classificações, é interessante analisar a acurácia e a matriz de confusão.\n",
    "\n",
    "Outra avaliação muito interessante é a gráfica, para compararmos os valores reais com os previstos pela rede neural."
   ]
  },
  {
   "cell_type": "code",
   "execution_count": 30,
   "metadata": {},
   "outputs": [
    {
     "name": "stdout",
     "output_type": "stream",
     "text": [
      "Mean squared error Regressão Linear: 3204541523.7822\n"
     ]
    }
   ],
   "source": [
    "# Desnormaliza o y_test na variável y_desnormalizado\r\n",
    "y_test_desnormalizado = scaler_features.inverse_transform(y_test)\r\n",
    "\r\n",
    "# Desnormaliza o predict na variável predict_desnormalizado\r\n",
    "predict_desnormalizado = scaler_features.inverse_transform(predict_rn)\r\n",
    "\r\n",
    "# Calcula o mse com a biblioteca do sklearn\r\n",
    "mse = mean_squared_error(y_test_desnormalizado, predict_desnormalizado)\r\n",
    "print(\"Mean squared error Regressão Linear:\", mse)"
   ]
  },
  {
   "attachments": {},
   "cell_type": "markdown",
   "metadata": {},
   "source": [
    "### ERRO MÉDIO QUADRÁTICO\n",
    "Vamos imaginar que vocês estão tentando adivinhar o peso de uma melancia. Cada um de vocês faz um palpite, e depois comparamos esses palpites com o peso real da melancia. Para saber o quão bom ou ruim foram esses palpites, precisamos de uma medida que nos ajude a entender a diferença entre o palpite e o valor real.\n",
    "\n",
    "É aí que entra o Erro Médio Quadrático. O EMQ é uma maneira de calcular o quão distante estão os nossos palpites em relação aos valores reais. Basicamente, é uma média das diferenças entre cada palpite e o valor real, mas com um pequeno truque. Em vez de simplesmente somar as diferenças, nós elevamos cada diferença ao quadrado antes de somá-las.\n",
    "\n",
    "Mas por que elevar ao quadrado? Bem, isso tem algumas vantagens:\n",
    "\n",
    "Sempre obtemos um valor positivo, já que o quadrado de um número negativo também é positivo. Isso é útil porque não queremos que os erros negativos e positivos se cancelem.\n",
    "Dá mais peso aos erros maiores, fazendo com que as diferenças grandes sejam mais relevantes do que as pequenas.\n",
    "Depois de elevar as diferenças ao quadrado e somá-las, calculamos a média desses valores, ou seja, dividimos a soma pelo número total de palpites. Por fim, para voltar à mesma escala dos nossos dados originais, tiramos a raiz quadrada dessa média.\n",
    "\n",
    "Então, o Erro Médio Quadrático nos mostra o quanto, em média, os nossos palpites erraram em relação ao valor real. Quanto menor o EMQ, melhores foram nossos palpites!"
   ]
  },
  {
   "cell_type": "code",
   "execution_count": 31,
   "metadata": {},
   "outputs": [
    {
     "name": "stdout",
     "output_type": "stream",
     "text": [
      "O Erro Médio Quadrático dos palpites é: 1.41 kg\n"
     ]
    }
   ],
   "source": [
    "#  o peso real da melancia\r\n",
    "peso_real = 7.31\r\n",
    "\r\n",
    "# 10 palpites\r\n",
    "palpites = [7, 5.32, 4.73, 8.5, 5.1, 7.10, 6.9, 5.9, 6.9, 8]\r\n",
    "\r\n",
    "\r\n",
    "# Calculando o Erro Médio Quadrático\r\n",
    "soma_dos_quadrados = 0\r\n",
    "for palpite in palpites:\r\n",
    "    diferenca = palpite - peso_real\r\n",
    "    quadrado_da_diferenca = diferenca ** 2\r\n",
    "    soma_dos_quadrados += quadrado_da_diferenca\r\n",
    "\r\n",
    "erro_medio_quadratico = (soma_dos_quadrados / len(palpites)) ** 0.5\r\n",
    "\r\n",
    "print(f\"O Erro Médio Quadrático dos palpites é: {erro_medio_quadratico:.2f} kg\")"
   ]
  },
  {
   "cell_type": "code",
   "execution_count": 32,
   "metadata": {},
   "outputs": [
    {
     "name": "stdout",
     "output_type": "stream",
     "text": [
      "O Erro Médio Quadrático dos palpites é: 1.41 kg\n"
     ]
    }
   ],
   "source": [
    "# Repetindo o peso_real 10 vezes para criar uma lista com o mesmo tamanho que palpites\n",
    "pesos_reais = [peso_real] * 10\n",
    "\n",
    "# Calculando o Erro Médio Quadrático usando a função mean_squared_error do scikit-learn\n",
    "mse = mean_squared_error(pesos_reais, palpites)\n",
    "\n",
    "# Calculando a raiz quadrada do MSE para obter o RMSE (Root Mean Squared Error)\n",
    "rmse = np.sqrt(mse)\n",
    "\n",
    "print(f\"O Erro Médio Quadrático dos palpites é: {rmse:.2f} kg\")\n"
   ]
  },
  {
   "cell_type": "code",
   "execution_count": 34,
   "metadata": {},
   "outputs": [],
   "source": [
    "y_test_desnormalizado = scaler_features.inverse_transform(y_test)\r\n",
    "\r\n",
    "# Desnormaliza o predict na variável predict_desnormalizado\r\n",
    "predict_desnormalizado = scaler_features.inverse_transform(predict_rn)\r\n"
   ]
  },
  {
   "cell_type": "code",
   "execution_count": 35,
   "metadata": {},
   "outputs": [
    {
     "data": {
      "image/png": "[encoded data removed]",
      "text/plain": "<Figure size 640x480 with 1 Axes>"
     },
     "metadata": {},
     "output_type": "display_data"
    }
   ],
   "source": [
    "grafico_x = [x for x in range(1,len(y_test_desnormalizado)+1)]\n",
    "\n",
    "plt.plot(grafico_x, y_test_desnormalizado, label='Real')\n",
    "plt.plot(grafico_x, predict_desnormalizado, label='Predito')\n",
    "\n",
    "plt.title('Comparando valores reais e preditos de teste')\n",
    "plt.legend()\n",
    "\n",
    "plt.ylabel('Valor')\n",
    "\n",
    "plt.show()"
   ]
  },
  {
   "attachments": {},
   "cell_type": "markdown",
   "metadata": {},
   "source": [
    "Repare que são muitos dados de teste para o gráfico exibir, logo, podemos reduzir esta quantidade ou utilizar o outro método de gerar gráficos..."
   ]
  },
  {
   "cell_type": "code",
   "execution_count": 36,
   "metadata": {},
   "outputs": [],
   "source": [
    "# Define a função que plota o gráfico\n",
    "def grafico(x_val, valy, namey, titulo, x_name, y_name, save):\n",
    "    # Verifica se x_val é uma lista vazia\n",
    "    if len(x_val) == 0:\n",
    "        # Cria uma lista com o número de elementos na primeira lista de valy\n",
    "        x_val = [x for x in range(1,len(valy[0])+1)]\n",
    "    # Inicializa a lista de dados\n",
    "    data = []\n",
    "    # Define as cores para cada conjunto de dados\n",
    "    cores = ['#DC143C','#FFB90F','#0000FF','#006400','#00FFFF','#8B008B']\n",
    "    # Percorre cada conjunto de dados em valy\n",
    "    for cont in range(0,len(valy)):\n",
    "        # Adiciona um novo conjunto de dados na lista 'data'\n",
    "        data.append(go.Scatter(x = x_val,\n",
    "                    y = valy[cont],\n",
    "                    mode = 'lines',\n",
    "                    name = namey[cont],\n",
    "                    marker = {'color': cores[cont]}))\n",
    "    # Define as configurações do layout do gráfico\n",
    "    layout = go.Layout(title = f'{titulo}', title_x=0.5,\n",
    "                   titlefont = {'family': 'Arial',\n",
    "                                'size': 22,\n",
    "                                'color': '#000000'},\n",
    "                   xaxis = {'title': x_name},\n",
    "                   yaxis = {'title': y_name},\n",
    "                   paper_bgcolor = 'rgb(188, 231, 245)',\n",
    "                   plot_bgcolor = 'rgb(188, 231, 245)')\n",
    "    # Cria um objeto 'Figure' do plotly com os dados e o layout\n",
    "    fig = go.Figure(data=data, layout=layout)\n",
    "    # Define as configurações para a legenda\n",
    "    fig.update_layout(legend=dict(\n",
    "    orientation=\"h\",\n",
    "    yanchor=\"top\",\n",
    "    entrywidth=200,\n",
    "    y=1.15,\n",
    "    xanchor=\"right\",\n",
    "    x=1,\n",
    "    bgcolor = 'rgba(188, 231, 245,0.8)'\n",
    "    ),\n",
    "    font=dict(\n",
    "            size=15,\n",
    "            color=\"black\"\n",
    "        ))\n",
    "    # Verifica se o parâmetro 'save' é True\n",
    "    if save == True:\n",
    "        # Salva o gráfico como uma imagem SVG e um arquivo HTML\n",
    "        fig.write_image(f\"grafico/{titulo}.svg\", scale=1, width=1000, height=500)\n",
    "        fig.write_html(f\"grafico/{titulo}.html\")\n",
    "    # Verifica se o parâmetro 'save' é False\n",
    "    if save == False:\n",
    "        # Renderiza o gráfico na tela\n",
    "        py.iplot(fig)\n"
   ]
  },
  {
   "cell_type": "code",
   "execution_count": null,
   "metadata": {},
   "outputs": [],
   "source": [
    "grafico([], [y_test_desnormalizado.flatten(),predict_desnormalizado.flatten()], ['Real', 'Predito'], ' Valores reais Vs preditos de teste', '', 'Valor', False)"
   ]
  },
  {
   "attachments": {},
   "cell_type": "markdown",
   "metadata": {},
   "source": [
    "Porque este modelo ficou tão ruim, com o erro tão elevado?\n",
    "\n",
    "Bem, esta é apenas uma base hipotética gerada de forma artificial para fins didáticos..."
   ]
  },
  {
   "attachments": {},
   "cell_type": "markdown",
   "metadata": {},
   "source": [
    "# Exercícios\n",
    "Execute os passos de 1 a 5 para as duas bases de dados fictícias `ecommerce.csv` e `imoveis.csv`:\n",
    "\n",
    "- 1 - importar as bibliotecas necessárias;\n",
    "\n",
    "- 2  - Realizar análise dos dados;\n",
    "\n",
    "- 3 - Tratamento dos dados;\n",
    "\n",
    "- 4 - Treinamento de uma rede neural;\n",
    "\n",
    "- 5 - Avaliação dos resultados."
   ]
  },
  {
   "cell_type": "markdown",
   "metadata": {},
   "source": [
    "# Ecommerce (predição de categoria)"
   ]
  },
  {
   "cell_type": "markdown",
   "metadata": {},
   "source": [
    "## 1 - importar as bibliotecas necessárias;"
   ]
  },
  {
   "cell_type": "code",
   "execution_count": 70,
   "metadata": {},
   "outputs": [],
   "source": [
    "import pandas as pd\r\n",
    "from sklearn.preprocessing import MinMaxScaler\r\n",
    "from sklearn.preprocessing import LabelEncoder\r\n",
    "from sklearn.model_selection import train_test_split\r\n",
    "from keras.models import Sequential\r\n",
    "from keras.layers import Dense\r\n",
    "from keras.layers import InputLayer\r\n",
    "from keras.utils import to_categorical\r\n",
    "from sklearn.metrics import mean_squared_error\r\n",
    "import numpy as np\r\n",
    "import matplotlib.pyplot as plt\r\n",
    "import seaborn as sns\r\n",
    "from sklearn.metrics import confusion_matrix"
   ]
  },
  {
   "cell_type": "markdown",
   "metadata": {},
   "source": [
    "## 2  - Realizar análise dos dados;"
   ]
  },
  {
   "cell_type": "code",
   "execution_count": 49,
   "metadata": {},
   "outputs": [],
   "source": [
    "df = pd.read_csv('ecommerce.csv')"
   ]
  },
  {
   "cell_type": "code",
   "execution_count": 40,
   "metadata": {},
   "outputs": [
    {
     "data": {
      "text/html": "<div>\n<style scoped>\n    .dataframe tbody tr th:only-of-type {\n        vertical-align: middle;\n    }\n\n    .dataframe tbody tr th {\n        vertical-align: top;\n    }\n\n    .dataframe thead th {\n        text-align: right;\n    }\n</style>\n<table border=\"1\" class=\"dataframe\">\n  <thead>\n    <tr style=\"text-align: right;\">\n      <th></th>\n      <th>marca</th>\n      <th>cor</th>\n      <th>modelo</th>\n      <th>preco</th>\n      <th>avaliacao</th>\n      <th>quantidade_vendida</th>\n      <th>peso</th>\n      <th>largura</th>\n      <th>altura</th>\n      <th>desconto</th>\n      <th>comissao</th>\n      <th>tamanho</th>\n      <th>material</th>\n      <th>categoria</th>\n    </tr>\n  </thead>\n  <tbody>\n    <tr>\n      <th>0</th>\n      <td>deleniti</td>\n      <td>nobis</td>\n      <td>iste</td>\n      <td>31.579758</td>\n      <td>6.602634</td>\n      <td>93.138093</td>\n      <td>NaN</td>\n      <td>7.661073</td>\n      <td>53.696641</td>\n      <td>68.550996</td>\n      <td>5.487606</td>\n      <td>totam</td>\n      <td>tempora</td>\n      <td>brinquedos</td>\n    </tr>\n    <tr>\n      <th>1</th>\n      <td>veritatis</td>\n      <td>quod</td>\n      <td>nulla</td>\n      <td>5.296225</td>\n      <td>4.108969</td>\n      <td>35.290993</td>\n      <td>8.164109</td>\n      <td>NaN</td>\n      <td>1.357695</td>\n      <td>4.038954</td>\n      <td>42.729479</td>\n      <td>ipsum</td>\n      <td>libero</td>\n      <td>brinquedos</td>\n    </tr>\n    <tr>\n      <th>2</th>\n      <td>tempore</td>\n      <td>doloremque</td>\n      <td>consequatur</td>\n      <td>84.046864</td>\n      <td>NaN</td>\n      <td>18.331377</td>\n      <td>37.108413</td>\n      <td>51.934717</td>\n      <td>66.857216</td>\n      <td>65.416435</td>\n      <td>NaN</td>\n      <td>NaN</td>\n      <td>porro</td>\n      <td>livros</td>\n    </tr>\n    <tr>\n      <th>3</th>\n      <td>ea</td>\n      <td>reiciendis</td>\n      <td>at</td>\n      <td>22.800814</td>\n      <td>54.490063</td>\n      <td>74.549107</td>\n      <td>NaN</td>\n      <td>35.369126</td>\n      <td>56.566021</td>\n      <td>59.431163</td>\n      <td>90.096738</td>\n      <td>NaN</td>\n      <td>ratione</td>\n      <td>brinquedos</td>\n    </tr>\n    <tr>\n      <th>4</th>\n      <td>rerum</td>\n      <td>repellat</td>\n      <td>quisquam</td>\n      <td>83.685646</td>\n      <td>80.561086</td>\n      <td>62.994218</td>\n      <td>53.015767</td>\n      <td>36.439035</td>\n      <td>38.479347</td>\n      <td>15.748882</td>\n      <td>12.409569</td>\n      <td>NaN</td>\n      <td>deleniti</td>\n      <td>vestuario</td>\n    </tr>\n  </tbody>\n</table>\n</div>",
      "text/plain": "       marca         cor       modelo      preco  avaliacao  \\\n0   deleniti       nobis         iste  31.579758   6.602634   \n1  veritatis        quod        nulla   5.296225   4.108969   \n2    tempore  doloremque  consequatur  84.046864        NaN   \n3         ea  reiciendis           at  22.800814  54.490063   \n4      rerum    repellat     quisquam  83.685646  80.561086   \n\n   quantidade_vendida       peso    largura     altura   desconto   comissao  \\\n0           93.138093        NaN   7.661073  53.696641  68.550996   5.487606   \n1           35.290993   8.164109        NaN   1.357695   4.038954  42.729479   \n2           18.331377  37.108413  51.934717  66.857216  65.416435        NaN   \n3           74.549107        NaN  35.369126  56.566021  59.431163  90.096738   \n4           62.994218  53.015767  36.439035  38.479347  15.748882  12.409569   \n\n  tamanho  material   categoria  \n0   totam   tempora  brinquedos  \n1   ipsum    libero  brinquedos  \n2     NaN     porro      livros  \n3     NaN   ratione  brinquedos  \n4     NaN  deleniti   vestuario  "
     },
     "execution_count": 40,
     "metadata": {},
     "output_type": "execute_result"
    }
   ],
   "source": [
    "df.head()"
   ]
  },
  {
   "cell_type": "code",
   "execution_count": 41,
   "metadata": {},
   "outputs": [
    {
     "data": {
      "text/plain": "marca                  object\ncor                    object\nmodelo                 object\npreco                 float64\navaliacao             float64\nquantidade_vendida    float64\npeso                  float64\nlargura               float64\naltura                float64\ndesconto              float64\ncomissao              float64\ntamanho                object\nmaterial               object\ncategoria              object\ndtype: object"
     },
     "execution_count": 41,
     "metadata": {},
     "output_type": "execute_result"
    }
   ],
   "source": [
    "df.dtypes"
   ]
  },
  {
   "cell_type": "code",
   "execution_count": 42,
   "metadata": {},
   "outputs": [
    {
     "name": "stdout",
     "output_type": "stream",
     "text": [
      "<class 'pandas.core.frame.DataFrame'>\n",
      "RangeIndex: 200000 entries, 0 to 199999\n",
      "Data columns (total 14 columns):\n",
      " #   Column              Non-Null Count   Dtype  \n",
      "---  ------              --------------   -----  \n",
      " 0   marca               200000 non-null  object \n",
      " 1   cor                 200000 non-null  object \n",
      " 2   modelo              200000 non-null  object \n",
      " 3   preco               190000 non-null  float64\n",
      " 4   avaliacao           190000 non-null  float64\n",
      " 5   quantidade_vendida  190000 non-null  float64\n",
      " 6   peso                190000 non-null  float64\n",
      " 7   largura             190000 non-null  float64\n",
      " 8   altura              190000 non-null  float64\n",
      " 9   desconto            180000 non-null  float64\n",
      " 10  comissao            180000 non-null  float64\n",
      " 11  tamanho             180000 non-null  object \n",
      " 12  material            180000 non-null  object \n",
      " 13  categoria           200000 non-null  object \n",
      "dtypes: float64(8), object(6)\n",
      "memory usage: 21.4+ MB\n"
     ]
    }
   ],
   "source": [
    "df.info()"
   ]
  },
  {
   "cell_type": "code",
   "execution_count": 44,
   "metadata": {},
   "outputs": [
    {
     "data": {
      "text/html": "<div>\n<style scoped>\n    .dataframe tbody tr th:only-of-type {\n        vertical-align: middle;\n    }\n\n    .dataframe tbody tr th {\n        vertical-align: top;\n    }\n\n    .dataframe thead th {\n        text-align: right;\n    }\n</style>\n<table border=\"1\" class=\"dataframe\">\n  <thead>\n    <tr style=\"text-align: right;\">\n      <th></th>\n      <th>count</th>\n      <th>mean</th>\n      <th>std</th>\n      <th>min</th>\n      <th>25%</th>\n      <th>50%</th>\n      <th>75%</th>\n      <th>max</th>\n    </tr>\n  </thead>\n  <tbody>\n    <tr>\n      <th>preco</th>\n      <td>190000.0</td>\n      <td>50.129041</td>\n      <td>28.807193</td>\n      <td>0.000270</td>\n      <td>25.219274</td>\n      <td>50.247111</td>\n      <td>74.954184</td>\n      <td>99.999454</td>\n    </tr>\n    <tr>\n      <th>avaliacao</th>\n      <td>190000.0</td>\n      <td>50.048015</td>\n      <td>28.930459</td>\n      <td>0.000210</td>\n      <td>24.862820</td>\n      <td>50.028003</td>\n      <td>75.220203</td>\n      <td>99.999875</td>\n    </tr>\n    <tr>\n      <th>quantidade_vendida</th>\n      <td>190000.0</td>\n      <td>49.913130</td>\n      <td>28.886700</td>\n      <td>0.000468</td>\n      <td>24.861172</td>\n      <td>49.837759</td>\n      <td>74.941857</td>\n      <td>99.999997</td>\n    </tr>\n    <tr>\n      <th>peso</th>\n      <td>190000.0</td>\n      <td>49.946628</td>\n      <td>28.829859</td>\n      <td>0.001321</td>\n      <td>25.017071</td>\n      <td>49.908753</td>\n      <td>74.828141</td>\n      <td>99.999701</td>\n    </tr>\n    <tr>\n      <th>largura</th>\n      <td>190000.0</td>\n      <td>49.942379</td>\n      <td>28.874149</td>\n      <td>0.000105</td>\n      <td>24.913976</td>\n      <td>49.962590</td>\n      <td>74.991127</td>\n      <td>99.999900</td>\n    </tr>\n    <tr>\n      <th>altura</th>\n      <td>190000.0</td>\n      <td>50.078605</td>\n      <td>28.872941</td>\n      <td>0.000660</td>\n      <td>25.048275</td>\n      <td>50.157876</td>\n      <td>75.118590</td>\n      <td>99.999428</td>\n    </tr>\n    <tr>\n      <th>desconto</th>\n      <td>180000.0</td>\n      <td>49.922372</td>\n      <td>28.895326</td>\n      <td>0.000109</td>\n      <td>24.803980</td>\n      <td>49.937842</td>\n      <td>74.932082</td>\n      <td>99.999865</td>\n    </tr>\n    <tr>\n      <th>comissao</th>\n      <td>180000.0</td>\n      <td>49.911938</td>\n      <td>28.922378</td>\n      <td>0.000375</td>\n      <td>24.799983</td>\n      <td>49.932872</td>\n      <td>74.932320</td>\n      <td>99.999963</td>\n    </tr>\n  </tbody>\n</table>\n</div>",
      "text/plain": "                       count       mean        std       min        25%  \\\npreco               190000.0  50.129041  28.807193  0.000270  25.219274   \navaliacao           190000.0  50.048015  28.930459  0.000210  24.862820   \nquantidade_vendida  190000.0  49.913130  28.886700  0.000468  24.861172   \npeso                190000.0  49.946628  28.829859  0.001321  25.017071   \nlargura             190000.0  49.942379  28.874149  0.000105  24.913976   \naltura              190000.0  50.078605  28.872941  0.000660  25.048275   \ndesconto            180000.0  49.922372  28.895326  0.000109  24.803980   \ncomissao            180000.0  49.911938  28.922378  0.000375  24.799983   \n\n                          50%        75%        max  \npreco               50.247111  74.954184  99.999454  \navaliacao           50.028003  75.220203  99.999875  \nquantidade_vendida  49.837759  74.941857  99.999997  \npeso                49.908753  74.828141  99.999701  \nlargura             49.962590  74.991127  99.999900  \naltura              50.157876  75.118590  99.999428  \ndesconto            49.937842  74.932082  99.999865  \ncomissao            49.932872  74.932320  99.999963  "
     },
     "execution_count": 44,
     "metadata": {},
     "output_type": "execute_result"
    }
   ],
   "source": [
    "df.describe().T"
   ]
  },
  {
   "cell_type": "code",
   "execution_count": 45,
   "metadata": {},
   "outputs": [
    {
     "data": {
      "text/html": "<div>\n<style scoped>\n    .dataframe tbody tr th:only-of-type {\n        vertical-align: middle;\n    }\n\n    .dataframe tbody tr th {\n        vertical-align: top;\n    }\n\n    .dataframe thead th {\n        text-align: right;\n    }\n</style>\n<table border=\"1\" class=\"dataframe\">\n  <thead>\n    <tr style=\"text-align: right;\">\n      <th></th>\n      <th>marca</th>\n      <th>cor</th>\n      <th>modelo</th>\n      <th>tamanho</th>\n      <th>material</th>\n      <th>categoria</th>\n    </tr>\n  </thead>\n  <tbody>\n    <tr>\n      <th>count</th>\n      <td>200000</td>\n      <td>200000</td>\n      <td>200000</td>\n      <td>180000</td>\n      <td>180000</td>\n      <td>200000</td>\n    </tr>\n    <tr>\n      <th>unique</th>\n      <td>182</td>\n      <td>182</td>\n      <td>182</td>\n      <td>182</td>\n      <td>182</td>\n      <td>5</td>\n    </tr>\n    <tr>\n      <th>top</th>\n      <td>neque</td>\n      <td>quas</td>\n      <td>aliquid</td>\n      <td>tempore</td>\n      <td>assumenda</td>\n      <td>brinquedos</td>\n    </tr>\n    <tr>\n      <th>freq</th>\n      <td>1179</td>\n      <td>1207</td>\n      <td>1194</td>\n      <td>1088</td>\n      <td>1082</td>\n      <td>40069</td>\n    </tr>\n  </tbody>\n</table>\n</div>",
      "text/plain": "         marca     cor   modelo  tamanho   material   categoria\ncount   200000  200000   200000   180000     180000      200000\nunique     182     182      182      182        182           5\ntop      neque    quas  aliquid  tempore  assumenda  brinquedos\nfreq      1179    1207     1194     1088       1082       40069"
     },
     "execution_count": 45,
     "metadata": {},
     "output_type": "execute_result"
    }
   ],
   "source": [
    "df.describe(include = 'O')"
   ]
  },
  {
   "cell_type": "code",
   "execution_count": 46,
   "metadata": {},
   "outputs": [
    {
     "data": {
      "text/plain": "marca                     0\ncor                       0\nmodelo                    0\npreco                 10000\navaliacao             10000\nquantidade_vendida    10000\npeso                  10000\nlargura               10000\naltura                10000\ndesconto              20000\ncomissao              20000\ntamanho               20000\nmaterial              20000\ncategoria                 0\ndtype: int64"
     },
     "execution_count": 46,
     "metadata": {},
     "output_type": "execute_result"
    }
   ],
   "source": [
    "df.isna().sum()"
   ]
  },
  {
   "cell_type": "code",
   "execution_count": 47,
   "metadata": {},
   "outputs": [
    {
     "data": {
      "text/plain": "marca                  0.0\ncor                    0.0\nmodelo                 0.0\npreco                  5.0\navaliacao              5.0\nquantidade_vendida     5.0\npeso                   5.0\nlargura                5.0\naltura                 5.0\ndesconto              10.0\ncomissao              10.0\ntamanho               10.0\nmaterial              10.0\ncategoria              0.0\ndtype: float64"
     },
     "execution_count": 47,
     "metadata": {},
     "output_type": "execute_result"
    }
   ],
   "source": [
    "df.isna().sum() * 100 / len(df)"
   ]
  },
  {
   "cell_type": "markdown",
   "metadata": {},
   "source": [
    "## 3 - Tratamento dos dados;"
   ]
  },
  {
   "cell_type": "code",
   "execution_count": 50,
   "metadata": {},
   "outputs": [],
   "source": [
    "df.loc[df['preco'].isna(), 'preco'] = df['preco'].median()\r\n",
    "df.loc[df['avaliacao'].isna(), 'avaliacao'] = df['avaliacao'].median()\r\n",
    "df.loc[df['quantidade_vendida'].isna(), 'quantidade_vendida'] = df['quantidade_vendida'].median()\r\n",
    "df.loc[df['peso'].isna(), 'peso'] = df['peso'].median()\r\n",
    "df.loc[df['largura'].isna(), 'largura'] = df['largura'].median()\r\n",
    "df.loc[df['altura'].isna(), 'altura'] = df['altura'].median()\r\n",
    "df.loc[df['desconto'].isna(), 'desconto'] = df['desconto'].median()\r\n",
    "df.loc[df['comissao'].isna(), 'comissao'] = df['comissao'].median()"
   ]
  },
  {
   "cell_type": "code",
   "execution_count": 51,
   "metadata": {},
   "outputs": [],
   "source": [
    "df.loc[df['tamanho'].isna(), 'tamanho'] = df['tamanho'].mode()[0]\r\n",
    "df.loc[df['material'].isna(), 'material'] = df['material'].mode()[0]"
   ]
  },
  {
   "cell_type": "code",
   "execution_count": 30,
   "metadata": {},
   "outputs": [
    {
     "data": {
      "text/plain": "marca                 0.0\ncor                   0.0\nmodelo                0.0\npreco                 0.0\navaliacao             0.0\nquantidade_vendida    0.0\npeso                  0.0\nlargura               0.0\naltura                0.0\ndesconto              0.0\ncomissao              0.0\ntamanho               0.0\nmaterial              0.0\ncategoria             0.0\ndtype: float64"
     },
     "execution_count": 30,
     "metadata": {},
     "output_type": "execute_result"
    }
   ],
   "source": [
    "df.isna().sum() * 100 / len(df)"
   ]
  },
  {
   "cell_type": "markdown",
   "metadata": {},
   "source": [
    "## 4 - Treinamento de uma rede neural;"
   ]
  },
  {
   "cell_type": "code",
   "execution_count": 52,
   "metadata": {},
   "outputs": [
    {
     "data": {
      "text/plain": "['marca', 'cor', 'modelo', 'tamanho', 'material', 'categoria']"
     },
     "execution_count": 52,
     "metadata": {},
     "output_type": "execute_result"
    }
   ],
   "source": [
    "colunas_object = df.select_dtypes(include = 'object').columns.tolist()\r\n",
    "colunas_object"
   ]
  },
  {
   "cell_type": "code",
   "execution_count": 53,
   "metadata": {},
   "outputs": [],
   "source": [
    "for coluna in colunas_object:\r\n",
    "    le = LabelEncoder()\r\n",
    "    df[coluna] = le.fit_transform(df[coluna])"
   ]
  },
  {
   "cell_type": "code",
   "execution_count": 54,
   "metadata": {},
   "outputs": [
    {
     "data": {
      "text/plain": "[]"
     },
     "execution_count": 54,
     "metadata": {},
     "output_type": "execute_result"
    }
   ],
   "source": [
    "df.select_dtypes(include = 'object').columns.tolist()"
   ]
  },
  {
   "cell_type": "code",
   "execution_count": 55,
   "metadata": {},
   "outputs": [],
   "source": [
    "X = df[df.columns[:-1]]\r\n",
    "y = df[['categoria']].values"
   ]
  },
  {
   "cell_type": "code",
   "execution_count": 61,
   "metadata": {},
   "outputs": [],
   "source": [
    "scaler = MinMaxScaler()\r\n",
    "scaler.fit(X)\r\n",
    "X = scaler.transform(X)\r\n",
    "\r\n",
    "y_one_hot = to_categorical(y)"
   ]
  },
  {
   "cell_type": "code",
   "execution_count": 62,
   "metadata": {},
   "outputs": [
    {
     "data": {
      "text/plain": "array([[1., 0., 0., 0., 0.],\n       [1., 0., 0., 0., 0.],\n       [0., 0., 0., 1., 0.],\n       ...,\n       [0., 1., 0., 0., 0.],\n       [0., 1., 0., 0., 0.],\n       [0., 0., 0., 1., 0.]], dtype=float32)"
     },
     "execution_count": 62,
     "metadata": {},
     "output_type": "execute_result"
    }
   ],
   "source": [
    "y_one_hot"
   ]
  },
  {
   "cell_type": "code",
   "execution_count": 63,
   "metadata": {},
   "outputs": [],
   "source": [
    "X_train, X_test, y_train, y_test = train_test_split(X, y_one_hot, test_size = 0.05, random_state = 20)"
   ]
  },
  {
   "cell_type": "code",
   "execution_count": null,
   "metadata": {},
   "outputs": [],
   "source": [
    "model = Sequential()\r\n",
    "model.add(Dense(32, activation='relu', input_shape = (X_train.shape[1],)))\r\n",
    "model.add(Dense(50, activation = 'relu'))\r\n",
    "model.add(Dense(50, activation = 'relu'))\r\n",
    "model.add(Dense(50, activation = 'relu'))\r\n",
    "\r\n",
    "model.add(Dense(5, activation = 'softmax'))\r\n",
    "\r\n",
    "model.compile(loss = 'categorical_crossentropy', optimizer = 'adam', metrics = ['accuracy'])\r\n",
    "\r\n",
    "history = model.fit(X_train, y_train, epochs = 20, validation_split = 0.05)"
   ]
  },
  {
   "cell_type": "code",
   "execution_count": 67,
   "metadata": {},
   "outputs": [
    {
     "data": {
      "text/plain": "dict_keys(['loss', 'accuracy', 'val_loss', 'val_accuracy'])"
     },
     "execution_count": 67,
     "metadata": {},
     "output_type": "execute_result"
    }
   ],
   "source": [
    "history.history.keys()"
   ]
  },
  {
   "cell_type": "markdown",
   "metadata": {},
   "source": [
    "## 5 - Avaliação dos resultados."
   ]
  },
  {
   "cell_type": "code",
   "execution_count": null,
   "metadata": {},
   "outputs": [],
   "source": [
    "# loss = history.history['loss']\r\n",
    "# val_loss = history.history['val_loss']\r\n",
    "# accuracy = history.history['accuracy']\r\n",
    "# val_accuracy = history.history['val_accuracy']\r\n",
    "\r\n",
    "# valor_y = [loss, val_loss, accuracy, val_accuracy]\r\n",
    "# name_y = ['loss','val loss', 'accuracy', 'val_accuracy']\r\n",
    "\r\n"
   ]
  },
  {
   "cell_type": "code",
   "execution_count": 71,
   "metadata": {},
   "outputs": [
    {
     "name": "stdout",
     "output_type": "stream",
     "text": [
      "313/313 [==============================] - 0s 970us/step\n"
     ]
    },
    {
     "data": {
      "image/png": "[encoded data removed]",
      "text/plain": "<Figure size 640x480 with 2 Axes>"
     },
     "metadata": {},
     "output_type": "display_data"
    }
   ],
   "source": [
    "y_pred = model.predict(X_test)\r\n",
    "y_pred = np.argmax(y_pred, axis=1)\r\n",
    "y_test = np.argmax(y_test, axis=1)\r\n",
    "\r\n",
    "cm = confusion_matrix(y_test, y_pred)\r\n",
    "\r\n",
    "sns.heatmap(cm, annot=True, cmap=\"Blues\", fmt=\"d\")\r\n",
    "plt.title('Matriz de Confusão')\r\n",
    "plt.xlabel('Previsões')\r\n",
    "plt.ylabel('Real')\r\n",
    "plt.show()"
   ]
  },
  {
   "cell_type": "markdown",
   "metadata": {},
   "source": [
    "# Imoveis (predição de valor)"
   ]
  },
  {
   "cell_type": "markdown",
   "metadata": {},
   "source": [
    "## 1 - importar as bibliotecas necessárias"
   ]
  },
  {
   "cell_type": "code",
   "execution_count": 38,
   "metadata": {},
   "outputs": [],
   "source": [
    "import pandas as pd\r\n",
    "from sklearn.preprocessing import MinMaxScaler\r\n",
    "from sklearn.preprocessing import LabelEncoder\r\n",
    "from sklearn.model_selection import train_test_split\r\n",
    "from keras.models import Sequential\r\n",
    "from keras.layers import Dense\r\n",
    "from keras.layers import InputLayer\r\n",
    "from keras.utils import to_categorical\r\n",
    "from sklearn.metrics import mean_squared_error\r\n",
    "import numpy as np\r\n",
    "import matplotlib.pyplot as plt\r\n",
    "import seaborn as sns\r\n",
    "from sklearn.metrics import confusion_matrix"
   ]
  },
  {
   "cell_type": "markdown",
   "metadata": {},
   "source": [
    "## 2  - Realizar análise dos dados;"
   ]
  },
  {
   "cell_type": "code",
   "execution_count": 72,
   "metadata": {},
   "outputs": [],
   "source": [
    "df = pd.read_csv('imoveis.csv')"
   ]
  },
  {
   "cell_type": "code",
   "execution_count": 73,
   "metadata": {},
   "outputs": [
    {
     "data": {
      "text/html": "<div>\n<style scoped>\n    .dataframe tbody tr th:only-of-type {\n        vertical-align: middle;\n    }\n\n    .dataframe tbody tr th {\n        vertical-align: top;\n    }\n\n    .dataframe thead th {\n        text-align: right;\n    }\n</style>\n<table border=\"1\" class=\"dataframe\">\n  <thead>\n    <tr style=\"text-align: right;\">\n      <th></th>\n      <th>bairro</th>\n      <th>tipo</th>\n      <th>estilo</th>\n      <th>area_total</th>\n      <th>area_construida</th>\n      <th>quartos</th>\n      <th>banheiros</th>\n      <th>vagas_garagem</th>\n      <th>idade_imovel</th>\n      <th>condominio</th>\n      <th>iptu</th>\n      <th>mobilia</th>\n      <th>diferenciais</th>\n      <th>preco_venda</th>\n    </tr>\n  </thead>\n  <tbody>\n    <tr>\n      <th>0</th>\n      <td>sequi</td>\n      <td>impedit</td>\n      <td>nulla</td>\n      <td>15.745641</td>\n      <td>37.442807</td>\n      <td>83.568846</td>\n      <td>6.163798</td>\n      <td>24.211990</td>\n      <td>8.809863</td>\n      <td>57.570220</td>\n      <td>30.888299</td>\n      <td>autem</td>\n      <td>itaque</td>\n      <td>178464</td>\n    </tr>\n    <tr>\n      <th>1</th>\n      <td>alias</td>\n      <td>amet</td>\n      <td>nesciunt</td>\n      <td>25.789275</td>\n      <td>19.787780</td>\n      <td>5.713288</td>\n      <td>44.549722</td>\n      <td>43.138207</td>\n      <td>47.246028</td>\n      <td>94.374063</td>\n      <td>67.732363</td>\n      <td>expedita</td>\n      <td>eveniet</td>\n      <td>800402</td>\n    </tr>\n    <tr>\n      <th>2</th>\n      <td>natus</td>\n      <td>quia</td>\n      <td>quam</td>\n      <td>94.026076</td>\n      <td>46.095012</td>\n      <td>76.470387</td>\n      <td>15.974051</td>\n      <td>42.028503</td>\n      <td>98.051086</td>\n      <td>NaN</td>\n      <td>24.964126</td>\n      <td>ut</td>\n      <td>excepturi</td>\n      <td>863851</td>\n    </tr>\n    <tr>\n      <th>3</th>\n      <td>voluptate</td>\n      <td>optio</td>\n      <td>maiores</td>\n      <td>75.593924</td>\n      <td>72.929460</td>\n      <td>63.664253</td>\n      <td>69.469801</td>\n      <td>34.693061</td>\n      <td>79.599822</td>\n      <td>80.963561</td>\n      <td>40.546226</td>\n      <td>rerum</td>\n      <td>dolorum</td>\n      <td>842094</td>\n    </tr>\n    <tr>\n      <th>4</th>\n      <td>iste</td>\n      <td>in</td>\n      <td>blanditiis</td>\n      <td>73.774483</td>\n      <td>1.171677</td>\n      <td>61.633379</td>\n      <td>64.046655</td>\n      <td>66.606966</td>\n      <td>54.712599</td>\n      <td>2.502191</td>\n      <td>1.199641</td>\n      <td>nihil</td>\n      <td>quaerat</td>\n      <td>779204</td>\n    </tr>\n  </tbody>\n</table>\n</div>",
      "text/plain": "      bairro     tipo      estilo  area_total  area_construida    quartos  \\\n0      sequi  impedit       nulla   15.745641        37.442807  83.568846   \n1      alias     amet    nesciunt   25.789275        19.787780   5.713288   \n2      natus     quia        quam   94.026076        46.095012  76.470387   \n3  voluptate    optio     maiores   75.593924        72.929460  63.664253   \n4       iste       in  blanditiis   73.774483         1.171677  61.633379   \n\n   banheiros  vagas_garagem  idade_imovel  condominio       iptu   mobilia  \\\n0   6.163798      24.211990      8.809863   57.570220  30.888299     autem   \n1  44.549722      43.138207     47.246028   94.374063  67.732363  expedita   \n2  15.974051      42.028503     98.051086         NaN  24.964126        ut   \n3  69.469801      34.693061     79.599822   80.963561  40.546226     rerum   \n4  64.046655      66.606966     54.712599    2.502191   1.199641     nihil   \n\n  diferenciais  preco_venda  \n0       itaque       178464  \n1      eveniet       800402  \n2    excepturi       863851  \n3      dolorum       842094  \n4      quaerat       779204  "
     },
     "execution_count": 73,
     "metadata": {},
     "output_type": "execute_result"
    }
   ],
   "source": [
    "df.head()"
   ]
  },
  {
   "cell_type": "code",
   "execution_count": 74,
   "metadata": {},
   "outputs": [
    {
     "data": {
      "text/plain": "bairro              object\ntipo                object\nestilo              object\narea_total         float64\narea_construida    float64\nquartos            float64\nbanheiros          float64\nvagas_garagem      float64\nidade_imovel       float64\ncondominio         float64\niptu               float64\nmobilia             object\ndiferenciais        object\npreco_venda          int64\ndtype: object"
     },
     "execution_count": 74,
     "metadata": {},
     "output_type": "execute_result"
    }
   ],
   "source": [
    "df.dtypes"
   ]
  },
  {
   "cell_type": "code",
   "execution_count": 75,
   "metadata": {},
   "outputs": [
    {
     "name": "stdout",
     "output_type": "stream",
     "text": [
      "<class 'pandas.core.frame.DataFrame'>\n",
      "RangeIndex: 200000 entries, 0 to 199999\n",
      "Data columns (total 14 columns):\n",
      " #   Column           Non-Null Count   Dtype  \n",
      "---  ------           --------------   -----  \n",
      " 0   bairro           200000 non-null  object \n",
      " 1   tipo             200000 non-null  object \n",
      " 2   estilo           200000 non-null  object \n",
      " 3   area_total       190000 non-null  float64\n",
      " 4   area_construida  190000 non-null  float64\n",
      " 5   quartos          200000 non-null  float64\n",
      " 6   banheiros        200000 non-null  float64\n",
      " 7   vagas_garagem    200000 non-null  float64\n",
      " 8   idade_imovel     190000 non-null  float64\n",
      " 9   condominio       180000 non-null  float64\n",
      " 10  iptu             180000 non-null  float64\n",
      " 11  mobilia          180000 non-null  object \n",
      " 12  diferenciais     180000 non-null  object \n",
      " 13  preco_venda      200000 non-null  int64  \n",
      "dtypes: float64(8), int64(1), object(5)\n",
      "memory usage: 21.4+ MB\n"
     ]
    }
   ],
   "source": [
    "df.info()"
   ]
  },
  {
   "cell_type": "code",
   "execution_count": 77,
   "metadata": {},
   "outputs": [
    {
     "data": {
      "text/html": "<div>\n<style scoped>\n    .dataframe tbody tr th:only-of-type {\n        vertical-align: middle;\n    }\n\n    .dataframe tbody tr th {\n        vertical-align: top;\n    }\n\n    .dataframe thead th {\n        text-align: right;\n    }\n</style>\n<table border=\"1\" class=\"dataframe\">\n  <thead>\n    <tr style=\"text-align: right;\">\n      <th></th>\n      <th>count</th>\n      <th>mean</th>\n      <th>std</th>\n      <th>min</th>\n      <th>25%</th>\n      <th>50%</th>\n      <th>75%</th>\n      <th>max</th>\n    </tr>\n  </thead>\n  <tbody>\n    <tr>\n      <th>area_total</th>\n      <td>190000.0</td>\n      <td>49.989972</td>\n      <td>28.782844</td>\n      <td>0.000162</td>\n      <td>25.136509</td>\n      <td>50.040100</td>\n      <td>74.892262</td>\n      <td>99.999489</td>\n    </tr>\n    <tr>\n      <th>area_construida</th>\n      <td>190000.0</td>\n      <td>49.984286</td>\n      <td>28.882228</td>\n      <td>0.000028</td>\n      <td>24.900300</td>\n      <td>50.153795</td>\n      <td>74.926583</td>\n      <td>99.999136</td>\n    </tr>\n    <tr>\n      <th>quartos</th>\n      <td>200000.0</td>\n      <td>49.957064</td>\n      <td>28.883103</td>\n      <td>0.000030</td>\n      <td>24.860227</td>\n      <td>50.025333</td>\n      <td>75.051046</td>\n      <td>99.999947</td>\n    </tr>\n    <tr>\n      <th>banheiros</th>\n      <td>200000.0</td>\n      <td>49.995873</td>\n      <td>28.856121</td>\n      <td>0.000060</td>\n      <td>24.964391</td>\n      <td>50.006142</td>\n      <td>75.071845</td>\n      <td>99.999784</td>\n    </tr>\n    <tr>\n      <th>vagas_garagem</th>\n      <td>200000.0</td>\n      <td>50.107350</td>\n      <td>28.833466</td>\n      <td>0.001010</td>\n      <td>25.159931</td>\n      <td>50.267896</td>\n      <td>75.018785</td>\n      <td>99.998857</td>\n    </tr>\n    <tr>\n      <th>idade_imovel</th>\n      <td>190000.0</td>\n      <td>49.924262</td>\n      <td>28.859808</td>\n      <td>0.000405</td>\n      <td>24.961742</td>\n      <td>49.844018</td>\n      <td>74.900586</td>\n      <td>99.999742</td>\n    </tr>\n    <tr>\n      <th>condominio</th>\n      <td>180000.0</td>\n      <td>50.122377</td>\n      <td>28.834959</td>\n      <td>0.000624</td>\n      <td>25.110600</td>\n      <td>50.256001</td>\n      <td>75.044160</td>\n      <td>99.999537</td>\n    </tr>\n    <tr>\n      <th>iptu</th>\n      <td>180000.0</td>\n      <td>49.999391</td>\n      <td>28.899215</td>\n      <td>0.000255</td>\n      <td>25.004242</td>\n      <td>49.885798</td>\n      <td>75.064423</td>\n      <td>99.999301</td>\n    </tr>\n    <tr>\n      <th>preco_venda</th>\n      <td>200000.0</td>\n      <td>550288.246715</td>\n      <td>260008.238728</td>\n      <td>100003.000000</td>\n      <td>324635.500000</td>\n      <td>551380.500000</td>\n      <td>775213.000000</td>\n      <td>999991.000000</td>\n    </tr>\n  </tbody>\n</table>\n</div>",
      "text/plain": "                    count           mean            std            min  \\\narea_total       190000.0      49.989972      28.782844       0.000162   \narea_construida  190000.0      49.984286      28.882228       0.000028   \nquartos          200000.0      49.957064      28.883103       0.000030   \nbanheiros        200000.0      49.995873      28.856121       0.000060   \nvagas_garagem    200000.0      50.107350      28.833466       0.001010   \nidade_imovel     190000.0      49.924262      28.859808       0.000405   \ncondominio       180000.0      50.122377      28.834959       0.000624   \niptu             180000.0      49.999391      28.899215       0.000255   \npreco_venda      200000.0  550288.246715  260008.238728  100003.000000   \n\n                           25%            50%            75%            max  \narea_total           25.136509      50.040100      74.892262      99.999489  \narea_construida      24.900300      50.153795      74.926583      99.999136  \nquartos              24.860227      50.025333      75.051046      99.999947  \nbanheiros            24.964391      50.006142      75.071845      99.999784  \nvagas_garagem        25.159931      50.267896      75.018785      99.998857  \nidade_imovel         24.961742      49.844018      74.900586      99.999742  \ncondominio           25.110600      50.256001      75.044160      99.999537  \niptu                 25.004242      49.885798      75.064423      99.999301  \npreco_venda      324635.500000  551380.500000  775213.000000  999991.000000  "
     },
     "execution_count": 77,
     "metadata": {},
     "output_type": "execute_result"
    }
   ],
   "source": [
    "df.describe().T"
   ]
  },
  {
   "cell_type": "code",
   "execution_count": 78,
   "metadata": {},
   "outputs": [
    {
     "data": {
      "text/html": "<div>\n<style scoped>\n    .dataframe tbody tr th:only-of-type {\n        vertical-align: middle;\n    }\n\n    .dataframe tbody tr th {\n        vertical-align: top;\n    }\n\n    .dataframe thead th {\n        text-align: right;\n    }\n</style>\n<table border=\"1\" class=\"dataframe\">\n  <thead>\n    <tr style=\"text-align: right;\">\n      <th></th>\n      <th>bairro</th>\n      <th>tipo</th>\n      <th>estilo</th>\n      <th>mobilia</th>\n      <th>diferenciais</th>\n    </tr>\n  </thead>\n  <tbody>\n    <tr>\n      <th>count</th>\n      <td>200000</td>\n      <td>200000</td>\n      <td>200000</td>\n      <td>180000</td>\n      <td>180000</td>\n    </tr>\n    <tr>\n      <th>unique</th>\n      <td>182</td>\n      <td>182</td>\n      <td>182</td>\n      <td>182</td>\n      <td>182</td>\n    </tr>\n    <tr>\n      <th>top</th>\n      <td>accusantium</td>\n      <td>nobis</td>\n      <td>iste</td>\n      <td>eveniet</td>\n      <td>vero</td>\n    </tr>\n    <tr>\n      <th>freq</th>\n      <td>1188</td>\n      <td>1185</td>\n      <td>1186</td>\n      <td>1094</td>\n      <td>1083</td>\n    </tr>\n  </tbody>\n</table>\n</div>",
      "text/plain": "             bairro    tipo  estilo  mobilia diferenciais\ncount        200000  200000  200000   180000       180000\nunique          182     182     182      182          182\ntop     accusantium   nobis    iste  eveniet         vero\nfreq           1188    1185    1186     1094         1083"
     },
     "execution_count": 78,
     "metadata": {},
     "output_type": "execute_result"
    }
   ],
   "source": [
    "df.describe(include = 'O')"
   ]
  },
  {
   "cell_type": "code",
   "execution_count": 79,
   "metadata": {},
   "outputs": [
    {
     "data": {
      "text/plain": "bairro                 0\ntipo                   0\nestilo                 0\narea_total         10000\narea_construida    10000\nquartos                0\nbanheiros              0\nvagas_garagem          0\nidade_imovel       10000\ncondominio         20000\niptu               20000\nmobilia            20000\ndiferenciais       20000\npreco_venda            0\ndtype: int64"
     },
     "execution_count": 79,
     "metadata": {},
     "output_type": "execute_result"
    }
   ],
   "source": [
    "df.isna().sum()"
   ]
  },
  {
   "cell_type": "code",
   "execution_count": 80,
   "metadata": {},
   "outputs": [
    {
     "data": {
      "text/plain": "bairro              0.0\ntipo                0.0\nestilo              0.0\narea_total          5.0\narea_construida     5.0\nquartos             0.0\nbanheiros           0.0\nvagas_garagem       0.0\nidade_imovel        5.0\ncondominio         10.0\niptu               10.0\nmobilia            10.0\ndiferenciais       10.0\npreco_venda         0.0\ndtype: float64"
     },
     "execution_count": 80,
     "metadata": {},
     "output_type": "execute_result"
    }
   ],
   "source": [
    "df.isna().sum() * 100 / len(df)"
   ]
  },
  {
   "cell_type": "markdown",
   "metadata": {},
   "source": [
    "## 3 - Tratamento dos dados;"
   ]
  },
  {
   "cell_type": "code",
   "execution_count": null,
   "metadata": {},
   "outputs": [],
   "source": []
  },
  {
   "cell_type": "code",
   "execution_count": 81,
   "metadata": {},
   "outputs": [
    {
     "name": "stdout",
     "output_type": "stream",
     "text": [
      "<class 'pandas.core.frame.DataFrame'>\n",
      "RangeIndex: 200000 entries, 0 to 199999\n",
      "Data columns (total 14 columns):\n",
      " #   Column           Non-Null Count   Dtype  \n",
      "---  ------           --------------   -----  \n",
      " 0   bairro           200000 non-null  object \n",
      " 1   tipo             200000 non-null  object \n",
      " 2   estilo           200000 non-null  object \n",
      " 3   area_total       190000 non-null  float64\n",
      " 4   area_construida  190000 non-null  float64\n",
      " 5   quartos          200000 non-null  float64\n",
      " 6   banheiros        200000 non-null  float64\n",
      " 7   vagas_garagem    200000 non-null  float64\n",
      " 8   idade_imovel     190000 non-null  float64\n",
      " 9   condominio       180000 non-null  float64\n",
      " 10  iptu             180000 non-null  float64\n",
      " 11  mobilia          180000 non-null  object \n",
      " 12  diferenciais     180000 non-null  object \n",
      " 13  preco_venda      200000 non-null  int64  \n",
      "dtypes: float64(8), int64(1), object(5)\n",
      "memory usage: 21.4+ MB\n"
     ]
    }
   ],
   "source": [
    "df.info()"
   ]
  },
  {
   "cell_type": "code",
   "execution_count": 82,
   "metadata": {},
   "outputs": [],
   "source": [
    "df.loc[df['area_total'].isna(), 'area_total'] = df['area_total'].median()\r\n",
    "df.loc[df['area_construida'].isna(), 'area_construida'] = df['area_construida'].median()\r\n",
    "df.loc[df['idade_imovel'].isna(), 'idade_imovel'] = df['idade_imovel'].median()\r\n",
    "df.loc[df['condominio'].isna(), 'condominio'] = df['condominio'].median()\r\n",
    "df.loc[df['iptu'].isna(), 'iptu'] = df['iptu'].median()\r\n"
   ]
  },
  {
   "cell_type": "code",
   "execution_count": 83,
   "metadata": {},
   "outputs": [],
   "source": [
    "df.loc[df['mobilia'].isna(), 'mobilia'] = df['mobilia'].mode()[0]\r\n",
    "df.loc[df['diferenciais'].isna(), 'diferenciais'] = df['diferenciais'].mode()[0]\r\n"
   ]
  },
  {
   "cell_type": "code",
   "execution_count": 84,
   "metadata": {},
   "outputs": [
    {
     "data": {
      "text/plain": "bairro             0.0\ntipo               0.0\nestilo             0.0\narea_total         0.0\narea_construida    0.0\nquartos            0.0\nbanheiros          0.0\nvagas_garagem      0.0\nidade_imovel       0.0\ncondominio         0.0\niptu               0.0\nmobilia            0.0\ndiferenciais       0.0\npreco_venda        0.0\ndtype: float64"
     },
     "execution_count": 84,
     "metadata": {},
     "output_type": "execute_result"
    }
   ],
   "source": [
    "df.isna().sum() * 100 / len(df)"
   ]
  },
  {
   "cell_type": "code",
   "execution_count": 85,
   "metadata": {},
   "outputs": [
    {
     "data": {
      "text/plain": "['bairro', 'tipo', 'estilo', 'mobilia', 'diferenciais']"
     },
     "execution_count": 85,
     "metadata": {},
     "output_type": "execute_result"
    }
   ],
   "source": [
    "colunas_object = df.select_dtypes(include = 'object').columns.tolist()\r\n",
    "colunas_object"
   ]
  },
  {
   "cell_type": "code",
   "execution_count": 86,
   "metadata": {},
   "outputs": [],
   "source": [
    "for coluna in colunas_object:\r\n",
    "    le = LabelEncoder()\r\n",
    "    df[coluna] = le.fit_transform(df[coluna])"
   ]
  },
  {
   "cell_type": "code",
   "execution_count": 87,
   "metadata": {},
   "outputs": [
    {
     "data": {
      "text/plain": "[]"
     },
     "execution_count": 87,
     "metadata": {},
     "output_type": "execute_result"
    }
   ],
   "source": [
    "df.select_dtypes(include = 'object').columns.tolist()"
   ]
  },
  {
   "cell_type": "markdown",
   "metadata": {},
   "source": [
    "## 4 - Treinamento de uma rede neural;"
   ]
  },
  {
   "cell_type": "code",
   "execution_count": 89,
   "metadata": {},
   "outputs": [],
   "source": [
    "X = df[df.columns[:-1]]\r\n",
    "y = df[['preco_venda']]"
   ]
  },
  {
   "cell_type": "code",
   "execution_count": 90,
   "metadata": {},
   "outputs": [],
   "source": [
    "scaler = MinMaxScaler()\r\n",
    "scaler.fit(X)\r\n",
    "X = scaler.transform(X)\r\n",
    "\r\n",
    "\r\n",
    "scaler_features = MinMaxScaler()\r\n",
    "scaler_features.fit(y)\r\n",
    "y = scaler_features.transform(y)"
   ]
  },
  {
   "cell_type": "code",
   "execution_count": 91,
   "metadata": {},
   "outputs": [],
   "source": [
    "X_train, X_test, y_train, y_test = train_test_split(X, y, test_size = 0.05, random_state = 20)"
   ]
  },
  {
   "cell_type": "code",
   "execution_count": 92,
   "metadata": {},
   "outputs": [
    {
     "name": "stdout",
     "output_type": "stream",
     "text": [
      "Epoch 1/20\n",
      "5938/5938 [==============================] - 8s 1ms/step - loss: 0.0846 - mse: 0.0846\n",
      "Epoch 2/20\n",
      "5938/5938 [==============================] - 8s 1ms/step - loss: 0.0837 - mse: 0.0837\n",
      "Epoch 3/20\n",
      "5938/5938 [==============================] - 8s 1ms/step - loss: 0.0837 - mse: 0.0837\n",
      "Epoch 4/20\n",
      "5938/5938 [==============================] - 7s 1ms/step - loss: 0.0837 - mse: 0.0837\n",
      "Epoch 5/20\n",
      "5938/5938 [==============================] - 7s 1ms/step - loss: 0.0837 - mse: 0.0837\n",
      "Epoch 6/20\n",
      "5938/5938 [==============================] - 7s 1ms/step - loss: 0.0836 - mse: 0.0836\n",
      "Epoch 7/20\n",
      "5938/5938 [==============================] - 7s 1ms/step - loss: 0.0836 - mse: 0.0836\n",
      "Epoch 8/20\n",
      "5938/5938 [==============================] - 7s 1ms/step - loss: 0.0836 - mse: 0.0836\n",
      "Epoch 9/20\n",
      "5938/5938 [==============================] - 8s 1ms/step - loss: 0.0836 - mse: 0.0836\n",
      "Epoch 10/20\n",
      "5938/5938 [==============================] - 7s 1ms/step - loss: 0.0836 - mse: 0.0836\n",
      "Epoch 11/20\n",
      "5938/5938 [==============================] - 7s 1ms/step - loss: 0.0836 - mse: 0.0836\n",
      "Epoch 12/20\n",
      "5938/5938 [==============================] - 7s 1ms/step - loss: 0.0836 - mse: 0.0836\n",
      "Epoch 13/20\n",
      "5938/5938 [==============================] - 7s 1ms/step - loss: 0.0836 - mse: 0.0836\n",
      "Epoch 14/20\n",
      "5938/5938 [==============================] - 7s 1ms/step - loss: 0.0836 - mse: 0.0836\n",
      "Epoch 15/20\n",
      "5938/5938 [==============================] - 7s 1ms/step - loss: 0.0836 - mse: 0.0836\n",
      "Epoch 16/20\n",
      "5938/5938 [==============================] - 7s 1ms/step - loss: 0.0836 - mse: 0.0836\n",
      "Epoch 17/20\n",
      "5938/5938 [==============================] - 7s 1ms/step - loss: 0.0836 - mse: 0.0836\n",
      "Epoch 18/20\n",
      "5938/5938 [==============================] - 7s 1ms/step - loss: 0.0836 - mse: 0.0836\n",
      "Epoch 19/20\n",
      "5938/5938 [==============================] - 7s 1ms/step - loss: 0.0836 - mse: 0.0836\n",
      "Epoch 20/20\n",
      "5938/5938 [==============================] - 7s 1ms/step - loss: 0.0836 - mse: 0.0836\n",
      "313/313 [==============================] - 0s 933us/step\n"
     ]
    }
   ],
   "source": [
    "model = Sequential()\r\n",
    "model.add(InputLayer(input_shape = (X_train.shape[1],)))\r\n",
    "model.add(Dense(50, activation = 'relu'))\r\n",
    "model.add(Dense(50, activation = 'relu'))\r\n",
    "model.add(Dense(50, activation = 'relu'))\r\n",
    "model.add(Dense(1, activation = 'linear'))\r\n",
    "\r\n",
    "model.compile(loss = 'mean_squared_error', optimizer = 'adam', metrics = ['mse'])\r\n",
    "\r\n",
    "model.fit(X_train, y_train, epochs = 20, verbose = 1)\r\n",
    "\r\n",
    "predict_rn = model.predict(X_test)"
   ]
  },
  {
   "cell_type": "markdown",
   "metadata": {},
   "source": [
    "## 5 - Avaliação dos resultados."
   ]
  },
  {
   "cell_type": "code",
   "execution_count": 93,
   "metadata": {},
   "outputs": [],
   "source": [
    "y_test_desnormalizado = scaler_features.inverse_transform(y_test)\r\n",
    "\r\n",
    "predict_desnormalizado = scaler_features.inverse_transform(predict_rn)"
   ]
  },
  {
   "cell_type": "code",
   "execution_count": 94,
   "metadata": {},
   "outputs": [
    {
     "name": "stdout",
     "output_type": "stream",
     "text": [
      "Mean squared error Regressão Linear: 66861884530.84418\n"
     ]
    }
   ],
   "source": [
    "mse = mean_squared_error(y_test_desnormalizado, predict_desnormalizado)\r\n",
    "print(\"Mean squared error Regressão Linear:\", mse)"
   ]
  }
 ],
 "metadata": {
  "kernelspec": {
   "display_name": "Python 3.9.13 64-bit (conda)",
   "name": "python3913jvsc74a57bd0b3ba2566441a7c06988d0923437866b63cedc61552a5af99d1f4fb67d367b25f"
  },
  "language_info": {
   "codemirror_mode": {
    "name": "ipython",
    "version": 3
   },
   "file_extension": ".py",
   "mimetype": "text/x-python",
   "name": "python",
   "nbconvert_exporter": "python",
   "pygments_lexer": "ipython3",
   "version": "3.9.13"
  },
  "orig_nbformat": 4
 },
 "nbformat": 4,
 "nbformat_minor": 2
}