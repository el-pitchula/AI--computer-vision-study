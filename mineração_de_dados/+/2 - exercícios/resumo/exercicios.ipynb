{
 "cells": [
  {
   "attachments": {},
   "cell_type": "markdown",
   "metadata": {},
   "source": [
    "# Exercício"
   ]
  },
  {
   "cell_type": "code",
   "execution_count": 1,
   "metadata": {},
   "outputs": [],
   "source": [
    "import pandas as pd\n",
    "from sklearn.preprocessing import LabelEncoder\n",
    "from sklearn.preprocessing import MinMaxScaler\n",
    "from sklearn.model_selection import train_test_split\n",
    "from tensorflow.keras.models import Sequential\n",
    "from tensorflow.keras.layers import Dense\n",
    "from tensorflow.keras.callbacks import EarlyStopping\n",
    "from sklearn.metrics import mean_squared_error, mean_absolute_error, r2_score\n",
    "import matplotlib.pyplot as plt\n",
    "import seaborn as sns"
   ]
  },
  {
   "attachments": {},
   "cell_type": "markdown",
   "metadata": {},
   "source": [
    "## 1. Leitura do arquivo\n",
    "\n",
    "Realize a leitura do arquivo `notebooks_nulos_exercicio.csv`."
   ]
  },
  {
   "cell_type": "code",
   "execution_count": 2,
   "metadata": {},
   "outputs": [],
   "source": [
    "df = pd.read_csv('notebooks_nulos_exercicio.csv')"
   ]
  },
  {
   "attachments": {},
   "cell_type": "markdown",
   "metadata": {},
   "source": [
    "## 2. Tratamento dos valores textuais\n",
    "\n",
    "  \n",
    "\n",
    "Realize o tratamento dos valores textuais substituindo os nulos pela moda e, em seguida, convertendo para valores numéricos.\n",
    "\n",
    "  \n",
    "\n",
    "``OBS``: Se houver valor nulo na coluna \"ram_gpu\", é importante considerar o seguinte ao tratar os valores nulos. Se o notebook tiver valor 0 na coluna \"gpu_dedicada\", significa que o notebook não possui uma GPU dedicada. Nesse caso, esse valor núlo deve ser substituído por 0. Por outro lado, se tiver valor 1 na coluna \"gpu_dedicada\", significa que o notebook possui uma GPU dedicada e o valor nulo não pode ser substituído por 0. Além disso, é importante ressaltar que não é possível que um notebook tenha 1.5GB de RAM na GPU, pois esta coluna contém valores numéricos inteiros."
   ]
  },
  {
   "cell_type": "code",
   "execution_count": 3,
   "metadata": {},
   "outputs": [
    {
     "data": {
      "text/plain": [
       "['marca',\n",
       " 'gpu_dedicada',\n",
       " 'resolucao_tela',\n",
       " 'tipo_tela',\n",
       " 'tela_touch',\n",
       " 'segmento']"
      ]
     },
     "execution_count": 3,
     "metadata": {},
     "output_type": "execute_result"
    }
   ],
   "source": [
    "cols_obj = df.select_dtypes(include='O').columns\n",
    "cols_obj.tolist()"
   ]
  },
  {
   "cell_type": "code",
   "execution_count": 4,
   "metadata": {},
   "outputs": [
    {
     "data": {
      "text/html": [
       "<div>\n",
       "<style scoped>\n",
       "    .dataframe tbody tr th:only-of-type {\n",
       "        vertical-align: middle;\n",
       "    }\n",
       "\n",
       "    .dataframe tbody tr th {\n",
       "        vertical-align: top;\n",
       "    }\n",
       "\n",
       "    .dataframe thead th {\n",
       "        text-align: right;\n",
       "    }\n",
       "</style>\n",
       "<table border=\"1\" class=\"dataframe\">\n",
       "  <thead>\n",
       "    <tr style=\"text-align: right;\">\n",
       "      <th></th>\n",
       "      <th>marca</th>\n",
       "      <th>gpu_dedicada</th>\n",
       "      <th>resolucao_tela</th>\n",
       "      <th>tipo_tela</th>\n",
       "      <th>tela_touch</th>\n",
       "      <th>segmento</th>\n",
       "    </tr>\n",
       "  </thead>\n",
       "  <tbody>\n",
       "    <tr>\n",
       "      <th>0</th>\n",
       "      <td>xiaomi</td>\n",
       "      <td>não</td>\n",
       "      <td>FULLHD</td>\n",
       "      <td>OLED</td>\n",
       "      <td>não</td>\n",
       "      <td>premium</td>\n",
       "    </tr>\n",
       "    <tr>\n",
       "      <th>1</th>\n",
       "      <td>dell</td>\n",
       "      <td>sim</td>\n",
       "      <td>FULLHD</td>\n",
       "      <td>OLED</td>\n",
       "      <td>não</td>\n",
       "      <td>jogos_premium</td>\n",
       "    </tr>\n",
       "    <tr>\n",
       "      <th>2</th>\n",
       "      <td>razer</td>\n",
       "      <td>sim</td>\n",
       "      <td>QUADHD</td>\n",
       "      <td>AMOLED</td>\n",
       "      <td>não</td>\n",
       "      <td>jogos_premium</td>\n",
       "    </tr>\n",
       "    <tr>\n",
       "      <th>3</th>\n",
       "      <td>xiaomi</td>\n",
       "      <td>não</td>\n",
       "      <td>4K</td>\n",
       "      <td>AMOLED</td>\n",
       "      <td>não</td>\n",
       "      <td>premium</td>\n",
       "    </tr>\n",
       "    <tr>\n",
       "      <th>4</th>\n",
       "      <td>asus</td>\n",
       "      <td>não</td>\n",
       "      <td>HD</td>\n",
       "      <td>VA</td>\n",
       "      <td>não</td>\n",
       "      <td>NaN</td>\n",
       "    </tr>\n",
       "    <tr>\n",
       "      <th>...</th>\n",
       "      <td>...</td>\n",
       "      <td>...</td>\n",
       "      <td>...</td>\n",
       "      <td>...</td>\n",
       "      <td>...</td>\n",
       "      <td>...</td>\n",
       "    </tr>\n",
       "    <tr>\n",
       "      <th>9995</th>\n",
       "      <td>positivo</td>\n",
       "      <td>não</td>\n",
       "      <td>HD</td>\n",
       "      <td>IPS</td>\n",
       "      <td>não</td>\n",
       "      <td>NaN</td>\n",
       "    </tr>\n",
       "    <tr>\n",
       "      <th>9996</th>\n",
       "      <td>huawei</td>\n",
       "      <td>não</td>\n",
       "      <td>QUADHD</td>\n",
       "      <td>AMOLED</td>\n",
       "      <td>não</td>\n",
       "      <td>NaN</td>\n",
       "    </tr>\n",
       "    <tr>\n",
       "      <th>9997</th>\n",
       "      <td>dell</td>\n",
       "      <td>não</td>\n",
       "      <td>HD</td>\n",
       "      <td>IPS</td>\n",
       "      <td>não</td>\n",
       "      <td>intermediario</td>\n",
       "    </tr>\n",
       "    <tr>\n",
       "      <th>9998</th>\n",
       "      <td>hp</td>\n",
       "      <td>sim</td>\n",
       "      <td>FULLHD</td>\n",
       "      <td>TN</td>\n",
       "      <td>não</td>\n",
       "      <td>jogos_entrada</td>\n",
       "    </tr>\n",
       "    <tr>\n",
       "      <th>9999</th>\n",
       "      <td>samsung</td>\n",
       "      <td>não</td>\n",
       "      <td>HD</td>\n",
       "      <td>IPS</td>\n",
       "      <td>não</td>\n",
       "      <td>intermediario</td>\n",
       "    </tr>\n",
       "  </tbody>\n",
       "</table>\n",
       "<p>10000 rows × 6 columns</p>\n",
       "</div>"
      ],
      "text/plain": [
       "         marca gpu_dedicada resolucao_tela tipo_tela tela_touch       segmento\n",
       "0       xiaomi          não         FULLHD      OLED        não        premium\n",
       "1         dell          sim         FULLHD      OLED        não  jogos_premium\n",
       "2        razer          sim         QUADHD    AMOLED        não  jogos_premium\n",
       "3       xiaomi          não             4K    AMOLED        não        premium\n",
       "4         asus          não             HD        VA        não            NaN\n",
       "...        ...          ...            ...       ...        ...            ...\n",
       "9995  positivo          não             HD       IPS        não            NaN\n",
       "9996    huawei          não         QUADHD    AMOLED        não            NaN\n",
       "9997      dell          não             HD       IPS        não  intermediario\n",
       "9998        hp          sim         FULLHD        TN        não  jogos_entrada\n",
       "9999   samsung          não             HD       IPS        não  intermediario\n",
       "\n",
       "[10000 rows x 6 columns]"
      ]
     },
     "execution_count": 4,
     "metadata": {},
     "output_type": "execute_result"
    }
   ],
   "source": [
    "df[cols_obj]"
   ]
  },
  {
   "cell_type": "code",
   "execution_count": 5,
   "metadata": {},
   "outputs": [
    {
     "data": {
      "text/plain": [
       "marca              0.00\n",
       "gpu_dedicada       0.00\n",
       "resolucao_tela     0.00\n",
       "tipo_tela         11.21\n",
       "tela_touch         0.00\n",
       "segmento           9.46\n",
       "dtype: float64"
      ]
     },
     "execution_count": 5,
     "metadata": {},
     "output_type": "execute_result"
    }
   ],
   "source": [
    "df[cols_obj].isna().sum() * 100 / len(df)"
   ]
  },
  {
   "cell_type": "code",
   "execution_count": 6,
   "metadata": {},
   "outputs": [],
   "source": [
    "for i in df.columns:\n",
    "    if (df.isna().sum()[i] > 0) and (i in cols_obj):\n",
    "        df.loc[df[i].isna(), i] = df[i].mode()[0]"
   ]
  },
  {
   "cell_type": "code",
   "execution_count": 7,
   "metadata": {},
   "outputs": [
    {
     "data": {
      "text/plain": [
       "marca             0\n",
       "gpu_dedicada      0\n",
       "resolucao_tela    0\n",
       "tipo_tela         0\n",
       "tela_touch        0\n",
       "segmento          0\n",
       "dtype: int64"
      ]
     },
     "execution_count": 7,
     "metadata": {},
     "output_type": "execute_result"
    }
   ],
   "source": [
    "df[cols_obj].isna().sum()"
   ]
  },
  {
   "cell_type": "code",
   "execution_count": 8,
   "metadata": {},
   "outputs": [
    {
     "data": {
      "text/plain": [
       "1561"
      ]
     },
     "execution_count": 8,
     "metadata": {},
     "output_type": "execute_result"
    }
   ],
   "source": [
    "df['ram_gpu'].isna().sum()"
   ]
  },
  {
   "cell_type": "code",
   "execution_count": 9,
   "metadata": {},
   "outputs": [],
   "source": [
    "df.loc[(df['gpu_dedicada'] == 'não') & (df['ram_gpu'].isna()), 'ram_gpu'] = 0\n",
    "df.loc[(df['gpu_dedicada'] == 'sim') & (df['ram_gpu'].isna()), 'ram_gpu'] = df.loc[df['gpu_dedicada'] == 'sim']['ram_gpu'].median()"
   ]
  },
  {
   "cell_type": "code",
   "execution_count": 10,
   "metadata": {},
   "outputs": [
    {
     "data": {
      "text/plain": [
       "0"
      ]
     },
     "execution_count": 10,
     "metadata": {},
     "output_type": "execute_result"
    }
   ],
   "source": [
    "df['ram_gpu'].isna().sum()"
   ]
  },
  {
   "cell_type": "code",
   "execution_count": 11,
   "metadata": {},
   "outputs": [],
   "source": [
    "le = LabelEncoder()\n",
    "for i in cols_obj:\n",
    "    df[i] = le.fit_transform(df[i])"
   ]
  },
  {
   "cell_type": "code",
   "execution_count": 12,
   "metadata": {},
   "outputs": [
    {
     "data": {
      "text/html": [
       "<div>\n",
       "<style scoped>\n",
       "    .dataframe tbody tr th:only-of-type {\n",
       "        vertical-align: middle;\n",
       "    }\n",
       "\n",
       "    .dataframe tbody tr th {\n",
       "        vertical-align: top;\n",
       "    }\n",
       "\n",
       "    .dataframe thead th {\n",
       "        text-align: right;\n",
       "    }\n",
       "</style>\n",
       "<table border=\"1\" class=\"dataframe\">\n",
       "  <thead>\n",
       "    <tr style=\"text-align: right;\">\n",
       "      <th></th>\n",
       "      <th>marca</th>\n",
       "      <th>gpu_dedicada</th>\n",
       "      <th>resolucao_tela</th>\n",
       "      <th>tipo_tela</th>\n",
       "      <th>tela_touch</th>\n",
       "      <th>segmento</th>\n",
       "    </tr>\n",
       "  </thead>\n",
       "  <tbody>\n",
       "    <tr>\n",
       "      <th>0</th>\n",
       "      <td>10</td>\n",
       "      <td>0</td>\n",
       "      <td>1</td>\n",
       "      <td>2</td>\n",
       "      <td>0</td>\n",
       "      <td>6</td>\n",
       "    </tr>\n",
       "    <tr>\n",
       "      <th>1</th>\n",
       "      <td>3</td>\n",
       "      <td>1</td>\n",
       "      <td>1</td>\n",
       "      <td>2</td>\n",
       "      <td>0</td>\n",
       "      <td>5</td>\n",
       "    </tr>\n",
       "    <tr>\n",
       "      <th>2</th>\n",
       "      <td>8</td>\n",
       "      <td>1</td>\n",
       "      <td>3</td>\n",
       "      <td>0</td>\n",
       "      <td>0</td>\n",
       "      <td>5</td>\n",
       "    </tr>\n",
       "    <tr>\n",
       "      <th>3</th>\n",
       "      <td>10</td>\n",
       "      <td>0</td>\n",
       "      <td>0</td>\n",
       "      <td>0</td>\n",
       "      <td>0</td>\n",
       "      <td>6</td>\n",
       "    </tr>\n",
       "    <tr>\n",
       "      <th>4</th>\n",
       "      <td>2</td>\n",
       "      <td>0</td>\n",
       "      <td>2</td>\n",
       "      <td>4</td>\n",
       "      <td>0</td>\n",
       "      <td>6</td>\n",
       "    </tr>\n",
       "    <tr>\n",
       "      <th>...</th>\n",
       "      <td>...</td>\n",
       "      <td>...</td>\n",
       "      <td>...</td>\n",
       "      <td>...</td>\n",
       "      <td>...</td>\n",
       "      <td>...</td>\n",
       "    </tr>\n",
       "    <tr>\n",
       "      <th>9995</th>\n",
       "      <td>7</td>\n",
       "      <td>0</td>\n",
       "      <td>2</td>\n",
       "      <td>1</td>\n",
       "      <td>0</td>\n",
       "      <td>6</td>\n",
       "    </tr>\n",
       "    <tr>\n",
       "      <th>9996</th>\n",
       "      <td>5</td>\n",
       "      <td>0</td>\n",
       "      <td>3</td>\n",
       "      <td>0</td>\n",
       "      <td>0</td>\n",
       "      <td>6</td>\n",
       "    </tr>\n",
       "    <tr>\n",
       "      <th>9997</th>\n",
       "      <td>3</td>\n",
       "      <td>0</td>\n",
       "      <td>2</td>\n",
       "      <td>1</td>\n",
       "      <td>0</td>\n",
       "      <td>2</td>\n",
       "    </tr>\n",
       "    <tr>\n",
       "      <th>9998</th>\n",
       "      <td>4</td>\n",
       "      <td>1</td>\n",
       "      <td>1</td>\n",
       "      <td>3</td>\n",
       "      <td>0</td>\n",
       "      <td>3</td>\n",
       "    </tr>\n",
       "    <tr>\n",
       "      <th>9999</th>\n",
       "      <td>9</td>\n",
       "      <td>0</td>\n",
       "      <td>2</td>\n",
       "      <td>1</td>\n",
       "      <td>0</td>\n",
       "      <td>2</td>\n",
       "    </tr>\n",
       "  </tbody>\n",
       "</table>\n",
       "<p>10000 rows × 6 columns</p>\n",
       "</div>"
      ],
      "text/plain": [
       "      marca  gpu_dedicada  resolucao_tela  tipo_tela  tela_touch  segmento\n",
       "0        10             0               1          2           0         6\n",
       "1         3             1               1          2           0         5\n",
       "2         8             1               3          0           0         5\n",
       "3        10             0               0          0           0         6\n",
       "4         2             0               2          4           0         6\n",
       "...     ...           ...             ...        ...         ...       ...\n",
       "9995      7             0               2          1           0         6\n",
       "9996      5             0               3          0           0         6\n",
       "9997      3             0               2          1           0         2\n",
       "9998      4             1               1          3           0         3\n",
       "9999      9             0               2          1           0         2\n",
       "\n",
       "[10000 rows x 6 columns]"
      ]
     },
     "execution_count": 12,
     "metadata": {},
     "output_type": "execute_result"
    }
   ],
   "source": [
    "df[cols_obj]"
   ]
  },
  {
   "cell_type": "code",
   "execution_count": 13,
   "metadata": {},
   "outputs": [
    {
     "name": "stdout",
     "output_type": "stream",
     "text": [
      "<class 'pandas.core.frame.DataFrame'>\n",
      "RangeIndex: 10000 entries, 0 to 9999\n",
      "Data columns (total 16 columns):\n",
      " #   Column             Non-Null Count  Dtype  \n",
      "---  ------             --------------  -----  \n",
      " 0   marca              10000 non-null  int32  \n",
      " 1   ano                9722 non-null   float64\n",
      " 2   qtd_nucleos        10000 non-null  int64  \n",
      " 3   qtd_threads        10000 non-null  int64  \n",
      " 4   ram                10000 non-null  int64  \n",
      " 5   gpu_dedicada       10000 non-null  int32  \n",
      " 6   ram_gpu            10000 non-null  float64\n",
      " 7   entradas_usb       6071 non-null   float64\n",
      " 8   duracao_bateria    7568 non-null   float64\n",
      " 9   resolucao_tela     10000 non-null  int32  \n",
      " 10  tipo_tela          10000 non-null  int32  \n",
      " 11  tela_touch         10000 non-null  int32  \n",
      " 12  armazenamento_hdd  8876 non-null   float64\n",
      " 13  armazenamento_ssd  9930 non-null   float64\n",
      " 14  segmento           10000 non-null  int32  \n",
      " 15  valor              10000 non-null  int64  \n",
      "dtypes: float64(6), int32(6), int64(4)\n",
      "memory usage: 1015.8 KB\n"
     ]
    }
   ],
   "source": [
    "df.info()"
   ]
  },
  {
   "attachments": {},
   "cell_type": "markdown",
   "metadata": {},
   "source": [
    "## 3. Tratamento dos valores numéricos - Método da Média\n",
    "\n",
    "  \n",
    "\n",
    "### 3.1. Conversão dos valores numéricos nulos\n",
    "\n",
    "  \n",
    "\n",
    "Converta todos os valores numéricos nulos para a média."
   ]
  },
  {
   "cell_type": "code",
   "execution_count": 14,
   "metadata": {},
   "outputs": [
    {
     "data": {
      "text/plain": [
       "marca                 0.00\n",
       "ano                   2.78\n",
       "qtd_nucleos           0.00\n",
       "qtd_threads           0.00\n",
       "ram                   0.00\n",
       "gpu_dedicada          0.00\n",
       "ram_gpu               0.00\n",
       "entradas_usb         39.29\n",
       "duracao_bateria      24.32\n",
       "resolucao_tela        0.00\n",
       "tipo_tela             0.00\n",
       "tela_touch            0.00\n",
       "armazenamento_hdd    11.24\n",
       "armazenamento_ssd     0.70\n",
       "segmento              0.00\n",
       "valor                 0.00\n",
       "dtype: float64"
      ]
     },
     "execution_count": 14,
     "metadata": {},
     "output_type": "execute_result"
    }
   ],
   "source": [
    "df.isna().sum() * 100 / len(df)"
   ]
  },
  {
   "cell_type": "code",
   "execution_count": 15,
   "metadata": {},
   "outputs": [],
   "source": [
    "for i in df.columns:\n",
    "    if (df.isna().sum()[i] > 0) and (i not in cols_obj):\n",
    "        df.loc[df[i].isna(), i] = df[i].mean()"
   ]
  },
  {
   "cell_type": "code",
   "execution_count": 16,
   "metadata": {},
   "outputs": [
    {
     "data": {
      "text/plain": [
       "marca                0\n",
       "ano                  0\n",
       "qtd_nucleos          0\n",
       "qtd_threads          0\n",
       "ram                  0\n",
       "gpu_dedicada         0\n",
       "ram_gpu              0\n",
       "entradas_usb         0\n",
       "duracao_bateria      0\n",
       "resolucao_tela       0\n",
       "tipo_tela            0\n",
       "tela_touch           0\n",
       "armazenamento_hdd    0\n",
       "armazenamento_ssd    0\n",
       "segmento             0\n",
       "valor                0\n",
       "dtype: int64"
      ]
     },
     "execution_count": 16,
     "metadata": {},
     "output_type": "execute_result"
    }
   ],
   "source": [
    "df.isna().sum()"
   ]
  },
  {
   "attachments": {},
   "cell_type": "markdown",
   "metadata": {},
   "source": [
    "### 3.2. Separação de X e y\n",
    "\n",
    "  \n",
    "\n",
    "Separe X e y."
   ]
  },
  {
   "cell_type": "code",
   "execution_count": 17,
   "metadata": {},
   "outputs": [],
   "source": [
    "X = df.drop('valor', axis = 1)\n",
    "y = df[['valor']]"
   ]
  },
  {
   "attachments": {},
   "cell_type": "markdown",
   "metadata": {},
   "source": [
    "### 3.3. Normalização de X e y\n",
    "\n",
    "  \n",
    "\n",
    "Normalize X e y."
   ]
  },
  {
   "cell_type": "code",
   "execution_count": 18,
   "metadata": {},
   "outputs": [],
   "source": [
    "scaler = MinMaxScaler()\n",
    "X = scaler.fit_transform(X)\n",
    "y = scaler.fit_transform(y)"
   ]
  },
  {
   "attachments": {},
   "cell_type": "markdown",
   "metadata": {},
   "source": [
    "### 3.4. Separação de X e y - Treinamento, Validação e Teste\n",
    "\n",
    "  \n",
    "\n",
    "Separe X e y de treinamento (70%), validação (15%) e teste (15%) com o random state = 42."
   ]
  },
  {
   "cell_type": "code",
   "execution_count": 19,
   "metadata": {},
   "outputs": [],
   "source": [
    "X_train, X_test, y_train, y_test = train_test_split(X, y, test_size = .3, random_state = 42)\n",
    "X_test, X_val, y_test, y_val = train_test_split(X_test, y_test, test_size = .5, random_state = 42)"
   ]
  },
  {
   "attachments": {},
   "cell_type": "markdown",
   "metadata": {},
   "source": [
    "### 3.5. Treinamento de um modelo de rede neural\n",
    "\n",
    "  \n",
    "\n",
    "Treine um modelo de rede neural.\n"
   ]
  },
  {
   "cell_type": "code",
   "execution_count": 20,
   "metadata": {},
   "outputs": [],
   "source": [
    "model = Sequential()\n",
    "\n",
    "model.add(Dense(128, activation = 'relu', input_shape = (X_train.shape[1],)))\n",
    "model.add(Dense(128, activation = 'relu'))\n",
    "model.add(Dense(128, activation = 'relu'))\n",
    "model.add(Dense(128, activation = 'relu'))\n",
    "model.add(Dense(128, activation = 'relu'))\n",
    "model.add(Dense(128, activation = 'relu'))\n",
    "model.add(Dense(128, activation = 'relu'))\n",
    "model.add(Dense(128, activation = 'relu'))\n",
    "model.add(Dense(128, activation = 'relu'))\n",
    "model.add(Dense(1, activation = 'linear'))\n",
    "\n",
    "model.compile(optimizer = 'adam', loss = 'mean_squared_error')\n",
    "\n",
    "early_stopping = EarlyStopping(monitor = 'val_loss', patience = 15)"
   ]
  },
  {
   "cell_type": "code",
   "execution_count": 21,
   "metadata": {},
   "outputs": [
    {
     "name": "stdout",
     "output_type": "stream",
     "text": [
      "Epoch 1/100\n",
      "219/219 [==============================] - 7s 7ms/step - loss: 0.0223 - val_loss: 0.0162\n",
      "Epoch 2/100\n",
      "219/219 [==============================] - 1s 5ms/step - loss: 0.0147 - val_loss: 0.0137\n",
      "Epoch 3/100\n",
      "219/219 [==============================] - 1s 5ms/step - loss: 0.0142 - val_loss: 0.0134\n",
      "Epoch 4/100\n",
      "219/219 [==============================] - 1s 4ms/step - loss: 0.0127 - val_loss: 0.0131\n",
      "Epoch 5/100\n",
      "219/219 [==============================] - 1s 3ms/step - loss: 0.0119 - val_loss: 0.0132\n",
      "Epoch 6/100\n",
      "219/219 [==============================] - 1s 4ms/step - loss: 0.0116 - val_loss: 0.0141\n",
      "Epoch 7/100\n",
      "219/219 [==============================] - 1s 4ms/step - loss: 0.0115 - val_loss: 0.0127\n",
      "Epoch 8/100\n",
      "219/219 [==============================] - 1s 4ms/step - loss: 0.0110 - val_loss: 0.0121\n",
      "Epoch 9/100\n",
      "219/219 [==============================] - 1s 4ms/step - loss: 0.0108 - val_loss: 0.0141\n",
      "Epoch 10/100\n",
      "219/219 [==============================] - 1s 4ms/step - loss: 0.0107 - val_loss: 0.0126\n",
      "Epoch 11/100\n",
      "219/219 [==============================] - 1s 3ms/step - loss: 0.0108 - val_loss: 0.0118\n",
      "Epoch 12/100\n",
      "219/219 [==============================] - 1s 4ms/step - loss: 0.0102 - val_loss: 0.0118\n",
      "Epoch 13/100\n",
      "219/219 [==============================] - 1s 3ms/step - loss: 0.0105 - val_loss: 0.0119\n",
      "Epoch 14/100\n",
      "219/219 [==============================] - 1s 4ms/step - loss: 0.0099 - val_loss: 0.0117\n",
      "Epoch 15/100\n",
      "219/219 [==============================] - 1s 4ms/step - loss: 0.0104 - val_loss: 0.0109\n",
      "Epoch 16/100\n",
      "219/219 [==============================] - 1s 4ms/step - loss: 0.0101 - val_loss: 0.0109\n",
      "Epoch 17/100\n",
      "219/219 [==============================] - 1s 3ms/step - loss: 0.0098 - val_loss: 0.0115\n",
      "Epoch 18/100\n",
      "219/219 [==============================] - 1s 3ms/step - loss: 0.0099 - val_loss: 0.0115\n",
      "Epoch 19/100\n",
      "219/219 [==============================] - 1s 4ms/step - loss: 0.0098 - val_loss: 0.0108\n",
      "Epoch 20/100\n",
      "219/219 [==============================] - 1s 4ms/step - loss: 0.0094 - val_loss: 0.0120\n",
      "Epoch 21/100\n",
      "219/219 [==============================] - 1s 3ms/step - loss: 0.0098 - val_loss: 0.0114\n",
      "Epoch 22/100\n",
      "219/219 [==============================] - 1s 3ms/step - loss: 0.0097 - val_loss: 0.0111\n",
      "Epoch 23/100\n",
      "219/219 [==============================] - 1s 4ms/step - loss: 0.0092 - val_loss: 0.0117\n",
      "Epoch 24/100\n",
      "219/219 [==============================] - 1s 3ms/step - loss: 0.0093 - val_loss: 0.0115\n",
      "Epoch 25/100\n",
      "219/219 [==============================] - 1s 3ms/step - loss: 0.0093 - val_loss: 0.0136\n",
      "Epoch 26/100\n",
      "219/219 [==============================] - 1s 3ms/step - loss: 0.0093 - val_loss: 0.0114\n",
      "Epoch 27/100\n",
      "219/219 [==============================] - 1s 4ms/step - loss: 0.0091 - val_loss: 0.0123\n",
      "Epoch 28/100\n",
      "219/219 [==============================] - 1s 3ms/step - loss: 0.0091 - val_loss: 0.0113\n",
      "Epoch 29/100\n",
      "219/219 [==============================] - 1s 4ms/step - loss: 0.0087 - val_loss: 0.0120\n",
      "Epoch 30/100\n",
      "219/219 [==============================] - 1s 3ms/step - loss: 0.0087 - val_loss: 0.0119\n",
      "Epoch 31/100\n",
      "219/219 [==============================] - 1s 4ms/step - loss: 0.0087 - val_loss: 0.0114\n",
      "Epoch 32/100\n",
      "219/219 [==============================] - 1s 3ms/step - loss: 0.0085 - val_loss: 0.0121\n",
      "Epoch 33/100\n",
      "219/219 [==============================] - 1s 3ms/step - loss: 0.0088 - val_loss: 0.0126\n",
      "Epoch 34/100\n",
      "219/219 [==============================] - 1s 4ms/step - loss: 0.0084 - val_loss: 0.0124\n"
     ]
    }
   ],
   "source": [
    "history = model.fit(X_train, y_train,\n",
    "                    epochs = 100,\n",
    "                    batch_size = 32,\n",
    "                    validation_data = (X_val, y_val),\n",
    "                    callbacks = [early_stopping])"
   ]
  },
  {
   "attachments": {},
   "cell_type": "markdown",
   "metadata": {},
   "source": [
    "### 3.6. Avaliação do modelo\n",
    "\n",
    "  \n",
    "\n",
    "Exiba as métricas do modelo (não esqueça de desnormalizar y_teste e y_predito)."
   ]
  },
  {
   "cell_type": "code",
   "execution_count": 22,
   "metadata": {},
   "outputs": [
    {
     "data": {
      "image/png": "[encoded data removed]",
      "text/plain": [
       "<Figure size 640x480 with 1 Axes>"
      ]
     },
     "metadata": {},
     "output_type": "display_data"
    }
   ],
   "source": [
    "plt.plot(history.history['loss'], label = 'Training Loss')\n",
    "plt.plot(history.history['val_loss'], label = 'Validation Loss')\n",
    "plt.xlabel('Épocas')\n",
    "plt.ylabel('Loss')\n",
    "plt.legend()\n",
    "plt.show()"
   ]
  },
  {
   "cell_type": "code",
   "execution_count": 23,
   "metadata": {},
   "outputs": [
    {
     "name": "stdout",
     "output_type": "stream",
     "text": [
      "47/47 [==============================] - 1s 2ms/step\n"
     ]
    }
   ],
   "source": [
    "y_pred = model.predict(X_test)\n",
    "\n",
    "y_pred_orig = scaler.inverse_transform(y_pred)\n",
    "y_test_orig = scaler.inverse_transform(y_test)"
   ]
  },
  {
   "cell_type": "code",
   "execution_count": 24,
   "metadata": {},
   "outputs": [
    {
     "name": "stdout",
     "output_type": "stream",
     "text": [
      "Erro médio quadrático: 7257666.605910627\n",
      "Erro médio absoluto: 2026.3793618164063\n",
      "Raíz do erro médio quadrático: 2694.005680378315\n",
      "R²: 0.7493624715707807\n"
     ]
    }
   ],
   "source": [
    "media_mse = mean_squared_error(y_pred_orig, y_test_orig)\n",
    "print('Erro médio quadrático:', media_mse)\n",
    "\n",
    "media_mae = mean_absolute_error(y_pred_orig, y_test_orig)\n",
    "print('Erro médio absoluto:', media_mae)\n",
    "\n",
    "media_rmse = mean_squared_error(y_pred_orig, y_test_orig, squared = False)\n",
    "print('Raíz do erro médio quadrático:', media_rmse)\n",
    "\n",
    "media_r2 = r2_score(y_pred_orig, y_test_orig)\n",
    "print('R²:', media_r2)"
   ]
  },
  {
   "attachments": {},
   "cell_type": "markdown",
   "metadata": {},
   "source": [
    "## 4. Tratamento dos valores numéricos - Método da Mediana"
   ]
  },
  {
   "cell_type": "code",
   "execution_count": 25,
   "metadata": {},
   "outputs": [],
   "source": [
    "df = pd.read_csv('notebooks_nulos_exercicio.csv')"
   ]
  },
  {
   "cell_type": "code",
   "execution_count": 26,
   "metadata": {},
   "outputs": [],
   "source": [
    "df.loc[(df['gpu_dedicada'] == 'não') & (df['ram_gpu'].isna()), 'ram_gpu'] = 0\n",
    "df.loc[(df['gpu_dedicada'] == 'sim') & (df['ram_gpu'].isna()), 'ram_gpu'] = df.loc[df['gpu_dedicada'] == 'sim']['ram_gpu'].median()"
   ]
  },
  {
   "cell_type": "code",
   "execution_count": 27,
   "metadata": {},
   "outputs": [],
   "source": [
    "cols_obj = df.select_dtypes(include='O').columns\n",
    "\n",
    "for i in df.columns:\n",
    "    if (df.isna().sum()[i] > 0) and (i in cols_obj):\n",
    "        df.loc[df[i].isna(), i] = df[i].mode()[0]\n",
    "\n",
    "le = LabelEncoder()\n",
    "for i in cols_obj:\n",
    "    df[i] = le.fit_transform(df[i])"
   ]
  },
  {
   "attachments": {},
   "cell_type": "markdown",
   "metadata": {},
   "source": [
    "### 4.1. Conversão dos valores numéricos nulos\n",
    "\n",
    "  \n",
    "\n",
    "Converta todos os valores numéricos nulos para a mediana."
   ]
  },
  {
   "cell_type": "code",
   "execution_count": 28,
   "metadata": {},
   "outputs": [
    {
     "data": {
      "text/plain": [
       "marca                 0.00\n",
       "ano                   2.78\n",
       "qtd_nucleos           0.00\n",
       "qtd_threads           0.00\n",
       "ram                   0.00\n",
       "gpu_dedicada          0.00\n",
       "ram_gpu               0.00\n",
       "entradas_usb         39.29\n",
       "duracao_bateria      24.32\n",
       "resolucao_tela        0.00\n",
       "tipo_tela             0.00\n",
       "tela_touch            0.00\n",
       "armazenamento_hdd    11.24\n",
       "armazenamento_ssd     0.70\n",
       "segmento              0.00\n",
       "valor                 0.00\n",
       "dtype: float64"
      ]
     },
     "execution_count": 28,
     "metadata": {},
     "output_type": "execute_result"
    }
   ],
   "source": [
    "df.isna().sum() * 100 / len(df)"
   ]
  },
  {
   "cell_type": "code",
   "execution_count": 29,
   "metadata": {},
   "outputs": [],
   "source": [
    "for i in df.columns:\n",
    "    if (df.isna().sum()[i] > 0) and (i not in df.select_dtypes(include='O').columns):\n",
    "        df.loc[df[i].isna(), i] = df[i].median()"
   ]
  },
  {
   "cell_type": "code",
   "execution_count": 30,
   "metadata": {},
   "outputs": [
    {
     "data": {
      "text/plain": [
       "marca                0\n",
       "ano                  0\n",
       "qtd_nucleos          0\n",
       "qtd_threads          0\n",
       "ram                  0\n",
       "gpu_dedicada         0\n",
       "ram_gpu              0\n",
       "entradas_usb         0\n",
       "duracao_bateria      0\n",
       "resolucao_tela       0\n",
       "tipo_tela            0\n",
       "tela_touch           0\n",
       "armazenamento_hdd    0\n",
       "armazenamento_ssd    0\n",
       "segmento             0\n",
       "valor                0\n",
       "dtype: int64"
      ]
     },
     "execution_count": 30,
     "metadata": {},
     "output_type": "execute_result"
    }
   ],
   "source": [
    "df.isna().sum()"
   ]
  },
  {
   "attachments": {},
   "cell_type": "markdown",
   "metadata": {},
   "source": [
    "### 4.2. Separação de X e y\n",
    "\n",
    "  \n",
    "\n",
    "Separe X e y."
   ]
  },
  {
   "cell_type": "code",
   "execution_count": 31,
   "metadata": {},
   "outputs": [],
   "source": [
    "X = df.drop('valor', axis = 1)\n",
    "y = df[['valor']]"
   ]
  },
  {
   "attachments": {},
   "cell_type": "markdown",
   "metadata": {},
   "source": [
    "### 4.3. Normalização de X e y\n",
    "\n",
    "  \n",
    "\n",
    "Normalize X e y.\n"
   ]
  },
  {
   "cell_type": "code",
   "execution_count": 32,
   "metadata": {},
   "outputs": [],
   "source": [
    "scaler = MinMaxScaler()\n",
    "X = scaler.fit_transform(X)\n",
    "y = scaler.fit_transform(y)"
   ]
  },
  {
   "attachments": {},
   "cell_type": "markdown",
   "metadata": {},
   "source": [
    "### 4.4. Separação de X e y - Treinamento, Validação e Teste\n",
    "\n",
    "  \n",
    "\n",
    "Separe X e y de treinamento (70%), validação (15%) e teste (15%) com o random state = 42."
   ]
  },
  {
   "cell_type": "code",
   "execution_count": 33,
   "metadata": {},
   "outputs": [],
   "source": [
    "X_train, X_test, y_train, y_test = train_test_split(X, y, test_size = .3, random_state = 42)\n",
    "X_test, X_val, y_test, y_val = train_test_split(X_test, y_test, test_size = .5, random_state = 42)"
   ]
  },
  {
   "attachments": {},
   "cell_type": "markdown",
   "metadata": {},
   "source": [
    "### 4.5. Treinamento de um modelo de rede neural\n",
    "\n",
    "  \n",
    "\n",
    "Treine um modelo de rede neural."
   ]
  },
  {
   "cell_type": "code",
   "execution_count": 34,
   "metadata": {},
   "outputs": [],
   "source": [
    "model = Sequential()\n",
    "\n",
    "model.add(Dense(128, activation = 'relu', input_shape = (X_train.shape[1],)))\n",
    "model.add(Dense(128, activation = 'relu'))\n",
    "model.add(Dense(128, activation = 'relu'))\n",
    "model.add(Dense(128, activation = 'relu'))\n",
    "model.add(Dense(128, activation = 'relu'))\n",
    "model.add(Dense(128, activation = 'relu'))\n",
    "model.add(Dense(128, activation = 'relu'))\n",
    "model.add(Dense(128, activation = 'relu'))\n",
    "model.add(Dense(128, activation = 'relu'))\n",
    "model.add(Dense(1, activation = 'linear'))\n",
    "\n",
    "model.compile(optimizer = 'adam', loss = 'mean_squared_error')\n",
    "\n",
    "early_stopping = EarlyStopping(monitor = 'val_loss', patience = 15)"
   ]
  },
  {
   "cell_type": "code",
   "execution_count": 35,
   "metadata": {},
   "outputs": [
    {
     "name": "stdout",
     "output_type": "stream",
     "text": [
      "Epoch 1/100\n",
      "219/219 [==============================] - 4s 4ms/step - loss: 0.0237 - val_loss: 0.0153\n",
      "Epoch 2/100\n",
      "219/219 [==============================] - 1s 4ms/step - loss: 0.0149 - val_loss: 0.0139\n",
      "Epoch 3/100\n",
      "219/219 [==============================] - 1s 5ms/step - loss: 0.0130 - val_loss: 0.0160\n",
      "Epoch 4/100\n",
      "219/219 [==============================] - 1s 4ms/step - loss: 0.0125 - val_loss: 0.0136\n",
      "Epoch 5/100\n",
      "219/219 [==============================] - 1s 4ms/step - loss: 0.0121 - val_loss: 0.0136\n",
      "Epoch 6/100\n",
      "219/219 [==============================] - 1s 4ms/step - loss: 0.0123 - val_loss: 0.0134\n",
      "Epoch 7/100\n",
      "219/219 [==============================] - 1s 5ms/step - loss: 0.0118 - val_loss: 0.0127\n",
      "Epoch 8/100\n",
      "219/219 [==============================] - 1s 4ms/step - loss: 0.0116 - val_loss: 0.0125\n",
      "Epoch 9/100\n",
      "219/219 [==============================] - 1s 3ms/step - loss: 0.0110 - val_loss: 0.0134\n",
      "Epoch 10/100\n",
      "219/219 [==============================] - 1s 4ms/step - loss: 0.0109 - val_loss: 0.0120\n",
      "Epoch 11/100\n",
      "219/219 [==============================] - 1s 4ms/step - loss: 0.0105 - val_loss: 0.0116\n",
      "Epoch 12/100\n",
      "219/219 [==============================] - 1s 3ms/step - loss: 0.0103 - val_loss: 0.0115\n",
      "Epoch 13/100\n",
      "219/219 [==============================] - 1s 3ms/step - loss: 0.0105 - val_loss: 0.0118\n",
      "Epoch 14/100\n",
      "219/219 [==============================] - 1s 3ms/step - loss: 0.0100 - val_loss: 0.0111\n",
      "Epoch 15/100\n",
      "219/219 [==============================] - 1s 4ms/step - loss: 0.0100 - val_loss: 0.0122\n",
      "Epoch 16/100\n",
      "219/219 [==============================] - 1s 3ms/step - loss: 0.0098 - val_loss: 0.0114\n",
      "Epoch 17/100\n",
      "219/219 [==============================] - 1s 3ms/step - loss: 0.0098 - val_loss: 0.0111\n",
      "Epoch 18/100\n",
      "219/219 [==============================] - 1s 3ms/step - loss: 0.0096 - val_loss: 0.0115\n",
      "Epoch 19/100\n",
      "219/219 [==============================] - 1s 3ms/step - loss: 0.0100 - val_loss: 0.0113\n",
      "Epoch 20/100\n",
      "219/219 [==============================] - 1s 3ms/step - loss: 0.0096 - val_loss: 0.0117\n",
      "Epoch 21/100\n",
      "219/219 [==============================] - 1s 3ms/step - loss: 0.0095 - val_loss: 0.0117\n",
      "Epoch 22/100\n",
      "219/219 [==============================] - 1s 3ms/step - loss: 0.0091 - val_loss: 0.0108\n",
      "Epoch 23/100\n",
      "219/219 [==============================] - 1s 4ms/step - loss: 0.0092 - val_loss: 0.0108\n",
      "Epoch 24/100\n",
      "219/219 [==============================] - 1s 3ms/step - loss: 0.0091 - val_loss: 0.0110\n",
      "Epoch 25/100\n",
      "219/219 [==============================] - 1s 4ms/step - loss: 0.0091 - val_loss: 0.0114\n",
      "Epoch 26/100\n",
      "219/219 [==============================] - 1s 4ms/step - loss: 0.0087 - val_loss: 0.0115\n",
      "Epoch 27/100\n",
      "219/219 [==============================] - 1s 4ms/step - loss: 0.0089 - val_loss: 0.0111\n",
      "Epoch 28/100\n",
      "219/219 [==============================] - 1s 3ms/step - loss: 0.0087 - val_loss: 0.0114\n",
      "Epoch 29/100\n",
      "219/219 [==============================] - 1s 3ms/step - loss: 0.0086 - val_loss: 0.0115\n",
      "Epoch 30/100\n",
      "219/219 [==============================] - 1s 4ms/step - loss: 0.0086 - val_loss: 0.0111\n",
      "Epoch 31/100\n",
      "219/219 [==============================] - 1s 4ms/step - loss: 0.0088 - val_loss: 0.0115\n",
      "Epoch 32/100\n",
      "219/219 [==============================] - 1s 4ms/step - loss: 0.0087 - val_loss: 0.0110\n",
      "Epoch 33/100\n",
      "219/219 [==============================] - 1s 4ms/step - loss: 0.0087 - val_loss: 0.0112\n",
      "Epoch 34/100\n",
      "219/219 [==============================] - 1s 4ms/step - loss: 0.0082 - val_loss: 0.0108\n",
      "Epoch 35/100\n",
      "219/219 [==============================] - 1s 5ms/step - loss: 0.0080 - val_loss: 0.0113\n",
      "Epoch 36/100\n",
      "219/219 [==============================] - 1s 5ms/step - loss: 0.0080 - val_loss: 0.0120\n",
      "Epoch 37/100\n",
      "219/219 [==============================] - 1s 5ms/step - loss: 0.0078 - val_loss: 0.0113\n",
      "Epoch 38/100\n",
      "219/219 [==============================] - 1s 3ms/step - loss: 0.0078 - val_loss: 0.0116\n"
     ]
    }
   ],
   "source": [
    "history = model.fit(X_train, y_train,\n",
    "                    epochs = 100,\n",
    "                    batch_size = 32,\n",
    "                    validation_data = (X_val, y_val),\n",
    "                    callbacks = [early_stopping])"
   ]
  },
  {
   "attachments": {},
   "cell_type": "markdown",
   "metadata": {},
   "source": [
    "### 4.6. Avaliação do modelo\n",
    "\n",
    "  \n",
    "\n",
    "Exiba as métricas do modelo (não esqueça de desnormalizar y_teste e y_predito).\n"
   ]
  },
  {
   "cell_type": "code",
   "execution_count": 36,
   "metadata": {},
   "outputs": [
    {
     "data": {
      "image/png": "[encoded data removed]",
      "text/plain": [
       "<Figure size 640x480 with 1 Axes>"
      ]
     },
     "metadata": {},
     "output_type": "display_data"
    }
   ],
   "source": [
    "plt.plot(history.history['loss'], label = 'Training Loss')\n",
    "plt.plot(history.history['val_loss'], label = 'Validation Loss')\n",
    "plt.xlabel('Épocas')\n",
    "plt.ylabel('Loss')\n",
    "plt.legend()\n",
    "plt.show()"
   ]
  },
  {
   "cell_type": "code",
   "execution_count": 37,
   "metadata": {},
   "outputs": [
    {
     "name": "stdout",
     "output_type": "stream",
     "text": [
      "47/47 [==============================] - 0s 2ms/step\n"
     ]
    }
   ],
   "source": [
    "y_pred = model.predict(X_test)\n",
    "\n",
    "y_pred_orig = scaler.inverse_transform(y_pred)\n",
    "y_test_orig = scaler.inverse_transform(y_test)"
   ]
  },
  {
   "cell_type": "code",
   "execution_count": 38,
   "metadata": {},
   "outputs": [
    {
     "name": "stdout",
     "output_type": "stream",
     "text": [
      "Erro médio quadrático: 7365812.263387956\n",
      "Erro médio absoluto: 2038.811123046875\n",
      "Raíz do erro médio quadrático: 2714.0029962009908\n",
      "R²: 0.7801072013561732\n"
     ]
    }
   ],
   "source": [
    "mediana_mse = mean_squared_error(y_pred_orig, y_test_orig)\n",
    "print('Erro médio quadrático:', mediana_mse)\n",
    "\n",
    "mediana_mae = mean_absolute_error(y_pred_orig, y_test_orig)\n",
    "print('Erro médio absoluto:', mediana_mae)\n",
    "\n",
    "mediana_rmse = mean_squared_error(y_pred_orig, y_test_orig, squared = False)\n",
    "print('Raíz do erro médio quadrático:', mediana_rmse)\n",
    "\n",
    "mediana_r2 = r2_score(y_pred_orig, y_test_orig)\n",
    "print('R²:', mediana_r2)"
   ]
  },
  {
   "attachments": {},
   "cell_type": "markdown",
   "metadata": {},
   "source": [
    "## 5. Tratamento dos valores numéricos - Método da Moda"
   ]
  },
  {
   "cell_type": "code",
   "execution_count": 39,
   "metadata": {},
   "outputs": [],
   "source": [
    "df = pd.read_csv('notebooks_nulos_exercicio.csv')"
   ]
  },
  {
   "cell_type": "code",
   "execution_count": 40,
   "metadata": {},
   "outputs": [],
   "source": [
    "df.loc[(df['gpu_dedicada'] == 'não') & (df['ram_gpu'].isna()), 'ram_gpu'] = 0\n",
    "df.loc[(df['gpu_dedicada'] == 'sim') & (df['ram_gpu'].isna()), 'ram_gpu'] = df.loc[df['gpu_dedicada'] == 'sim']['ram_gpu'].median()"
   ]
  },
  {
   "attachments": {},
   "cell_type": "markdown",
   "metadata": {},
   "source": [
    "### 5.1. Conversão dos valores numéricos nulos\n",
    "\n",
    "  \n",
    "\n",
    "Converta todos os valores numéricos nulos para a moda.\n"
   ]
  },
  {
   "cell_type": "code",
   "execution_count": 41,
   "metadata": {},
   "outputs": [],
   "source": [
    "for i in df.columns:\n",
    "    df.loc[df[i].isna(), i] = df[i].mode()[0]\n",
    "\n",
    "cols_obj = df.select_dtypes(include='O').columns\n",
    "\n",
    "le = LabelEncoder()\n",
    "for i in cols_obj:\n",
    "    df[i] = le.fit_transform(df[i])"
   ]
  },
  {
   "cell_type": "code",
   "execution_count": 42,
   "metadata": {},
   "outputs": [
    {
     "data": {
      "text/plain": [
       "marca                0\n",
       "ano                  0\n",
       "qtd_nucleos          0\n",
       "qtd_threads          0\n",
       "ram                  0\n",
       "gpu_dedicada         0\n",
       "ram_gpu              0\n",
       "entradas_usb         0\n",
       "duracao_bateria      0\n",
       "resolucao_tela       0\n",
       "tipo_tela            0\n",
       "tela_touch           0\n",
       "armazenamento_hdd    0\n",
       "armazenamento_ssd    0\n",
       "segmento             0\n",
       "valor                0\n",
       "dtype: int64"
      ]
     },
     "execution_count": 42,
     "metadata": {},
     "output_type": "execute_result"
    }
   ],
   "source": [
    "df.isna().sum()"
   ]
  },
  {
   "attachments": {},
   "cell_type": "markdown",
   "metadata": {},
   "source": [
    "### 5.2. Separação de X e y\n",
    "\n",
    "  \n",
    "\n",
    "Separe X e y."
   ]
  },
  {
   "cell_type": "code",
   "execution_count": 43,
   "metadata": {},
   "outputs": [],
   "source": [
    "X = df.drop('valor', axis = 1)\n",
    "y = df[['valor']]"
   ]
  },
  {
   "attachments": {},
   "cell_type": "markdown",
   "metadata": {},
   "source": [
    "### 5.3. Normalização de X e y\n",
    "\n",
    "  \n",
    "\n",
    "Normalize X e y."
   ]
  },
  {
   "cell_type": "code",
   "execution_count": 44,
   "metadata": {},
   "outputs": [],
   "source": [
    "scaler = MinMaxScaler()\n",
    "X = scaler.fit_transform(X)\n",
    "y = scaler.fit_transform(y)"
   ]
  },
  {
   "attachments": {},
   "cell_type": "markdown",
   "metadata": {},
   "source": [
    "### 5.4. Separação de X e y - Treinamento, Validação e Teste\n",
    "\n",
    "  \n",
    "\n",
    "Separe X e y de treinamento (70%), validação (15%) e teste (15%) com o random state = 42."
   ]
  },
  {
   "cell_type": "code",
   "execution_count": 45,
   "metadata": {},
   "outputs": [],
   "source": [
    "X_train, X_test, y_train, y_test = train_test_split(X, y, test_size = .3, random_state = 42)\n",
    "X_test, X_val, y_test, y_val = train_test_split(X_test, y_test, test_size = .5, random_state = 42)"
   ]
  },
  {
   "attachments": {},
   "cell_type": "markdown",
   "metadata": {},
   "source": [
    "### 5.5. Treinamento de um modelo de rede neural\n",
    "\n",
    "  \n",
    "\n",
    "Treine um modelo de rede neural."
   ]
  },
  {
   "cell_type": "code",
   "execution_count": 46,
   "metadata": {},
   "outputs": [],
   "source": [
    "model = Sequential()\n",
    "\n",
    "model.add(Dense(128, activation = 'relu', input_shape = (X_train.shape[1],)))\n",
    "model.add(Dense(128, activation = 'relu'))\n",
    "model.add(Dense(128, activation = 'relu'))\n",
    "model.add(Dense(128, activation = 'relu'))\n",
    "model.add(Dense(128, activation = 'relu'))\n",
    "model.add(Dense(128, activation = 'relu'))\n",
    "model.add(Dense(128, activation = 'relu'))\n",
    "model.add(Dense(128, activation = 'relu'))\n",
    "model.add(Dense(128, activation = 'relu'))\n",
    "model.add(Dense(1, activation = 'linear'))\n",
    "\n",
    "model.compile(optimizer = 'adam', loss = 'mean_squared_error')\n",
    "\n",
    "early_stopping = EarlyStopping(monitor = 'val_loss', patience = 15)"
   ]
  },
  {
   "cell_type": "code",
   "execution_count": 47,
   "metadata": {},
   "outputs": [
    {
     "name": "stdout",
     "output_type": "stream",
     "text": [
      "Epoch 1/100\n",
      "219/219 [==============================] - 4s 7ms/step - loss: 0.0260 - val_loss: 0.0153\n",
      "Epoch 2/100\n",
      "219/219 [==============================] - 1s 4ms/step - loss: 0.0151 - val_loss: 0.0153\n",
      "Epoch 3/100\n",
      "219/219 [==============================] - 1s 5ms/step - loss: 0.0133 - val_loss: 0.0146\n",
      "Epoch 4/100\n",
      "219/219 [==============================] - 1s 4ms/step - loss: 0.0132 - val_loss: 0.0175\n",
      "Epoch 5/100\n",
      "219/219 [==============================] - 1s 4ms/step - loss: 0.0135 - val_loss: 0.0131\n",
      "Epoch 6/100\n",
      "219/219 [==============================] - 1s 4ms/step - loss: 0.0125 - val_loss: 0.0140\n",
      "Epoch 7/100\n",
      "219/219 [==============================] - 1s 5ms/step - loss: 0.0120 - val_loss: 0.0127\n",
      "Epoch 8/100\n",
      "219/219 [==============================] - 1s 6ms/step - loss: 0.0118 - val_loss: 0.0123\n",
      "Epoch 9/100\n",
      "219/219 [==============================] - 1s 3ms/step - loss: 0.0117 - val_loss: 0.0119\n",
      "Epoch 10/100\n",
      "219/219 [==============================] - 2s 7ms/step - loss: 0.0112 - val_loss: 0.0123\n",
      "Epoch 11/100\n",
      "219/219 [==============================] - 1s 3ms/step - loss: 0.0110 - val_loss: 0.0119\n",
      "Epoch 12/100\n",
      "219/219 [==============================] - 1s 3ms/step - loss: 0.0110 - val_loss: 0.0119\n",
      "Epoch 13/100\n",
      "219/219 [==============================] - 1s 5ms/step - loss: 0.0104 - val_loss: 0.0141\n",
      "Epoch 14/100\n",
      "219/219 [==============================] - 1s 5ms/step - loss: 0.0114 - val_loss: 0.0124\n",
      "Epoch 15/100\n",
      "219/219 [==============================] - 1s 3ms/step - loss: 0.0103 - val_loss: 0.0113\n",
      "Epoch 16/100\n",
      "219/219 [==============================] - 1s 3ms/step - loss: 0.0107 - val_loss: 0.0124\n",
      "Epoch 17/100\n",
      "219/219 [==============================] - 1s 3ms/step - loss: 0.0103 - val_loss: 0.0123\n",
      "Epoch 18/100\n",
      "219/219 [==============================] - 1s 3ms/step - loss: 0.0101 - val_loss: 0.0116\n",
      "Epoch 19/100\n",
      "219/219 [==============================] - 1s 6ms/step - loss: 0.0098 - val_loss: 0.0127\n",
      "Epoch 20/100\n",
      "219/219 [==============================] - 1s 4ms/step - loss: 0.0098 - val_loss: 0.0115\n",
      "Epoch 21/100\n",
      "219/219 [==============================] - 1s 4ms/step - loss: 0.0097 - val_loss: 0.0119\n",
      "Epoch 22/100\n",
      "219/219 [==============================] - 1s 4ms/step - loss: 0.0096 - val_loss: 0.0115\n",
      "Epoch 23/100\n",
      "219/219 [==============================] - 1s 5ms/step - loss: 0.0096 - val_loss: 0.0116\n",
      "Epoch 24/100\n",
      "219/219 [==============================] - 1s 3ms/step - loss: 0.0093 - val_loss: 0.0116\n",
      "Epoch 25/100\n",
      "219/219 [==============================] - 1s 6ms/step - loss: 0.0096 - val_loss: 0.0127\n",
      "Epoch 26/100\n",
      "219/219 [==============================] - 1s 6ms/step - loss: 0.0094 - val_loss: 0.0113\n",
      "Epoch 27/100\n",
      "219/219 [==============================] - 1s 3ms/step - loss: 0.0090 - val_loss: 0.0121\n",
      "Epoch 28/100\n",
      "219/219 [==============================] - 1s 3ms/step - loss: 0.0091 - val_loss: 0.0117\n",
      "Epoch 29/100\n",
      "219/219 [==============================] - 1s 4ms/step - loss: 0.0092 - val_loss: 0.0123\n",
      "Epoch 30/100\n",
      "219/219 [==============================] - 1s 6ms/step - loss: 0.0087 - val_loss: 0.0116\n",
      "Epoch 31/100\n",
      "219/219 [==============================] - 1s 5ms/step - loss: 0.0087 - val_loss: 0.0120\n",
      "Epoch 32/100\n",
      "219/219 [==============================] - 1s 6ms/step - loss: 0.0088 - val_loss: 0.0124\n",
      "Epoch 33/100\n",
      "219/219 [==============================] - 1s 6ms/step - loss: 0.0087 - val_loss: 0.0124\n",
      "Epoch 34/100\n",
      "219/219 [==============================] - 2s 8ms/step - loss: 0.0087 - val_loss: 0.0115\n",
      "Epoch 35/100\n",
      "219/219 [==============================] - 2s 7ms/step - loss: 0.0085 - val_loss: 0.0116\n",
      "Epoch 36/100\n",
      "219/219 [==============================] - 1s 5ms/step - loss: 0.0085 - val_loss: 0.0121\n",
      "Epoch 37/100\n",
      "219/219 [==============================] - 1s 3ms/step - loss: 0.0082 - val_loss: 0.0115\n",
      "Epoch 38/100\n",
      "219/219 [==============================] - 1s 3ms/step - loss: 0.0079 - val_loss: 0.0116\n",
      "Epoch 39/100\n",
      "219/219 [==============================] - 1s 4ms/step - loss: 0.0080 - val_loss: 0.0117\n",
      "Epoch 40/100\n",
      "219/219 [==============================] - 1s 4ms/step - loss: 0.0078 - val_loss: 0.0122\n",
      "Epoch 41/100\n",
      "219/219 [==============================] - 1s 5ms/step - loss: 0.0085 - val_loss: 0.0123\n"
     ]
    }
   ],
   "source": [
    "history = model.fit(X_train, y_train,\n",
    "                    epochs = 100,\n",
    "                    batch_size = 32,\n",
    "                    validation_data = (X_val, y_val),\n",
    "                    callbacks = [early_stopping])"
   ]
  },
  {
   "attachments": {},
   "cell_type": "markdown",
   "metadata": {},
   "source": [
    "### 5.6. Avaliação do modelo\n",
    "\n",
    "  \n",
    "\n",
    "Exiba as métricas do modelo (não esqueça de desnormalizar y_teste e y_predito)."
   ]
  },
  {
   "cell_type": "code",
   "execution_count": 48,
   "metadata": {},
   "outputs": [
    {
     "data": {
      "image/png": "[encoded data removed]",
      "text/plain": [
       "<Figure size 640x480 with 1 Axes>"
      ]
     },
     "metadata": {},
     "output_type": "display_data"
    }
   ],
   "source": [
    "plt.plot(history.history['loss'], label = 'Training Loss')\n",
    "plt.plot(history.history['val_loss'], label = 'Validation Loss')\n",
    "plt.xlabel('Épocas')\n",
    "plt.ylabel('Loss')\n",
    "plt.legend()\n",
    "plt.show()"
   ]
  },
  {
   "cell_type": "code",
   "execution_count": 49,
   "metadata": {},
   "outputs": [
    {
     "name": "stdout",
     "output_type": "stream",
     "text": [
      "47/47 [==============================] - 0s 3ms/step\n"
     ]
    }
   ],
   "source": [
    "y_pred = model.predict(X_test)\n",
    "\n",
    "y_pred_orig = scaler.inverse_transform(y_pred)\n",
    "y_test_orig = scaler.inverse_transform(y_test)"
   ]
  },
  {
   "cell_type": "code",
   "execution_count": 50,
   "metadata": {},
   "outputs": [
    {
     "name": "stdout",
     "output_type": "stream",
     "text": [
      "Erro médio quadrático: 7828746.132330607\n",
      "Erro médio absoluto: 2103.7394816080728\n",
      "Raíz do erro médio quadrático: 2797.989659082143\n",
      "R²: 0.7427026789163026\n"
     ]
    }
   ],
   "source": [
    "moda_mse = mean_squared_error(y_pred_orig, y_test_orig)\n",
    "print('Erro médio quadrático:', moda_mse)\n",
    "\n",
    "moda_mae = mean_absolute_error(y_pred_orig, y_test_orig)\n",
    "print('Erro médio absoluto:', moda_mae)\n",
    "\n",
    "moda_rmse = mean_squared_error(y_pred_orig, y_test_orig, squared = False)\n",
    "print('Raíz do erro médio quadrático:', moda_rmse)\n",
    "\n",
    "moda_r2 = r2_score(y_pred_orig, y_test_orig)\n",
    "print('R²:', moda_r2)"
   ]
  },
  {
   "attachments": {},
   "cell_type": "markdown",
   "metadata": {},
   "source": [
    "## 6. Tratamento dos valores numéricos - Método da Média, Mediana ou Moda"
   ]
  },
  {
   "cell_type": "code",
   "execution_count": 51,
   "metadata": {},
   "outputs": [],
   "source": [
    "df = pd.read_csv('notebooks_nulos_exercicio.csv')"
   ]
  },
  {
   "cell_type": "code",
   "execution_count": 52,
   "metadata": {},
   "outputs": [],
   "source": [
    "df.loc[(df['gpu_dedicada'] == 'não') & (df['ram_gpu'].isna()), 'ram_gpu'] = 0\n",
    "df.loc[(df['gpu_dedicada'] == 'sim') & (df['ram_gpu'].isna()), 'ram_gpu'] = df.loc[df['gpu_dedicada'] == 'sim']['ram_gpu'].median()"
   ]
  },
  {
   "cell_type": "code",
   "execution_count": 53,
   "metadata": {},
   "outputs": [],
   "source": [
    "cols_obj = df.select_dtypes(include='O').columns\n",
    "\n",
    "for i in df.columns:\n",
    "    if (df.isna().sum()[i] > 0) and (i in cols_obj):\n",
    "        df.loc[df[i].isna(), i] = df[i].mode()[0]\n",
    "\n",
    "le = LabelEncoder()\n",
    "for i in cols_obj:\n",
    "    df[i] = le.fit_transform(df[i])"
   ]
  },
  {
   "attachments": {},
   "cell_type": "markdown",
   "metadata": {},
   "source": [
    "### 6.1. Conversão dos valores numéricos nulos\n",
    "\n",
    "  \n",
    "\n",
    "Converta todos os valores numéricos nulos para a média, mediana ou moda, de acordo com o valor mais adequado encontrado de acordo com o desvio padrão e a comparação entre a média e mediana."
   ]
  },
  {
   "cell_type": "code",
   "execution_count": 54,
   "metadata": {},
   "outputs": [
    {
     "data": {
      "text/plain": [
       "marca                 0.00\n",
       "ano                   2.78\n",
       "qtd_nucleos           0.00\n",
       "qtd_threads           0.00\n",
       "ram                   0.00\n",
       "gpu_dedicada          0.00\n",
       "ram_gpu               0.00\n",
       "entradas_usb         39.29\n",
       "duracao_bateria      24.32\n",
       "resolucao_tela        0.00\n",
       "tipo_tela             0.00\n",
       "tela_touch            0.00\n",
       "armazenamento_hdd    11.24\n",
       "armazenamento_ssd     0.70\n",
       "segmento              0.00\n",
       "valor                 0.00\n",
       "dtype: float64"
      ]
     },
     "execution_count": 54,
     "metadata": {},
     "output_type": "execute_result"
    }
   ],
   "source": [
    "df.isna().sum() * 100 / len(df)"
   ]
  },
  {
   "cell_type": "code",
   "execution_count": 55,
   "metadata": {},
   "outputs": [
    {
     "name": "stdout",
     "output_type": "stream",
     "text": [
      "          std         mean     50%\n",
      "ano  4.006412  2016.425838  2016.0\n",
      "                   std      mean  50%\n",
      "entradas_usb  0.885264  2.604843  3.0\n",
      "                        std       mean    50%\n",
      "duracao_bateria  191.277946  347.25436  419.0\n",
      "                          std        mean  50%\n",
      "armazenamento_hdd  572.425031  333.737044  0.0\n",
      "                          std       mean    50%\n",
      "armazenamento_ssd  649.093236  623.06143  250.0\n"
     ]
    }
   ],
   "source": [
    "for i in df.columns:\n",
    "    if (df.isna().sum()[i] > 0) and (i not in df.select_dtypes(include='O').columns):\n",
    "        print(df[[i]].describe().loc[['std','mean','50%']].T)"
   ]
  },
  {
   "cell_type": "code",
   "execution_count": 56,
   "metadata": {},
   "outputs": [],
   "source": [
    "df.loc[df['ano'].isna(), 'ano'] = df['ano'].mean()\n",
    "\n",
    "df.loc[df['entradas_usb'].isna(), 'entradas_usb'] = df['entradas_usb'].mean()"
   ]
  },
  {
   "cell_type": "code",
   "execution_count": 57,
   "metadata": {},
   "outputs": [],
   "source": [
    "df.loc[df['duracao_bateria'].isna(), 'duracao_bateria'] = df['duracao_bateria'].median()\n",
    "\n",
    "df.loc[df['armazenamento_hdd'].isna(), 'armazenamento_hdd'] = df['armazenamento_hdd'].median()\n",
    "\n",
    "df.loc[df['armazenamento_ssd'].isna(), 'armazenamento_ssd'] = df['armazenamento_ssd'].median()"
   ]
  },
  {
   "cell_type": "code",
   "execution_count": 58,
   "metadata": {},
   "outputs": [
    {
     "data": {
      "text/plain": [
       "marca                0\n",
       "ano                  0\n",
       "qtd_nucleos          0\n",
       "qtd_threads          0\n",
       "ram                  0\n",
       "gpu_dedicada         0\n",
       "ram_gpu              0\n",
       "entradas_usb         0\n",
       "duracao_bateria      0\n",
       "resolucao_tela       0\n",
       "tipo_tela            0\n",
       "tela_touch           0\n",
       "armazenamento_hdd    0\n",
       "armazenamento_ssd    0\n",
       "segmento             0\n",
       "valor                0\n",
       "dtype: int64"
      ]
     },
     "execution_count": 58,
     "metadata": {},
     "output_type": "execute_result"
    }
   ],
   "source": [
    "df.isna().sum()"
   ]
  },
  {
   "attachments": {},
   "cell_type": "markdown",
   "metadata": {},
   "source": [
    "### 6.2. Separação de X e y\n",
    "\n",
    "  \n",
    "\n",
    "Separe X e y."
   ]
  },
  {
   "cell_type": "code",
   "execution_count": 59,
   "metadata": {},
   "outputs": [],
   "source": [
    "X = df.drop('valor', axis = 1)\n",
    "y = df[['valor']]"
   ]
  },
  {
   "attachments": {},
   "cell_type": "markdown",
   "metadata": {},
   "source": [
    "### 6.3. Normalização de X e y\n",
    "\n",
    "  \n",
    "\n",
    "Normalize X e y.\n"
   ]
  },
  {
   "cell_type": "code",
   "execution_count": 60,
   "metadata": {},
   "outputs": [],
   "source": [
    "scaler = MinMaxScaler()\n",
    "X = scaler.fit_transform(X)\n",
    "y = scaler.fit_transform(y)"
   ]
  },
  {
   "attachments": {},
   "cell_type": "markdown",
   "metadata": {},
   "source": [
    "### 6.4. Separação de X e y - Treinamento, Validação e Teste\n",
    "\n",
    "  \n",
    "\n",
    "Separe X e y de treinamento (70%), validação (15%) e teste (15%) com o random state = 42."
   ]
  },
  {
   "cell_type": "code",
   "execution_count": 61,
   "metadata": {},
   "outputs": [],
   "source": [
    "X_train, X_test, y_train, y_test = train_test_split(X, y, test_size = .3, random_state = 42)\n",
    "X_test, X_val, y_test, y_val = train_test_split(X_test, y_test, test_size = .5, random_state = 42)"
   ]
  },
  {
   "attachments": {},
   "cell_type": "markdown",
   "metadata": {},
   "source": [
    "### 6.5. Treinamento de um modelo de rede neural\n",
    "\n",
    "  \n",
    "\n",
    "Treine um modelo de rede neural."
   ]
  },
  {
   "cell_type": "code",
   "execution_count": 62,
   "metadata": {},
   "outputs": [],
   "source": [
    "model = Sequential()\n",
    "\n",
    "model.add(Dense(128, activation = 'relu', input_shape = (X_train.shape[1],)))\n",
    "model.add(Dense(128, activation = 'relu'))\n",
    "model.add(Dense(128, activation = 'relu'))\n",
    "model.add(Dense(128, activation = 'relu'))\n",
    "model.add(Dense(128, activation = 'relu'))\n",
    "model.add(Dense(128, activation = 'relu'))\n",
    "model.add(Dense(128, activation = 'relu'))\n",
    "model.add(Dense(128, activation = 'relu'))\n",
    "model.add(Dense(128, activation = 'relu'))\n",
    "model.add(Dense(1, activation = 'linear'))\n",
    "\n",
    "model.compile(optimizer = 'adam', loss = 'mean_squared_error')\n",
    "\n",
    "early_stopping = EarlyStopping(monitor = 'val_loss', patience = 15)"
   ]
  },
  {
   "cell_type": "code",
   "execution_count": 63,
   "metadata": {},
   "outputs": [
    {
     "name": "stdout",
     "output_type": "stream",
     "text": [
      "Epoch 1/100\n",
      "219/219 [==============================] - 4s 5ms/step - loss: 0.0250 - val_loss: 0.0149\n",
      "Epoch 2/100\n",
      "219/219 [==============================] - 1s 4ms/step - loss: 0.0140 - val_loss: 0.0180\n",
      "Epoch 3/100\n",
      "219/219 [==============================] - 1s 5ms/step - loss: 0.0138 - val_loss: 0.0128\n",
      "Epoch 4/100\n",
      "219/219 [==============================] - 1s 4ms/step - loss: 0.0126 - val_loss: 0.0170\n",
      "Epoch 5/100\n",
      "219/219 [==============================] - 1s 3ms/step - loss: 0.0123 - val_loss: 0.0128\n",
      "Epoch 6/100\n",
      "219/219 [==============================] - 1s 3ms/step - loss: 0.0119 - val_loss: 0.0120\n",
      "Epoch 7/100\n",
      "219/219 [==============================] - 1s 3ms/step - loss: 0.0116 - val_loss: 0.0120\n",
      "Epoch 8/100\n",
      "219/219 [==============================] - 1s 3ms/step - loss: 0.0110 - val_loss: 0.0124\n",
      "Epoch 9/100\n",
      "219/219 [==============================] - 1s 3ms/step - loss: 0.0114 - val_loss: 0.0151\n",
      "Epoch 10/100\n",
      "219/219 [==============================] - 1s 3ms/step - loss: 0.0109 - val_loss: 0.0122\n",
      "Epoch 11/100\n",
      "219/219 [==============================] - 1s 4ms/step - loss: 0.0103 - val_loss: 0.0125\n",
      "Epoch 12/100\n",
      "219/219 [==============================] - 1s 4ms/step - loss: 0.0106 - val_loss: 0.0116\n",
      "Epoch 13/100\n",
      "219/219 [==============================] - 1s 4ms/step - loss: 0.0103 - val_loss: 0.0116\n",
      "Epoch 14/100\n",
      "219/219 [==============================] - 1s 3ms/step - loss: 0.0101 - val_loss: 0.0120\n",
      "Epoch 15/100\n",
      "219/219 [==============================] - 1s 3ms/step - loss: 0.0098 - val_loss: 0.0117\n",
      "Epoch 16/100\n",
      "219/219 [==============================] - 1s 3ms/step - loss: 0.0099 - val_loss: 0.0130\n",
      "Epoch 17/100\n",
      "219/219 [==============================] - 1s 3ms/step - loss: 0.0098 - val_loss: 0.0115\n",
      "Epoch 18/100\n",
      "219/219 [==============================] - 1s 3ms/step - loss: 0.0099 - val_loss: 0.0119\n",
      "Epoch 19/100\n",
      "219/219 [==============================] - 1s 3ms/step - loss: 0.0096 - val_loss: 0.0112\n",
      "Epoch 20/100\n",
      "219/219 [==============================] - 1s 3ms/step - loss: 0.0096 - val_loss: 0.0113\n",
      "Epoch 21/100\n",
      "219/219 [==============================] - 1s 3ms/step - loss: 0.0093 - val_loss: 0.0117\n",
      "Epoch 22/100\n",
      "219/219 [==============================] - 1s 4ms/step - loss: 0.0096 - val_loss: 0.0116\n",
      "Epoch 23/100\n",
      "219/219 [==============================] - 1s 4ms/step - loss: 0.0095 - val_loss: 0.0110\n",
      "Epoch 24/100\n",
      "219/219 [==============================] - 1s 3ms/step - loss: 0.0094 - val_loss: 0.0114\n",
      "Epoch 25/100\n",
      "219/219 [==============================] - 1s 5ms/step - loss: 0.0092 - val_loss: 0.0117\n",
      "Epoch 26/100\n",
      "219/219 [==============================] - 1s 4ms/step - loss: 0.0092 - val_loss: 0.0113\n",
      "Epoch 27/100\n",
      "219/219 [==============================] - 1s 4ms/step - loss: 0.0091 - val_loss: 0.0112\n",
      "Epoch 28/100\n",
      "219/219 [==============================] - 1s 4ms/step - loss: 0.0089 - val_loss: 0.0110\n",
      "Epoch 29/100\n",
      "219/219 [==============================] - 1s 4ms/step - loss: 0.0086 - val_loss: 0.0112\n",
      "Epoch 30/100\n",
      "219/219 [==============================] - 1s 4ms/step - loss: 0.0087 - val_loss: 0.0108\n",
      "Epoch 31/100\n",
      "219/219 [==============================] - 1s 5ms/step - loss: 0.0086 - val_loss: 0.0110\n",
      "Epoch 32/100\n",
      "219/219 [==============================] - 1s 5ms/step - loss: 0.0090 - val_loss: 0.0111\n",
      "Epoch 33/100\n",
      "219/219 [==============================] - 1s 4ms/step - loss: 0.0090 - val_loss: 0.0109\n",
      "Epoch 34/100\n",
      "219/219 [==============================] - 1s 4ms/step - loss: 0.0085 - val_loss: 0.0124\n",
      "Epoch 35/100\n",
      "219/219 [==============================] - 1s 4ms/step - loss: 0.0084 - val_loss: 0.0115\n",
      "Epoch 36/100\n",
      "219/219 [==============================] - 1s 4ms/step - loss: 0.0085 - val_loss: 0.0115\n",
      "Epoch 37/100\n",
      "219/219 [==============================] - 1s 4ms/step - loss: 0.0084 - val_loss: 0.0123\n",
      "Epoch 38/100\n",
      "219/219 [==============================] - 1s 4ms/step - loss: 0.0083 - val_loss: 0.0116\n",
      "Epoch 39/100\n",
      "219/219 [==============================] - 1s 4ms/step - loss: 0.0082 - val_loss: 0.0114\n",
      "Epoch 40/100\n",
      "219/219 [==============================] - 1s 4ms/step - loss: 0.0085 - val_loss: 0.0110\n",
      "Epoch 41/100\n",
      "219/219 [==============================] - 1s 4ms/step - loss: 0.0085 - val_loss: 0.0110\n",
      "Epoch 42/100\n",
      "219/219 [==============================] - 1s 4ms/step - loss: 0.0079 - val_loss: 0.0117\n",
      "Epoch 43/100\n",
      "219/219 [==============================] - 1s 5ms/step - loss: 0.0078 - val_loss: 0.0113\n",
      "Epoch 44/100\n",
      "219/219 [==============================] - 1s 4ms/step - loss: 0.0077 - val_loss: 0.0120\n",
      "Epoch 45/100\n",
      "219/219 [==============================] - 1s 4ms/step - loss: 0.0078 - val_loss: 0.0114\n"
     ]
    }
   ],
   "source": [
    "history = model.fit(X_train, y_train,\n",
    "                    epochs = 100,\n",
    "                    batch_size = 32,\n",
    "                    validation_data = (X_val, y_val),\n",
    "                    callbacks = [early_stopping])"
   ]
  },
  {
   "attachments": {},
   "cell_type": "markdown",
   "metadata": {},
   "source": [
    "### 6.6. Avaliação do modelo\n",
    "\n",
    "  \n",
    "\n",
    "Exiba as métricas do modelo (não esqueça de desnormalizar y_teste e y_predito)."
   ]
  },
  {
   "cell_type": "code",
   "execution_count": 64,
   "metadata": {},
   "outputs": [
    {
     "data": {
      "image/png": "[encoded data removed]",
      "text/plain": [
       "<Figure size 640x480 with 1 Axes>"
      ]
     },
     "metadata": {},
     "output_type": "display_data"
    }
   ],
   "source": [
    "plt.plot(history.history['loss'], label = 'Training Loss')\n",
    "plt.plot(history.history['val_loss'], label = 'Validation Loss')\n",
    "plt.xlabel('Épocas')\n",
    "plt.ylabel('Loss')\n",
    "plt.legend()\n",
    "plt.show()"
   ]
  },
  {
   "cell_type": "code",
   "execution_count": 65,
   "metadata": {},
   "outputs": [
    {
     "name": "stdout",
     "output_type": "stream",
     "text": [
      "47/47 [==============================] - 0s 2ms/step\n"
     ]
    }
   ],
   "source": [
    "y_pred = model.predict(X_test)\n",
    "\n",
    "y_pred_orig = scaler.inverse_transform(y_pred)\n",
    "y_test_orig = scaler.inverse_transform(y_test)"
   ]
  },
  {
   "cell_type": "code",
   "execution_count": 66,
   "metadata": {},
   "outputs": [
    {
     "name": "stdout",
     "output_type": "stream",
     "text": [
      "Erro médio quadrático: 7301526.895702996\n",
      "Erro médio absoluto: 2059.566857421875\n",
      "Raíz do erro médio quadrático: 2702.133767174193\n",
      "R²: 0.7089085728424502\n"
     ]
    }
   ],
   "source": [
    "mmm_mse = mean_squared_error(y_pred_orig, y_test_orig)\n",
    "print('Erro médio quadrático:', mmm_mse)\n",
    "\n",
    "mmm_mae = mean_absolute_error(y_pred_orig, y_test_orig)\n",
    "print('Erro médio absoluto:', mmm_mae)\n",
    "\n",
    "mmm_rmse = mean_squared_error(y_pred_orig, y_test_orig, squared = False)\n",
    "print('Raíz do erro médio quadrático:', mmm_rmse)\n",
    "\n",
    "mmm_r2 = r2_score(y_pred_orig, y_test_orig)\n",
    "print('R²:', mmm_r2)"
   ]
  },
  {
   "attachments": {},
   "cell_type": "markdown",
   "metadata": {},
   "source": [
    "# 7 - Qual dos 3 modelos performou melhor?"
   ]
  },
  {
   "cell_type": "code",
   "execution_count": 67,
   "metadata": {},
   "outputs": [
    {
     "name": "stdout",
     "output_type": "stream",
     "text": [
      "Modelo média:\n",
      "\tErro médio quadrático: 7257666.605910627\n",
      "\tErro médio absoluto: 2026.3793618164063\n",
      "\tRaíz do erro médio quadrático: 2694.005680378315\n",
      "\tR²: 0.7493624715707807\n",
      "\n",
      "----------------------------------------------------------------\n",
      "\n",
      "Modelo mediana:\n",
      "\tErro médio quadrático: 7365812.263387956\n",
      "\tErro médio absoluto: 2038.811123046875\n",
      "\tRaíz do erro médio quadrático: 2714.0029962009908\n",
      "\tR²: 0.7801072013561732\n",
      "\n",
      "----------------------------------------------------------------\n",
      "\n",
      "Modelo moda:\n",
      "\tErro médio quadrático: 7828746.132330607\n",
      "\tErro médio absoluto: 2103.7394816080728\n",
      "\tRaíz do erro médio quadrático: 2797.989659082143\n",
      "\tR²: 0.7427026789163026\n",
      "\n",
      "----------------------------------------------------------------\n",
      "\n",
      "Modelo média, mediana, moda:\n",
      "\tErro médio quadrático: 7301526.895702996\n",
      "\tErro médio absoluto: 2059.566857421875\n",
      "\tRaíz do erro médio quadrático: 2702.133767174193\n",
      "\tR²: 0.7089085728424502\n"
     ]
    }
   ],
   "source": [
    "print('Modelo média:')\n",
    "\n",
    "print('\\tErro médio quadrático:', media_mse)\n",
    "print('\\tErro médio absoluto:', media_mae)\n",
    "print('\\tRaíz do erro médio quadrático:', media_rmse)\n",
    "print('\\tR²:', media_r2)\n",
    "\n",
    "print('\\n----------------------------------------------------------------\\n')\n",
    "\n",
    "\n",
    "print('Modelo mediana:')\n",
    "\n",
    "print('\\tErro médio quadrático:', mediana_mse)\n",
    "print('\\tErro médio absoluto:', mediana_mae)\n",
    "print('\\tRaíz do erro médio quadrático:', mediana_rmse)\n",
    "print('\\tR²:', mediana_r2)\n",
    "\n",
    "print('\\n----------------------------------------------------------------\\n')\n",
    "\n",
    "\n",
    "print('Modelo moda:')\n",
    "\n",
    "print('\\tErro médio quadrático:', moda_mse)\n",
    "print('\\tErro médio absoluto:', moda_mae)\n",
    "print('\\tRaíz do erro médio quadrático:', moda_rmse)\n",
    "print('\\tR²:', moda_r2)\n",
    "print('\\n----------------------------------------------------------------\\n')\n",
    "\n",
    "\n",
    "print('Modelo média, mediana, moda:')\n",
    "\n",
    "print('\\tErro médio quadrático:', mmm_mse)\n",
    "print('\\tErro médio absoluto:', mmm_mae)\n",
    "print('\\tRaíz do erro médio quadrático:', mmm_rmse)\n",
    "print('\\tR²:', mmm_r2)"
   ]
  }
 ],
 "metadata": {
  "kernelspec": {
   "display_name": "Python 3",
   "language": "python",
   "name": "python3"
  },
  "language_info": {
   "codemirror_mode": {
    "name": "ipython",
    "version": 3
   },
   "file_extension": ".py",
   "mimetype": "text/x-python",
   "name": "python",
   "nbconvert_exporter": "python",
   "pygments_lexer": "ipython3",
   "version": "3.11.3"
  },
  "metadata": {
   "interpreter": {
    "hash": "ac59ebe37160ed0dfa835113d9b8498d9f09ceb179beaac4002f036b9467c963"
   }
  },
  "orig_nbformat": 4
 },
 "nbformat": 4,
 "nbformat_minor": 2
}
